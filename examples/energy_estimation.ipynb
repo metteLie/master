{
 "cells": [
  {
   "cell_type": "code",
   "execution_count": 1,
   "metadata": {},
   "outputs": [],
   "source": [
    "from FPVsimulation.simulation import FPVsimulation\n",
    "from FPVsimulation.pvsystem import PVsystem\n",
    "import pandas as pd\n",
    "import numpy as np"
   ]
  },
  {
   "cell_type": "code",
   "execution_count": 5,
   "metadata": {},
   "outputs": [
    {
     "data": {
      "text/html": [
       "<div>\n",
       "<style scoped>\n",
       "    .dataframe tbody tr th:only-of-type {\n",
       "        vertical-align: middle;\n",
       "    }\n",
       "\n",
       "    .dataframe tbody tr th {\n",
       "        vertical-align: top;\n",
       "    }\n",
       "\n",
       "    .dataframe thead th {\n",
       "        text-align: right;\n",
       "    }\n",
       "</style>\n",
       "<table border=\"1\" class=\"dataframe\">\n",
       "  <thead>\n",
       "    <tr style=\"text-align: right;\">\n",
       "      <th></th>\n",
       "      <th>lake_id</th>\n",
       "      <th>lake_area</th>\n",
       "      <th>selected_area</th>\n",
       "      <th>latitude</th>\n",
       "      <th>longitude</th>\n",
       "    </tr>\n",
       "  </thead>\n",
       "  <tbody>\n",
       "    <tr>\n",
       "      <th>0</th>\n",
       "      <td>101659</td>\n",
       "      <td>5.859843e+03</td>\n",
       "      <td>5.859843e+03</td>\n",
       "      <td>63.473298</td>\n",
       "      <td>9.573710</td>\n",
       "    </tr>\n",
       "    <tr>\n",
       "      <th>1</th>\n",
       "      <td>143542</td>\n",
       "      <td>5.810132e+03</td>\n",
       "      <td>5.810132e+03</td>\n",
       "      <td>63.277645</td>\n",
       "      <td>8.870434</td>\n",
       "    </tr>\n",
       "    <tr>\n",
       "      <th>2</th>\n",
       "      <td>142928</td>\n",
       "      <td>3.374364e+03</td>\n",
       "      <td>3.374364e+03</td>\n",
       "      <td>63.498693</td>\n",
       "      <td>8.658613</td>\n",
       "    </tr>\n",
       "    <tr>\n",
       "      <th>3</th>\n",
       "      <td>66236</td>\n",
       "      <td>1.916710e+04</td>\n",
       "      <td>1.916710e+04</td>\n",
       "      <td>61.102190</td>\n",
       "      <td>7.924878</td>\n",
       "    </tr>\n",
       "    <tr>\n",
       "      <th>4</th>\n",
       "      <td>149735</td>\n",
       "      <td>2.548759e+03</td>\n",
       "      <td>2.548759e+03</td>\n",
       "      <td>61.102717</td>\n",
       "      <td>7.814424</td>\n",
       "    </tr>\n",
       "    <tr>\n",
       "      <th>...</th>\n",
       "      <td>...</td>\n",
       "      <td>...</td>\n",
       "      <td>...</td>\n",
       "      <td>...</td>\n",
       "      <td>...</td>\n",
       "    </tr>\n",
       "    <tr>\n",
       "      <th>267188</th>\n",
       "      <td>1131</td>\n",
       "      <td>9.327115e+07</td>\n",
       "      <td>9.327115e+07</td>\n",
       "      <td>64.792967</td>\n",
       "      <td>13.583229</td>\n",
       "    </tr>\n",
       "    <tr>\n",
       "      <th>267189</th>\n",
       "      <td>1267</td>\n",
       "      <td>7.646861e+07</td>\n",
       "      <td>7.646861e+07</td>\n",
       "      <td>59.169496</td>\n",
       "      <td>8.492432</td>\n",
       "    </tr>\n",
       "    <tr>\n",
       "      <th>267190</th>\n",
       "      <td>1268</td>\n",
       "      <td>1.495895e+07</td>\n",
       "      <td>1.495895e+07</td>\n",
       "      <td>59.338664</td>\n",
       "      <td>8.314086</td>\n",
       "    </tr>\n",
       "    <tr>\n",
       "      <th>267191</th>\n",
       "      <td>1399</td>\n",
       "      <td>2.748261e+07</td>\n",
       "      <td>2.748261e+07</td>\n",
       "      <td>58.386973</td>\n",
       "      <td>6.585204</td>\n",
       "    </tr>\n",
       "    <tr>\n",
       "      <th>267192</th>\n",
       "      <td>1573</td>\n",
       "      <td>3.319527e+07</td>\n",
       "      <td>3.319527e+07</td>\n",
       "      <td>61.294127</td>\n",
       "      <td>8.223462</td>\n",
       "    </tr>\n",
       "  </tbody>\n",
       "</table>\n",
       "<p>267193 rows × 5 columns</p>\n",
       "</div>"
      ],
      "text/plain": [
       "        lake_id     lake_area  selected_area   latitude  longitude\n",
       "0        101659  5.859843e+03   5.859843e+03  63.473298   9.573710\n",
       "1        143542  5.810132e+03   5.810132e+03  63.277645   8.870434\n",
       "2        142928  3.374364e+03   3.374364e+03  63.498693   8.658613\n",
       "3         66236  1.916710e+04   1.916710e+04  61.102190   7.924878\n",
       "4        149735  2.548759e+03   2.548759e+03  61.102717   7.814424\n",
       "...         ...           ...            ...        ...        ...\n",
       "267188     1131  9.327115e+07   9.327115e+07  64.792967  13.583229\n",
       "267189     1267  7.646861e+07   7.646861e+07  59.169496   8.492432\n",
       "267190     1268  1.495895e+07   1.495895e+07  59.338664   8.314086\n",
       "267191     1399  2.748261e+07   2.748261e+07  58.386973   6.585204\n",
       "267192     1573  3.319527e+07   3.319527e+07  61.294127   8.223462\n",
       "\n",
       "[267193 rows x 5 columns]"
      ]
     },
     "execution_count": 5,
     "metadata": {},
     "output_type": "execute_result"
    }
   ],
   "source": [
    "gross_df = pd.read_csv('/home/mette/master/fpv_energy_yield_norway/data/new_data/gross_area.csv')\n",
    "gross_df"
   ]
  },
  {
   "cell_type": "code",
   "execution_count": 6,
   "metadata": {},
   "outputs": [],
   "source": [
    "social_df = pd.read_csv('/home/mette/master/fpv_energy_yield_norway/data/new_data/social_area.csv')\n",
    "social_2km_df = pd.read_csv('/home/mette/master/fpv_energy_yield_norway/data/new_data/social_area_2km.csv')\n"
   ]
  },
  {
   "cell_type": "code",
   "execution_count": 10,
   "metadata": {},
   "outputs": [],
   "source": [
    "\n",
    "hydro_df = pd.read_csv('/home/mette/master/fpv_energy_yield_norway/data/new_data/hydro_power_systems.csv')"
   ]
  },
  {
   "cell_type": "code",
   "execution_count": null,
   "metadata": {},
   "outputs": [],
   "source": [
    "gross_sample = gross_df.sample(n=1000)\n",
    "gross_sample['selected_area'] = 1\n",
    "gross_sample['max_power_MW'] = None\n",
    "\n",
    "sample_area = gross_sample['selected_area'].sum()\n",
    "gross_area = gross_df['selected_area'].sum()\n",
    "\n",
    "\n",
    "sim_gross_sample = FPVsimulation()\n",
    "sim_gross_sample.register_lakes(gross_sample) \n",
    "sample_result = sim_gross_sample.get_annual_energy_yield()\n",
    "gross_annual_kWh = sample_result['annual_energy_yield_kWh'].sum() * gross_area / sample_area\n",
    "print(f'Roof production: {gross_annual_kWh/1000} MWh')"
   ]
  },
  {
   "cell_type": "code",
   "execution_count": null,
   "metadata": {},
   "outputs": [],
   "source": [
    "\n",
    "print(f'Roof production: {gross_annual_kWh/1000} MWh')"
   ]
  },
  {
   "cell_type": "code",
   "execution_count": null,
   "metadata": {},
   "outputs": [],
   "source": [
    "social_sample = social_df.sample(n=1000)\n",
    "social_sample['selected_area'] = 1\n",
    "social_sample['max_power_MW'] = None\n",
    "\n",
    "sample_area = social_sample['selected_area'].sum()\n",
    "social_area = social_df['selected_area'].sum()\n",
    "\n",
    "\n",
    "sim_social_sample = FPVsimulation()\n",
    "sim_social_sample.register_lakes(social_sample) \n",
    "sample_result = sim_social_sample.get_annual_energy_yield()\n",
    "social_annual_kWh = sample_result['annual_energy_yield_kWh'].sum() * social_area / sample_area\n",
    "print(f'Social production: {social_annual_kWh/1000} MWh')"
   ]
  },
  {
   "cell_type": "code",
   "execution_count": 16,
   "metadata": {},
   "outputs": [
    {
     "name": "stdout",
     "output_type": "stream",
     "text": [
      "Roof production: 1969183530.2550614 MWh\n",
      "Social production: 171354220.28194368 MWh\n"
     ]
    }
   ],
   "source": [
    "print(f'Roof production: {gross_annual_kWh/1000} MWh')\n",
    "print(f'Social production: {social_annual_kWh/1000} MWh')"
   ]
  },
  {
   "cell_type": "code",
   "execution_count": null,
   "metadata": {},
   "outputs": [],
   "source": [
    "social_sample_2km = social_2km_df.sample(n=1000)\n",
    "social_sample_2km['selected_area'] = 1\n",
    "social_sample_2km['max_power_MW'] = None\n",
    "\n",
    "sample_area = social_sample_2km['selected_area'].sum()\n",
    "social_area_2km = social_2km_df['selected_area'].sum()\n",
    "\n",
    "\n",
    "sim_social_sample_2km = FPVsimulation()\n",
    "sim_social_sample_2km.register_lakes(social_sample_2km) \n",
    "sample_result_2km = sim_social_sample_2km.get_annual_energy_yield()\n",
    "social_annual_kWh_2km = sample_result_2km['annual_energy_yield_kWh'].sum() * social_area_2km / sample_area\n",
    "print(f'Social production 2km: {social_annual_kWh_2km/1000} MWh')"
   ]
  },
  {
   "cell_type": "code",
   "execution_count": 18,
   "metadata": {},
   "outputs": [
    {
     "name": "stdout",
     "output_type": "stream",
     "text": [
      "Social production 2km: 30890338.901919805 MWh\n"
     ]
    }
   ],
   "source": [
    "print(f'Social production 2km: {social_annual_kWh_2km/1000} MWh')"
   ]
  },
  {
   "cell_type": "code",
   "execution_count": 22,
   "metadata": {},
   "outputs": [
    {
     "data": {
      "text/html": [
       "<div>\n",
       "<style scoped>\n",
       "    .dataframe tbody tr th:only-of-type {\n",
       "        vertical-align: middle;\n",
       "    }\n",
       "\n",
       "    .dataframe tbody tr th {\n",
       "        vertical-align: top;\n",
       "    }\n",
       "\n",
       "    .dataframe thead th {\n",
       "        text-align: right;\n",
       "    }\n",
       "</style>\n",
       "<table border=\"1\" class=\"dataframe\">\n",
       "  <thead>\n",
       "    <tr style=\"text-align: right;\">\n",
       "      <th></th>\n",
       "      <th>Unnamed: 0</th>\n",
       "      <th>lake_id</th>\n",
       "      <th>lake_area</th>\n",
       "      <th>selected_area</th>\n",
       "      <th>latitude</th>\n",
       "      <th>longitude</th>\n",
       "      <th>max_power_MW</th>\n",
       "    </tr>\n",
       "  </thead>\n",
       "  <tbody>\n",
       "    <tr>\n",
       "      <th>0</th>\n",
       "      <td>0</td>\n",
       "      <td>Aas</td>\n",
       "      <td>7.360339e+03</td>\n",
       "      <td>1.840085e+03</td>\n",
       "      <td>59.275387</td>\n",
       "      <td>9.559640</td>\n",
       "      <td>1.00</td>\n",
       "    </tr>\n",
       "    <tr>\n",
       "      <th>1</th>\n",
       "      <td>1</td>\n",
       "      <td>Adamselv</td>\n",
       "      <td>1.471183e+07</td>\n",
       "      <td>3.677959e+06</td>\n",
       "      <td>70.377997</td>\n",
       "      <td>26.865447</td>\n",
       "      <td>50.00</td>\n",
       "    </tr>\n",
       "    <tr>\n",
       "      <th>2</th>\n",
       "      <td>2</td>\n",
       "      <td>Alta</td>\n",
       "      <td>6.749854e+06</td>\n",
       "      <td>1.687464e+06</td>\n",
       "      <td>69.628793</td>\n",
       "      <td>23.780765</td>\n",
       "      <td>150.00</td>\n",
       "    </tr>\n",
       "    <tr>\n",
       "      <th>3</th>\n",
       "      <td>3</td>\n",
       "      <td>Andåsfossen</td>\n",
       "      <td>2.492182e+04</td>\n",
       "      <td>6.230456e+03</td>\n",
       "      <td>65.823287</td>\n",
       "      <td>13.273578</td>\n",
       "      <td>2.00</td>\n",
       "    </tr>\n",
       "    <tr>\n",
       "      <th>4</th>\n",
       "      <td>4</td>\n",
       "      <td>Angvik</td>\n",
       "      <td>3.296929e+03</td>\n",
       "      <td>8.242323e+02</td>\n",
       "      <td>62.891916</td>\n",
       "      <td>8.070013</td>\n",
       "      <td>1.10</td>\n",
       "    </tr>\n",
       "    <tr>\n",
       "      <th>...</th>\n",
       "      <td>...</td>\n",
       "      <td>...</td>\n",
       "      <td>...</td>\n",
       "      <td>...</td>\n",
       "      <td>...</td>\n",
       "      <td>...</td>\n",
       "      <td>...</td>\n",
       "    </tr>\n",
       "    <tr>\n",
       "      <th>752</th>\n",
       "      <td>752</td>\n",
       "      <td>Øvre Vinstra</td>\n",
       "      <td>9.830810e+07</td>\n",
       "      <td>2.457703e+07</td>\n",
       "      <td>61.413965</td>\n",
       "      <td>9.242435</td>\n",
       "      <td>140.00</td>\n",
       "    </tr>\n",
       "    <tr>\n",
       "      <th>753</th>\n",
       "      <td>753</td>\n",
       "      <td>Øvre Åvella</td>\n",
       "      <td>4.254127e+06</td>\n",
       "      <td>1.063532e+06</td>\n",
       "      <td>60.784079</td>\n",
       "      <td>9.927475</td>\n",
       "      <td>0.43</td>\n",
       "    </tr>\n",
       "    <tr>\n",
       "      <th>754</th>\n",
       "      <td>754</td>\n",
       "      <td>Øvrefoss</td>\n",
       "      <td>6.705350e+06</td>\n",
       "      <td>1.676338e+06</td>\n",
       "      <td>68.638311</td>\n",
       "      <td>16.403549</td>\n",
       "      <td>0.95</td>\n",
       "    </tr>\n",
       "    <tr>\n",
       "      <th>755</th>\n",
       "      <td>755</td>\n",
       "      <td>Øyadalen</td>\n",
       "      <td>1.114429e+05</td>\n",
       "      <td>2.786073e+04</td>\n",
       "      <td>62.215299</td>\n",
       "      <td>6.309238</td>\n",
       "      <td>2.00</td>\n",
       "    </tr>\n",
       "    <tr>\n",
       "      <th>756</th>\n",
       "      <td>756</td>\n",
       "      <td>Øyberget</td>\n",
       "      <td>5.529571e+05</td>\n",
       "      <td>1.382393e+05</td>\n",
       "      <td>61.939227</td>\n",
       "      <td>8.018610</td>\n",
       "      <td>99.50</td>\n",
       "    </tr>\n",
       "  </tbody>\n",
       "</table>\n",
       "<p>757 rows × 7 columns</p>\n",
       "</div>"
      ],
      "text/plain": [
       "     Unnamed: 0       lake_id     lake_area  selected_area   latitude  \\\n",
       "0             0           Aas  7.360339e+03   1.840085e+03  59.275387   \n",
       "1             1      Adamselv  1.471183e+07   3.677959e+06  70.377997   \n",
       "2             2          Alta  6.749854e+06   1.687464e+06  69.628793   \n",
       "3             3   Andåsfossen  2.492182e+04   6.230456e+03  65.823287   \n",
       "4             4        Angvik  3.296929e+03   8.242323e+02  62.891916   \n",
       "..          ...           ...           ...            ...        ...   \n",
       "752         752  Øvre Vinstra  9.830810e+07   2.457703e+07  61.413965   \n",
       "753         753   Øvre Åvella  4.254127e+06   1.063532e+06  60.784079   \n",
       "754         754      Øvrefoss  6.705350e+06   1.676338e+06  68.638311   \n",
       "755         755      Øyadalen  1.114429e+05   2.786073e+04  62.215299   \n",
       "756         756      Øyberget  5.529571e+05   1.382393e+05  61.939227   \n",
       "\n",
       "     longitude  max_power_MW  \n",
       "0     9.559640          1.00  \n",
       "1    26.865447         50.00  \n",
       "2    23.780765        150.00  \n",
       "3    13.273578          2.00  \n",
       "4     8.070013          1.10  \n",
       "..         ...           ...  \n",
       "752   9.242435        140.00  \n",
       "753   9.927475          0.43  \n",
       "754  16.403549          0.95  \n",
       "755   6.309238          2.00  \n",
       "756   8.018610         99.50  \n",
       "\n",
       "[757 rows x 7 columns]"
      ]
     },
     "execution_count": 22,
     "metadata": {},
     "output_type": "execute_result"
    }
   ],
   "source": [
    "hydro_df"
   ]
  },
  {
   "cell_type": "code",
   "execution_count": 11,
   "metadata": {},
   "outputs": [
    {
     "name": "stdout",
     "output_type": "stream",
     "text": [
      "lake 0 of 730\n"
     ]
    },
    {
     "name": "stderr",
     "output_type": "stream",
     "text": [
      "/home/mette/master/fpv_energy_yield_norway/src/FPVsimulation/pvsystem.py:83: UserWarning: Geometry is in a geographic CRS. Results from 'distance' are likely incorrect. Use 'GeoSeries.to_crs()' to re-project geometries to a projected CRS before this operation.\n",
      "\n",
      "  soiling_loss_gdf['distance'] = soiling_loss_NS3031_gdf['geometry'].distance(center)\n"
     ]
    },
    {
     "name": "stdout",
     "output_type": "stream",
     "text": [
      "lake 1 of 730\n"
     ]
    },
    {
     "name": "stderr",
     "output_type": "stream",
     "text": [
      "/home/mette/master/fpv_energy_yield_norway/src/FPVsimulation/pvsystem.py:83: UserWarning: Geometry is in a geographic CRS. Results from 'distance' are likely incorrect. Use 'GeoSeries.to_crs()' to re-project geometries to a projected CRS before this operation.\n",
      "\n",
      "  soiling_loss_gdf['distance'] = soiling_loss_NS3031_gdf['geometry'].distance(center)\n"
     ]
    },
    {
     "name": "stdout",
     "output_type": "stream",
     "text": [
      "lake 2 of 730\n"
     ]
    },
    {
     "name": "stderr",
     "output_type": "stream",
     "text": [
      "/home/mette/master/fpv_energy_yield_norway/src/FPVsimulation/pvsystem.py:83: UserWarning: Geometry is in a geographic CRS. Results from 'distance' are likely incorrect. Use 'GeoSeries.to_crs()' to re-project geometries to a projected CRS before this operation.\n",
      "\n",
      "  soiling_loss_gdf['distance'] = soiling_loss_NS3031_gdf['geometry'].distance(center)\n"
     ]
    },
    {
     "name": "stdout",
     "output_type": "stream",
     "text": [
      "lake 3 of 730\n"
     ]
    },
    {
     "name": "stderr",
     "output_type": "stream",
     "text": [
      "/home/mette/master/fpv_energy_yield_norway/src/FPVsimulation/pvsystem.py:83: UserWarning: Geometry is in a geographic CRS. Results from 'distance' are likely incorrect. Use 'GeoSeries.to_crs()' to re-project geometries to a projected CRS before this operation.\n",
      "\n",
      "  soiling_loss_gdf['distance'] = soiling_loss_NS3031_gdf['geometry'].distance(center)\n"
     ]
    },
    {
     "name": "stdout",
     "output_type": "stream",
     "text": [
      "lake 4 of 730\n"
     ]
    },
    {
     "name": "stderr",
     "output_type": "stream",
     "text": [
      "/home/mette/master/fpv_energy_yield_norway/src/FPVsimulation/pvsystem.py:83: UserWarning: Geometry is in a geographic CRS. Results from 'distance' are likely incorrect. Use 'GeoSeries.to_crs()' to re-project geometries to a projected CRS before this operation.\n",
      "\n",
      "  soiling_loss_gdf['distance'] = soiling_loss_NS3031_gdf['geometry'].distance(center)\n"
     ]
    },
    {
     "name": "stdout",
     "output_type": "stream",
     "text": [
      "lake 5 of 730\n"
     ]
    },
    {
     "name": "stderr",
     "output_type": "stream",
     "text": [
      "/home/mette/master/fpv_energy_yield_norway/src/FPVsimulation/pvsystem.py:83: UserWarning: Geometry is in a geographic CRS. Results from 'distance' are likely incorrect. Use 'GeoSeries.to_crs()' to re-project geometries to a projected CRS before this operation.\n",
      "\n",
      "  soiling_loss_gdf['distance'] = soiling_loss_NS3031_gdf['geometry'].distance(center)\n"
     ]
    },
    {
     "name": "stdout",
     "output_type": "stream",
     "text": [
      "lake 6 of 730\n"
     ]
    },
    {
     "name": "stderr",
     "output_type": "stream",
     "text": [
      "/home/mette/master/fpv_energy_yield_norway/src/FPVsimulation/pvsystem.py:83: UserWarning: Geometry is in a geographic CRS. Results from 'distance' are likely incorrect. Use 'GeoSeries.to_crs()' to re-project geometries to a projected CRS before this operation.\n",
      "\n",
      "  soiling_loss_gdf['distance'] = soiling_loss_NS3031_gdf['geometry'].distance(center)\n"
     ]
    },
    {
     "name": "stdout",
     "output_type": "stream",
     "text": [
      "lake 7 of 730\n"
     ]
    },
    {
     "name": "stderr",
     "output_type": "stream",
     "text": [
      "/home/mette/master/fpv_energy_yield_norway/src/FPVsimulation/pvsystem.py:83: UserWarning: Geometry is in a geographic CRS. Results from 'distance' are likely incorrect. Use 'GeoSeries.to_crs()' to re-project geometries to a projected CRS before this operation.\n",
      "\n",
      "  soiling_loss_gdf['distance'] = soiling_loss_NS3031_gdf['geometry'].distance(center)\n"
     ]
    },
    {
     "name": "stdout",
     "output_type": "stream",
     "text": [
      "lake 8 of 730\n"
     ]
    },
    {
     "name": "stderr",
     "output_type": "stream",
     "text": [
      "/home/mette/master/fpv_energy_yield_norway/src/FPVsimulation/pvsystem.py:83: UserWarning: Geometry is in a geographic CRS. Results from 'distance' are likely incorrect. Use 'GeoSeries.to_crs()' to re-project geometries to a projected CRS before this operation.\n",
      "\n",
      "  soiling_loss_gdf['distance'] = soiling_loss_NS3031_gdf['geometry'].distance(center)\n"
     ]
    },
    {
     "name": "stdout",
     "output_type": "stream",
     "text": [
      "lake 9 of 730\n"
     ]
    },
    {
     "name": "stderr",
     "output_type": "stream",
     "text": [
      "/home/mette/master/fpv_energy_yield_norway/src/FPVsimulation/pvsystem.py:83: UserWarning: Geometry is in a geographic CRS. Results from 'distance' are likely incorrect. Use 'GeoSeries.to_crs()' to re-project geometries to a projected CRS before this operation.\n",
      "\n",
      "  soiling_loss_gdf['distance'] = soiling_loss_NS3031_gdf['geometry'].distance(center)\n"
     ]
    },
    {
     "name": "stdout",
     "output_type": "stream",
     "text": [
      "lake 10 of 730\n"
     ]
    },
    {
     "name": "stderr",
     "output_type": "stream",
     "text": [
      "/home/mette/master/fpv_energy_yield_norway/src/FPVsimulation/pvsystem.py:83: UserWarning: Geometry is in a geographic CRS. Results from 'distance' are likely incorrect. Use 'GeoSeries.to_crs()' to re-project geometries to a projected CRS before this operation.\n",
      "\n",
      "  soiling_loss_gdf['distance'] = soiling_loss_NS3031_gdf['geometry'].distance(center)\n"
     ]
    },
    {
     "name": "stdout",
     "output_type": "stream",
     "text": [
      "lake 11 of 730\n"
     ]
    },
    {
     "name": "stderr",
     "output_type": "stream",
     "text": [
      "/home/mette/master/fpv_energy_yield_norway/src/FPVsimulation/pvsystem.py:83: UserWarning: Geometry is in a geographic CRS. Results from 'distance' are likely incorrect. Use 'GeoSeries.to_crs()' to re-project geometries to a projected CRS before this operation.\n",
      "\n",
      "  soiling_loss_gdf['distance'] = soiling_loss_NS3031_gdf['geometry'].distance(center)\n"
     ]
    },
    {
     "name": "stdout",
     "output_type": "stream",
     "text": [
      "lake 12 of 730\n"
     ]
    },
    {
     "name": "stderr",
     "output_type": "stream",
     "text": [
      "/home/mette/master/fpv_energy_yield_norway/src/FPVsimulation/pvsystem.py:83: UserWarning: Geometry is in a geographic CRS. Results from 'distance' are likely incorrect. Use 'GeoSeries.to_crs()' to re-project geometries to a projected CRS before this operation.\n",
      "\n",
      "  soiling_loss_gdf['distance'] = soiling_loss_NS3031_gdf['geometry'].distance(center)\n"
     ]
    },
    {
     "name": "stdout",
     "output_type": "stream",
     "text": [
      "lake 13 of 730\n"
     ]
    },
    {
     "name": "stderr",
     "output_type": "stream",
     "text": [
      "/home/mette/master/fpv_energy_yield_norway/src/FPVsimulation/pvsystem.py:83: UserWarning: Geometry is in a geographic CRS. Results from 'distance' are likely incorrect. Use 'GeoSeries.to_crs()' to re-project geometries to a projected CRS before this operation.\n",
      "\n",
      "  soiling_loss_gdf['distance'] = soiling_loss_NS3031_gdf['geometry'].distance(center)\n"
     ]
    },
    {
     "name": "stdout",
     "output_type": "stream",
     "text": [
      "lake 14 of 730\n"
     ]
    },
    {
     "name": "stderr",
     "output_type": "stream",
     "text": [
      "/home/mette/master/fpv_energy_yield_norway/src/FPVsimulation/pvsystem.py:83: UserWarning: Geometry is in a geographic CRS. Results from 'distance' are likely incorrect. Use 'GeoSeries.to_crs()' to re-project geometries to a projected CRS before this operation.\n",
      "\n",
      "  soiling_loss_gdf['distance'] = soiling_loss_NS3031_gdf['geometry'].distance(center)\n"
     ]
    },
    {
     "name": "stdout",
     "output_type": "stream",
     "text": [
      "lake 15 of 730\n"
     ]
    },
    {
     "name": "stderr",
     "output_type": "stream",
     "text": [
      "/home/mette/master/fpv_energy_yield_norway/src/FPVsimulation/pvsystem.py:83: UserWarning: Geometry is in a geographic CRS. Results from 'distance' are likely incorrect. Use 'GeoSeries.to_crs()' to re-project geometries to a projected CRS before this operation.\n",
      "\n",
      "  soiling_loss_gdf['distance'] = soiling_loss_NS3031_gdf['geometry'].distance(center)\n"
     ]
    },
    {
     "name": "stdout",
     "output_type": "stream",
     "text": [
      "lake 16 of 730\n"
     ]
    },
    {
     "name": "stderr",
     "output_type": "stream",
     "text": [
      "/home/mette/master/fpv_energy_yield_norway/src/FPVsimulation/pvsystem.py:83: UserWarning: Geometry is in a geographic CRS. Results from 'distance' are likely incorrect. Use 'GeoSeries.to_crs()' to re-project geometries to a projected CRS before this operation.\n",
      "\n",
      "  soiling_loss_gdf['distance'] = soiling_loss_NS3031_gdf['geometry'].distance(center)\n"
     ]
    },
    {
     "name": "stdout",
     "output_type": "stream",
     "text": [
      "lake 17 of 730\n"
     ]
    },
    {
     "name": "stderr",
     "output_type": "stream",
     "text": [
      "/home/mette/master/fpv_energy_yield_norway/src/FPVsimulation/pvsystem.py:83: UserWarning: Geometry is in a geographic CRS. Results from 'distance' are likely incorrect. Use 'GeoSeries.to_crs()' to re-project geometries to a projected CRS before this operation.\n",
      "\n",
      "  soiling_loss_gdf['distance'] = soiling_loss_NS3031_gdf['geometry'].distance(center)\n"
     ]
    },
    {
     "name": "stdout",
     "output_type": "stream",
     "text": [
      "lake 18 of 730\n"
     ]
    },
    {
     "name": "stderr",
     "output_type": "stream",
     "text": [
      "/home/mette/master/fpv_energy_yield_norway/src/FPVsimulation/pvsystem.py:83: UserWarning: Geometry is in a geographic CRS. Results from 'distance' are likely incorrect. Use 'GeoSeries.to_crs()' to re-project geometries to a projected CRS before this operation.\n",
      "\n",
      "  soiling_loss_gdf['distance'] = soiling_loss_NS3031_gdf['geometry'].distance(center)\n"
     ]
    },
    {
     "name": "stdout",
     "output_type": "stream",
     "text": [
      "lake 19 of 730\n"
     ]
    },
    {
     "name": "stderr",
     "output_type": "stream",
     "text": [
      "/home/mette/master/fpv_energy_yield_norway/src/FPVsimulation/pvsystem.py:83: UserWarning: Geometry is in a geographic CRS. Results from 'distance' are likely incorrect. Use 'GeoSeries.to_crs()' to re-project geometries to a projected CRS before this operation.\n",
      "\n",
      "  soiling_loss_gdf['distance'] = soiling_loss_NS3031_gdf['geometry'].distance(center)\n"
     ]
    },
    {
     "name": "stdout",
     "output_type": "stream",
     "text": [
      "lake 20 of 730\n"
     ]
    },
    {
     "name": "stderr",
     "output_type": "stream",
     "text": [
      "/home/mette/master/fpv_energy_yield_norway/src/FPVsimulation/pvsystem.py:83: UserWarning: Geometry is in a geographic CRS. Results from 'distance' are likely incorrect. Use 'GeoSeries.to_crs()' to re-project geometries to a projected CRS before this operation.\n",
      "\n",
      "  soiling_loss_gdf['distance'] = soiling_loss_NS3031_gdf['geometry'].distance(center)\n"
     ]
    },
    {
     "name": "stdout",
     "output_type": "stream",
     "text": [
      "lake 21 of 730\n"
     ]
    },
    {
     "name": "stderr",
     "output_type": "stream",
     "text": [
      "/home/mette/master/fpv_energy_yield_norway/src/FPVsimulation/pvsystem.py:83: UserWarning: Geometry is in a geographic CRS. Results from 'distance' are likely incorrect. Use 'GeoSeries.to_crs()' to re-project geometries to a projected CRS before this operation.\n",
      "\n",
      "  soiling_loss_gdf['distance'] = soiling_loss_NS3031_gdf['geometry'].distance(center)\n"
     ]
    },
    {
     "name": "stdout",
     "output_type": "stream",
     "text": [
      "lake 22 of 730\n"
     ]
    },
    {
     "name": "stderr",
     "output_type": "stream",
     "text": [
      "/home/mette/master/fpv_energy_yield_norway/src/FPVsimulation/pvsystem.py:83: UserWarning: Geometry is in a geographic CRS. Results from 'distance' are likely incorrect. Use 'GeoSeries.to_crs()' to re-project geometries to a projected CRS before this operation.\n",
      "\n",
      "  soiling_loss_gdf['distance'] = soiling_loss_NS3031_gdf['geometry'].distance(center)\n"
     ]
    },
    {
     "name": "stdout",
     "output_type": "stream",
     "text": [
      "lake 23 of 730\n"
     ]
    },
    {
     "name": "stderr",
     "output_type": "stream",
     "text": [
      "/home/mette/master/fpv_energy_yield_norway/src/FPVsimulation/pvsystem.py:83: UserWarning: Geometry is in a geographic CRS. Results from 'distance' are likely incorrect. Use 'GeoSeries.to_crs()' to re-project geometries to a projected CRS before this operation.\n",
      "\n",
      "  soiling_loss_gdf['distance'] = soiling_loss_NS3031_gdf['geometry'].distance(center)\n"
     ]
    },
    {
     "name": "stdout",
     "output_type": "stream",
     "text": [
      "lake 24 of 730\n"
     ]
    },
    {
     "name": "stderr",
     "output_type": "stream",
     "text": [
      "/home/mette/master/fpv_energy_yield_norway/src/FPVsimulation/pvsystem.py:83: UserWarning: Geometry is in a geographic CRS. Results from 'distance' are likely incorrect. Use 'GeoSeries.to_crs()' to re-project geometries to a projected CRS before this operation.\n",
      "\n",
      "  soiling_loss_gdf['distance'] = soiling_loss_NS3031_gdf['geometry'].distance(center)\n"
     ]
    },
    {
     "name": "stdout",
     "output_type": "stream",
     "text": [
      "lake 25 of 730\n"
     ]
    },
    {
     "name": "stderr",
     "output_type": "stream",
     "text": [
      "/home/mette/master/fpv_energy_yield_norway/src/FPVsimulation/pvsystem.py:83: UserWarning: Geometry is in a geographic CRS. Results from 'distance' are likely incorrect. Use 'GeoSeries.to_crs()' to re-project geometries to a projected CRS before this operation.\n",
      "\n",
      "  soiling_loss_gdf['distance'] = soiling_loss_NS3031_gdf['geometry'].distance(center)\n"
     ]
    },
    {
     "name": "stdout",
     "output_type": "stream",
     "text": [
      "lake 26 of 730\n"
     ]
    },
    {
     "name": "stderr",
     "output_type": "stream",
     "text": [
      "/home/mette/master/fpv_energy_yield_norway/src/FPVsimulation/pvsystem.py:83: UserWarning: Geometry is in a geographic CRS. Results from 'distance' are likely incorrect. Use 'GeoSeries.to_crs()' to re-project geometries to a projected CRS before this operation.\n",
      "\n",
      "  soiling_loss_gdf['distance'] = soiling_loss_NS3031_gdf['geometry'].distance(center)\n"
     ]
    },
    {
     "name": "stdout",
     "output_type": "stream",
     "text": [
      "lake 27 of 730\n"
     ]
    },
    {
     "name": "stderr",
     "output_type": "stream",
     "text": [
      "/home/mette/master/fpv_energy_yield_norway/src/FPVsimulation/pvsystem.py:83: UserWarning: Geometry is in a geographic CRS. Results from 'distance' are likely incorrect. Use 'GeoSeries.to_crs()' to re-project geometries to a projected CRS before this operation.\n",
      "\n",
      "  soiling_loss_gdf['distance'] = soiling_loss_NS3031_gdf['geometry'].distance(center)\n"
     ]
    },
    {
     "name": "stdout",
     "output_type": "stream",
     "text": [
      "lake 28 of 730\n"
     ]
    },
    {
     "name": "stderr",
     "output_type": "stream",
     "text": [
      "/home/mette/master/fpv_energy_yield_norway/src/FPVsimulation/pvsystem.py:83: UserWarning: Geometry is in a geographic CRS. Results from 'distance' are likely incorrect. Use 'GeoSeries.to_crs()' to re-project geometries to a projected CRS before this operation.\n",
      "\n",
      "  soiling_loss_gdf['distance'] = soiling_loss_NS3031_gdf['geometry'].distance(center)\n"
     ]
    },
    {
     "name": "stdout",
     "output_type": "stream",
     "text": [
      "lake 29 of 730\n"
     ]
    },
    {
     "name": "stderr",
     "output_type": "stream",
     "text": [
      "/home/mette/master/fpv_energy_yield_norway/src/FPVsimulation/pvsystem.py:83: UserWarning: Geometry is in a geographic CRS. Results from 'distance' are likely incorrect. Use 'GeoSeries.to_crs()' to re-project geometries to a projected CRS before this operation.\n",
      "\n",
      "  soiling_loss_gdf['distance'] = soiling_loss_NS3031_gdf['geometry'].distance(center)\n"
     ]
    },
    {
     "name": "stdout",
     "output_type": "stream",
     "text": [
      "lake 30 of 730\n"
     ]
    },
    {
     "name": "stderr",
     "output_type": "stream",
     "text": [
      "/home/mette/master/fpv_energy_yield_norway/src/FPVsimulation/pvsystem.py:83: UserWarning: Geometry is in a geographic CRS. Results from 'distance' are likely incorrect. Use 'GeoSeries.to_crs()' to re-project geometries to a projected CRS before this operation.\n",
      "\n",
      "  soiling_loss_gdf['distance'] = soiling_loss_NS3031_gdf['geometry'].distance(center)\n"
     ]
    },
    {
     "name": "stdout",
     "output_type": "stream",
     "text": [
      "lake 31 of 730\n"
     ]
    },
    {
     "name": "stderr",
     "output_type": "stream",
     "text": [
      "/home/mette/master/fpv_energy_yield_norway/src/FPVsimulation/pvsystem.py:83: UserWarning: Geometry is in a geographic CRS. Results from 'distance' are likely incorrect. Use 'GeoSeries.to_crs()' to re-project geometries to a projected CRS before this operation.\n",
      "\n",
      "  soiling_loss_gdf['distance'] = soiling_loss_NS3031_gdf['geometry'].distance(center)\n"
     ]
    },
    {
     "name": "stdout",
     "output_type": "stream",
     "text": [
      "lake 32 of 730\n"
     ]
    },
    {
     "name": "stderr",
     "output_type": "stream",
     "text": [
      "/home/mette/master/fpv_energy_yield_norway/src/FPVsimulation/pvsystem.py:83: UserWarning: Geometry is in a geographic CRS. Results from 'distance' are likely incorrect. Use 'GeoSeries.to_crs()' to re-project geometries to a projected CRS before this operation.\n",
      "\n",
      "  soiling_loss_gdf['distance'] = soiling_loss_NS3031_gdf['geometry'].distance(center)\n"
     ]
    },
    {
     "name": "stdout",
     "output_type": "stream",
     "text": [
      "lake 33 of 730\n"
     ]
    },
    {
     "name": "stderr",
     "output_type": "stream",
     "text": [
      "/home/mette/master/fpv_energy_yield_norway/src/FPVsimulation/pvsystem.py:83: UserWarning: Geometry is in a geographic CRS. Results from 'distance' are likely incorrect. Use 'GeoSeries.to_crs()' to re-project geometries to a projected CRS before this operation.\n",
      "\n",
      "  soiling_loss_gdf['distance'] = soiling_loss_NS3031_gdf['geometry'].distance(center)\n"
     ]
    },
    {
     "name": "stdout",
     "output_type": "stream",
     "text": [
      "lake 34 of 730\n"
     ]
    },
    {
     "name": "stderr",
     "output_type": "stream",
     "text": [
      "/home/mette/master/fpv_energy_yield_norway/src/FPVsimulation/pvsystem.py:83: UserWarning: Geometry is in a geographic CRS. Results from 'distance' are likely incorrect. Use 'GeoSeries.to_crs()' to re-project geometries to a projected CRS before this operation.\n",
      "\n",
      "  soiling_loss_gdf['distance'] = soiling_loss_NS3031_gdf['geometry'].distance(center)\n"
     ]
    },
    {
     "name": "stdout",
     "output_type": "stream",
     "text": [
      "lake 35 of 730\n"
     ]
    },
    {
     "name": "stderr",
     "output_type": "stream",
     "text": [
      "/home/mette/master/fpv_energy_yield_norway/src/FPVsimulation/pvsystem.py:83: UserWarning: Geometry is in a geographic CRS. Results from 'distance' are likely incorrect. Use 'GeoSeries.to_crs()' to re-project geometries to a projected CRS before this operation.\n",
      "\n",
      "  soiling_loss_gdf['distance'] = soiling_loss_NS3031_gdf['geometry'].distance(center)\n"
     ]
    },
    {
     "name": "stdout",
     "output_type": "stream",
     "text": [
      "lake 36 of 730\n"
     ]
    },
    {
     "name": "stderr",
     "output_type": "stream",
     "text": [
      "/home/mette/master/fpv_energy_yield_norway/src/FPVsimulation/pvsystem.py:83: UserWarning: Geometry is in a geographic CRS. Results from 'distance' are likely incorrect. Use 'GeoSeries.to_crs()' to re-project geometries to a projected CRS before this operation.\n",
      "\n",
      "  soiling_loss_gdf['distance'] = soiling_loss_NS3031_gdf['geometry'].distance(center)\n"
     ]
    },
    {
     "name": "stdout",
     "output_type": "stream",
     "text": [
      "lake 37 of 730\n"
     ]
    },
    {
     "name": "stderr",
     "output_type": "stream",
     "text": [
      "/home/mette/master/fpv_energy_yield_norway/src/FPVsimulation/pvsystem.py:83: UserWarning: Geometry is in a geographic CRS. Results from 'distance' are likely incorrect. Use 'GeoSeries.to_crs()' to re-project geometries to a projected CRS before this operation.\n",
      "\n",
      "  soiling_loss_gdf['distance'] = soiling_loss_NS3031_gdf['geometry'].distance(center)\n"
     ]
    },
    {
     "name": "stdout",
     "output_type": "stream",
     "text": [
      "lake 38 of 730\n"
     ]
    },
    {
     "name": "stderr",
     "output_type": "stream",
     "text": [
      "/home/mette/master/fpv_energy_yield_norway/src/FPVsimulation/pvsystem.py:83: UserWarning: Geometry is in a geographic CRS. Results from 'distance' are likely incorrect. Use 'GeoSeries.to_crs()' to re-project geometries to a projected CRS before this operation.\n",
      "\n",
      "  soiling_loss_gdf['distance'] = soiling_loss_NS3031_gdf['geometry'].distance(center)\n"
     ]
    },
    {
     "name": "stdout",
     "output_type": "stream",
     "text": [
      "lake 39 of 730\n"
     ]
    },
    {
     "name": "stderr",
     "output_type": "stream",
     "text": [
      "/home/mette/master/fpv_energy_yield_norway/src/FPVsimulation/pvsystem.py:83: UserWarning: Geometry is in a geographic CRS. Results from 'distance' are likely incorrect. Use 'GeoSeries.to_crs()' to re-project geometries to a projected CRS before this operation.\n",
      "\n",
      "  soiling_loss_gdf['distance'] = soiling_loss_NS3031_gdf['geometry'].distance(center)\n"
     ]
    },
    {
     "name": "stdout",
     "output_type": "stream",
     "text": [
      "lake 40 of 730\n"
     ]
    },
    {
     "name": "stderr",
     "output_type": "stream",
     "text": [
      "/home/mette/master/fpv_energy_yield_norway/src/FPVsimulation/pvsystem.py:83: UserWarning: Geometry is in a geographic CRS. Results from 'distance' are likely incorrect. Use 'GeoSeries.to_crs()' to re-project geometries to a projected CRS before this operation.\n",
      "\n",
      "  soiling_loss_gdf['distance'] = soiling_loss_NS3031_gdf['geometry'].distance(center)\n"
     ]
    },
    {
     "name": "stdout",
     "output_type": "stream",
     "text": [
      "lake 41 of 730\n"
     ]
    },
    {
     "name": "stderr",
     "output_type": "stream",
     "text": [
      "/home/mette/master/fpv_energy_yield_norway/src/FPVsimulation/pvsystem.py:83: UserWarning: Geometry is in a geographic CRS. Results from 'distance' are likely incorrect. Use 'GeoSeries.to_crs()' to re-project geometries to a projected CRS before this operation.\n",
      "\n",
      "  soiling_loss_gdf['distance'] = soiling_loss_NS3031_gdf['geometry'].distance(center)\n"
     ]
    },
    {
     "name": "stdout",
     "output_type": "stream",
     "text": [
      "lake 42 of 730\n"
     ]
    },
    {
     "name": "stderr",
     "output_type": "stream",
     "text": [
      "/home/mette/master/fpv_energy_yield_norway/src/FPVsimulation/pvsystem.py:83: UserWarning: Geometry is in a geographic CRS. Results from 'distance' are likely incorrect. Use 'GeoSeries.to_crs()' to re-project geometries to a projected CRS before this operation.\n",
      "\n",
      "  soiling_loss_gdf['distance'] = soiling_loss_NS3031_gdf['geometry'].distance(center)\n"
     ]
    },
    {
     "name": "stdout",
     "output_type": "stream",
     "text": [
      "lake 43 of 730\n"
     ]
    },
    {
     "name": "stderr",
     "output_type": "stream",
     "text": [
      "/home/mette/master/fpv_energy_yield_norway/src/FPVsimulation/pvsystem.py:83: UserWarning: Geometry is in a geographic CRS. Results from 'distance' are likely incorrect. Use 'GeoSeries.to_crs()' to re-project geometries to a projected CRS before this operation.\n",
      "\n",
      "  soiling_loss_gdf['distance'] = soiling_loss_NS3031_gdf['geometry'].distance(center)\n"
     ]
    },
    {
     "name": "stdout",
     "output_type": "stream",
     "text": [
      "lake 44 of 730\n"
     ]
    },
    {
     "name": "stderr",
     "output_type": "stream",
     "text": [
      "/home/mette/master/fpv_energy_yield_norway/src/FPVsimulation/pvsystem.py:83: UserWarning: Geometry is in a geographic CRS. Results from 'distance' are likely incorrect. Use 'GeoSeries.to_crs()' to re-project geometries to a projected CRS before this operation.\n",
      "\n",
      "  soiling_loss_gdf['distance'] = soiling_loss_NS3031_gdf['geometry'].distance(center)\n"
     ]
    },
    {
     "name": "stdout",
     "output_type": "stream",
     "text": [
      "lake 45 of 730\n"
     ]
    },
    {
     "name": "stderr",
     "output_type": "stream",
     "text": [
      "/home/mette/master/fpv_energy_yield_norway/src/FPVsimulation/pvsystem.py:83: UserWarning: Geometry is in a geographic CRS. Results from 'distance' are likely incorrect. Use 'GeoSeries.to_crs()' to re-project geometries to a projected CRS before this operation.\n",
      "\n",
      "  soiling_loss_gdf['distance'] = soiling_loss_NS3031_gdf['geometry'].distance(center)\n"
     ]
    },
    {
     "name": "stdout",
     "output_type": "stream",
     "text": [
      "lake 46 of 730\n"
     ]
    },
    {
     "name": "stderr",
     "output_type": "stream",
     "text": [
      "/home/mette/master/fpv_energy_yield_norway/src/FPVsimulation/pvsystem.py:83: UserWarning: Geometry is in a geographic CRS. Results from 'distance' are likely incorrect. Use 'GeoSeries.to_crs()' to re-project geometries to a projected CRS before this operation.\n",
      "\n",
      "  soiling_loss_gdf['distance'] = soiling_loss_NS3031_gdf['geometry'].distance(center)\n"
     ]
    },
    {
     "name": "stdout",
     "output_type": "stream",
     "text": [
      "lake 47 of 730\n"
     ]
    },
    {
     "name": "stderr",
     "output_type": "stream",
     "text": [
      "/home/mette/master/fpv_energy_yield_norway/src/FPVsimulation/pvsystem.py:83: UserWarning: Geometry is in a geographic CRS. Results from 'distance' are likely incorrect. Use 'GeoSeries.to_crs()' to re-project geometries to a projected CRS before this operation.\n",
      "\n",
      "  soiling_loss_gdf['distance'] = soiling_loss_NS3031_gdf['geometry'].distance(center)\n"
     ]
    },
    {
     "name": "stdout",
     "output_type": "stream",
     "text": [
      "lake 48 of 730\n"
     ]
    },
    {
     "name": "stderr",
     "output_type": "stream",
     "text": [
      "/home/mette/master/fpv_energy_yield_norway/src/FPVsimulation/pvsystem.py:83: UserWarning: Geometry is in a geographic CRS. Results from 'distance' are likely incorrect. Use 'GeoSeries.to_crs()' to re-project geometries to a projected CRS before this operation.\n",
      "\n",
      "  soiling_loss_gdf['distance'] = soiling_loss_NS3031_gdf['geometry'].distance(center)\n"
     ]
    },
    {
     "name": "stdout",
     "output_type": "stream",
     "text": [
      "lake 49 of 730\n"
     ]
    },
    {
     "name": "stderr",
     "output_type": "stream",
     "text": [
      "/home/mette/master/fpv_energy_yield_norway/src/FPVsimulation/pvsystem.py:83: UserWarning: Geometry is in a geographic CRS. Results from 'distance' are likely incorrect. Use 'GeoSeries.to_crs()' to re-project geometries to a projected CRS before this operation.\n",
      "\n",
      "  soiling_loss_gdf['distance'] = soiling_loss_NS3031_gdf['geometry'].distance(center)\n"
     ]
    },
    {
     "name": "stdout",
     "output_type": "stream",
     "text": [
      "lake 50 of 730\n"
     ]
    },
    {
     "name": "stderr",
     "output_type": "stream",
     "text": [
      "/home/mette/master/fpv_energy_yield_norway/src/FPVsimulation/pvsystem.py:83: UserWarning: Geometry is in a geographic CRS. Results from 'distance' are likely incorrect. Use 'GeoSeries.to_crs()' to re-project geometries to a projected CRS before this operation.\n",
      "\n",
      "  soiling_loss_gdf['distance'] = soiling_loss_NS3031_gdf['geometry'].distance(center)\n"
     ]
    },
    {
     "name": "stdout",
     "output_type": "stream",
     "text": [
      "lake 51 of 730\n"
     ]
    },
    {
     "name": "stderr",
     "output_type": "stream",
     "text": [
      "/home/mette/master/fpv_energy_yield_norway/src/FPVsimulation/pvsystem.py:83: UserWarning: Geometry is in a geographic CRS. Results from 'distance' are likely incorrect. Use 'GeoSeries.to_crs()' to re-project geometries to a projected CRS before this operation.\n",
      "\n",
      "  soiling_loss_gdf['distance'] = soiling_loss_NS3031_gdf['geometry'].distance(center)\n"
     ]
    },
    {
     "name": "stdout",
     "output_type": "stream",
     "text": [
      "lake 52 of 730\n"
     ]
    },
    {
     "name": "stderr",
     "output_type": "stream",
     "text": [
      "/home/mette/master/fpv_energy_yield_norway/src/FPVsimulation/pvsystem.py:83: UserWarning: Geometry is in a geographic CRS. Results from 'distance' are likely incorrect. Use 'GeoSeries.to_crs()' to re-project geometries to a projected CRS before this operation.\n",
      "\n",
      "  soiling_loss_gdf['distance'] = soiling_loss_NS3031_gdf['geometry'].distance(center)\n"
     ]
    },
    {
     "name": "stdout",
     "output_type": "stream",
     "text": [
      "lake 53 of 730\n"
     ]
    },
    {
     "name": "stderr",
     "output_type": "stream",
     "text": [
      "/home/mette/master/fpv_energy_yield_norway/src/FPVsimulation/pvsystem.py:83: UserWarning: Geometry is in a geographic CRS. Results from 'distance' are likely incorrect. Use 'GeoSeries.to_crs()' to re-project geometries to a projected CRS before this operation.\n",
      "\n",
      "  soiling_loss_gdf['distance'] = soiling_loss_NS3031_gdf['geometry'].distance(center)\n"
     ]
    },
    {
     "name": "stdout",
     "output_type": "stream",
     "text": [
      "lake 54 of 730\n"
     ]
    },
    {
     "name": "stderr",
     "output_type": "stream",
     "text": [
      "/home/mette/master/fpv_energy_yield_norway/src/FPVsimulation/pvsystem.py:83: UserWarning: Geometry is in a geographic CRS. Results from 'distance' are likely incorrect. Use 'GeoSeries.to_crs()' to re-project geometries to a projected CRS before this operation.\n",
      "\n",
      "  soiling_loss_gdf['distance'] = soiling_loss_NS3031_gdf['geometry'].distance(center)\n"
     ]
    },
    {
     "name": "stdout",
     "output_type": "stream",
     "text": [
      "lake 55 of 730\n"
     ]
    },
    {
     "name": "stderr",
     "output_type": "stream",
     "text": [
      "/home/mette/master/fpv_energy_yield_norway/src/FPVsimulation/pvsystem.py:83: UserWarning: Geometry is in a geographic CRS. Results from 'distance' are likely incorrect. Use 'GeoSeries.to_crs()' to re-project geometries to a projected CRS before this operation.\n",
      "\n",
      "  soiling_loss_gdf['distance'] = soiling_loss_NS3031_gdf['geometry'].distance(center)\n"
     ]
    },
    {
     "name": "stdout",
     "output_type": "stream",
     "text": [
      "lake 56 of 730\n"
     ]
    },
    {
     "name": "stderr",
     "output_type": "stream",
     "text": [
      "/home/mette/master/fpv_energy_yield_norway/src/FPVsimulation/pvsystem.py:83: UserWarning: Geometry is in a geographic CRS. Results from 'distance' are likely incorrect. Use 'GeoSeries.to_crs()' to re-project geometries to a projected CRS before this operation.\n",
      "\n",
      "  soiling_loss_gdf['distance'] = soiling_loss_NS3031_gdf['geometry'].distance(center)\n"
     ]
    },
    {
     "name": "stdout",
     "output_type": "stream",
     "text": [
      "lake 57 of 730\n"
     ]
    },
    {
     "name": "stderr",
     "output_type": "stream",
     "text": [
      "/home/mette/master/fpv_energy_yield_norway/src/FPVsimulation/pvsystem.py:83: UserWarning: Geometry is in a geographic CRS. Results from 'distance' are likely incorrect. Use 'GeoSeries.to_crs()' to re-project geometries to a projected CRS before this operation.\n",
      "\n",
      "  soiling_loss_gdf['distance'] = soiling_loss_NS3031_gdf['geometry'].distance(center)\n"
     ]
    },
    {
     "name": "stdout",
     "output_type": "stream",
     "text": [
      "lake 58 of 730\n"
     ]
    },
    {
     "name": "stderr",
     "output_type": "stream",
     "text": [
      "/home/mette/master/fpv_energy_yield_norway/src/FPVsimulation/pvsystem.py:83: UserWarning: Geometry is in a geographic CRS. Results from 'distance' are likely incorrect. Use 'GeoSeries.to_crs()' to re-project geometries to a projected CRS before this operation.\n",
      "\n",
      "  soiling_loss_gdf['distance'] = soiling_loss_NS3031_gdf['geometry'].distance(center)\n"
     ]
    },
    {
     "name": "stdout",
     "output_type": "stream",
     "text": [
      "lake 59 of 730\n"
     ]
    },
    {
     "name": "stderr",
     "output_type": "stream",
     "text": [
      "/home/mette/master/fpv_energy_yield_norway/src/FPVsimulation/pvsystem.py:83: UserWarning: Geometry is in a geographic CRS. Results from 'distance' are likely incorrect. Use 'GeoSeries.to_crs()' to re-project geometries to a projected CRS before this operation.\n",
      "\n",
      "  soiling_loss_gdf['distance'] = soiling_loss_NS3031_gdf['geometry'].distance(center)\n"
     ]
    },
    {
     "name": "stdout",
     "output_type": "stream",
     "text": [
      "lake 60 of 730\n"
     ]
    },
    {
     "name": "stderr",
     "output_type": "stream",
     "text": [
      "/home/mette/master/fpv_energy_yield_norway/src/FPVsimulation/pvsystem.py:83: UserWarning: Geometry is in a geographic CRS. Results from 'distance' are likely incorrect. Use 'GeoSeries.to_crs()' to re-project geometries to a projected CRS before this operation.\n",
      "\n",
      "  soiling_loss_gdf['distance'] = soiling_loss_NS3031_gdf['geometry'].distance(center)\n"
     ]
    },
    {
     "name": "stdout",
     "output_type": "stream",
     "text": [
      "lake 61 of 730\n"
     ]
    },
    {
     "name": "stderr",
     "output_type": "stream",
     "text": [
      "/home/mette/master/fpv_energy_yield_norway/src/FPVsimulation/pvsystem.py:83: UserWarning: Geometry is in a geographic CRS. Results from 'distance' are likely incorrect. Use 'GeoSeries.to_crs()' to re-project geometries to a projected CRS before this operation.\n",
      "\n",
      "  soiling_loss_gdf['distance'] = soiling_loss_NS3031_gdf['geometry'].distance(center)\n"
     ]
    },
    {
     "name": "stdout",
     "output_type": "stream",
     "text": [
      "lake 62 of 730\n"
     ]
    },
    {
     "name": "stderr",
     "output_type": "stream",
     "text": [
      "/home/mette/master/fpv_energy_yield_norway/src/FPVsimulation/pvsystem.py:83: UserWarning: Geometry is in a geographic CRS. Results from 'distance' are likely incorrect. Use 'GeoSeries.to_crs()' to re-project geometries to a projected CRS before this operation.\n",
      "\n",
      "  soiling_loss_gdf['distance'] = soiling_loss_NS3031_gdf['geometry'].distance(center)\n"
     ]
    },
    {
     "name": "stdout",
     "output_type": "stream",
     "text": [
      "lake 63 of 730\n"
     ]
    },
    {
     "name": "stderr",
     "output_type": "stream",
     "text": [
      "/home/mette/master/fpv_energy_yield_norway/src/FPVsimulation/pvsystem.py:83: UserWarning: Geometry is in a geographic CRS. Results from 'distance' are likely incorrect. Use 'GeoSeries.to_crs()' to re-project geometries to a projected CRS before this operation.\n",
      "\n",
      "  soiling_loss_gdf['distance'] = soiling_loss_NS3031_gdf['geometry'].distance(center)\n"
     ]
    },
    {
     "name": "stdout",
     "output_type": "stream",
     "text": [
      "lake 64 of 730\n"
     ]
    },
    {
     "name": "stderr",
     "output_type": "stream",
     "text": [
      "/home/mette/master/fpv_energy_yield_norway/src/FPVsimulation/pvsystem.py:83: UserWarning: Geometry is in a geographic CRS. Results from 'distance' are likely incorrect. Use 'GeoSeries.to_crs()' to re-project geometries to a projected CRS before this operation.\n",
      "\n",
      "  soiling_loss_gdf['distance'] = soiling_loss_NS3031_gdf['geometry'].distance(center)\n"
     ]
    },
    {
     "name": "stdout",
     "output_type": "stream",
     "text": [
      "lake 65 of 730\n"
     ]
    },
    {
     "name": "stderr",
     "output_type": "stream",
     "text": [
      "/home/mette/master/fpv_energy_yield_norway/src/FPVsimulation/pvsystem.py:83: UserWarning: Geometry is in a geographic CRS. Results from 'distance' are likely incorrect. Use 'GeoSeries.to_crs()' to re-project geometries to a projected CRS before this operation.\n",
      "\n",
      "  soiling_loss_gdf['distance'] = soiling_loss_NS3031_gdf['geometry'].distance(center)\n"
     ]
    },
    {
     "name": "stdout",
     "output_type": "stream",
     "text": [
      "lake 66 of 730\n"
     ]
    },
    {
     "name": "stderr",
     "output_type": "stream",
     "text": [
      "/home/mette/master/fpv_energy_yield_norway/src/FPVsimulation/pvsystem.py:83: UserWarning: Geometry is in a geographic CRS. Results from 'distance' are likely incorrect. Use 'GeoSeries.to_crs()' to re-project geometries to a projected CRS before this operation.\n",
      "\n",
      "  soiling_loss_gdf['distance'] = soiling_loss_NS3031_gdf['geometry'].distance(center)\n"
     ]
    },
    {
     "name": "stdout",
     "output_type": "stream",
     "text": [
      "lake 67 of 730\n"
     ]
    },
    {
     "name": "stderr",
     "output_type": "stream",
     "text": [
      "/home/mette/master/fpv_energy_yield_norway/src/FPVsimulation/pvsystem.py:83: UserWarning: Geometry is in a geographic CRS. Results from 'distance' are likely incorrect. Use 'GeoSeries.to_crs()' to re-project geometries to a projected CRS before this operation.\n",
      "\n",
      "  soiling_loss_gdf['distance'] = soiling_loss_NS3031_gdf['geometry'].distance(center)\n"
     ]
    },
    {
     "name": "stdout",
     "output_type": "stream",
     "text": [
      "lake 68 of 730\n"
     ]
    },
    {
     "name": "stderr",
     "output_type": "stream",
     "text": [
      "/home/mette/master/fpv_energy_yield_norway/src/FPVsimulation/pvsystem.py:83: UserWarning: Geometry is in a geographic CRS. Results from 'distance' are likely incorrect. Use 'GeoSeries.to_crs()' to re-project geometries to a projected CRS before this operation.\n",
      "\n",
      "  soiling_loss_gdf['distance'] = soiling_loss_NS3031_gdf['geometry'].distance(center)\n"
     ]
    },
    {
     "name": "stdout",
     "output_type": "stream",
     "text": [
      "lake 69 of 730\n"
     ]
    },
    {
     "name": "stderr",
     "output_type": "stream",
     "text": [
      "/home/mette/master/fpv_energy_yield_norway/src/FPVsimulation/pvsystem.py:83: UserWarning: Geometry is in a geographic CRS. Results from 'distance' are likely incorrect. Use 'GeoSeries.to_crs()' to re-project geometries to a projected CRS before this operation.\n",
      "\n",
      "  soiling_loss_gdf['distance'] = soiling_loss_NS3031_gdf['geometry'].distance(center)\n"
     ]
    },
    {
     "name": "stdout",
     "output_type": "stream",
     "text": [
      "lake 70 of 730\n"
     ]
    },
    {
     "name": "stderr",
     "output_type": "stream",
     "text": [
      "/home/mette/master/fpv_energy_yield_norway/src/FPVsimulation/pvsystem.py:83: UserWarning: Geometry is in a geographic CRS. Results from 'distance' are likely incorrect. Use 'GeoSeries.to_crs()' to re-project geometries to a projected CRS before this operation.\n",
      "\n",
      "  soiling_loss_gdf['distance'] = soiling_loss_NS3031_gdf['geometry'].distance(center)\n"
     ]
    },
    {
     "name": "stdout",
     "output_type": "stream",
     "text": [
      "lake 71 of 730\n"
     ]
    },
    {
     "name": "stderr",
     "output_type": "stream",
     "text": [
      "/home/mette/master/fpv_energy_yield_norway/src/FPVsimulation/pvsystem.py:83: UserWarning: Geometry is in a geographic CRS. Results from 'distance' are likely incorrect. Use 'GeoSeries.to_crs()' to re-project geometries to a projected CRS before this operation.\n",
      "\n",
      "  soiling_loss_gdf['distance'] = soiling_loss_NS3031_gdf['geometry'].distance(center)\n"
     ]
    },
    {
     "name": "stdout",
     "output_type": "stream",
     "text": [
      "lake 72 of 730\n"
     ]
    },
    {
     "name": "stderr",
     "output_type": "stream",
     "text": [
      "/home/mette/master/fpv_energy_yield_norway/src/FPVsimulation/pvsystem.py:83: UserWarning: Geometry is in a geographic CRS. Results from 'distance' are likely incorrect. Use 'GeoSeries.to_crs()' to re-project geometries to a projected CRS before this operation.\n",
      "\n",
      "  soiling_loss_gdf['distance'] = soiling_loss_NS3031_gdf['geometry'].distance(center)\n"
     ]
    },
    {
     "name": "stdout",
     "output_type": "stream",
     "text": [
      "lake 73 of 730\n"
     ]
    },
    {
     "name": "stderr",
     "output_type": "stream",
     "text": [
      "/home/mette/master/fpv_energy_yield_norway/src/FPVsimulation/pvsystem.py:83: UserWarning: Geometry is in a geographic CRS. Results from 'distance' are likely incorrect. Use 'GeoSeries.to_crs()' to re-project geometries to a projected CRS before this operation.\n",
      "\n",
      "  soiling_loss_gdf['distance'] = soiling_loss_NS3031_gdf['geometry'].distance(center)\n"
     ]
    },
    {
     "name": "stdout",
     "output_type": "stream",
     "text": [
      "lake 74 of 730\n"
     ]
    },
    {
     "name": "stderr",
     "output_type": "stream",
     "text": [
      "/home/mette/master/fpv_energy_yield_norway/src/FPVsimulation/pvsystem.py:83: UserWarning: Geometry is in a geographic CRS. Results from 'distance' are likely incorrect. Use 'GeoSeries.to_crs()' to re-project geometries to a projected CRS before this operation.\n",
      "\n",
      "  soiling_loss_gdf['distance'] = soiling_loss_NS3031_gdf['geometry'].distance(center)\n"
     ]
    },
    {
     "name": "stdout",
     "output_type": "stream",
     "text": [
      "lake 75 of 730\n"
     ]
    },
    {
     "name": "stderr",
     "output_type": "stream",
     "text": [
      "/home/mette/master/fpv_energy_yield_norway/src/FPVsimulation/pvsystem.py:83: UserWarning: Geometry is in a geographic CRS. Results from 'distance' are likely incorrect. Use 'GeoSeries.to_crs()' to re-project geometries to a projected CRS before this operation.\n",
      "\n",
      "  soiling_loss_gdf['distance'] = soiling_loss_NS3031_gdf['geometry'].distance(center)\n"
     ]
    },
    {
     "name": "stdout",
     "output_type": "stream",
     "text": [
      "lake 76 of 730\n"
     ]
    },
    {
     "name": "stderr",
     "output_type": "stream",
     "text": [
      "/home/mette/master/fpv_energy_yield_norway/src/FPVsimulation/pvsystem.py:83: UserWarning: Geometry is in a geographic CRS. Results from 'distance' are likely incorrect. Use 'GeoSeries.to_crs()' to re-project geometries to a projected CRS before this operation.\n",
      "\n",
      "  soiling_loss_gdf['distance'] = soiling_loss_NS3031_gdf['geometry'].distance(center)\n"
     ]
    },
    {
     "name": "stdout",
     "output_type": "stream",
     "text": [
      "lake 77 of 730\n"
     ]
    },
    {
     "name": "stderr",
     "output_type": "stream",
     "text": [
      "/home/mette/master/fpv_energy_yield_norway/src/FPVsimulation/pvsystem.py:83: UserWarning: Geometry is in a geographic CRS. Results from 'distance' are likely incorrect. Use 'GeoSeries.to_crs()' to re-project geometries to a projected CRS before this operation.\n",
      "\n",
      "  soiling_loss_gdf['distance'] = soiling_loss_NS3031_gdf['geometry'].distance(center)\n"
     ]
    },
    {
     "name": "stdout",
     "output_type": "stream",
     "text": [
      "lake 78 of 730\n"
     ]
    },
    {
     "name": "stderr",
     "output_type": "stream",
     "text": [
      "/home/mette/master/fpv_energy_yield_norway/src/FPVsimulation/pvsystem.py:83: UserWarning: Geometry is in a geographic CRS. Results from 'distance' are likely incorrect. Use 'GeoSeries.to_crs()' to re-project geometries to a projected CRS before this operation.\n",
      "\n",
      "  soiling_loss_gdf['distance'] = soiling_loss_NS3031_gdf['geometry'].distance(center)\n"
     ]
    },
    {
     "name": "stdout",
     "output_type": "stream",
     "text": [
      "lake 79 of 730\n"
     ]
    },
    {
     "name": "stderr",
     "output_type": "stream",
     "text": [
      "/home/mette/master/fpv_energy_yield_norway/src/FPVsimulation/pvsystem.py:83: UserWarning: Geometry is in a geographic CRS. Results from 'distance' are likely incorrect. Use 'GeoSeries.to_crs()' to re-project geometries to a projected CRS before this operation.\n",
      "\n",
      "  soiling_loss_gdf['distance'] = soiling_loss_NS3031_gdf['geometry'].distance(center)\n"
     ]
    },
    {
     "name": "stdout",
     "output_type": "stream",
     "text": [
      "lake 80 of 730\n"
     ]
    },
    {
     "name": "stderr",
     "output_type": "stream",
     "text": [
      "/home/mette/master/fpv_energy_yield_norway/src/FPVsimulation/pvsystem.py:83: UserWarning: Geometry is in a geographic CRS. Results from 'distance' are likely incorrect. Use 'GeoSeries.to_crs()' to re-project geometries to a projected CRS before this operation.\n",
      "\n",
      "  soiling_loss_gdf['distance'] = soiling_loss_NS3031_gdf['geometry'].distance(center)\n"
     ]
    },
    {
     "name": "stdout",
     "output_type": "stream",
     "text": [
      "lake 81 of 730\n"
     ]
    },
    {
     "name": "stderr",
     "output_type": "stream",
     "text": [
      "/home/mette/master/fpv_energy_yield_norway/src/FPVsimulation/pvsystem.py:83: UserWarning: Geometry is in a geographic CRS. Results from 'distance' are likely incorrect. Use 'GeoSeries.to_crs()' to re-project geometries to a projected CRS before this operation.\n",
      "\n",
      "  soiling_loss_gdf['distance'] = soiling_loss_NS3031_gdf['geometry'].distance(center)\n"
     ]
    },
    {
     "name": "stdout",
     "output_type": "stream",
     "text": [
      "lake 82 of 730\n"
     ]
    },
    {
     "name": "stderr",
     "output_type": "stream",
     "text": [
      "/home/mette/master/fpv_energy_yield_norway/src/FPVsimulation/pvsystem.py:83: UserWarning: Geometry is in a geographic CRS. Results from 'distance' are likely incorrect. Use 'GeoSeries.to_crs()' to re-project geometries to a projected CRS before this operation.\n",
      "\n",
      "  soiling_loss_gdf['distance'] = soiling_loss_NS3031_gdf['geometry'].distance(center)\n"
     ]
    },
    {
     "name": "stdout",
     "output_type": "stream",
     "text": [
      "lake 83 of 730\n"
     ]
    },
    {
     "name": "stderr",
     "output_type": "stream",
     "text": [
      "/home/mette/master/fpv_energy_yield_norway/src/FPVsimulation/pvsystem.py:83: UserWarning: Geometry is in a geographic CRS. Results from 'distance' are likely incorrect. Use 'GeoSeries.to_crs()' to re-project geometries to a projected CRS before this operation.\n",
      "\n",
      "  soiling_loss_gdf['distance'] = soiling_loss_NS3031_gdf['geometry'].distance(center)\n"
     ]
    },
    {
     "name": "stdout",
     "output_type": "stream",
     "text": [
      "lake 84 of 730\n"
     ]
    },
    {
     "name": "stderr",
     "output_type": "stream",
     "text": [
      "/home/mette/master/fpv_energy_yield_norway/src/FPVsimulation/pvsystem.py:83: UserWarning: Geometry is in a geographic CRS. Results from 'distance' are likely incorrect. Use 'GeoSeries.to_crs()' to re-project geometries to a projected CRS before this operation.\n",
      "\n",
      "  soiling_loss_gdf['distance'] = soiling_loss_NS3031_gdf['geometry'].distance(center)\n"
     ]
    },
    {
     "name": "stdout",
     "output_type": "stream",
     "text": [
      "lake 85 of 730\n"
     ]
    },
    {
     "name": "stderr",
     "output_type": "stream",
     "text": [
      "/home/mette/master/fpv_energy_yield_norway/src/FPVsimulation/pvsystem.py:83: UserWarning: Geometry is in a geographic CRS. Results from 'distance' are likely incorrect. Use 'GeoSeries.to_crs()' to re-project geometries to a projected CRS before this operation.\n",
      "\n",
      "  soiling_loss_gdf['distance'] = soiling_loss_NS3031_gdf['geometry'].distance(center)\n"
     ]
    },
    {
     "name": "stdout",
     "output_type": "stream",
     "text": [
      "lake 86 of 730\n"
     ]
    },
    {
     "name": "stderr",
     "output_type": "stream",
     "text": [
      "/home/mette/master/fpv_energy_yield_norway/src/FPVsimulation/pvsystem.py:83: UserWarning: Geometry is in a geographic CRS. Results from 'distance' are likely incorrect. Use 'GeoSeries.to_crs()' to re-project geometries to a projected CRS before this operation.\n",
      "\n",
      "  soiling_loss_gdf['distance'] = soiling_loss_NS3031_gdf['geometry'].distance(center)\n"
     ]
    },
    {
     "name": "stdout",
     "output_type": "stream",
     "text": [
      "lake 87 of 730\n"
     ]
    },
    {
     "name": "stderr",
     "output_type": "stream",
     "text": [
      "/home/mette/master/fpv_energy_yield_norway/src/FPVsimulation/pvsystem.py:83: UserWarning: Geometry is in a geographic CRS. Results from 'distance' are likely incorrect. Use 'GeoSeries.to_crs()' to re-project geometries to a projected CRS before this operation.\n",
      "\n",
      "  soiling_loss_gdf['distance'] = soiling_loss_NS3031_gdf['geometry'].distance(center)\n"
     ]
    },
    {
     "name": "stdout",
     "output_type": "stream",
     "text": [
      "lake 88 of 730\n"
     ]
    },
    {
     "name": "stderr",
     "output_type": "stream",
     "text": [
      "/home/mette/master/fpv_energy_yield_norway/src/FPVsimulation/pvsystem.py:83: UserWarning: Geometry is in a geographic CRS. Results from 'distance' are likely incorrect. Use 'GeoSeries.to_crs()' to re-project geometries to a projected CRS before this operation.\n",
      "\n",
      "  soiling_loss_gdf['distance'] = soiling_loss_NS3031_gdf['geometry'].distance(center)\n"
     ]
    },
    {
     "name": "stdout",
     "output_type": "stream",
     "text": [
      "lake 89 of 730\n"
     ]
    },
    {
     "name": "stderr",
     "output_type": "stream",
     "text": [
      "/home/mette/master/fpv_energy_yield_norway/src/FPVsimulation/pvsystem.py:83: UserWarning: Geometry is in a geographic CRS. Results from 'distance' are likely incorrect. Use 'GeoSeries.to_crs()' to re-project geometries to a projected CRS before this operation.\n",
      "\n",
      "  soiling_loss_gdf['distance'] = soiling_loss_NS3031_gdf['geometry'].distance(center)\n"
     ]
    },
    {
     "name": "stdout",
     "output_type": "stream",
     "text": [
      "lake 90 of 730\n"
     ]
    },
    {
     "name": "stderr",
     "output_type": "stream",
     "text": [
      "/home/mette/master/fpv_energy_yield_norway/src/FPVsimulation/pvsystem.py:83: UserWarning: Geometry is in a geographic CRS. Results from 'distance' are likely incorrect. Use 'GeoSeries.to_crs()' to re-project geometries to a projected CRS before this operation.\n",
      "\n",
      "  soiling_loss_gdf['distance'] = soiling_loss_NS3031_gdf['geometry'].distance(center)\n"
     ]
    },
    {
     "name": "stdout",
     "output_type": "stream",
     "text": [
      "lake 91 of 730\n"
     ]
    },
    {
     "name": "stderr",
     "output_type": "stream",
     "text": [
      "/home/mette/master/fpv_energy_yield_norway/src/FPVsimulation/pvsystem.py:83: UserWarning: Geometry is in a geographic CRS. Results from 'distance' are likely incorrect. Use 'GeoSeries.to_crs()' to re-project geometries to a projected CRS before this operation.\n",
      "\n",
      "  soiling_loss_gdf['distance'] = soiling_loss_NS3031_gdf['geometry'].distance(center)\n"
     ]
    },
    {
     "name": "stdout",
     "output_type": "stream",
     "text": [
      "lake 92 of 730\n"
     ]
    },
    {
     "name": "stderr",
     "output_type": "stream",
     "text": [
      "/home/mette/master/fpv_energy_yield_norway/src/FPVsimulation/pvsystem.py:83: UserWarning: Geometry is in a geographic CRS. Results from 'distance' are likely incorrect. Use 'GeoSeries.to_crs()' to re-project geometries to a projected CRS before this operation.\n",
      "\n",
      "  soiling_loss_gdf['distance'] = soiling_loss_NS3031_gdf['geometry'].distance(center)\n"
     ]
    },
    {
     "name": "stdout",
     "output_type": "stream",
     "text": [
      "lake 93 of 730\n"
     ]
    },
    {
     "name": "stderr",
     "output_type": "stream",
     "text": [
      "/home/mette/master/fpv_energy_yield_norway/src/FPVsimulation/pvsystem.py:83: UserWarning: Geometry is in a geographic CRS. Results from 'distance' are likely incorrect. Use 'GeoSeries.to_crs()' to re-project geometries to a projected CRS before this operation.\n",
      "\n",
      "  soiling_loss_gdf['distance'] = soiling_loss_NS3031_gdf['geometry'].distance(center)\n"
     ]
    },
    {
     "name": "stdout",
     "output_type": "stream",
     "text": [
      "lake 94 of 730\n"
     ]
    },
    {
     "name": "stderr",
     "output_type": "stream",
     "text": [
      "/home/mette/master/fpv_energy_yield_norway/src/FPVsimulation/pvsystem.py:83: UserWarning: Geometry is in a geographic CRS. Results from 'distance' are likely incorrect. Use 'GeoSeries.to_crs()' to re-project geometries to a projected CRS before this operation.\n",
      "\n",
      "  soiling_loss_gdf['distance'] = soiling_loss_NS3031_gdf['geometry'].distance(center)\n"
     ]
    },
    {
     "name": "stdout",
     "output_type": "stream",
     "text": [
      "lake 95 of 730\n"
     ]
    },
    {
     "name": "stderr",
     "output_type": "stream",
     "text": [
      "/home/mette/master/fpv_energy_yield_norway/src/FPVsimulation/pvsystem.py:83: UserWarning: Geometry is in a geographic CRS. Results from 'distance' are likely incorrect. Use 'GeoSeries.to_crs()' to re-project geometries to a projected CRS before this operation.\n",
      "\n",
      "  soiling_loss_gdf['distance'] = soiling_loss_NS3031_gdf['geometry'].distance(center)\n"
     ]
    },
    {
     "name": "stdout",
     "output_type": "stream",
     "text": [
      "lake 96 of 730\n"
     ]
    },
    {
     "name": "stderr",
     "output_type": "stream",
     "text": [
      "/home/mette/master/fpv_energy_yield_norway/src/FPVsimulation/pvsystem.py:83: UserWarning: Geometry is in a geographic CRS. Results from 'distance' are likely incorrect. Use 'GeoSeries.to_crs()' to re-project geometries to a projected CRS before this operation.\n",
      "\n",
      "  soiling_loss_gdf['distance'] = soiling_loss_NS3031_gdf['geometry'].distance(center)\n"
     ]
    },
    {
     "name": "stdout",
     "output_type": "stream",
     "text": [
      "lake 97 of 730\n"
     ]
    },
    {
     "name": "stderr",
     "output_type": "stream",
     "text": [
      "/home/mette/master/fpv_energy_yield_norway/src/FPVsimulation/pvsystem.py:83: UserWarning: Geometry is in a geographic CRS. Results from 'distance' are likely incorrect. Use 'GeoSeries.to_crs()' to re-project geometries to a projected CRS before this operation.\n",
      "\n",
      "  soiling_loss_gdf['distance'] = soiling_loss_NS3031_gdf['geometry'].distance(center)\n"
     ]
    },
    {
     "name": "stdout",
     "output_type": "stream",
     "text": [
      "lake 98 of 730\n"
     ]
    },
    {
     "name": "stderr",
     "output_type": "stream",
     "text": [
      "/home/mette/master/fpv_energy_yield_norway/src/FPVsimulation/pvsystem.py:83: UserWarning: Geometry is in a geographic CRS. Results from 'distance' are likely incorrect. Use 'GeoSeries.to_crs()' to re-project geometries to a projected CRS before this operation.\n",
      "\n",
      "  soiling_loss_gdf['distance'] = soiling_loss_NS3031_gdf['geometry'].distance(center)\n"
     ]
    },
    {
     "name": "stdout",
     "output_type": "stream",
     "text": [
      "lake 99 of 730\n"
     ]
    },
    {
     "name": "stderr",
     "output_type": "stream",
     "text": [
      "/home/mette/master/fpv_energy_yield_norway/src/FPVsimulation/pvsystem.py:83: UserWarning: Geometry is in a geographic CRS. Results from 'distance' are likely incorrect. Use 'GeoSeries.to_crs()' to re-project geometries to a projected CRS before this operation.\n",
      "\n",
      "  soiling_loss_gdf['distance'] = soiling_loss_NS3031_gdf['geometry'].distance(center)\n"
     ]
    },
    {
     "name": "stdout",
     "output_type": "stream",
     "text": [
      "lake 100 of 730\n"
     ]
    },
    {
     "name": "stderr",
     "output_type": "stream",
     "text": [
      "/home/mette/master/fpv_energy_yield_norway/src/FPVsimulation/pvsystem.py:83: UserWarning: Geometry is in a geographic CRS. Results from 'distance' are likely incorrect. Use 'GeoSeries.to_crs()' to re-project geometries to a projected CRS before this operation.\n",
      "\n",
      "  soiling_loss_gdf['distance'] = soiling_loss_NS3031_gdf['geometry'].distance(center)\n"
     ]
    },
    {
     "name": "stdout",
     "output_type": "stream",
     "text": [
      "lake 101 of 730\n"
     ]
    },
    {
     "name": "stderr",
     "output_type": "stream",
     "text": [
      "/home/mette/master/fpv_energy_yield_norway/src/FPVsimulation/pvsystem.py:83: UserWarning: Geometry is in a geographic CRS. Results from 'distance' are likely incorrect. Use 'GeoSeries.to_crs()' to re-project geometries to a projected CRS before this operation.\n",
      "\n",
      "  soiling_loss_gdf['distance'] = soiling_loss_NS3031_gdf['geometry'].distance(center)\n"
     ]
    },
    {
     "name": "stdout",
     "output_type": "stream",
     "text": [
      "lake 102 of 730\n"
     ]
    },
    {
     "name": "stderr",
     "output_type": "stream",
     "text": [
      "/home/mette/master/fpv_energy_yield_norway/src/FPVsimulation/pvsystem.py:83: UserWarning: Geometry is in a geographic CRS. Results from 'distance' are likely incorrect. Use 'GeoSeries.to_crs()' to re-project geometries to a projected CRS before this operation.\n",
      "\n",
      "  soiling_loss_gdf['distance'] = soiling_loss_NS3031_gdf['geometry'].distance(center)\n"
     ]
    },
    {
     "name": "stdout",
     "output_type": "stream",
     "text": [
      "lake 103 of 730\n"
     ]
    },
    {
     "name": "stderr",
     "output_type": "stream",
     "text": [
      "/home/mette/master/fpv_energy_yield_norway/src/FPVsimulation/pvsystem.py:83: UserWarning: Geometry is in a geographic CRS. Results from 'distance' are likely incorrect. Use 'GeoSeries.to_crs()' to re-project geometries to a projected CRS before this operation.\n",
      "\n",
      "  soiling_loss_gdf['distance'] = soiling_loss_NS3031_gdf['geometry'].distance(center)\n"
     ]
    },
    {
     "name": "stdout",
     "output_type": "stream",
     "text": [
      "lake 104 of 730\n"
     ]
    },
    {
     "name": "stderr",
     "output_type": "stream",
     "text": [
      "/home/mette/master/fpv_energy_yield_norway/src/FPVsimulation/pvsystem.py:83: UserWarning: Geometry is in a geographic CRS. Results from 'distance' are likely incorrect. Use 'GeoSeries.to_crs()' to re-project geometries to a projected CRS before this operation.\n",
      "\n",
      "  soiling_loss_gdf['distance'] = soiling_loss_NS3031_gdf['geometry'].distance(center)\n"
     ]
    },
    {
     "name": "stdout",
     "output_type": "stream",
     "text": [
      "lake 105 of 730\n"
     ]
    },
    {
     "name": "stderr",
     "output_type": "stream",
     "text": [
      "/home/mette/master/fpv_energy_yield_norway/src/FPVsimulation/pvsystem.py:83: UserWarning: Geometry is in a geographic CRS. Results from 'distance' are likely incorrect. Use 'GeoSeries.to_crs()' to re-project geometries to a projected CRS before this operation.\n",
      "\n",
      "  soiling_loss_gdf['distance'] = soiling_loss_NS3031_gdf['geometry'].distance(center)\n"
     ]
    },
    {
     "name": "stdout",
     "output_type": "stream",
     "text": [
      "lake 106 of 730\n"
     ]
    },
    {
     "name": "stderr",
     "output_type": "stream",
     "text": [
      "/home/mette/master/fpv_energy_yield_norway/src/FPVsimulation/pvsystem.py:83: UserWarning: Geometry is in a geographic CRS. Results from 'distance' are likely incorrect. Use 'GeoSeries.to_crs()' to re-project geometries to a projected CRS before this operation.\n",
      "\n",
      "  soiling_loss_gdf['distance'] = soiling_loss_NS3031_gdf['geometry'].distance(center)\n"
     ]
    },
    {
     "name": "stdout",
     "output_type": "stream",
     "text": [
      "lake 107 of 730\n"
     ]
    },
    {
     "name": "stderr",
     "output_type": "stream",
     "text": [
      "/home/mette/master/fpv_energy_yield_norway/src/FPVsimulation/pvsystem.py:83: UserWarning: Geometry is in a geographic CRS. Results from 'distance' are likely incorrect. Use 'GeoSeries.to_crs()' to re-project geometries to a projected CRS before this operation.\n",
      "\n",
      "  soiling_loss_gdf['distance'] = soiling_loss_NS3031_gdf['geometry'].distance(center)\n"
     ]
    },
    {
     "name": "stdout",
     "output_type": "stream",
     "text": [
      "lake 108 of 730\n"
     ]
    },
    {
     "name": "stderr",
     "output_type": "stream",
     "text": [
      "/home/mette/master/fpv_energy_yield_norway/src/FPVsimulation/pvsystem.py:83: UserWarning: Geometry is in a geographic CRS. Results from 'distance' are likely incorrect. Use 'GeoSeries.to_crs()' to re-project geometries to a projected CRS before this operation.\n",
      "\n",
      "  soiling_loss_gdf['distance'] = soiling_loss_NS3031_gdf['geometry'].distance(center)\n"
     ]
    },
    {
     "name": "stdout",
     "output_type": "stream",
     "text": [
      "lake 109 of 730\n"
     ]
    },
    {
     "name": "stderr",
     "output_type": "stream",
     "text": [
      "/home/mette/master/fpv_energy_yield_norway/src/FPVsimulation/pvsystem.py:83: UserWarning: Geometry is in a geographic CRS. Results from 'distance' are likely incorrect. Use 'GeoSeries.to_crs()' to re-project geometries to a projected CRS before this operation.\n",
      "\n",
      "  soiling_loss_gdf['distance'] = soiling_loss_NS3031_gdf['geometry'].distance(center)\n"
     ]
    },
    {
     "name": "stdout",
     "output_type": "stream",
     "text": [
      "lake 110 of 730\n"
     ]
    },
    {
     "name": "stderr",
     "output_type": "stream",
     "text": [
      "/home/mette/master/fpv_energy_yield_norway/src/FPVsimulation/pvsystem.py:83: UserWarning: Geometry is in a geographic CRS. Results from 'distance' are likely incorrect. Use 'GeoSeries.to_crs()' to re-project geometries to a projected CRS before this operation.\n",
      "\n",
      "  soiling_loss_gdf['distance'] = soiling_loss_NS3031_gdf['geometry'].distance(center)\n"
     ]
    },
    {
     "name": "stdout",
     "output_type": "stream",
     "text": [
      "lake 111 of 730\n"
     ]
    },
    {
     "name": "stderr",
     "output_type": "stream",
     "text": [
      "/home/mette/master/fpv_energy_yield_norway/src/FPVsimulation/pvsystem.py:83: UserWarning: Geometry is in a geographic CRS. Results from 'distance' are likely incorrect. Use 'GeoSeries.to_crs()' to re-project geometries to a projected CRS before this operation.\n",
      "\n",
      "  soiling_loss_gdf['distance'] = soiling_loss_NS3031_gdf['geometry'].distance(center)\n"
     ]
    },
    {
     "name": "stdout",
     "output_type": "stream",
     "text": [
      "lake 112 of 730\n"
     ]
    },
    {
     "name": "stderr",
     "output_type": "stream",
     "text": [
      "/home/mette/master/fpv_energy_yield_norway/src/FPVsimulation/pvsystem.py:83: UserWarning: Geometry is in a geographic CRS. Results from 'distance' are likely incorrect. Use 'GeoSeries.to_crs()' to re-project geometries to a projected CRS before this operation.\n",
      "\n",
      "  soiling_loss_gdf['distance'] = soiling_loss_NS3031_gdf['geometry'].distance(center)\n"
     ]
    },
    {
     "name": "stdout",
     "output_type": "stream",
     "text": [
      "lake 113 of 730\n"
     ]
    },
    {
     "name": "stderr",
     "output_type": "stream",
     "text": [
      "/home/mette/master/fpv_energy_yield_norway/src/FPVsimulation/pvsystem.py:83: UserWarning: Geometry is in a geographic CRS. Results from 'distance' are likely incorrect. Use 'GeoSeries.to_crs()' to re-project geometries to a projected CRS before this operation.\n",
      "\n",
      "  soiling_loss_gdf['distance'] = soiling_loss_NS3031_gdf['geometry'].distance(center)\n"
     ]
    },
    {
     "name": "stdout",
     "output_type": "stream",
     "text": [
      "lake 114 of 730\n"
     ]
    },
    {
     "name": "stderr",
     "output_type": "stream",
     "text": [
      "/home/mette/master/fpv_energy_yield_norway/src/FPVsimulation/pvsystem.py:83: UserWarning: Geometry is in a geographic CRS. Results from 'distance' are likely incorrect. Use 'GeoSeries.to_crs()' to re-project geometries to a projected CRS before this operation.\n",
      "\n",
      "  soiling_loss_gdf['distance'] = soiling_loss_NS3031_gdf['geometry'].distance(center)\n"
     ]
    },
    {
     "name": "stdout",
     "output_type": "stream",
     "text": [
      "lake 115 of 730\n"
     ]
    },
    {
     "name": "stderr",
     "output_type": "stream",
     "text": [
      "/home/mette/master/fpv_energy_yield_norway/src/FPVsimulation/pvsystem.py:83: UserWarning: Geometry is in a geographic CRS. Results from 'distance' are likely incorrect. Use 'GeoSeries.to_crs()' to re-project geometries to a projected CRS before this operation.\n",
      "\n",
      "  soiling_loss_gdf['distance'] = soiling_loss_NS3031_gdf['geometry'].distance(center)\n"
     ]
    },
    {
     "name": "stdout",
     "output_type": "stream",
     "text": [
      "lake 116 of 730\n"
     ]
    },
    {
     "name": "stderr",
     "output_type": "stream",
     "text": [
      "/home/mette/master/fpv_energy_yield_norway/src/FPVsimulation/pvsystem.py:83: UserWarning: Geometry is in a geographic CRS. Results from 'distance' are likely incorrect. Use 'GeoSeries.to_crs()' to re-project geometries to a projected CRS before this operation.\n",
      "\n",
      "  soiling_loss_gdf['distance'] = soiling_loss_NS3031_gdf['geometry'].distance(center)\n"
     ]
    },
    {
     "name": "stdout",
     "output_type": "stream",
     "text": [
      "lake 117 of 730\n"
     ]
    },
    {
     "name": "stderr",
     "output_type": "stream",
     "text": [
      "/home/mette/master/fpv_energy_yield_norway/src/FPVsimulation/pvsystem.py:83: UserWarning: Geometry is in a geographic CRS. Results from 'distance' are likely incorrect. Use 'GeoSeries.to_crs()' to re-project geometries to a projected CRS before this operation.\n",
      "\n",
      "  soiling_loss_gdf['distance'] = soiling_loss_NS3031_gdf['geometry'].distance(center)\n"
     ]
    },
    {
     "name": "stdout",
     "output_type": "stream",
     "text": [
      "lake 118 of 730\n"
     ]
    },
    {
     "name": "stderr",
     "output_type": "stream",
     "text": [
      "/home/mette/master/fpv_energy_yield_norway/src/FPVsimulation/pvsystem.py:83: UserWarning: Geometry is in a geographic CRS. Results from 'distance' are likely incorrect. Use 'GeoSeries.to_crs()' to re-project geometries to a projected CRS before this operation.\n",
      "\n",
      "  soiling_loss_gdf['distance'] = soiling_loss_NS3031_gdf['geometry'].distance(center)\n"
     ]
    },
    {
     "name": "stdout",
     "output_type": "stream",
     "text": [
      "lake 119 of 730\n"
     ]
    },
    {
     "name": "stderr",
     "output_type": "stream",
     "text": [
      "/home/mette/master/fpv_energy_yield_norway/src/FPVsimulation/pvsystem.py:83: UserWarning: Geometry is in a geographic CRS. Results from 'distance' are likely incorrect. Use 'GeoSeries.to_crs()' to re-project geometries to a projected CRS before this operation.\n",
      "\n",
      "  soiling_loss_gdf['distance'] = soiling_loss_NS3031_gdf['geometry'].distance(center)\n"
     ]
    },
    {
     "name": "stdout",
     "output_type": "stream",
     "text": [
      "lake 120 of 730\n"
     ]
    },
    {
     "name": "stderr",
     "output_type": "stream",
     "text": [
      "/home/mette/master/fpv_energy_yield_norway/src/FPVsimulation/pvsystem.py:83: UserWarning: Geometry is in a geographic CRS. Results from 'distance' are likely incorrect. Use 'GeoSeries.to_crs()' to re-project geometries to a projected CRS before this operation.\n",
      "\n",
      "  soiling_loss_gdf['distance'] = soiling_loss_NS3031_gdf['geometry'].distance(center)\n"
     ]
    },
    {
     "name": "stdout",
     "output_type": "stream",
     "text": [
      "lake 121 of 730\n"
     ]
    },
    {
     "name": "stderr",
     "output_type": "stream",
     "text": [
      "/home/mette/master/fpv_energy_yield_norway/src/FPVsimulation/pvsystem.py:83: UserWarning: Geometry is in a geographic CRS. Results from 'distance' are likely incorrect. Use 'GeoSeries.to_crs()' to re-project geometries to a projected CRS before this operation.\n",
      "\n",
      "  soiling_loss_gdf['distance'] = soiling_loss_NS3031_gdf['geometry'].distance(center)\n"
     ]
    },
    {
     "name": "stdout",
     "output_type": "stream",
     "text": [
      "lake 122 of 730\n"
     ]
    },
    {
     "name": "stderr",
     "output_type": "stream",
     "text": [
      "/home/mette/master/fpv_energy_yield_norway/src/FPVsimulation/pvsystem.py:83: UserWarning: Geometry is in a geographic CRS. Results from 'distance' are likely incorrect. Use 'GeoSeries.to_crs()' to re-project geometries to a projected CRS before this operation.\n",
      "\n",
      "  soiling_loss_gdf['distance'] = soiling_loss_NS3031_gdf['geometry'].distance(center)\n"
     ]
    },
    {
     "name": "stdout",
     "output_type": "stream",
     "text": [
      "lake 123 of 730\n"
     ]
    },
    {
     "name": "stderr",
     "output_type": "stream",
     "text": [
      "/home/mette/master/fpv_energy_yield_norway/src/FPVsimulation/pvsystem.py:83: UserWarning: Geometry is in a geographic CRS. Results from 'distance' are likely incorrect. Use 'GeoSeries.to_crs()' to re-project geometries to a projected CRS before this operation.\n",
      "\n",
      "  soiling_loss_gdf['distance'] = soiling_loss_NS3031_gdf['geometry'].distance(center)\n"
     ]
    },
    {
     "name": "stdout",
     "output_type": "stream",
     "text": [
      "lake 124 of 730\n"
     ]
    },
    {
     "name": "stderr",
     "output_type": "stream",
     "text": [
      "/home/mette/master/fpv_energy_yield_norway/src/FPVsimulation/pvsystem.py:83: UserWarning: Geometry is in a geographic CRS. Results from 'distance' are likely incorrect. Use 'GeoSeries.to_crs()' to re-project geometries to a projected CRS before this operation.\n",
      "\n",
      "  soiling_loss_gdf['distance'] = soiling_loss_NS3031_gdf['geometry'].distance(center)\n"
     ]
    },
    {
     "name": "stdout",
     "output_type": "stream",
     "text": [
      "lake 125 of 730\n"
     ]
    },
    {
     "name": "stderr",
     "output_type": "stream",
     "text": [
      "/home/mette/master/fpv_energy_yield_norway/src/FPVsimulation/pvsystem.py:83: UserWarning: Geometry is in a geographic CRS. Results from 'distance' are likely incorrect. Use 'GeoSeries.to_crs()' to re-project geometries to a projected CRS before this operation.\n",
      "\n",
      "  soiling_loss_gdf['distance'] = soiling_loss_NS3031_gdf['geometry'].distance(center)\n"
     ]
    },
    {
     "name": "stdout",
     "output_type": "stream",
     "text": [
      "lake 126 of 730\n"
     ]
    },
    {
     "name": "stderr",
     "output_type": "stream",
     "text": [
      "/home/mette/master/fpv_energy_yield_norway/src/FPVsimulation/pvsystem.py:83: UserWarning: Geometry is in a geographic CRS. Results from 'distance' are likely incorrect. Use 'GeoSeries.to_crs()' to re-project geometries to a projected CRS before this operation.\n",
      "\n",
      "  soiling_loss_gdf['distance'] = soiling_loss_NS3031_gdf['geometry'].distance(center)\n"
     ]
    },
    {
     "name": "stdout",
     "output_type": "stream",
     "text": [
      "lake 127 of 730\n"
     ]
    },
    {
     "name": "stderr",
     "output_type": "stream",
     "text": [
      "/home/mette/master/fpv_energy_yield_norway/src/FPVsimulation/pvsystem.py:83: UserWarning: Geometry is in a geographic CRS. Results from 'distance' are likely incorrect. Use 'GeoSeries.to_crs()' to re-project geometries to a projected CRS before this operation.\n",
      "\n",
      "  soiling_loss_gdf['distance'] = soiling_loss_NS3031_gdf['geometry'].distance(center)\n"
     ]
    },
    {
     "name": "stdout",
     "output_type": "stream",
     "text": [
      "lake 128 of 730\n"
     ]
    },
    {
     "name": "stderr",
     "output_type": "stream",
     "text": [
      "/home/mette/master/fpv_energy_yield_norway/src/FPVsimulation/pvsystem.py:83: UserWarning: Geometry is in a geographic CRS. Results from 'distance' are likely incorrect. Use 'GeoSeries.to_crs()' to re-project geometries to a projected CRS before this operation.\n",
      "\n",
      "  soiling_loss_gdf['distance'] = soiling_loss_NS3031_gdf['geometry'].distance(center)\n"
     ]
    },
    {
     "name": "stdout",
     "output_type": "stream",
     "text": [
      "lake 129 of 730\n"
     ]
    },
    {
     "name": "stderr",
     "output_type": "stream",
     "text": [
      "/home/mette/master/fpv_energy_yield_norway/src/FPVsimulation/pvsystem.py:83: UserWarning: Geometry is in a geographic CRS. Results from 'distance' are likely incorrect. Use 'GeoSeries.to_crs()' to re-project geometries to a projected CRS before this operation.\n",
      "\n",
      "  soiling_loss_gdf['distance'] = soiling_loss_NS3031_gdf['geometry'].distance(center)\n"
     ]
    },
    {
     "name": "stdout",
     "output_type": "stream",
     "text": [
      "lake 130 of 730\n"
     ]
    },
    {
     "name": "stderr",
     "output_type": "stream",
     "text": [
      "/home/mette/master/fpv_energy_yield_norway/src/FPVsimulation/pvsystem.py:83: UserWarning: Geometry is in a geographic CRS. Results from 'distance' are likely incorrect. Use 'GeoSeries.to_crs()' to re-project geometries to a projected CRS before this operation.\n",
      "\n",
      "  soiling_loss_gdf['distance'] = soiling_loss_NS3031_gdf['geometry'].distance(center)\n"
     ]
    },
    {
     "name": "stdout",
     "output_type": "stream",
     "text": [
      "lake 131 of 730\n"
     ]
    },
    {
     "name": "stderr",
     "output_type": "stream",
     "text": [
      "/home/mette/master/fpv_energy_yield_norway/src/FPVsimulation/pvsystem.py:83: UserWarning: Geometry is in a geographic CRS. Results from 'distance' are likely incorrect. Use 'GeoSeries.to_crs()' to re-project geometries to a projected CRS before this operation.\n",
      "\n",
      "  soiling_loss_gdf['distance'] = soiling_loss_NS3031_gdf['geometry'].distance(center)\n"
     ]
    },
    {
     "name": "stdout",
     "output_type": "stream",
     "text": [
      "lake 132 of 730\n"
     ]
    },
    {
     "name": "stderr",
     "output_type": "stream",
     "text": [
      "/home/mette/master/fpv_energy_yield_norway/src/FPVsimulation/pvsystem.py:83: UserWarning: Geometry is in a geographic CRS. Results from 'distance' are likely incorrect. Use 'GeoSeries.to_crs()' to re-project geometries to a projected CRS before this operation.\n",
      "\n",
      "  soiling_loss_gdf['distance'] = soiling_loss_NS3031_gdf['geometry'].distance(center)\n"
     ]
    },
    {
     "name": "stdout",
     "output_type": "stream",
     "text": [
      "lake 133 of 730\n"
     ]
    },
    {
     "name": "stderr",
     "output_type": "stream",
     "text": [
      "/home/mette/master/fpv_energy_yield_norway/src/FPVsimulation/pvsystem.py:83: UserWarning: Geometry is in a geographic CRS. Results from 'distance' are likely incorrect. Use 'GeoSeries.to_crs()' to re-project geometries to a projected CRS before this operation.\n",
      "\n",
      "  soiling_loss_gdf['distance'] = soiling_loss_NS3031_gdf['geometry'].distance(center)\n"
     ]
    },
    {
     "name": "stdout",
     "output_type": "stream",
     "text": [
      "lake 134 of 730\n"
     ]
    },
    {
     "name": "stderr",
     "output_type": "stream",
     "text": [
      "/home/mette/master/fpv_energy_yield_norway/src/FPVsimulation/pvsystem.py:83: UserWarning: Geometry is in a geographic CRS. Results from 'distance' are likely incorrect. Use 'GeoSeries.to_crs()' to re-project geometries to a projected CRS before this operation.\n",
      "\n",
      "  soiling_loss_gdf['distance'] = soiling_loss_NS3031_gdf['geometry'].distance(center)\n"
     ]
    },
    {
     "name": "stdout",
     "output_type": "stream",
     "text": [
      "lake 135 of 730\n"
     ]
    },
    {
     "name": "stderr",
     "output_type": "stream",
     "text": [
      "/home/mette/master/fpv_energy_yield_norway/src/FPVsimulation/pvsystem.py:83: UserWarning: Geometry is in a geographic CRS. Results from 'distance' are likely incorrect. Use 'GeoSeries.to_crs()' to re-project geometries to a projected CRS before this operation.\n",
      "\n",
      "  soiling_loss_gdf['distance'] = soiling_loss_NS3031_gdf['geometry'].distance(center)\n"
     ]
    },
    {
     "name": "stdout",
     "output_type": "stream",
     "text": [
      "lake 136 of 730\n"
     ]
    },
    {
     "name": "stderr",
     "output_type": "stream",
     "text": [
      "/home/mette/master/fpv_energy_yield_norway/src/FPVsimulation/pvsystem.py:83: UserWarning: Geometry is in a geographic CRS. Results from 'distance' are likely incorrect. Use 'GeoSeries.to_crs()' to re-project geometries to a projected CRS before this operation.\n",
      "\n",
      "  soiling_loss_gdf['distance'] = soiling_loss_NS3031_gdf['geometry'].distance(center)\n"
     ]
    },
    {
     "name": "stdout",
     "output_type": "stream",
     "text": [
      "lake 137 of 730\n"
     ]
    },
    {
     "name": "stderr",
     "output_type": "stream",
     "text": [
      "/home/mette/master/fpv_energy_yield_norway/src/FPVsimulation/pvsystem.py:83: UserWarning: Geometry is in a geographic CRS. Results from 'distance' are likely incorrect. Use 'GeoSeries.to_crs()' to re-project geometries to a projected CRS before this operation.\n",
      "\n",
      "  soiling_loss_gdf['distance'] = soiling_loss_NS3031_gdf['geometry'].distance(center)\n"
     ]
    },
    {
     "name": "stdout",
     "output_type": "stream",
     "text": [
      "lake 138 of 730\n"
     ]
    },
    {
     "name": "stderr",
     "output_type": "stream",
     "text": [
      "/home/mette/master/fpv_energy_yield_norway/src/FPVsimulation/pvsystem.py:83: UserWarning: Geometry is in a geographic CRS. Results from 'distance' are likely incorrect. Use 'GeoSeries.to_crs()' to re-project geometries to a projected CRS before this operation.\n",
      "\n",
      "  soiling_loss_gdf['distance'] = soiling_loss_NS3031_gdf['geometry'].distance(center)\n"
     ]
    },
    {
     "name": "stdout",
     "output_type": "stream",
     "text": [
      "lake 139 of 730\n"
     ]
    },
    {
     "name": "stderr",
     "output_type": "stream",
     "text": [
      "/home/mette/master/fpv_energy_yield_norway/src/FPVsimulation/pvsystem.py:83: UserWarning: Geometry is in a geographic CRS. Results from 'distance' are likely incorrect. Use 'GeoSeries.to_crs()' to re-project geometries to a projected CRS before this operation.\n",
      "\n",
      "  soiling_loss_gdf['distance'] = soiling_loss_NS3031_gdf['geometry'].distance(center)\n"
     ]
    },
    {
     "name": "stdout",
     "output_type": "stream",
     "text": [
      "lake 140 of 730\n"
     ]
    },
    {
     "name": "stderr",
     "output_type": "stream",
     "text": [
      "/home/mette/master/fpv_energy_yield_norway/src/FPVsimulation/pvsystem.py:83: UserWarning: Geometry is in a geographic CRS. Results from 'distance' are likely incorrect. Use 'GeoSeries.to_crs()' to re-project geometries to a projected CRS before this operation.\n",
      "\n",
      "  soiling_loss_gdf['distance'] = soiling_loss_NS3031_gdf['geometry'].distance(center)\n"
     ]
    },
    {
     "name": "stdout",
     "output_type": "stream",
     "text": [
      "lake 141 of 730\n"
     ]
    },
    {
     "name": "stderr",
     "output_type": "stream",
     "text": [
      "/home/mette/master/fpv_energy_yield_norway/src/FPVsimulation/pvsystem.py:83: UserWarning: Geometry is in a geographic CRS. Results from 'distance' are likely incorrect. Use 'GeoSeries.to_crs()' to re-project geometries to a projected CRS before this operation.\n",
      "\n",
      "  soiling_loss_gdf['distance'] = soiling_loss_NS3031_gdf['geometry'].distance(center)\n"
     ]
    },
    {
     "name": "stdout",
     "output_type": "stream",
     "text": [
      "lake 142 of 730\n"
     ]
    },
    {
     "name": "stderr",
     "output_type": "stream",
     "text": [
      "/home/mette/master/fpv_energy_yield_norway/src/FPVsimulation/pvsystem.py:83: UserWarning: Geometry is in a geographic CRS. Results from 'distance' are likely incorrect. Use 'GeoSeries.to_crs()' to re-project geometries to a projected CRS before this operation.\n",
      "\n",
      "  soiling_loss_gdf['distance'] = soiling_loss_NS3031_gdf['geometry'].distance(center)\n"
     ]
    },
    {
     "name": "stdout",
     "output_type": "stream",
     "text": [
      "lake 143 of 730\n"
     ]
    },
    {
     "name": "stderr",
     "output_type": "stream",
     "text": [
      "/home/mette/master/fpv_energy_yield_norway/src/FPVsimulation/pvsystem.py:83: UserWarning: Geometry is in a geographic CRS. Results from 'distance' are likely incorrect. Use 'GeoSeries.to_crs()' to re-project geometries to a projected CRS before this operation.\n",
      "\n",
      "  soiling_loss_gdf['distance'] = soiling_loss_NS3031_gdf['geometry'].distance(center)\n"
     ]
    },
    {
     "name": "stdout",
     "output_type": "stream",
     "text": [
      "lake 144 of 730\n"
     ]
    },
    {
     "name": "stderr",
     "output_type": "stream",
     "text": [
      "/home/mette/master/fpv_energy_yield_norway/src/FPVsimulation/pvsystem.py:83: UserWarning: Geometry is in a geographic CRS. Results from 'distance' are likely incorrect. Use 'GeoSeries.to_crs()' to re-project geometries to a projected CRS before this operation.\n",
      "\n",
      "  soiling_loss_gdf['distance'] = soiling_loss_NS3031_gdf['geometry'].distance(center)\n"
     ]
    },
    {
     "name": "stdout",
     "output_type": "stream",
     "text": [
      "lake 145 of 730\n"
     ]
    },
    {
     "name": "stderr",
     "output_type": "stream",
     "text": [
      "/home/mette/master/fpv_energy_yield_norway/src/FPVsimulation/pvsystem.py:83: UserWarning: Geometry is in a geographic CRS. Results from 'distance' are likely incorrect. Use 'GeoSeries.to_crs()' to re-project geometries to a projected CRS before this operation.\n",
      "\n",
      "  soiling_loss_gdf['distance'] = soiling_loss_NS3031_gdf['geometry'].distance(center)\n"
     ]
    },
    {
     "name": "stdout",
     "output_type": "stream",
     "text": [
      "lake 146 of 730\n"
     ]
    },
    {
     "name": "stderr",
     "output_type": "stream",
     "text": [
      "/home/mette/master/fpv_energy_yield_norway/src/FPVsimulation/pvsystem.py:83: UserWarning: Geometry is in a geographic CRS. Results from 'distance' are likely incorrect. Use 'GeoSeries.to_crs()' to re-project geometries to a projected CRS before this operation.\n",
      "\n",
      "  soiling_loss_gdf['distance'] = soiling_loss_NS3031_gdf['geometry'].distance(center)\n"
     ]
    },
    {
     "name": "stdout",
     "output_type": "stream",
     "text": [
      "lake 147 of 730\n"
     ]
    },
    {
     "name": "stderr",
     "output_type": "stream",
     "text": [
      "/home/mette/master/fpv_energy_yield_norway/src/FPVsimulation/pvsystem.py:83: UserWarning: Geometry is in a geographic CRS. Results from 'distance' are likely incorrect. Use 'GeoSeries.to_crs()' to re-project geometries to a projected CRS before this operation.\n",
      "\n",
      "  soiling_loss_gdf['distance'] = soiling_loss_NS3031_gdf['geometry'].distance(center)\n"
     ]
    },
    {
     "name": "stdout",
     "output_type": "stream",
     "text": [
      "lake 148 of 730\n"
     ]
    },
    {
     "name": "stderr",
     "output_type": "stream",
     "text": [
      "/home/mette/master/fpv_energy_yield_norway/src/FPVsimulation/pvsystem.py:83: UserWarning: Geometry is in a geographic CRS. Results from 'distance' are likely incorrect. Use 'GeoSeries.to_crs()' to re-project geometries to a projected CRS before this operation.\n",
      "\n",
      "  soiling_loss_gdf['distance'] = soiling_loss_NS3031_gdf['geometry'].distance(center)\n"
     ]
    },
    {
     "name": "stdout",
     "output_type": "stream",
     "text": [
      "lake 149 of 730\n"
     ]
    },
    {
     "name": "stderr",
     "output_type": "stream",
     "text": [
      "/home/mette/master/fpv_energy_yield_norway/src/FPVsimulation/pvsystem.py:83: UserWarning: Geometry is in a geographic CRS. Results from 'distance' are likely incorrect. Use 'GeoSeries.to_crs()' to re-project geometries to a projected CRS before this operation.\n",
      "\n",
      "  soiling_loss_gdf['distance'] = soiling_loss_NS3031_gdf['geometry'].distance(center)\n"
     ]
    },
    {
     "name": "stdout",
     "output_type": "stream",
     "text": [
      "lake 150 of 730\n"
     ]
    },
    {
     "name": "stderr",
     "output_type": "stream",
     "text": [
      "/home/mette/master/fpv_energy_yield_norway/src/FPVsimulation/pvsystem.py:83: UserWarning: Geometry is in a geographic CRS. Results from 'distance' are likely incorrect. Use 'GeoSeries.to_crs()' to re-project geometries to a projected CRS before this operation.\n",
      "\n",
      "  soiling_loss_gdf['distance'] = soiling_loss_NS3031_gdf['geometry'].distance(center)\n"
     ]
    },
    {
     "name": "stdout",
     "output_type": "stream",
     "text": [
      "lake 151 of 730\n"
     ]
    },
    {
     "name": "stderr",
     "output_type": "stream",
     "text": [
      "/home/mette/master/fpv_energy_yield_norway/src/FPVsimulation/pvsystem.py:83: UserWarning: Geometry is in a geographic CRS. Results from 'distance' are likely incorrect. Use 'GeoSeries.to_crs()' to re-project geometries to a projected CRS before this operation.\n",
      "\n",
      "  soiling_loss_gdf['distance'] = soiling_loss_NS3031_gdf['geometry'].distance(center)\n"
     ]
    },
    {
     "name": "stdout",
     "output_type": "stream",
     "text": [
      "lake 152 of 730\n"
     ]
    },
    {
     "name": "stderr",
     "output_type": "stream",
     "text": [
      "/home/mette/master/fpv_energy_yield_norway/src/FPVsimulation/pvsystem.py:83: UserWarning: Geometry is in a geographic CRS. Results from 'distance' are likely incorrect. Use 'GeoSeries.to_crs()' to re-project geometries to a projected CRS before this operation.\n",
      "\n",
      "  soiling_loss_gdf['distance'] = soiling_loss_NS3031_gdf['geometry'].distance(center)\n"
     ]
    },
    {
     "name": "stdout",
     "output_type": "stream",
     "text": [
      "lake 153 of 730\n"
     ]
    },
    {
     "name": "stderr",
     "output_type": "stream",
     "text": [
      "/home/mette/master/fpv_energy_yield_norway/src/FPVsimulation/pvsystem.py:83: UserWarning: Geometry is in a geographic CRS. Results from 'distance' are likely incorrect. Use 'GeoSeries.to_crs()' to re-project geometries to a projected CRS before this operation.\n",
      "\n",
      "  soiling_loss_gdf['distance'] = soiling_loss_NS3031_gdf['geometry'].distance(center)\n"
     ]
    },
    {
     "name": "stdout",
     "output_type": "stream",
     "text": [
      "lake 154 of 730\n"
     ]
    },
    {
     "name": "stderr",
     "output_type": "stream",
     "text": [
      "/home/mette/master/fpv_energy_yield_norway/src/FPVsimulation/pvsystem.py:83: UserWarning: Geometry is in a geographic CRS. Results from 'distance' are likely incorrect. Use 'GeoSeries.to_crs()' to re-project geometries to a projected CRS before this operation.\n",
      "\n",
      "  soiling_loss_gdf['distance'] = soiling_loss_NS3031_gdf['geometry'].distance(center)\n"
     ]
    },
    {
     "name": "stdout",
     "output_type": "stream",
     "text": [
      "lake 155 of 730\n"
     ]
    },
    {
     "name": "stderr",
     "output_type": "stream",
     "text": [
      "/home/mette/master/fpv_energy_yield_norway/src/FPVsimulation/pvsystem.py:83: UserWarning: Geometry is in a geographic CRS. Results from 'distance' are likely incorrect. Use 'GeoSeries.to_crs()' to re-project geometries to a projected CRS before this operation.\n",
      "\n",
      "  soiling_loss_gdf['distance'] = soiling_loss_NS3031_gdf['geometry'].distance(center)\n"
     ]
    },
    {
     "name": "stdout",
     "output_type": "stream",
     "text": [
      "lake 156 of 730\n"
     ]
    },
    {
     "name": "stderr",
     "output_type": "stream",
     "text": [
      "/home/mette/master/fpv_energy_yield_norway/src/FPVsimulation/pvsystem.py:83: UserWarning: Geometry is in a geographic CRS. Results from 'distance' are likely incorrect. Use 'GeoSeries.to_crs()' to re-project geometries to a projected CRS before this operation.\n",
      "\n",
      "  soiling_loss_gdf['distance'] = soiling_loss_NS3031_gdf['geometry'].distance(center)\n"
     ]
    },
    {
     "name": "stdout",
     "output_type": "stream",
     "text": [
      "lake 157 of 730\n"
     ]
    },
    {
     "name": "stderr",
     "output_type": "stream",
     "text": [
      "/home/mette/master/fpv_energy_yield_norway/src/FPVsimulation/pvsystem.py:83: UserWarning: Geometry is in a geographic CRS. Results from 'distance' are likely incorrect. Use 'GeoSeries.to_crs()' to re-project geometries to a projected CRS before this operation.\n",
      "\n",
      "  soiling_loss_gdf['distance'] = soiling_loss_NS3031_gdf['geometry'].distance(center)\n"
     ]
    },
    {
     "name": "stdout",
     "output_type": "stream",
     "text": [
      "lake 158 of 730\n"
     ]
    },
    {
     "name": "stderr",
     "output_type": "stream",
     "text": [
      "/home/mette/master/fpv_energy_yield_norway/src/FPVsimulation/pvsystem.py:83: UserWarning: Geometry is in a geographic CRS. Results from 'distance' are likely incorrect. Use 'GeoSeries.to_crs()' to re-project geometries to a projected CRS before this operation.\n",
      "\n",
      "  soiling_loss_gdf['distance'] = soiling_loss_NS3031_gdf['geometry'].distance(center)\n"
     ]
    },
    {
     "name": "stdout",
     "output_type": "stream",
     "text": [
      "lake 159 of 730\n"
     ]
    },
    {
     "name": "stderr",
     "output_type": "stream",
     "text": [
      "/home/mette/master/fpv_energy_yield_norway/src/FPVsimulation/pvsystem.py:83: UserWarning: Geometry is in a geographic CRS. Results from 'distance' are likely incorrect. Use 'GeoSeries.to_crs()' to re-project geometries to a projected CRS before this operation.\n",
      "\n",
      "  soiling_loss_gdf['distance'] = soiling_loss_NS3031_gdf['geometry'].distance(center)\n"
     ]
    },
    {
     "name": "stdout",
     "output_type": "stream",
     "text": [
      "lake 160 of 730\n"
     ]
    },
    {
     "name": "stderr",
     "output_type": "stream",
     "text": [
      "/home/mette/master/fpv_energy_yield_norway/src/FPVsimulation/pvsystem.py:83: UserWarning: Geometry is in a geographic CRS. Results from 'distance' are likely incorrect. Use 'GeoSeries.to_crs()' to re-project geometries to a projected CRS before this operation.\n",
      "\n",
      "  soiling_loss_gdf['distance'] = soiling_loss_NS3031_gdf['geometry'].distance(center)\n"
     ]
    },
    {
     "name": "stdout",
     "output_type": "stream",
     "text": [
      "lake 161 of 730\n"
     ]
    },
    {
     "name": "stderr",
     "output_type": "stream",
     "text": [
      "/home/mette/master/fpv_energy_yield_norway/src/FPVsimulation/pvsystem.py:83: UserWarning: Geometry is in a geographic CRS. Results from 'distance' are likely incorrect. Use 'GeoSeries.to_crs()' to re-project geometries to a projected CRS before this operation.\n",
      "\n",
      "  soiling_loss_gdf['distance'] = soiling_loss_NS3031_gdf['geometry'].distance(center)\n"
     ]
    },
    {
     "name": "stdout",
     "output_type": "stream",
     "text": [
      "lake 162 of 730\n"
     ]
    },
    {
     "name": "stderr",
     "output_type": "stream",
     "text": [
      "/home/mette/master/fpv_energy_yield_norway/src/FPVsimulation/pvsystem.py:83: UserWarning: Geometry is in a geographic CRS. Results from 'distance' are likely incorrect. Use 'GeoSeries.to_crs()' to re-project geometries to a projected CRS before this operation.\n",
      "\n",
      "  soiling_loss_gdf['distance'] = soiling_loss_NS3031_gdf['geometry'].distance(center)\n"
     ]
    },
    {
     "name": "stdout",
     "output_type": "stream",
     "text": [
      "lake 163 of 730\n"
     ]
    },
    {
     "name": "stderr",
     "output_type": "stream",
     "text": [
      "/home/mette/master/fpv_energy_yield_norway/src/FPVsimulation/pvsystem.py:83: UserWarning: Geometry is in a geographic CRS. Results from 'distance' are likely incorrect. Use 'GeoSeries.to_crs()' to re-project geometries to a projected CRS before this operation.\n",
      "\n",
      "  soiling_loss_gdf['distance'] = soiling_loss_NS3031_gdf['geometry'].distance(center)\n"
     ]
    },
    {
     "name": "stdout",
     "output_type": "stream",
     "text": [
      "lake 164 of 730\n"
     ]
    },
    {
     "name": "stderr",
     "output_type": "stream",
     "text": [
      "/home/mette/master/fpv_energy_yield_norway/src/FPVsimulation/pvsystem.py:83: UserWarning: Geometry is in a geographic CRS. Results from 'distance' are likely incorrect. Use 'GeoSeries.to_crs()' to re-project geometries to a projected CRS before this operation.\n",
      "\n",
      "  soiling_loss_gdf['distance'] = soiling_loss_NS3031_gdf['geometry'].distance(center)\n"
     ]
    },
    {
     "name": "stdout",
     "output_type": "stream",
     "text": [
      "lake 165 of 730\n"
     ]
    },
    {
     "name": "stderr",
     "output_type": "stream",
     "text": [
      "/home/mette/master/fpv_energy_yield_norway/src/FPVsimulation/pvsystem.py:83: UserWarning: Geometry is in a geographic CRS. Results from 'distance' are likely incorrect. Use 'GeoSeries.to_crs()' to re-project geometries to a projected CRS before this operation.\n",
      "\n",
      "  soiling_loss_gdf['distance'] = soiling_loss_NS3031_gdf['geometry'].distance(center)\n"
     ]
    },
    {
     "name": "stdout",
     "output_type": "stream",
     "text": [
      "lake 166 of 730\n"
     ]
    },
    {
     "name": "stderr",
     "output_type": "stream",
     "text": [
      "/home/mette/master/fpv_energy_yield_norway/src/FPVsimulation/pvsystem.py:83: UserWarning: Geometry is in a geographic CRS. Results from 'distance' are likely incorrect. Use 'GeoSeries.to_crs()' to re-project geometries to a projected CRS before this operation.\n",
      "\n",
      "  soiling_loss_gdf['distance'] = soiling_loss_NS3031_gdf['geometry'].distance(center)\n"
     ]
    },
    {
     "name": "stdout",
     "output_type": "stream",
     "text": [
      "lake 167 of 730\n"
     ]
    },
    {
     "name": "stderr",
     "output_type": "stream",
     "text": [
      "/home/mette/master/fpv_energy_yield_norway/src/FPVsimulation/pvsystem.py:83: UserWarning: Geometry is in a geographic CRS. Results from 'distance' are likely incorrect. Use 'GeoSeries.to_crs()' to re-project geometries to a projected CRS before this operation.\n",
      "\n",
      "  soiling_loss_gdf['distance'] = soiling_loss_NS3031_gdf['geometry'].distance(center)\n"
     ]
    },
    {
     "name": "stdout",
     "output_type": "stream",
     "text": [
      "lake 168 of 730\n"
     ]
    },
    {
     "name": "stderr",
     "output_type": "stream",
     "text": [
      "/home/mette/master/fpv_energy_yield_norway/src/FPVsimulation/pvsystem.py:83: UserWarning: Geometry is in a geographic CRS. Results from 'distance' are likely incorrect. Use 'GeoSeries.to_crs()' to re-project geometries to a projected CRS before this operation.\n",
      "\n",
      "  soiling_loss_gdf['distance'] = soiling_loss_NS3031_gdf['geometry'].distance(center)\n"
     ]
    },
    {
     "name": "stdout",
     "output_type": "stream",
     "text": [
      "lake 169 of 730\n"
     ]
    },
    {
     "name": "stderr",
     "output_type": "stream",
     "text": [
      "/home/mette/master/fpv_energy_yield_norway/src/FPVsimulation/pvsystem.py:83: UserWarning: Geometry is in a geographic CRS. Results from 'distance' are likely incorrect. Use 'GeoSeries.to_crs()' to re-project geometries to a projected CRS before this operation.\n",
      "\n",
      "  soiling_loss_gdf['distance'] = soiling_loss_NS3031_gdf['geometry'].distance(center)\n"
     ]
    },
    {
     "name": "stdout",
     "output_type": "stream",
     "text": [
      "lake 170 of 730\n"
     ]
    },
    {
     "name": "stderr",
     "output_type": "stream",
     "text": [
      "/home/mette/master/fpv_energy_yield_norway/src/FPVsimulation/pvsystem.py:83: UserWarning: Geometry is in a geographic CRS. Results from 'distance' are likely incorrect. Use 'GeoSeries.to_crs()' to re-project geometries to a projected CRS before this operation.\n",
      "\n",
      "  soiling_loss_gdf['distance'] = soiling_loss_NS3031_gdf['geometry'].distance(center)\n"
     ]
    },
    {
     "name": "stdout",
     "output_type": "stream",
     "text": [
      "lake 171 of 730\n"
     ]
    },
    {
     "name": "stderr",
     "output_type": "stream",
     "text": [
      "/home/mette/master/fpv_energy_yield_norway/src/FPVsimulation/pvsystem.py:83: UserWarning: Geometry is in a geographic CRS. Results from 'distance' are likely incorrect. Use 'GeoSeries.to_crs()' to re-project geometries to a projected CRS before this operation.\n",
      "\n",
      "  soiling_loss_gdf['distance'] = soiling_loss_NS3031_gdf['geometry'].distance(center)\n"
     ]
    },
    {
     "name": "stdout",
     "output_type": "stream",
     "text": [
      "lake 172 of 730\n"
     ]
    },
    {
     "name": "stderr",
     "output_type": "stream",
     "text": [
      "/home/mette/master/fpv_energy_yield_norway/src/FPVsimulation/pvsystem.py:83: UserWarning: Geometry is in a geographic CRS. Results from 'distance' are likely incorrect. Use 'GeoSeries.to_crs()' to re-project geometries to a projected CRS before this operation.\n",
      "\n",
      "  soiling_loss_gdf['distance'] = soiling_loss_NS3031_gdf['geometry'].distance(center)\n"
     ]
    },
    {
     "name": "stdout",
     "output_type": "stream",
     "text": [
      "lake 173 of 730\n"
     ]
    },
    {
     "name": "stderr",
     "output_type": "stream",
     "text": [
      "/home/mette/master/fpv_energy_yield_norway/src/FPVsimulation/pvsystem.py:83: UserWarning: Geometry is in a geographic CRS. Results from 'distance' are likely incorrect. Use 'GeoSeries.to_crs()' to re-project geometries to a projected CRS before this operation.\n",
      "\n",
      "  soiling_loss_gdf['distance'] = soiling_loss_NS3031_gdf['geometry'].distance(center)\n"
     ]
    },
    {
     "name": "stdout",
     "output_type": "stream",
     "text": [
      "lake 174 of 730\n"
     ]
    },
    {
     "name": "stderr",
     "output_type": "stream",
     "text": [
      "/home/mette/master/fpv_energy_yield_norway/src/FPVsimulation/pvsystem.py:83: UserWarning: Geometry is in a geographic CRS. Results from 'distance' are likely incorrect. Use 'GeoSeries.to_crs()' to re-project geometries to a projected CRS before this operation.\n",
      "\n",
      "  soiling_loss_gdf['distance'] = soiling_loss_NS3031_gdf['geometry'].distance(center)\n"
     ]
    },
    {
     "name": "stdout",
     "output_type": "stream",
     "text": [
      "lake 175 of 730\n"
     ]
    },
    {
     "name": "stderr",
     "output_type": "stream",
     "text": [
      "/home/mette/master/fpv_energy_yield_norway/src/FPVsimulation/pvsystem.py:83: UserWarning: Geometry is in a geographic CRS. Results from 'distance' are likely incorrect. Use 'GeoSeries.to_crs()' to re-project geometries to a projected CRS before this operation.\n",
      "\n",
      "  soiling_loss_gdf['distance'] = soiling_loss_NS3031_gdf['geometry'].distance(center)\n"
     ]
    },
    {
     "name": "stdout",
     "output_type": "stream",
     "text": [
      "lake 176 of 730\n"
     ]
    },
    {
     "name": "stderr",
     "output_type": "stream",
     "text": [
      "/home/mette/master/fpv_energy_yield_norway/src/FPVsimulation/pvsystem.py:83: UserWarning: Geometry is in a geographic CRS. Results from 'distance' are likely incorrect. Use 'GeoSeries.to_crs()' to re-project geometries to a projected CRS before this operation.\n",
      "\n",
      "  soiling_loss_gdf['distance'] = soiling_loss_NS3031_gdf['geometry'].distance(center)\n"
     ]
    },
    {
     "name": "stdout",
     "output_type": "stream",
     "text": [
      "lake 177 of 730\n"
     ]
    },
    {
     "name": "stderr",
     "output_type": "stream",
     "text": [
      "/home/mette/master/fpv_energy_yield_norway/src/FPVsimulation/pvsystem.py:83: UserWarning: Geometry is in a geographic CRS. Results from 'distance' are likely incorrect. Use 'GeoSeries.to_crs()' to re-project geometries to a projected CRS before this operation.\n",
      "\n",
      "  soiling_loss_gdf['distance'] = soiling_loss_NS3031_gdf['geometry'].distance(center)\n"
     ]
    },
    {
     "name": "stdout",
     "output_type": "stream",
     "text": [
      "lake 178 of 730\n"
     ]
    },
    {
     "name": "stderr",
     "output_type": "stream",
     "text": [
      "/home/mette/master/fpv_energy_yield_norway/src/FPVsimulation/pvsystem.py:83: UserWarning: Geometry is in a geographic CRS. Results from 'distance' are likely incorrect. Use 'GeoSeries.to_crs()' to re-project geometries to a projected CRS before this operation.\n",
      "\n",
      "  soiling_loss_gdf['distance'] = soiling_loss_NS3031_gdf['geometry'].distance(center)\n"
     ]
    },
    {
     "name": "stdout",
     "output_type": "stream",
     "text": [
      "lake 179 of 730\n"
     ]
    },
    {
     "name": "stderr",
     "output_type": "stream",
     "text": [
      "/home/mette/master/fpv_energy_yield_norway/src/FPVsimulation/pvsystem.py:83: UserWarning: Geometry is in a geographic CRS. Results from 'distance' are likely incorrect. Use 'GeoSeries.to_crs()' to re-project geometries to a projected CRS before this operation.\n",
      "\n",
      "  soiling_loss_gdf['distance'] = soiling_loss_NS3031_gdf['geometry'].distance(center)\n"
     ]
    },
    {
     "name": "stdout",
     "output_type": "stream",
     "text": [
      "lake 180 of 730\n"
     ]
    },
    {
     "name": "stderr",
     "output_type": "stream",
     "text": [
      "/home/mette/master/fpv_energy_yield_norway/src/FPVsimulation/pvsystem.py:83: UserWarning: Geometry is in a geographic CRS. Results from 'distance' are likely incorrect. Use 'GeoSeries.to_crs()' to re-project geometries to a projected CRS before this operation.\n",
      "\n",
      "  soiling_loss_gdf['distance'] = soiling_loss_NS3031_gdf['geometry'].distance(center)\n"
     ]
    },
    {
     "name": "stdout",
     "output_type": "stream",
     "text": [
      "lake 181 of 730\n"
     ]
    },
    {
     "name": "stderr",
     "output_type": "stream",
     "text": [
      "/home/mette/master/fpv_energy_yield_norway/src/FPVsimulation/pvsystem.py:83: UserWarning: Geometry is in a geographic CRS. Results from 'distance' are likely incorrect. Use 'GeoSeries.to_crs()' to re-project geometries to a projected CRS before this operation.\n",
      "\n",
      "  soiling_loss_gdf['distance'] = soiling_loss_NS3031_gdf['geometry'].distance(center)\n"
     ]
    },
    {
     "name": "stdout",
     "output_type": "stream",
     "text": [
      "lake 182 of 730\n"
     ]
    },
    {
     "name": "stderr",
     "output_type": "stream",
     "text": [
      "/home/mette/master/fpv_energy_yield_norway/src/FPVsimulation/pvsystem.py:83: UserWarning: Geometry is in a geographic CRS. Results from 'distance' are likely incorrect. Use 'GeoSeries.to_crs()' to re-project geometries to a projected CRS before this operation.\n",
      "\n",
      "  soiling_loss_gdf['distance'] = soiling_loss_NS3031_gdf['geometry'].distance(center)\n"
     ]
    },
    {
     "name": "stdout",
     "output_type": "stream",
     "text": [
      "lake 183 of 730\n"
     ]
    },
    {
     "name": "stderr",
     "output_type": "stream",
     "text": [
      "/home/mette/master/fpv_energy_yield_norway/src/FPVsimulation/pvsystem.py:83: UserWarning: Geometry is in a geographic CRS. Results from 'distance' are likely incorrect. Use 'GeoSeries.to_crs()' to re-project geometries to a projected CRS before this operation.\n",
      "\n",
      "  soiling_loss_gdf['distance'] = soiling_loss_NS3031_gdf['geometry'].distance(center)\n"
     ]
    },
    {
     "name": "stdout",
     "output_type": "stream",
     "text": [
      "lake 184 of 730\n"
     ]
    },
    {
     "name": "stderr",
     "output_type": "stream",
     "text": [
      "/home/mette/master/fpv_energy_yield_norway/src/FPVsimulation/pvsystem.py:83: UserWarning: Geometry is in a geographic CRS. Results from 'distance' are likely incorrect. Use 'GeoSeries.to_crs()' to re-project geometries to a projected CRS before this operation.\n",
      "\n",
      "  soiling_loss_gdf['distance'] = soiling_loss_NS3031_gdf['geometry'].distance(center)\n"
     ]
    },
    {
     "name": "stdout",
     "output_type": "stream",
     "text": [
      "lake 185 of 730\n"
     ]
    },
    {
     "name": "stderr",
     "output_type": "stream",
     "text": [
      "/home/mette/master/fpv_energy_yield_norway/src/FPVsimulation/pvsystem.py:83: UserWarning: Geometry is in a geographic CRS. Results from 'distance' are likely incorrect. Use 'GeoSeries.to_crs()' to re-project geometries to a projected CRS before this operation.\n",
      "\n",
      "  soiling_loss_gdf['distance'] = soiling_loss_NS3031_gdf['geometry'].distance(center)\n"
     ]
    },
    {
     "name": "stdout",
     "output_type": "stream",
     "text": [
      "lake 186 of 730\n"
     ]
    },
    {
     "name": "stderr",
     "output_type": "stream",
     "text": [
      "/home/mette/master/fpv_energy_yield_norway/src/FPVsimulation/pvsystem.py:83: UserWarning: Geometry is in a geographic CRS. Results from 'distance' are likely incorrect. Use 'GeoSeries.to_crs()' to re-project geometries to a projected CRS before this operation.\n",
      "\n",
      "  soiling_loss_gdf['distance'] = soiling_loss_NS3031_gdf['geometry'].distance(center)\n"
     ]
    },
    {
     "name": "stdout",
     "output_type": "stream",
     "text": [
      "lake 187 of 730\n"
     ]
    },
    {
     "name": "stderr",
     "output_type": "stream",
     "text": [
      "/home/mette/master/fpv_energy_yield_norway/src/FPVsimulation/pvsystem.py:83: UserWarning: Geometry is in a geographic CRS. Results from 'distance' are likely incorrect. Use 'GeoSeries.to_crs()' to re-project geometries to a projected CRS before this operation.\n",
      "\n",
      "  soiling_loss_gdf['distance'] = soiling_loss_NS3031_gdf['geometry'].distance(center)\n"
     ]
    },
    {
     "name": "stdout",
     "output_type": "stream",
     "text": [
      "lake 188 of 730\n"
     ]
    },
    {
     "name": "stderr",
     "output_type": "stream",
     "text": [
      "/home/mette/master/fpv_energy_yield_norway/src/FPVsimulation/pvsystem.py:83: UserWarning: Geometry is in a geographic CRS. Results from 'distance' are likely incorrect. Use 'GeoSeries.to_crs()' to re-project geometries to a projected CRS before this operation.\n",
      "\n",
      "  soiling_loss_gdf['distance'] = soiling_loss_NS3031_gdf['geometry'].distance(center)\n"
     ]
    },
    {
     "name": "stdout",
     "output_type": "stream",
     "text": [
      "lake 189 of 730\n"
     ]
    },
    {
     "name": "stderr",
     "output_type": "stream",
     "text": [
      "/home/mette/master/fpv_energy_yield_norway/src/FPVsimulation/pvsystem.py:83: UserWarning: Geometry is in a geographic CRS. Results from 'distance' are likely incorrect. Use 'GeoSeries.to_crs()' to re-project geometries to a projected CRS before this operation.\n",
      "\n",
      "  soiling_loss_gdf['distance'] = soiling_loss_NS3031_gdf['geometry'].distance(center)\n"
     ]
    },
    {
     "name": "stdout",
     "output_type": "stream",
     "text": [
      "lake 190 of 730\n"
     ]
    },
    {
     "name": "stderr",
     "output_type": "stream",
     "text": [
      "/home/mette/master/fpv_energy_yield_norway/src/FPVsimulation/pvsystem.py:83: UserWarning: Geometry is in a geographic CRS. Results from 'distance' are likely incorrect. Use 'GeoSeries.to_crs()' to re-project geometries to a projected CRS before this operation.\n",
      "\n",
      "  soiling_loss_gdf['distance'] = soiling_loss_NS3031_gdf['geometry'].distance(center)\n"
     ]
    },
    {
     "name": "stdout",
     "output_type": "stream",
     "text": [
      "lake 191 of 730\n"
     ]
    },
    {
     "name": "stderr",
     "output_type": "stream",
     "text": [
      "/home/mette/master/fpv_energy_yield_norway/src/FPVsimulation/pvsystem.py:83: UserWarning: Geometry is in a geographic CRS. Results from 'distance' are likely incorrect. Use 'GeoSeries.to_crs()' to re-project geometries to a projected CRS before this operation.\n",
      "\n",
      "  soiling_loss_gdf['distance'] = soiling_loss_NS3031_gdf['geometry'].distance(center)\n"
     ]
    },
    {
     "name": "stdout",
     "output_type": "stream",
     "text": [
      "lake 192 of 730\n"
     ]
    },
    {
     "name": "stderr",
     "output_type": "stream",
     "text": [
      "/home/mette/master/fpv_energy_yield_norway/src/FPVsimulation/pvsystem.py:83: UserWarning: Geometry is in a geographic CRS. Results from 'distance' are likely incorrect. Use 'GeoSeries.to_crs()' to re-project geometries to a projected CRS before this operation.\n",
      "\n",
      "  soiling_loss_gdf['distance'] = soiling_loss_NS3031_gdf['geometry'].distance(center)\n"
     ]
    },
    {
     "name": "stdout",
     "output_type": "stream",
     "text": [
      "lake 193 of 730\n"
     ]
    },
    {
     "name": "stderr",
     "output_type": "stream",
     "text": [
      "/home/mette/master/fpv_energy_yield_norway/src/FPVsimulation/pvsystem.py:83: UserWarning: Geometry is in a geographic CRS. Results from 'distance' are likely incorrect. Use 'GeoSeries.to_crs()' to re-project geometries to a projected CRS before this operation.\n",
      "\n",
      "  soiling_loss_gdf['distance'] = soiling_loss_NS3031_gdf['geometry'].distance(center)\n"
     ]
    },
    {
     "name": "stdout",
     "output_type": "stream",
     "text": [
      "lake 194 of 730\n"
     ]
    },
    {
     "name": "stderr",
     "output_type": "stream",
     "text": [
      "/home/mette/master/fpv_energy_yield_norway/src/FPVsimulation/pvsystem.py:83: UserWarning: Geometry is in a geographic CRS. Results from 'distance' are likely incorrect. Use 'GeoSeries.to_crs()' to re-project geometries to a projected CRS before this operation.\n",
      "\n",
      "  soiling_loss_gdf['distance'] = soiling_loss_NS3031_gdf['geometry'].distance(center)\n"
     ]
    },
    {
     "name": "stdout",
     "output_type": "stream",
     "text": [
      "lake 195 of 730\n"
     ]
    },
    {
     "name": "stderr",
     "output_type": "stream",
     "text": [
      "/home/mette/master/fpv_energy_yield_norway/src/FPVsimulation/pvsystem.py:83: UserWarning: Geometry is in a geographic CRS. Results from 'distance' are likely incorrect. Use 'GeoSeries.to_crs()' to re-project geometries to a projected CRS before this operation.\n",
      "\n",
      "  soiling_loss_gdf['distance'] = soiling_loss_NS3031_gdf['geometry'].distance(center)\n"
     ]
    },
    {
     "name": "stdout",
     "output_type": "stream",
     "text": [
      "lake 196 of 730\n"
     ]
    },
    {
     "name": "stderr",
     "output_type": "stream",
     "text": [
      "/home/mette/master/fpv_energy_yield_norway/src/FPVsimulation/pvsystem.py:83: UserWarning: Geometry is in a geographic CRS. Results from 'distance' are likely incorrect. Use 'GeoSeries.to_crs()' to re-project geometries to a projected CRS before this operation.\n",
      "\n",
      "  soiling_loss_gdf['distance'] = soiling_loss_NS3031_gdf['geometry'].distance(center)\n"
     ]
    },
    {
     "name": "stdout",
     "output_type": "stream",
     "text": [
      "lake 197 of 730\n"
     ]
    },
    {
     "name": "stderr",
     "output_type": "stream",
     "text": [
      "/home/mette/master/fpv_energy_yield_norway/src/FPVsimulation/pvsystem.py:83: UserWarning: Geometry is in a geographic CRS. Results from 'distance' are likely incorrect. Use 'GeoSeries.to_crs()' to re-project geometries to a projected CRS before this operation.\n",
      "\n",
      "  soiling_loss_gdf['distance'] = soiling_loss_NS3031_gdf['geometry'].distance(center)\n"
     ]
    },
    {
     "name": "stdout",
     "output_type": "stream",
     "text": [
      "lake 198 of 730\n"
     ]
    },
    {
     "name": "stderr",
     "output_type": "stream",
     "text": [
      "/home/mette/master/fpv_energy_yield_norway/src/FPVsimulation/pvsystem.py:83: UserWarning: Geometry is in a geographic CRS. Results from 'distance' are likely incorrect. Use 'GeoSeries.to_crs()' to re-project geometries to a projected CRS before this operation.\n",
      "\n",
      "  soiling_loss_gdf['distance'] = soiling_loss_NS3031_gdf['geometry'].distance(center)\n"
     ]
    },
    {
     "name": "stdout",
     "output_type": "stream",
     "text": [
      "lake 199 of 730\n"
     ]
    },
    {
     "name": "stderr",
     "output_type": "stream",
     "text": [
      "/home/mette/master/fpv_energy_yield_norway/src/FPVsimulation/pvsystem.py:83: UserWarning: Geometry is in a geographic CRS. Results from 'distance' are likely incorrect. Use 'GeoSeries.to_crs()' to re-project geometries to a projected CRS before this operation.\n",
      "\n",
      "  soiling_loss_gdf['distance'] = soiling_loss_NS3031_gdf['geometry'].distance(center)\n"
     ]
    },
    {
     "name": "stdout",
     "output_type": "stream",
     "text": [
      "lake 200 of 730\n"
     ]
    },
    {
     "name": "stderr",
     "output_type": "stream",
     "text": [
      "/home/mette/master/fpv_energy_yield_norway/src/FPVsimulation/pvsystem.py:83: UserWarning: Geometry is in a geographic CRS. Results from 'distance' are likely incorrect. Use 'GeoSeries.to_crs()' to re-project geometries to a projected CRS before this operation.\n",
      "\n",
      "  soiling_loss_gdf['distance'] = soiling_loss_NS3031_gdf['geometry'].distance(center)\n"
     ]
    },
    {
     "name": "stdout",
     "output_type": "stream",
     "text": [
      "lake 201 of 730\n"
     ]
    },
    {
     "name": "stderr",
     "output_type": "stream",
     "text": [
      "/home/mette/master/fpv_energy_yield_norway/src/FPVsimulation/pvsystem.py:83: UserWarning: Geometry is in a geographic CRS. Results from 'distance' are likely incorrect. Use 'GeoSeries.to_crs()' to re-project geometries to a projected CRS before this operation.\n",
      "\n",
      "  soiling_loss_gdf['distance'] = soiling_loss_NS3031_gdf['geometry'].distance(center)\n"
     ]
    },
    {
     "name": "stdout",
     "output_type": "stream",
     "text": [
      "lake 202 of 730\n"
     ]
    },
    {
     "name": "stderr",
     "output_type": "stream",
     "text": [
      "/home/mette/master/fpv_energy_yield_norway/src/FPVsimulation/pvsystem.py:83: UserWarning: Geometry is in a geographic CRS. Results from 'distance' are likely incorrect. Use 'GeoSeries.to_crs()' to re-project geometries to a projected CRS before this operation.\n",
      "\n",
      "  soiling_loss_gdf['distance'] = soiling_loss_NS3031_gdf['geometry'].distance(center)\n"
     ]
    },
    {
     "name": "stdout",
     "output_type": "stream",
     "text": [
      "lake 203 of 730\n"
     ]
    },
    {
     "name": "stderr",
     "output_type": "stream",
     "text": [
      "/home/mette/master/fpv_energy_yield_norway/src/FPVsimulation/pvsystem.py:83: UserWarning: Geometry is in a geographic CRS. Results from 'distance' are likely incorrect. Use 'GeoSeries.to_crs()' to re-project geometries to a projected CRS before this operation.\n",
      "\n",
      "  soiling_loss_gdf['distance'] = soiling_loss_NS3031_gdf['geometry'].distance(center)\n"
     ]
    },
    {
     "name": "stdout",
     "output_type": "stream",
     "text": [
      "lake 204 of 730\n"
     ]
    },
    {
     "name": "stderr",
     "output_type": "stream",
     "text": [
      "/home/mette/master/fpv_energy_yield_norway/src/FPVsimulation/pvsystem.py:83: UserWarning: Geometry is in a geographic CRS. Results from 'distance' are likely incorrect. Use 'GeoSeries.to_crs()' to re-project geometries to a projected CRS before this operation.\n",
      "\n",
      "  soiling_loss_gdf['distance'] = soiling_loss_NS3031_gdf['geometry'].distance(center)\n"
     ]
    },
    {
     "name": "stdout",
     "output_type": "stream",
     "text": [
      "lake 205 of 730\n"
     ]
    },
    {
     "name": "stderr",
     "output_type": "stream",
     "text": [
      "/home/mette/master/fpv_energy_yield_norway/src/FPVsimulation/pvsystem.py:83: UserWarning: Geometry is in a geographic CRS. Results from 'distance' are likely incorrect. Use 'GeoSeries.to_crs()' to re-project geometries to a projected CRS before this operation.\n",
      "\n",
      "  soiling_loss_gdf['distance'] = soiling_loss_NS3031_gdf['geometry'].distance(center)\n"
     ]
    },
    {
     "name": "stdout",
     "output_type": "stream",
     "text": [
      "lake 206 of 730\n"
     ]
    },
    {
     "name": "stderr",
     "output_type": "stream",
     "text": [
      "/home/mette/master/fpv_energy_yield_norway/src/FPVsimulation/pvsystem.py:83: UserWarning: Geometry is in a geographic CRS. Results from 'distance' are likely incorrect. Use 'GeoSeries.to_crs()' to re-project geometries to a projected CRS before this operation.\n",
      "\n",
      "  soiling_loss_gdf['distance'] = soiling_loss_NS3031_gdf['geometry'].distance(center)\n"
     ]
    },
    {
     "name": "stdout",
     "output_type": "stream",
     "text": [
      "lake 207 of 730\n"
     ]
    },
    {
     "name": "stderr",
     "output_type": "stream",
     "text": [
      "/home/mette/master/fpv_energy_yield_norway/src/FPVsimulation/pvsystem.py:83: UserWarning: Geometry is in a geographic CRS. Results from 'distance' are likely incorrect. Use 'GeoSeries.to_crs()' to re-project geometries to a projected CRS before this operation.\n",
      "\n",
      "  soiling_loss_gdf['distance'] = soiling_loss_NS3031_gdf['geometry'].distance(center)\n"
     ]
    },
    {
     "name": "stdout",
     "output_type": "stream",
     "text": [
      "lake 208 of 730\n"
     ]
    },
    {
     "name": "stderr",
     "output_type": "stream",
     "text": [
      "/home/mette/master/fpv_energy_yield_norway/src/FPVsimulation/pvsystem.py:83: UserWarning: Geometry is in a geographic CRS. Results from 'distance' are likely incorrect. Use 'GeoSeries.to_crs()' to re-project geometries to a projected CRS before this operation.\n",
      "\n",
      "  soiling_loss_gdf['distance'] = soiling_loss_NS3031_gdf['geometry'].distance(center)\n"
     ]
    },
    {
     "name": "stdout",
     "output_type": "stream",
     "text": [
      "lake 209 of 730\n"
     ]
    },
    {
     "name": "stderr",
     "output_type": "stream",
     "text": [
      "/home/mette/master/fpv_energy_yield_norway/src/FPVsimulation/pvsystem.py:83: UserWarning: Geometry is in a geographic CRS. Results from 'distance' are likely incorrect. Use 'GeoSeries.to_crs()' to re-project geometries to a projected CRS before this operation.\n",
      "\n",
      "  soiling_loss_gdf['distance'] = soiling_loss_NS3031_gdf['geometry'].distance(center)\n"
     ]
    },
    {
     "name": "stdout",
     "output_type": "stream",
     "text": [
      "lake 210 of 730\n"
     ]
    },
    {
     "name": "stderr",
     "output_type": "stream",
     "text": [
      "/home/mette/master/fpv_energy_yield_norway/src/FPVsimulation/pvsystem.py:83: UserWarning: Geometry is in a geographic CRS. Results from 'distance' are likely incorrect. Use 'GeoSeries.to_crs()' to re-project geometries to a projected CRS before this operation.\n",
      "\n",
      "  soiling_loss_gdf['distance'] = soiling_loss_NS3031_gdf['geometry'].distance(center)\n"
     ]
    },
    {
     "name": "stdout",
     "output_type": "stream",
     "text": [
      "lake 211 of 730\n"
     ]
    },
    {
     "name": "stderr",
     "output_type": "stream",
     "text": [
      "/home/mette/master/fpv_energy_yield_norway/src/FPVsimulation/pvsystem.py:83: UserWarning: Geometry is in a geographic CRS. Results from 'distance' are likely incorrect. Use 'GeoSeries.to_crs()' to re-project geometries to a projected CRS before this operation.\n",
      "\n",
      "  soiling_loss_gdf['distance'] = soiling_loss_NS3031_gdf['geometry'].distance(center)\n"
     ]
    },
    {
     "name": "stdout",
     "output_type": "stream",
     "text": [
      "lake 212 of 730\n"
     ]
    },
    {
     "name": "stderr",
     "output_type": "stream",
     "text": [
      "/home/mette/master/fpv_energy_yield_norway/src/FPVsimulation/pvsystem.py:83: UserWarning: Geometry is in a geographic CRS. Results from 'distance' are likely incorrect. Use 'GeoSeries.to_crs()' to re-project geometries to a projected CRS before this operation.\n",
      "\n",
      "  soiling_loss_gdf['distance'] = soiling_loss_NS3031_gdf['geometry'].distance(center)\n"
     ]
    },
    {
     "name": "stdout",
     "output_type": "stream",
     "text": [
      "lake 213 of 730\n"
     ]
    },
    {
     "name": "stderr",
     "output_type": "stream",
     "text": [
      "/home/mette/master/fpv_energy_yield_norway/src/FPVsimulation/pvsystem.py:83: UserWarning: Geometry is in a geographic CRS. Results from 'distance' are likely incorrect. Use 'GeoSeries.to_crs()' to re-project geometries to a projected CRS before this operation.\n",
      "\n",
      "  soiling_loss_gdf['distance'] = soiling_loss_NS3031_gdf['geometry'].distance(center)\n"
     ]
    },
    {
     "name": "stdout",
     "output_type": "stream",
     "text": [
      "lake 214 of 730\n"
     ]
    },
    {
     "name": "stderr",
     "output_type": "stream",
     "text": [
      "/home/mette/master/fpv_energy_yield_norway/src/FPVsimulation/pvsystem.py:83: UserWarning: Geometry is in a geographic CRS. Results from 'distance' are likely incorrect. Use 'GeoSeries.to_crs()' to re-project geometries to a projected CRS before this operation.\n",
      "\n",
      "  soiling_loss_gdf['distance'] = soiling_loss_NS3031_gdf['geometry'].distance(center)\n"
     ]
    },
    {
     "name": "stdout",
     "output_type": "stream",
     "text": [
      "lake 215 of 730\n"
     ]
    },
    {
     "name": "stderr",
     "output_type": "stream",
     "text": [
      "/home/mette/master/fpv_energy_yield_norway/src/FPVsimulation/pvsystem.py:83: UserWarning: Geometry is in a geographic CRS. Results from 'distance' are likely incorrect. Use 'GeoSeries.to_crs()' to re-project geometries to a projected CRS before this operation.\n",
      "\n",
      "  soiling_loss_gdf['distance'] = soiling_loss_NS3031_gdf['geometry'].distance(center)\n"
     ]
    },
    {
     "name": "stdout",
     "output_type": "stream",
     "text": [
      "lake 216 of 730\n"
     ]
    },
    {
     "name": "stderr",
     "output_type": "stream",
     "text": [
      "/home/mette/master/fpv_energy_yield_norway/src/FPVsimulation/pvsystem.py:83: UserWarning: Geometry is in a geographic CRS. Results from 'distance' are likely incorrect. Use 'GeoSeries.to_crs()' to re-project geometries to a projected CRS before this operation.\n",
      "\n",
      "  soiling_loss_gdf['distance'] = soiling_loss_NS3031_gdf['geometry'].distance(center)\n"
     ]
    },
    {
     "name": "stdout",
     "output_type": "stream",
     "text": [
      "lake 217 of 730\n"
     ]
    },
    {
     "name": "stderr",
     "output_type": "stream",
     "text": [
      "/home/mette/master/fpv_energy_yield_norway/src/FPVsimulation/pvsystem.py:83: UserWarning: Geometry is in a geographic CRS. Results from 'distance' are likely incorrect. Use 'GeoSeries.to_crs()' to re-project geometries to a projected CRS before this operation.\n",
      "\n",
      "  soiling_loss_gdf['distance'] = soiling_loss_NS3031_gdf['geometry'].distance(center)\n"
     ]
    },
    {
     "name": "stdout",
     "output_type": "stream",
     "text": [
      "lake 218 of 730\n"
     ]
    },
    {
     "name": "stderr",
     "output_type": "stream",
     "text": [
      "/home/mette/master/fpv_energy_yield_norway/src/FPVsimulation/pvsystem.py:83: UserWarning: Geometry is in a geographic CRS. Results from 'distance' are likely incorrect. Use 'GeoSeries.to_crs()' to re-project geometries to a projected CRS before this operation.\n",
      "\n",
      "  soiling_loss_gdf['distance'] = soiling_loss_NS3031_gdf['geometry'].distance(center)\n"
     ]
    },
    {
     "name": "stdout",
     "output_type": "stream",
     "text": [
      "lake 219 of 730\n"
     ]
    },
    {
     "name": "stderr",
     "output_type": "stream",
     "text": [
      "/home/mette/master/fpv_energy_yield_norway/src/FPVsimulation/pvsystem.py:83: UserWarning: Geometry is in a geographic CRS. Results from 'distance' are likely incorrect. Use 'GeoSeries.to_crs()' to re-project geometries to a projected CRS before this operation.\n",
      "\n",
      "  soiling_loss_gdf['distance'] = soiling_loss_NS3031_gdf['geometry'].distance(center)\n"
     ]
    },
    {
     "name": "stdout",
     "output_type": "stream",
     "text": [
      "lake 220 of 730\n"
     ]
    },
    {
     "name": "stderr",
     "output_type": "stream",
     "text": [
      "/home/mette/master/fpv_energy_yield_norway/src/FPVsimulation/pvsystem.py:83: UserWarning: Geometry is in a geographic CRS. Results from 'distance' are likely incorrect. Use 'GeoSeries.to_crs()' to re-project geometries to a projected CRS before this operation.\n",
      "\n",
      "  soiling_loss_gdf['distance'] = soiling_loss_NS3031_gdf['geometry'].distance(center)\n"
     ]
    },
    {
     "name": "stdout",
     "output_type": "stream",
     "text": [
      "lake 221 of 730\n"
     ]
    },
    {
     "name": "stderr",
     "output_type": "stream",
     "text": [
      "/home/mette/master/fpv_energy_yield_norway/src/FPVsimulation/pvsystem.py:83: UserWarning: Geometry is in a geographic CRS. Results from 'distance' are likely incorrect. Use 'GeoSeries.to_crs()' to re-project geometries to a projected CRS before this operation.\n",
      "\n",
      "  soiling_loss_gdf['distance'] = soiling_loss_NS3031_gdf['geometry'].distance(center)\n"
     ]
    },
    {
     "name": "stdout",
     "output_type": "stream",
     "text": [
      "lake 222 of 730\n"
     ]
    },
    {
     "name": "stderr",
     "output_type": "stream",
     "text": [
      "/home/mette/master/fpv_energy_yield_norway/src/FPVsimulation/pvsystem.py:83: UserWarning: Geometry is in a geographic CRS. Results from 'distance' are likely incorrect. Use 'GeoSeries.to_crs()' to re-project geometries to a projected CRS before this operation.\n",
      "\n",
      "  soiling_loss_gdf['distance'] = soiling_loss_NS3031_gdf['geometry'].distance(center)\n"
     ]
    },
    {
     "name": "stdout",
     "output_type": "stream",
     "text": [
      "lake 223 of 730\n"
     ]
    },
    {
     "name": "stderr",
     "output_type": "stream",
     "text": [
      "/home/mette/master/fpv_energy_yield_norway/src/FPVsimulation/pvsystem.py:83: UserWarning: Geometry is in a geographic CRS. Results from 'distance' are likely incorrect. Use 'GeoSeries.to_crs()' to re-project geometries to a projected CRS before this operation.\n",
      "\n",
      "  soiling_loss_gdf['distance'] = soiling_loss_NS3031_gdf['geometry'].distance(center)\n"
     ]
    },
    {
     "name": "stdout",
     "output_type": "stream",
     "text": [
      "lake 224 of 730\n"
     ]
    },
    {
     "name": "stderr",
     "output_type": "stream",
     "text": [
      "/home/mette/master/fpv_energy_yield_norway/src/FPVsimulation/pvsystem.py:83: UserWarning: Geometry is in a geographic CRS. Results from 'distance' are likely incorrect. Use 'GeoSeries.to_crs()' to re-project geometries to a projected CRS before this operation.\n",
      "\n",
      "  soiling_loss_gdf['distance'] = soiling_loss_NS3031_gdf['geometry'].distance(center)\n"
     ]
    },
    {
     "name": "stdout",
     "output_type": "stream",
     "text": [
      "lake 225 of 730\n"
     ]
    },
    {
     "name": "stderr",
     "output_type": "stream",
     "text": [
      "/home/mette/master/fpv_energy_yield_norway/src/FPVsimulation/pvsystem.py:83: UserWarning: Geometry is in a geographic CRS. Results from 'distance' are likely incorrect. Use 'GeoSeries.to_crs()' to re-project geometries to a projected CRS before this operation.\n",
      "\n",
      "  soiling_loss_gdf['distance'] = soiling_loss_NS3031_gdf['geometry'].distance(center)\n"
     ]
    },
    {
     "name": "stdout",
     "output_type": "stream",
     "text": [
      "lake 226 of 730\n"
     ]
    },
    {
     "name": "stderr",
     "output_type": "stream",
     "text": [
      "/home/mette/master/fpv_energy_yield_norway/src/FPVsimulation/pvsystem.py:83: UserWarning: Geometry is in a geographic CRS. Results from 'distance' are likely incorrect. Use 'GeoSeries.to_crs()' to re-project geometries to a projected CRS before this operation.\n",
      "\n",
      "  soiling_loss_gdf['distance'] = soiling_loss_NS3031_gdf['geometry'].distance(center)\n"
     ]
    },
    {
     "name": "stdout",
     "output_type": "stream",
     "text": [
      "lake 227 of 730\n"
     ]
    },
    {
     "name": "stderr",
     "output_type": "stream",
     "text": [
      "/home/mette/master/fpv_energy_yield_norway/src/FPVsimulation/pvsystem.py:83: UserWarning: Geometry is in a geographic CRS. Results from 'distance' are likely incorrect. Use 'GeoSeries.to_crs()' to re-project geometries to a projected CRS before this operation.\n",
      "\n",
      "  soiling_loss_gdf['distance'] = soiling_loss_NS3031_gdf['geometry'].distance(center)\n"
     ]
    },
    {
     "name": "stdout",
     "output_type": "stream",
     "text": [
      "lake 228 of 730\n"
     ]
    },
    {
     "name": "stderr",
     "output_type": "stream",
     "text": [
      "/home/mette/master/fpv_energy_yield_norway/src/FPVsimulation/pvsystem.py:83: UserWarning: Geometry is in a geographic CRS. Results from 'distance' are likely incorrect. Use 'GeoSeries.to_crs()' to re-project geometries to a projected CRS before this operation.\n",
      "\n",
      "  soiling_loss_gdf['distance'] = soiling_loss_NS3031_gdf['geometry'].distance(center)\n"
     ]
    },
    {
     "name": "stdout",
     "output_type": "stream",
     "text": [
      "lake 229 of 730\n"
     ]
    },
    {
     "name": "stderr",
     "output_type": "stream",
     "text": [
      "/home/mette/master/fpv_energy_yield_norway/src/FPVsimulation/pvsystem.py:83: UserWarning: Geometry is in a geographic CRS. Results from 'distance' are likely incorrect. Use 'GeoSeries.to_crs()' to re-project geometries to a projected CRS before this operation.\n",
      "\n",
      "  soiling_loss_gdf['distance'] = soiling_loss_NS3031_gdf['geometry'].distance(center)\n"
     ]
    },
    {
     "name": "stdout",
     "output_type": "stream",
     "text": [
      "lake 230 of 730\n"
     ]
    },
    {
     "name": "stderr",
     "output_type": "stream",
     "text": [
      "/home/mette/master/fpv_energy_yield_norway/src/FPVsimulation/pvsystem.py:83: UserWarning: Geometry is in a geographic CRS. Results from 'distance' are likely incorrect. Use 'GeoSeries.to_crs()' to re-project geometries to a projected CRS before this operation.\n",
      "\n",
      "  soiling_loss_gdf['distance'] = soiling_loss_NS3031_gdf['geometry'].distance(center)\n"
     ]
    },
    {
     "name": "stdout",
     "output_type": "stream",
     "text": [
      "lake 231 of 730\n"
     ]
    },
    {
     "name": "stderr",
     "output_type": "stream",
     "text": [
      "/home/mette/master/fpv_energy_yield_norway/src/FPVsimulation/pvsystem.py:83: UserWarning: Geometry is in a geographic CRS. Results from 'distance' are likely incorrect. Use 'GeoSeries.to_crs()' to re-project geometries to a projected CRS before this operation.\n",
      "\n",
      "  soiling_loss_gdf['distance'] = soiling_loss_NS3031_gdf['geometry'].distance(center)\n"
     ]
    },
    {
     "name": "stdout",
     "output_type": "stream",
     "text": [
      "lake 232 of 730\n"
     ]
    },
    {
     "name": "stderr",
     "output_type": "stream",
     "text": [
      "/home/mette/master/fpv_energy_yield_norway/src/FPVsimulation/pvsystem.py:83: UserWarning: Geometry is in a geographic CRS. Results from 'distance' are likely incorrect. Use 'GeoSeries.to_crs()' to re-project geometries to a projected CRS before this operation.\n",
      "\n",
      "  soiling_loss_gdf['distance'] = soiling_loss_NS3031_gdf['geometry'].distance(center)\n"
     ]
    },
    {
     "name": "stdout",
     "output_type": "stream",
     "text": [
      "lake 233 of 730\n"
     ]
    },
    {
     "name": "stderr",
     "output_type": "stream",
     "text": [
      "/home/mette/master/fpv_energy_yield_norway/src/FPVsimulation/pvsystem.py:83: UserWarning: Geometry is in a geographic CRS. Results from 'distance' are likely incorrect. Use 'GeoSeries.to_crs()' to re-project geometries to a projected CRS before this operation.\n",
      "\n",
      "  soiling_loss_gdf['distance'] = soiling_loss_NS3031_gdf['geometry'].distance(center)\n"
     ]
    },
    {
     "name": "stdout",
     "output_type": "stream",
     "text": [
      "lake 234 of 730\n"
     ]
    },
    {
     "name": "stderr",
     "output_type": "stream",
     "text": [
      "/home/mette/master/fpv_energy_yield_norway/src/FPVsimulation/pvsystem.py:83: UserWarning: Geometry is in a geographic CRS. Results from 'distance' are likely incorrect. Use 'GeoSeries.to_crs()' to re-project geometries to a projected CRS before this operation.\n",
      "\n",
      "  soiling_loss_gdf['distance'] = soiling_loss_NS3031_gdf['geometry'].distance(center)\n"
     ]
    },
    {
     "name": "stdout",
     "output_type": "stream",
     "text": [
      "lake 235 of 730\n"
     ]
    },
    {
     "name": "stderr",
     "output_type": "stream",
     "text": [
      "/home/mette/master/fpv_energy_yield_norway/src/FPVsimulation/pvsystem.py:83: UserWarning: Geometry is in a geographic CRS. Results from 'distance' are likely incorrect. Use 'GeoSeries.to_crs()' to re-project geometries to a projected CRS before this operation.\n",
      "\n",
      "  soiling_loss_gdf['distance'] = soiling_loss_NS3031_gdf['geometry'].distance(center)\n"
     ]
    },
    {
     "name": "stdout",
     "output_type": "stream",
     "text": [
      "lake 236 of 730\n"
     ]
    },
    {
     "name": "stderr",
     "output_type": "stream",
     "text": [
      "/home/mette/master/fpv_energy_yield_norway/src/FPVsimulation/pvsystem.py:83: UserWarning: Geometry is in a geographic CRS. Results from 'distance' are likely incorrect. Use 'GeoSeries.to_crs()' to re-project geometries to a projected CRS before this operation.\n",
      "\n",
      "  soiling_loss_gdf['distance'] = soiling_loss_NS3031_gdf['geometry'].distance(center)\n"
     ]
    },
    {
     "name": "stdout",
     "output_type": "stream",
     "text": [
      "lake 237 of 730\n"
     ]
    },
    {
     "name": "stderr",
     "output_type": "stream",
     "text": [
      "/home/mette/master/fpv_energy_yield_norway/src/FPVsimulation/pvsystem.py:83: UserWarning: Geometry is in a geographic CRS. Results from 'distance' are likely incorrect. Use 'GeoSeries.to_crs()' to re-project geometries to a projected CRS before this operation.\n",
      "\n",
      "  soiling_loss_gdf['distance'] = soiling_loss_NS3031_gdf['geometry'].distance(center)\n"
     ]
    },
    {
     "name": "stdout",
     "output_type": "stream",
     "text": [
      "lake 238 of 730\n"
     ]
    },
    {
     "name": "stderr",
     "output_type": "stream",
     "text": [
      "/home/mette/master/fpv_energy_yield_norway/src/FPVsimulation/pvsystem.py:83: UserWarning: Geometry is in a geographic CRS. Results from 'distance' are likely incorrect. Use 'GeoSeries.to_crs()' to re-project geometries to a projected CRS before this operation.\n",
      "\n",
      "  soiling_loss_gdf['distance'] = soiling_loss_NS3031_gdf['geometry'].distance(center)\n"
     ]
    },
    {
     "name": "stdout",
     "output_type": "stream",
     "text": [
      "lake 239 of 730\n"
     ]
    },
    {
     "name": "stderr",
     "output_type": "stream",
     "text": [
      "/home/mette/master/fpv_energy_yield_norway/src/FPVsimulation/pvsystem.py:83: UserWarning: Geometry is in a geographic CRS. Results from 'distance' are likely incorrect. Use 'GeoSeries.to_crs()' to re-project geometries to a projected CRS before this operation.\n",
      "\n",
      "  soiling_loss_gdf['distance'] = soiling_loss_NS3031_gdf['geometry'].distance(center)\n"
     ]
    },
    {
     "name": "stdout",
     "output_type": "stream",
     "text": [
      "lake 240 of 730\n"
     ]
    },
    {
     "name": "stderr",
     "output_type": "stream",
     "text": [
      "/home/mette/master/fpv_energy_yield_norway/src/FPVsimulation/pvsystem.py:83: UserWarning: Geometry is in a geographic CRS. Results from 'distance' are likely incorrect. Use 'GeoSeries.to_crs()' to re-project geometries to a projected CRS before this operation.\n",
      "\n",
      "  soiling_loss_gdf['distance'] = soiling_loss_NS3031_gdf['geometry'].distance(center)\n"
     ]
    },
    {
     "name": "stdout",
     "output_type": "stream",
     "text": [
      "lake 241 of 730\n"
     ]
    },
    {
     "name": "stderr",
     "output_type": "stream",
     "text": [
      "/home/mette/master/fpv_energy_yield_norway/src/FPVsimulation/pvsystem.py:83: UserWarning: Geometry is in a geographic CRS. Results from 'distance' are likely incorrect. Use 'GeoSeries.to_crs()' to re-project geometries to a projected CRS before this operation.\n",
      "\n",
      "  soiling_loss_gdf['distance'] = soiling_loss_NS3031_gdf['geometry'].distance(center)\n"
     ]
    },
    {
     "name": "stdout",
     "output_type": "stream",
     "text": [
      "lake 242 of 730\n"
     ]
    },
    {
     "name": "stderr",
     "output_type": "stream",
     "text": [
      "/home/mette/master/fpv_energy_yield_norway/src/FPVsimulation/pvsystem.py:83: UserWarning: Geometry is in a geographic CRS. Results from 'distance' are likely incorrect. Use 'GeoSeries.to_crs()' to re-project geometries to a projected CRS before this operation.\n",
      "\n",
      "  soiling_loss_gdf['distance'] = soiling_loss_NS3031_gdf['geometry'].distance(center)\n"
     ]
    },
    {
     "name": "stdout",
     "output_type": "stream",
     "text": [
      "lake 243 of 730\n"
     ]
    },
    {
     "name": "stderr",
     "output_type": "stream",
     "text": [
      "/home/mette/master/fpv_energy_yield_norway/src/FPVsimulation/pvsystem.py:83: UserWarning: Geometry is in a geographic CRS. Results from 'distance' are likely incorrect. Use 'GeoSeries.to_crs()' to re-project geometries to a projected CRS before this operation.\n",
      "\n",
      "  soiling_loss_gdf['distance'] = soiling_loss_NS3031_gdf['geometry'].distance(center)\n"
     ]
    },
    {
     "name": "stdout",
     "output_type": "stream",
     "text": [
      "lake 244 of 730\n"
     ]
    },
    {
     "name": "stderr",
     "output_type": "stream",
     "text": [
      "/home/mette/master/fpv_energy_yield_norway/src/FPVsimulation/pvsystem.py:83: UserWarning: Geometry is in a geographic CRS. Results from 'distance' are likely incorrect. Use 'GeoSeries.to_crs()' to re-project geometries to a projected CRS before this operation.\n",
      "\n",
      "  soiling_loss_gdf['distance'] = soiling_loss_NS3031_gdf['geometry'].distance(center)\n"
     ]
    },
    {
     "name": "stdout",
     "output_type": "stream",
     "text": [
      "lake 245 of 730\n"
     ]
    },
    {
     "name": "stderr",
     "output_type": "stream",
     "text": [
      "/home/mette/master/fpv_energy_yield_norway/src/FPVsimulation/pvsystem.py:83: UserWarning: Geometry is in a geographic CRS. Results from 'distance' are likely incorrect. Use 'GeoSeries.to_crs()' to re-project geometries to a projected CRS before this operation.\n",
      "\n",
      "  soiling_loss_gdf['distance'] = soiling_loss_NS3031_gdf['geometry'].distance(center)\n"
     ]
    },
    {
     "name": "stdout",
     "output_type": "stream",
     "text": [
      "lake 246 of 730\n"
     ]
    },
    {
     "name": "stderr",
     "output_type": "stream",
     "text": [
      "/home/mette/master/fpv_energy_yield_norway/src/FPVsimulation/pvsystem.py:83: UserWarning: Geometry is in a geographic CRS. Results from 'distance' are likely incorrect. Use 'GeoSeries.to_crs()' to re-project geometries to a projected CRS before this operation.\n",
      "\n",
      "  soiling_loss_gdf['distance'] = soiling_loss_NS3031_gdf['geometry'].distance(center)\n"
     ]
    },
    {
     "name": "stdout",
     "output_type": "stream",
     "text": [
      "lake 247 of 730\n"
     ]
    },
    {
     "name": "stderr",
     "output_type": "stream",
     "text": [
      "/home/mette/master/fpv_energy_yield_norway/src/FPVsimulation/pvsystem.py:83: UserWarning: Geometry is in a geographic CRS. Results from 'distance' are likely incorrect. Use 'GeoSeries.to_crs()' to re-project geometries to a projected CRS before this operation.\n",
      "\n",
      "  soiling_loss_gdf['distance'] = soiling_loss_NS3031_gdf['geometry'].distance(center)\n"
     ]
    },
    {
     "name": "stdout",
     "output_type": "stream",
     "text": [
      "lake 248 of 730\n"
     ]
    },
    {
     "name": "stderr",
     "output_type": "stream",
     "text": [
      "/home/mette/master/fpv_energy_yield_norway/src/FPVsimulation/pvsystem.py:83: UserWarning: Geometry is in a geographic CRS. Results from 'distance' are likely incorrect. Use 'GeoSeries.to_crs()' to re-project geometries to a projected CRS before this operation.\n",
      "\n",
      "  soiling_loss_gdf['distance'] = soiling_loss_NS3031_gdf['geometry'].distance(center)\n"
     ]
    },
    {
     "name": "stdout",
     "output_type": "stream",
     "text": [
      "lake 249 of 730\n"
     ]
    },
    {
     "name": "stderr",
     "output_type": "stream",
     "text": [
      "/home/mette/master/fpv_energy_yield_norway/src/FPVsimulation/pvsystem.py:83: UserWarning: Geometry is in a geographic CRS. Results from 'distance' are likely incorrect. Use 'GeoSeries.to_crs()' to re-project geometries to a projected CRS before this operation.\n",
      "\n",
      "  soiling_loss_gdf['distance'] = soiling_loss_NS3031_gdf['geometry'].distance(center)\n"
     ]
    },
    {
     "name": "stdout",
     "output_type": "stream",
     "text": [
      "lake 250 of 730\n"
     ]
    },
    {
     "name": "stderr",
     "output_type": "stream",
     "text": [
      "/home/mette/master/fpv_energy_yield_norway/src/FPVsimulation/pvsystem.py:83: UserWarning: Geometry is in a geographic CRS. Results from 'distance' are likely incorrect. Use 'GeoSeries.to_crs()' to re-project geometries to a projected CRS before this operation.\n",
      "\n",
      "  soiling_loss_gdf['distance'] = soiling_loss_NS3031_gdf['geometry'].distance(center)\n"
     ]
    },
    {
     "name": "stdout",
     "output_type": "stream",
     "text": [
      "lake 251 of 730\n"
     ]
    },
    {
     "name": "stderr",
     "output_type": "stream",
     "text": [
      "/home/mette/master/fpv_energy_yield_norway/src/FPVsimulation/pvsystem.py:83: UserWarning: Geometry is in a geographic CRS. Results from 'distance' are likely incorrect. Use 'GeoSeries.to_crs()' to re-project geometries to a projected CRS before this operation.\n",
      "\n",
      "  soiling_loss_gdf['distance'] = soiling_loss_NS3031_gdf['geometry'].distance(center)\n"
     ]
    },
    {
     "name": "stdout",
     "output_type": "stream",
     "text": [
      "lake 252 of 730\n"
     ]
    },
    {
     "name": "stderr",
     "output_type": "stream",
     "text": [
      "/home/mette/master/fpv_energy_yield_norway/src/FPVsimulation/pvsystem.py:83: UserWarning: Geometry is in a geographic CRS. Results from 'distance' are likely incorrect. Use 'GeoSeries.to_crs()' to re-project geometries to a projected CRS before this operation.\n",
      "\n",
      "  soiling_loss_gdf['distance'] = soiling_loss_NS3031_gdf['geometry'].distance(center)\n"
     ]
    },
    {
     "name": "stdout",
     "output_type": "stream",
     "text": [
      "lake 253 of 730\n"
     ]
    },
    {
     "name": "stderr",
     "output_type": "stream",
     "text": [
      "/home/mette/master/fpv_energy_yield_norway/src/FPVsimulation/pvsystem.py:83: UserWarning: Geometry is in a geographic CRS. Results from 'distance' are likely incorrect. Use 'GeoSeries.to_crs()' to re-project geometries to a projected CRS before this operation.\n",
      "\n",
      "  soiling_loss_gdf['distance'] = soiling_loss_NS3031_gdf['geometry'].distance(center)\n"
     ]
    },
    {
     "name": "stdout",
     "output_type": "stream",
     "text": [
      "lake 254 of 730\n"
     ]
    },
    {
     "name": "stderr",
     "output_type": "stream",
     "text": [
      "/home/mette/master/fpv_energy_yield_norway/src/FPVsimulation/pvsystem.py:83: UserWarning: Geometry is in a geographic CRS. Results from 'distance' are likely incorrect. Use 'GeoSeries.to_crs()' to re-project geometries to a projected CRS before this operation.\n",
      "\n",
      "  soiling_loss_gdf['distance'] = soiling_loss_NS3031_gdf['geometry'].distance(center)\n"
     ]
    },
    {
     "name": "stdout",
     "output_type": "stream",
     "text": [
      "lake 255 of 730\n"
     ]
    },
    {
     "name": "stderr",
     "output_type": "stream",
     "text": [
      "/home/mette/master/fpv_energy_yield_norway/src/FPVsimulation/pvsystem.py:83: UserWarning: Geometry is in a geographic CRS. Results from 'distance' are likely incorrect. Use 'GeoSeries.to_crs()' to re-project geometries to a projected CRS before this operation.\n",
      "\n",
      "  soiling_loss_gdf['distance'] = soiling_loss_NS3031_gdf['geometry'].distance(center)\n"
     ]
    },
    {
     "name": "stdout",
     "output_type": "stream",
     "text": [
      "lake 256 of 730\n"
     ]
    },
    {
     "name": "stderr",
     "output_type": "stream",
     "text": [
      "/home/mette/master/fpv_energy_yield_norway/src/FPVsimulation/pvsystem.py:83: UserWarning: Geometry is in a geographic CRS. Results from 'distance' are likely incorrect. Use 'GeoSeries.to_crs()' to re-project geometries to a projected CRS before this operation.\n",
      "\n",
      "  soiling_loss_gdf['distance'] = soiling_loss_NS3031_gdf['geometry'].distance(center)\n"
     ]
    },
    {
     "name": "stdout",
     "output_type": "stream",
     "text": [
      "lake 257 of 730\n"
     ]
    },
    {
     "name": "stderr",
     "output_type": "stream",
     "text": [
      "/home/mette/master/fpv_energy_yield_norway/src/FPVsimulation/pvsystem.py:83: UserWarning: Geometry is in a geographic CRS. Results from 'distance' are likely incorrect. Use 'GeoSeries.to_crs()' to re-project geometries to a projected CRS before this operation.\n",
      "\n",
      "  soiling_loss_gdf['distance'] = soiling_loss_NS3031_gdf['geometry'].distance(center)\n"
     ]
    },
    {
     "name": "stdout",
     "output_type": "stream",
     "text": [
      "lake 258 of 730\n"
     ]
    },
    {
     "name": "stderr",
     "output_type": "stream",
     "text": [
      "/home/mette/master/fpv_energy_yield_norway/src/FPVsimulation/pvsystem.py:83: UserWarning: Geometry is in a geographic CRS. Results from 'distance' are likely incorrect. Use 'GeoSeries.to_crs()' to re-project geometries to a projected CRS before this operation.\n",
      "\n",
      "  soiling_loss_gdf['distance'] = soiling_loss_NS3031_gdf['geometry'].distance(center)\n"
     ]
    },
    {
     "name": "stdout",
     "output_type": "stream",
     "text": [
      "lake 259 of 730\n"
     ]
    },
    {
     "name": "stderr",
     "output_type": "stream",
     "text": [
      "/home/mette/master/fpv_energy_yield_norway/src/FPVsimulation/pvsystem.py:83: UserWarning: Geometry is in a geographic CRS. Results from 'distance' are likely incorrect. Use 'GeoSeries.to_crs()' to re-project geometries to a projected CRS before this operation.\n",
      "\n",
      "  soiling_loss_gdf['distance'] = soiling_loss_NS3031_gdf['geometry'].distance(center)\n"
     ]
    },
    {
     "name": "stdout",
     "output_type": "stream",
     "text": [
      "lake 260 of 730\n"
     ]
    },
    {
     "name": "stderr",
     "output_type": "stream",
     "text": [
      "/home/mette/master/fpv_energy_yield_norway/src/FPVsimulation/pvsystem.py:83: UserWarning: Geometry is in a geographic CRS. Results from 'distance' are likely incorrect. Use 'GeoSeries.to_crs()' to re-project geometries to a projected CRS before this operation.\n",
      "\n",
      "  soiling_loss_gdf['distance'] = soiling_loss_NS3031_gdf['geometry'].distance(center)\n"
     ]
    },
    {
     "name": "stdout",
     "output_type": "stream",
     "text": [
      "lake 261 of 730\n"
     ]
    },
    {
     "name": "stderr",
     "output_type": "stream",
     "text": [
      "/home/mette/master/fpv_energy_yield_norway/src/FPVsimulation/pvsystem.py:83: UserWarning: Geometry is in a geographic CRS. Results from 'distance' are likely incorrect. Use 'GeoSeries.to_crs()' to re-project geometries to a projected CRS before this operation.\n",
      "\n",
      "  soiling_loss_gdf['distance'] = soiling_loss_NS3031_gdf['geometry'].distance(center)\n"
     ]
    },
    {
     "name": "stdout",
     "output_type": "stream",
     "text": [
      "lake 262 of 730\n"
     ]
    },
    {
     "name": "stderr",
     "output_type": "stream",
     "text": [
      "/home/mette/master/fpv_energy_yield_norway/src/FPVsimulation/pvsystem.py:83: UserWarning: Geometry is in a geographic CRS. Results from 'distance' are likely incorrect. Use 'GeoSeries.to_crs()' to re-project geometries to a projected CRS before this operation.\n",
      "\n",
      "  soiling_loss_gdf['distance'] = soiling_loss_NS3031_gdf['geometry'].distance(center)\n"
     ]
    },
    {
     "name": "stdout",
     "output_type": "stream",
     "text": [
      "lake 263 of 730\n"
     ]
    },
    {
     "name": "stderr",
     "output_type": "stream",
     "text": [
      "/home/mette/master/fpv_energy_yield_norway/src/FPVsimulation/pvsystem.py:83: UserWarning: Geometry is in a geographic CRS. Results from 'distance' are likely incorrect. Use 'GeoSeries.to_crs()' to re-project geometries to a projected CRS before this operation.\n",
      "\n",
      "  soiling_loss_gdf['distance'] = soiling_loss_NS3031_gdf['geometry'].distance(center)\n"
     ]
    },
    {
     "name": "stdout",
     "output_type": "stream",
     "text": [
      "lake 264 of 730\n"
     ]
    },
    {
     "name": "stderr",
     "output_type": "stream",
     "text": [
      "/home/mette/master/fpv_energy_yield_norway/src/FPVsimulation/pvsystem.py:83: UserWarning: Geometry is in a geographic CRS. Results from 'distance' are likely incorrect. Use 'GeoSeries.to_crs()' to re-project geometries to a projected CRS before this operation.\n",
      "\n",
      "  soiling_loss_gdf['distance'] = soiling_loss_NS3031_gdf['geometry'].distance(center)\n"
     ]
    },
    {
     "name": "stdout",
     "output_type": "stream",
     "text": [
      "lake 265 of 730\n"
     ]
    },
    {
     "name": "stderr",
     "output_type": "stream",
     "text": [
      "/home/mette/master/fpv_energy_yield_norway/src/FPVsimulation/pvsystem.py:83: UserWarning: Geometry is in a geographic CRS. Results from 'distance' are likely incorrect. Use 'GeoSeries.to_crs()' to re-project geometries to a projected CRS before this operation.\n",
      "\n",
      "  soiling_loss_gdf['distance'] = soiling_loss_NS3031_gdf['geometry'].distance(center)\n"
     ]
    },
    {
     "name": "stdout",
     "output_type": "stream",
     "text": [
      "lake 266 of 730\n"
     ]
    },
    {
     "name": "stderr",
     "output_type": "stream",
     "text": [
      "/home/mette/master/fpv_energy_yield_norway/src/FPVsimulation/pvsystem.py:83: UserWarning: Geometry is in a geographic CRS. Results from 'distance' are likely incorrect. Use 'GeoSeries.to_crs()' to re-project geometries to a projected CRS before this operation.\n",
      "\n",
      "  soiling_loss_gdf['distance'] = soiling_loss_NS3031_gdf['geometry'].distance(center)\n"
     ]
    },
    {
     "name": "stdout",
     "output_type": "stream",
     "text": [
      "lake 267 of 730\n"
     ]
    },
    {
     "name": "stderr",
     "output_type": "stream",
     "text": [
      "/home/mette/master/fpv_energy_yield_norway/src/FPVsimulation/pvsystem.py:83: UserWarning: Geometry is in a geographic CRS. Results from 'distance' are likely incorrect. Use 'GeoSeries.to_crs()' to re-project geometries to a projected CRS before this operation.\n",
      "\n",
      "  soiling_loss_gdf['distance'] = soiling_loss_NS3031_gdf['geometry'].distance(center)\n"
     ]
    },
    {
     "name": "stdout",
     "output_type": "stream",
     "text": [
      "lake 268 of 730\n"
     ]
    },
    {
     "name": "stderr",
     "output_type": "stream",
     "text": [
      "/home/mette/master/fpv_energy_yield_norway/src/FPVsimulation/pvsystem.py:83: UserWarning: Geometry is in a geographic CRS. Results from 'distance' are likely incorrect. Use 'GeoSeries.to_crs()' to re-project geometries to a projected CRS before this operation.\n",
      "\n",
      "  soiling_loss_gdf['distance'] = soiling_loss_NS3031_gdf['geometry'].distance(center)\n"
     ]
    },
    {
     "name": "stdout",
     "output_type": "stream",
     "text": [
      "lake 269 of 730\n"
     ]
    },
    {
     "name": "stderr",
     "output_type": "stream",
     "text": [
      "/home/mette/master/fpv_energy_yield_norway/src/FPVsimulation/pvsystem.py:83: UserWarning: Geometry is in a geographic CRS. Results from 'distance' are likely incorrect. Use 'GeoSeries.to_crs()' to re-project geometries to a projected CRS before this operation.\n",
      "\n",
      "  soiling_loss_gdf['distance'] = soiling_loss_NS3031_gdf['geometry'].distance(center)\n"
     ]
    },
    {
     "name": "stdout",
     "output_type": "stream",
     "text": [
      "lake 270 of 730\n"
     ]
    },
    {
     "name": "stderr",
     "output_type": "stream",
     "text": [
      "/home/mette/master/fpv_energy_yield_norway/src/FPVsimulation/pvsystem.py:83: UserWarning: Geometry is in a geographic CRS. Results from 'distance' are likely incorrect. Use 'GeoSeries.to_crs()' to re-project geometries to a projected CRS before this operation.\n",
      "\n",
      "  soiling_loss_gdf['distance'] = soiling_loss_NS3031_gdf['geometry'].distance(center)\n"
     ]
    },
    {
     "name": "stdout",
     "output_type": "stream",
     "text": [
      "lake 271 of 730\n"
     ]
    },
    {
     "name": "stderr",
     "output_type": "stream",
     "text": [
      "/home/mette/master/fpv_energy_yield_norway/src/FPVsimulation/pvsystem.py:83: UserWarning: Geometry is in a geographic CRS. Results from 'distance' are likely incorrect. Use 'GeoSeries.to_crs()' to re-project geometries to a projected CRS before this operation.\n",
      "\n",
      "  soiling_loss_gdf['distance'] = soiling_loss_NS3031_gdf['geometry'].distance(center)\n"
     ]
    },
    {
     "name": "stdout",
     "output_type": "stream",
     "text": [
      "lake 272 of 730\n"
     ]
    },
    {
     "name": "stderr",
     "output_type": "stream",
     "text": [
      "/home/mette/master/fpv_energy_yield_norway/src/FPVsimulation/pvsystem.py:83: UserWarning: Geometry is in a geographic CRS. Results from 'distance' are likely incorrect. Use 'GeoSeries.to_crs()' to re-project geometries to a projected CRS before this operation.\n",
      "\n",
      "  soiling_loss_gdf['distance'] = soiling_loss_NS3031_gdf['geometry'].distance(center)\n"
     ]
    },
    {
     "name": "stdout",
     "output_type": "stream",
     "text": [
      "lake 273 of 730\n"
     ]
    },
    {
     "name": "stderr",
     "output_type": "stream",
     "text": [
      "/home/mette/master/fpv_energy_yield_norway/src/FPVsimulation/pvsystem.py:83: UserWarning: Geometry is in a geographic CRS. Results from 'distance' are likely incorrect. Use 'GeoSeries.to_crs()' to re-project geometries to a projected CRS before this operation.\n",
      "\n",
      "  soiling_loss_gdf['distance'] = soiling_loss_NS3031_gdf['geometry'].distance(center)\n"
     ]
    },
    {
     "name": "stdout",
     "output_type": "stream",
     "text": [
      "lake 274 of 730\n"
     ]
    },
    {
     "name": "stderr",
     "output_type": "stream",
     "text": [
      "/home/mette/master/fpv_energy_yield_norway/src/FPVsimulation/pvsystem.py:83: UserWarning: Geometry is in a geographic CRS. Results from 'distance' are likely incorrect. Use 'GeoSeries.to_crs()' to re-project geometries to a projected CRS before this operation.\n",
      "\n",
      "  soiling_loss_gdf['distance'] = soiling_loss_NS3031_gdf['geometry'].distance(center)\n"
     ]
    },
    {
     "name": "stdout",
     "output_type": "stream",
     "text": [
      "lake 275 of 730\n"
     ]
    },
    {
     "name": "stderr",
     "output_type": "stream",
     "text": [
      "/home/mette/master/fpv_energy_yield_norway/src/FPVsimulation/pvsystem.py:83: UserWarning: Geometry is in a geographic CRS. Results from 'distance' are likely incorrect. Use 'GeoSeries.to_crs()' to re-project geometries to a projected CRS before this operation.\n",
      "\n",
      "  soiling_loss_gdf['distance'] = soiling_loss_NS3031_gdf['geometry'].distance(center)\n"
     ]
    },
    {
     "name": "stdout",
     "output_type": "stream",
     "text": [
      "lake 276 of 730\n"
     ]
    },
    {
     "name": "stderr",
     "output_type": "stream",
     "text": [
      "/home/mette/master/fpv_energy_yield_norway/src/FPVsimulation/pvsystem.py:83: UserWarning: Geometry is in a geographic CRS. Results from 'distance' are likely incorrect. Use 'GeoSeries.to_crs()' to re-project geometries to a projected CRS before this operation.\n",
      "\n",
      "  soiling_loss_gdf['distance'] = soiling_loss_NS3031_gdf['geometry'].distance(center)\n"
     ]
    },
    {
     "name": "stdout",
     "output_type": "stream",
     "text": [
      "lake 277 of 730\n"
     ]
    },
    {
     "name": "stderr",
     "output_type": "stream",
     "text": [
      "/home/mette/master/fpv_energy_yield_norway/src/FPVsimulation/pvsystem.py:83: UserWarning: Geometry is in a geographic CRS. Results from 'distance' are likely incorrect. Use 'GeoSeries.to_crs()' to re-project geometries to a projected CRS before this operation.\n",
      "\n",
      "  soiling_loss_gdf['distance'] = soiling_loss_NS3031_gdf['geometry'].distance(center)\n"
     ]
    },
    {
     "name": "stdout",
     "output_type": "stream",
     "text": [
      "lake 278 of 730\n"
     ]
    },
    {
     "name": "stderr",
     "output_type": "stream",
     "text": [
      "/home/mette/master/fpv_energy_yield_norway/src/FPVsimulation/pvsystem.py:83: UserWarning: Geometry is in a geographic CRS. Results from 'distance' are likely incorrect. Use 'GeoSeries.to_crs()' to re-project geometries to a projected CRS before this operation.\n",
      "\n",
      "  soiling_loss_gdf['distance'] = soiling_loss_NS3031_gdf['geometry'].distance(center)\n"
     ]
    },
    {
     "name": "stdout",
     "output_type": "stream",
     "text": [
      "lake 279 of 730\n"
     ]
    },
    {
     "name": "stderr",
     "output_type": "stream",
     "text": [
      "/home/mette/master/fpv_energy_yield_norway/src/FPVsimulation/pvsystem.py:83: UserWarning: Geometry is in a geographic CRS. Results from 'distance' are likely incorrect. Use 'GeoSeries.to_crs()' to re-project geometries to a projected CRS before this operation.\n",
      "\n",
      "  soiling_loss_gdf['distance'] = soiling_loss_NS3031_gdf['geometry'].distance(center)\n"
     ]
    },
    {
     "name": "stdout",
     "output_type": "stream",
     "text": [
      "lake 280 of 730\n"
     ]
    },
    {
     "name": "stderr",
     "output_type": "stream",
     "text": [
      "/home/mette/master/fpv_energy_yield_norway/src/FPVsimulation/pvsystem.py:83: UserWarning: Geometry is in a geographic CRS. Results from 'distance' are likely incorrect. Use 'GeoSeries.to_crs()' to re-project geometries to a projected CRS before this operation.\n",
      "\n",
      "  soiling_loss_gdf['distance'] = soiling_loss_NS3031_gdf['geometry'].distance(center)\n"
     ]
    },
    {
     "name": "stdout",
     "output_type": "stream",
     "text": [
      "lake 281 of 730\n"
     ]
    },
    {
     "name": "stderr",
     "output_type": "stream",
     "text": [
      "/home/mette/master/fpv_energy_yield_norway/src/FPVsimulation/pvsystem.py:83: UserWarning: Geometry is in a geographic CRS. Results from 'distance' are likely incorrect. Use 'GeoSeries.to_crs()' to re-project geometries to a projected CRS before this operation.\n",
      "\n",
      "  soiling_loss_gdf['distance'] = soiling_loss_NS3031_gdf['geometry'].distance(center)\n"
     ]
    },
    {
     "name": "stdout",
     "output_type": "stream",
     "text": [
      "lake 282 of 730\n"
     ]
    },
    {
     "name": "stderr",
     "output_type": "stream",
     "text": [
      "/home/mette/master/fpv_energy_yield_norway/src/FPVsimulation/pvsystem.py:83: UserWarning: Geometry is in a geographic CRS. Results from 'distance' are likely incorrect. Use 'GeoSeries.to_crs()' to re-project geometries to a projected CRS before this operation.\n",
      "\n",
      "  soiling_loss_gdf['distance'] = soiling_loss_NS3031_gdf['geometry'].distance(center)\n"
     ]
    },
    {
     "name": "stdout",
     "output_type": "stream",
     "text": [
      "lake 283 of 730\n"
     ]
    },
    {
     "name": "stderr",
     "output_type": "stream",
     "text": [
      "/home/mette/master/fpv_energy_yield_norway/src/FPVsimulation/pvsystem.py:83: UserWarning: Geometry is in a geographic CRS. Results from 'distance' are likely incorrect. Use 'GeoSeries.to_crs()' to re-project geometries to a projected CRS before this operation.\n",
      "\n",
      "  soiling_loss_gdf['distance'] = soiling_loss_NS3031_gdf['geometry'].distance(center)\n"
     ]
    },
    {
     "name": "stdout",
     "output_type": "stream",
     "text": [
      "lake 284 of 730\n"
     ]
    },
    {
     "name": "stderr",
     "output_type": "stream",
     "text": [
      "/home/mette/master/fpv_energy_yield_norway/src/FPVsimulation/pvsystem.py:83: UserWarning: Geometry is in a geographic CRS. Results from 'distance' are likely incorrect. Use 'GeoSeries.to_crs()' to re-project geometries to a projected CRS before this operation.\n",
      "\n",
      "  soiling_loss_gdf['distance'] = soiling_loss_NS3031_gdf['geometry'].distance(center)\n"
     ]
    },
    {
     "name": "stdout",
     "output_type": "stream",
     "text": [
      "lake 285 of 730\n"
     ]
    },
    {
     "name": "stderr",
     "output_type": "stream",
     "text": [
      "/home/mette/master/fpv_energy_yield_norway/src/FPVsimulation/pvsystem.py:83: UserWarning: Geometry is in a geographic CRS. Results from 'distance' are likely incorrect. Use 'GeoSeries.to_crs()' to re-project geometries to a projected CRS before this operation.\n",
      "\n",
      "  soiling_loss_gdf['distance'] = soiling_loss_NS3031_gdf['geometry'].distance(center)\n"
     ]
    },
    {
     "name": "stdout",
     "output_type": "stream",
     "text": [
      "lake 286 of 730\n"
     ]
    },
    {
     "name": "stderr",
     "output_type": "stream",
     "text": [
      "/home/mette/master/fpv_energy_yield_norway/src/FPVsimulation/pvsystem.py:83: UserWarning: Geometry is in a geographic CRS. Results from 'distance' are likely incorrect. Use 'GeoSeries.to_crs()' to re-project geometries to a projected CRS before this operation.\n",
      "\n",
      "  soiling_loss_gdf['distance'] = soiling_loss_NS3031_gdf['geometry'].distance(center)\n"
     ]
    },
    {
     "name": "stdout",
     "output_type": "stream",
     "text": [
      "lake 287 of 730\n"
     ]
    },
    {
     "name": "stderr",
     "output_type": "stream",
     "text": [
      "/home/mette/master/fpv_energy_yield_norway/src/FPVsimulation/pvsystem.py:83: UserWarning: Geometry is in a geographic CRS. Results from 'distance' are likely incorrect. Use 'GeoSeries.to_crs()' to re-project geometries to a projected CRS before this operation.\n",
      "\n",
      "  soiling_loss_gdf['distance'] = soiling_loss_NS3031_gdf['geometry'].distance(center)\n"
     ]
    },
    {
     "name": "stdout",
     "output_type": "stream",
     "text": [
      "lake 288 of 730\n"
     ]
    },
    {
     "name": "stderr",
     "output_type": "stream",
     "text": [
      "/home/mette/master/fpv_energy_yield_norway/src/FPVsimulation/pvsystem.py:83: UserWarning: Geometry is in a geographic CRS. Results from 'distance' are likely incorrect. Use 'GeoSeries.to_crs()' to re-project geometries to a projected CRS before this operation.\n",
      "\n",
      "  soiling_loss_gdf['distance'] = soiling_loss_NS3031_gdf['geometry'].distance(center)\n"
     ]
    },
    {
     "name": "stdout",
     "output_type": "stream",
     "text": [
      "lake 289 of 730\n"
     ]
    },
    {
     "name": "stderr",
     "output_type": "stream",
     "text": [
      "/home/mette/master/fpv_energy_yield_norway/src/FPVsimulation/pvsystem.py:83: UserWarning: Geometry is in a geographic CRS. Results from 'distance' are likely incorrect. Use 'GeoSeries.to_crs()' to re-project geometries to a projected CRS before this operation.\n",
      "\n",
      "  soiling_loss_gdf['distance'] = soiling_loss_NS3031_gdf['geometry'].distance(center)\n"
     ]
    },
    {
     "name": "stdout",
     "output_type": "stream",
     "text": [
      "lake 290 of 730\n"
     ]
    },
    {
     "name": "stderr",
     "output_type": "stream",
     "text": [
      "/home/mette/master/fpv_energy_yield_norway/src/FPVsimulation/pvsystem.py:83: UserWarning: Geometry is in a geographic CRS. Results from 'distance' are likely incorrect. Use 'GeoSeries.to_crs()' to re-project geometries to a projected CRS before this operation.\n",
      "\n",
      "  soiling_loss_gdf['distance'] = soiling_loss_NS3031_gdf['geometry'].distance(center)\n"
     ]
    },
    {
     "name": "stdout",
     "output_type": "stream",
     "text": [
      "lake 291 of 730\n"
     ]
    },
    {
     "name": "stderr",
     "output_type": "stream",
     "text": [
      "/home/mette/master/fpv_energy_yield_norway/src/FPVsimulation/pvsystem.py:83: UserWarning: Geometry is in a geographic CRS. Results from 'distance' are likely incorrect. Use 'GeoSeries.to_crs()' to re-project geometries to a projected CRS before this operation.\n",
      "\n",
      "  soiling_loss_gdf['distance'] = soiling_loss_NS3031_gdf['geometry'].distance(center)\n"
     ]
    },
    {
     "name": "stdout",
     "output_type": "stream",
     "text": [
      "lake 292 of 730\n"
     ]
    },
    {
     "name": "stderr",
     "output_type": "stream",
     "text": [
      "/home/mette/master/fpv_energy_yield_norway/src/FPVsimulation/pvsystem.py:83: UserWarning: Geometry is in a geographic CRS. Results from 'distance' are likely incorrect. Use 'GeoSeries.to_crs()' to re-project geometries to a projected CRS before this operation.\n",
      "\n",
      "  soiling_loss_gdf['distance'] = soiling_loss_NS3031_gdf['geometry'].distance(center)\n"
     ]
    },
    {
     "name": "stdout",
     "output_type": "stream",
     "text": [
      "lake 293 of 730\n"
     ]
    },
    {
     "name": "stderr",
     "output_type": "stream",
     "text": [
      "/home/mette/master/fpv_energy_yield_norway/src/FPVsimulation/pvsystem.py:83: UserWarning: Geometry is in a geographic CRS. Results from 'distance' are likely incorrect. Use 'GeoSeries.to_crs()' to re-project geometries to a projected CRS before this operation.\n",
      "\n",
      "  soiling_loss_gdf['distance'] = soiling_loss_NS3031_gdf['geometry'].distance(center)\n"
     ]
    },
    {
     "name": "stdout",
     "output_type": "stream",
     "text": [
      "lake 294 of 730\n"
     ]
    },
    {
     "name": "stderr",
     "output_type": "stream",
     "text": [
      "/home/mette/master/fpv_energy_yield_norway/src/FPVsimulation/pvsystem.py:83: UserWarning: Geometry is in a geographic CRS. Results from 'distance' are likely incorrect. Use 'GeoSeries.to_crs()' to re-project geometries to a projected CRS before this operation.\n",
      "\n",
      "  soiling_loss_gdf['distance'] = soiling_loss_NS3031_gdf['geometry'].distance(center)\n"
     ]
    },
    {
     "name": "stdout",
     "output_type": "stream",
     "text": [
      "lake 295 of 730\n"
     ]
    },
    {
     "name": "stderr",
     "output_type": "stream",
     "text": [
      "/home/mette/master/fpv_energy_yield_norway/src/FPVsimulation/pvsystem.py:83: UserWarning: Geometry is in a geographic CRS. Results from 'distance' are likely incorrect. Use 'GeoSeries.to_crs()' to re-project geometries to a projected CRS before this operation.\n",
      "\n",
      "  soiling_loss_gdf['distance'] = soiling_loss_NS3031_gdf['geometry'].distance(center)\n"
     ]
    },
    {
     "name": "stdout",
     "output_type": "stream",
     "text": [
      "lake 296 of 730\n"
     ]
    },
    {
     "name": "stderr",
     "output_type": "stream",
     "text": [
      "/home/mette/master/fpv_energy_yield_norway/src/FPVsimulation/pvsystem.py:83: UserWarning: Geometry is in a geographic CRS. Results from 'distance' are likely incorrect. Use 'GeoSeries.to_crs()' to re-project geometries to a projected CRS before this operation.\n",
      "\n",
      "  soiling_loss_gdf['distance'] = soiling_loss_NS3031_gdf['geometry'].distance(center)\n"
     ]
    },
    {
     "name": "stdout",
     "output_type": "stream",
     "text": [
      "lake 297 of 730\n"
     ]
    },
    {
     "name": "stderr",
     "output_type": "stream",
     "text": [
      "/home/mette/master/fpv_energy_yield_norway/src/FPVsimulation/pvsystem.py:83: UserWarning: Geometry is in a geographic CRS. Results from 'distance' are likely incorrect. Use 'GeoSeries.to_crs()' to re-project geometries to a projected CRS before this operation.\n",
      "\n",
      "  soiling_loss_gdf['distance'] = soiling_loss_NS3031_gdf['geometry'].distance(center)\n"
     ]
    },
    {
     "name": "stdout",
     "output_type": "stream",
     "text": [
      "lake 298 of 730\n"
     ]
    },
    {
     "name": "stderr",
     "output_type": "stream",
     "text": [
      "/home/mette/master/fpv_energy_yield_norway/src/FPVsimulation/pvsystem.py:83: UserWarning: Geometry is in a geographic CRS. Results from 'distance' are likely incorrect. Use 'GeoSeries.to_crs()' to re-project geometries to a projected CRS before this operation.\n",
      "\n",
      "  soiling_loss_gdf['distance'] = soiling_loss_NS3031_gdf['geometry'].distance(center)\n"
     ]
    },
    {
     "name": "stdout",
     "output_type": "stream",
     "text": [
      "lake 299 of 730\n"
     ]
    },
    {
     "name": "stderr",
     "output_type": "stream",
     "text": [
      "/home/mette/master/fpv_energy_yield_norway/src/FPVsimulation/pvsystem.py:83: UserWarning: Geometry is in a geographic CRS. Results from 'distance' are likely incorrect. Use 'GeoSeries.to_crs()' to re-project geometries to a projected CRS before this operation.\n",
      "\n",
      "  soiling_loss_gdf['distance'] = soiling_loss_NS3031_gdf['geometry'].distance(center)\n"
     ]
    },
    {
     "name": "stdout",
     "output_type": "stream",
     "text": [
      "lake 300 of 730\n"
     ]
    },
    {
     "name": "stderr",
     "output_type": "stream",
     "text": [
      "/home/mette/master/fpv_energy_yield_norway/src/FPVsimulation/pvsystem.py:83: UserWarning: Geometry is in a geographic CRS. Results from 'distance' are likely incorrect. Use 'GeoSeries.to_crs()' to re-project geometries to a projected CRS before this operation.\n",
      "\n",
      "  soiling_loss_gdf['distance'] = soiling_loss_NS3031_gdf['geometry'].distance(center)\n"
     ]
    },
    {
     "name": "stdout",
     "output_type": "stream",
     "text": [
      "lake 301 of 730\n"
     ]
    },
    {
     "name": "stderr",
     "output_type": "stream",
     "text": [
      "/home/mette/master/fpv_energy_yield_norway/src/FPVsimulation/pvsystem.py:83: UserWarning: Geometry is in a geographic CRS. Results from 'distance' are likely incorrect. Use 'GeoSeries.to_crs()' to re-project geometries to a projected CRS before this operation.\n",
      "\n",
      "  soiling_loss_gdf['distance'] = soiling_loss_NS3031_gdf['geometry'].distance(center)\n"
     ]
    },
    {
     "name": "stdout",
     "output_type": "stream",
     "text": [
      "lake 302 of 730\n"
     ]
    },
    {
     "name": "stderr",
     "output_type": "stream",
     "text": [
      "/home/mette/master/fpv_energy_yield_norway/src/FPVsimulation/pvsystem.py:83: UserWarning: Geometry is in a geographic CRS. Results from 'distance' are likely incorrect. Use 'GeoSeries.to_crs()' to re-project geometries to a projected CRS before this operation.\n",
      "\n",
      "  soiling_loss_gdf['distance'] = soiling_loss_NS3031_gdf['geometry'].distance(center)\n"
     ]
    },
    {
     "name": "stdout",
     "output_type": "stream",
     "text": [
      "lake 303 of 730\n"
     ]
    },
    {
     "name": "stderr",
     "output_type": "stream",
     "text": [
      "/home/mette/master/fpv_energy_yield_norway/src/FPVsimulation/pvsystem.py:83: UserWarning: Geometry is in a geographic CRS. Results from 'distance' are likely incorrect. Use 'GeoSeries.to_crs()' to re-project geometries to a projected CRS before this operation.\n",
      "\n",
      "  soiling_loss_gdf['distance'] = soiling_loss_NS3031_gdf['geometry'].distance(center)\n"
     ]
    },
    {
     "name": "stdout",
     "output_type": "stream",
     "text": [
      "lake 304 of 730\n"
     ]
    },
    {
     "name": "stderr",
     "output_type": "stream",
     "text": [
      "/home/mette/master/fpv_energy_yield_norway/src/FPVsimulation/pvsystem.py:83: UserWarning: Geometry is in a geographic CRS. Results from 'distance' are likely incorrect. Use 'GeoSeries.to_crs()' to re-project geometries to a projected CRS before this operation.\n",
      "\n",
      "  soiling_loss_gdf['distance'] = soiling_loss_NS3031_gdf['geometry'].distance(center)\n"
     ]
    },
    {
     "name": "stdout",
     "output_type": "stream",
     "text": [
      "lake 305 of 730\n"
     ]
    },
    {
     "name": "stderr",
     "output_type": "stream",
     "text": [
      "/home/mette/master/fpv_energy_yield_norway/src/FPVsimulation/pvsystem.py:83: UserWarning: Geometry is in a geographic CRS. Results from 'distance' are likely incorrect. Use 'GeoSeries.to_crs()' to re-project geometries to a projected CRS before this operation.\n",
      "\n",
      "  soiling_loss_gdf['distance'] = soiling_loss_NS3031_gdf['geometry'].distance(center)\n"
     ]
    },
    {
     "name": "stdout",
     "output_type": "stream",
     "text": [
      "lake 306 of 730\n"
     ]
    },
    {
     "name": "stderr",
     "output_type": "stream",
     "text": [
      "/home/mette/master/fpv_energy_yield_norway/src/FPVsimulation/pvsystem.py:83: UserWarning: Geometry is in a geographic CRS. Results from 'distance' are likely incorrect. Use 'GeoSeries.to_crs()' to re-project geometries to a projected CRS before this operation.\n",
      "\n",
      "  soiling_loss_gdf['distance'] = soiling_loss_NS3031_gdf['geometry'].distance(center)\n"
     ]
    },
    {
     "name": "stdout",
     "output_type": "stream",
     "text": [
      "lake 307 of 730\n"
     ]
    },
    {
     "name": "stderr",
     "output_type": "stream",
     "text": [
      "/home/mette/master/fpv_energy_yield_norway/src/FPVsimulation/pvsystem.py:83: UserWarning: Geometry is in a geographic CRS. Results from 'distance' are likely incorrect. Use 'GeoSeries.to_crs()' to re-project geometries to a projected CRS before this operation.\n",
      "\n",
      "  soiling_loss_gdf['distance'] = soiling_loss_NS3031_gdf['geometry'].distance(center)\n"
     ]
    },
    {
     "name": "stdout",
     "output_type": "stream",
     "text": [
      "lake 308 of 730\n"
     ]
    },
    {
     "name": "stderr",
     "output_type": "stream",
     "text": [
      "/home/mette/master/fpv_energy_yield_norway/src/FPVsimulation/pvsystem.py:83: UserWarning: Geometry is in a geographic CRS. Results from 'distance' are likely incorrect. Use 'GeoSeries.to_crs()' to re-project geometries to a projected CRS before this operation.\n",
      "\n",
      "  soiling_loss_gdf['distance'] = soiling_loss_NS3031_gdf['geometry'].distance(center)\n"
     ]
    },
    {
     "name": "stdout",
     "output_type": "stream",
     "text": [
      "lake 309 of 730\n"
     ]
    },
    {
     "name": "stderr",
     "output_type": "stream",
     "text": [
      "/home/mette/master/fpv_energy_yield_norway/src/FPVsimulation/pvsystem.py:83: UserWarning: Geometry is in a geographic CRS. Results from 'distance' are likely incorrect. Use 'GeoSeries.to_crs()' to re-project geometries to a projected CRS before this operation.\n",
      "\n",
      "  soiling_loss_gdf['distance'] = soiling_loss_NS3031_gdf['geometry'].distance(center)\n"
     ]
    },
    {
     "name": "stdout",
     "output_type": "stream",
     "text": [
      "lake 310 of 730\n"
     ]
    },
    {
     "name": "stderr",
     "output_type": "stream",
     "text": [
      "/home/mette/master/fpv_energy_yield_norway/src/FPVsimulation/pvsystem.py:83: UserWarning: Geometry is in a geographic CRS. Results from 'distance' are likely incorrect. Use 'GeoSeries.to_crs()' to re-project geometries to a projected CRS before this operation.\n",
      "\n",
      "  soiling_loss_gdf['distance'] = soiling_loss_NS3031_gdf['geometry'].distance(center)\n"
     ]
    },
    {
     "name": "stdout",
     "output_type": "stream",
     "text": [
      "lake 311 of 730\n"
     ]
    },
    {
     "name": "stderr",
     "output_type": "stream",
     "text": [
      "/home/mette/master/fpv_energy_yield_norway/src/FPVsimulation/pvsystem.py:83: UserWarning: Geometry is in a geographic CRS. Results from 'distance' are likely incorrect. Use 'GeoSeries.to_crs()' to re-project geometries to a projected CRS before this operation.\n",
      "\n",
      "  soiling_loss_gdf['distance'] = soiling_loss_NS3031_gdf['geometry'].distance(center)\n"
     ]
    },
    {
     "name": "stdout",
     "output_type": "stream",
     "text": [
      "lake 312 of 730\n"
     ]
    },
    {
     "name": "stderr",
     "output_type": "stream",
     "text": [
      "/home/mette/master/fpv_energy_yield_norway/src/FPVsimulation/pvsystem.py:83: UserWarning: Geometry is in a geographic CRS. Results from 'distance' are likely incorrect. Use 'GeoSeries.to_crs()' to re-project geometries to a projected CRS before this operation.\n",
      "\n",
      "  soiling_loss_gdf['distance'] = soiling_loss_NS3031_gdf['geometry'].distance(center)\n"
     ]
    },
    {
     "name": "stdout",
     "output_type": "stream",
     "text": [
      "lake 313 of 730\n"
     ]
    },
    {
     "name": "stderr",
     "output_type": "stream",
     "text": [
      "/home/mette/master/fpv_energy_yield_norway/src/FPVsimulation/pvsystem.py:83: UserWarning: Geometry is in a geographic CRS. Results from 'distance' are likely incorrect. Use 'GeoSeries.to_crs()' to re-project geometries to a projected CRS before this operation.\n",
      "\n",
      "  soiling_loss_gdf['distance'] = soiling_loss_NS3031_gdf['geometry'].distance(center)\n"
     ]
    },
    {
     "name": "stdout",
     "output_type": "stream",
     "text": [
      "lake 314 of 730\n"
     ]
    },
    {
     "name": "stderr",
     "output_type": "stream",
     "text": [
      "/home/mette/master/fpv_energy_yield_norway/src/FPVsimulation/pvsystem.py:83: UserWarning: Geometry is in a geographic CRS. Results from 'distance' are likely incorrect. Use 'GeoSeries.to_crs()' to re-project geometries to a projected CRS before this operation.\n",
      "\n",
      "  soiling_loss_gdf['distance'] = soiling_loss_NS3031_gdf['geometry'].distance(center)\n"
     ]
    },
    {
     "name": "stdout",
     "output_type": "stream",
     "text": [
      "lake 315 of 730\n"
     ]
    },
    {
     "name": "stderr",
     "output_type": "stream",
     "text": [
      "/home/mette/master/fpv_energy_yield_norway/src/FPVsimulation/pvsystem.py:83: UserWarning: Geometry is in a geographic CRS. Results from 'distance' are likely incorrect. Use 'GeoSeries.to_crs()' to re-project geometries to a projected CRS before this operation.\n",
      "\n",
      "  soiling_loss_gdf['distance'] = soiling_loss_NS3031_gdf['geometry'].distance(center)\n"
     ]
    },
    {
     "name": "stdout",
     "output_type": "stream",
     "text": [
      "lake 316 of 730\n"
     ]
    },
    {
     "name": "stderr",
     "output_type": "stream",
     "text": [
      "/home/mette/master/fpv_energy_yield_norway/src/FPVsimulation/pvsystem.py:83: UserWarning: Geometry is in a geographic CRS. Results from 'distance' are likely incorrect. Use 'GeoSeries.to_crs()' to re-project geometries to a projected CRS before this operation.\n",
      "\n",
      "  soiling_loss_gdf['distance'] = soiling_loss_NS3031_gdf['geometry'].distance(center)\n"
     ]
    },
    {
     "name": "stdout",
     "output_type": "stream",
     "text": [
      "lake 317 of 730\n"
     ]
    },
    {
     "name": "stderr",
     "output_type": "stream",
     "text": [
      "/home/mette/master/fpv_energy_yield_norway/src/FPVsimulation/pvsystem.py:83: UserWarning: Geometry is in a geographic CRS. Results from 'distance' are likely incorrect. Use 'GeoSeries.to_crs()' to re-project geometries to a projected CRS before this operation.\n",
      "\n",
      "  soiling_loss_gdf['distance'] = soiling_loss_NS3031_gdf['geometry'].distance(center)\n"
     ]
    },
    {
     "name": "stdout",
     "output_type": "stream",
     "text": [
      "lake 318 of 730\n"
     ]
    },
    {
     "name": "stderr",
     "output_type": "stream",
     "text": [
      "/home/mette/master/fpv_energy_yield_norway/src/FPVsimulation/pvsystem.py:83: UserWarning: Geometry is in a geographic CRS. Results from 'distance' are likely incorrect. Use 'GeoSeries.to_crs()' to re-project geometries to a projected CRS before this operation.\n",
      "\n",
      "  soiling_loss_gdf['distance'] = soiling_loss_NS3031_gdf['geometry'].distance(center)\n"
     ]
    },
    {
     "name": "stdout",
     "output_type": "stream",
     "text": [
      "lake 319 of 730\n"
     ]
    },
    {
     "name": "stderr",
     "output_type": "stream",
     "text": [
      "/home/mette/master/fpv_energy_yield_norway/src/FPVsimulation/pvsystem.py:83: UserWarning: Geometry is in a geographic CRS. Results from 'distance' are likely incorrect. Use 'GeoSeries.to_crs()' to re-project geometries to a projected CRS before this operation.\n",
      "\n",
      "  soiling_loss_gdf['distance'] = soiling_loss_NS3031_gdf['geometry'].distance(center)\n"
     ]
    },
    {
     "name": "stdout",
     "output_type": "stream",
     "text": [
      "lake 320 of 730\n"
     ]
    },
    {
     "name": "stderr",
     "output_type": "stream",
     "text": [
      "/home/mette/master/fpv_energy_yield_norway/src/FPVsimulation/pvsystem.py:83: UserWarning: Geometry is in a geographic CRS. Results from 'distance' are likely incorrect. Use 'GeoSeries.to_crs()' to re-project geometries to a projected CRS before this operation.\n",
      "\n",
      "  soiling_loss_gdf['distance'] = soiling_loss_NS3031_gdf['geometry'].distance(center)\n"
     ]
    },
    {
     "name": "stdout",
     "output_type": "stream",
     "text": [
      "lake 321 of 730\n"
     ]
    },
    {
     "name": "stderr",
     "output_type": "stream",
     "text": [
      "/home/mette/master/fpv_energy_yield_norway/src/FPVsimulation/pvsystem.py:83: UserWarning: Geometry is in a geographic CRS. Results from 'distance' are likely incorrect. Use 'GeoSeries.to_crs()' to re-project geometries to a projected CRS before this operation.\n",
      "\n",
      "  soiling_loss_gdf['distance'] = soiling_loss_NS3031_gdf['geometry'].distance(center)\n"
     ]
    },
    {
     "name": "stdout",
     "output_type": "stream",
     "text": [
      "lake 322 of 730\n"
     ]
    },
    {
     "name": "stderr",
     "output_type": "stream",
     "text": [
      "/home/mette/master/fpv_energy_yield_norway/src/FPVsimulation/pvsystem.py:83: UserWarning: Geometry is in a geographic CRS. Results from 'distance' are likely incorrect. Use 'GeoSeries.to_crs()' to re-project geometries to a projected CRS before this operation.\n",
      "\n",
      "  soiling_loss_gdf['distance'] = soiling_loss_NS3031_gdf['geometry'].distance(center)\n"
     ]
    },
    {
     "name": "stdout",
     "output_type": "stream",
     "text": [
      "lake 323 of 730\n"
     ]
    },
    {
     "name": "stderr",
     "output_type": "stream",
     "text": [
      "/home/mette/master/fpv_energy_yield_norway/src/FPVsimulation/pvsystem.py:83: UserWarning: Geometry is in a geographic CRS. Results from 'distance' are likely incorrect. Use 'GeoSeries.to_crs()' to re-project geometries to a projected CRS before this operation.\n",
      "\n",
      "  soiling_loss_gdf['distance'] = soiling_loss_NS3031_gdf['geometry'].distance(center)\n"
     ]
    },
    {
     "name": "stdout",
     "output_type": "stream",
     "text": [
      "lake 324 of 730\n"
     ]
    },
    {
     "name": "stderr",
     "output_type": "stream",
     "text": [
      "/home/mette/master/fpv_energy_yield_norway/src/FPVsimulation/pvsystem.py:83: UserWarning: Geometry is in a geographic CRS. Results from 'distance' are likely incorrect. Use 'GeoSeries.to_crs()' to re-project geometries to a projected CRS before this operation.\n",
      "\n",
      "  soiling_loss_gdf['distance'] = soiling_loss_NS3031_gdf['geometry'].distance(center)\n"
     ]
    },
    {
     "name": "stdout",
     "output_type": "stream",
     "text": [
      "lake 325 of 730\n"
     ]
    },
    {
     "name": "stderr",
     "output_type": "stream",
     "text": [
      "/home/mette/master/fpv_energy_yield_norway/src/FPVsimulation/pvsystem.py:83: UserWarning: Geometry is in a geographic CRS. Results from 'distance' are likely incorrect. Use 'GeoSeries.to_crs()' to re-project geometries to a projected CRS before this operation.\n",
      "\n",
      "  soiling_loss_gdf['distance'] = soiling_loss_NS3031_gdf['geometry'].distance(center)\n"
     ]
    },
    {
     "name": "stdout",
     "output_type": "stream",
     "text": [
      "lake 326 of 730\n"
     ]
    },
    {
     "name": "stderr",
     "output_type": "stream",
     "text": [
      "/home/mette/master/fpv_energy_yield_norway/src/FPVsimulation/pvsystem.py:83: UserWarning: Geometry is in a geographic CRS. Results from 'distance' are likely incorrect. Use 'GeoSeries.to_crs()' to re-project geometries to a projected CRS before this operation.\n",
      "\n",
      "  soiling_loss_gdf['distance'] = soiling_loss_NS3031_gdf['geometry'].distance(center)\n"
     ]
    },
    {
     "name": "stdout",
     "output_type": "stream",
     "text": [
      "lake 327 of 730\n"
     ]
    },
    {
     "name": "stderr",
     "output_type": "stream",
     "text": [
      "/home/mette/master/fpv_energy_yield_norway/src/FPVsimulation/pvsystem.py:83: UserWarning: Geometry is in a geographic CRS. Results from 'distance' are likely incorrect. Use 'GeoSeries.to_crs()' to re-project geometries to a projected CRS before this operation.\n",
      "\n",
      "  soiling_loss_gdf['distance'] = soiling_loss_NS3031_gdf['geometry'].distance(center)\n"
     ]
    },
    {
     "name": "stdout",
     "output_type": "stream",
     "text": [
      "lake 328 of 730\n"
     ]
    },
    {
     "name": "stderr",
     "output_type": "stream",
     "text": [
      "/home/mette/master/fpv_energy_yield_norway/src/FPVsimulation/pvsystem.py:83: UserWarning: Geometry is in a geographic CRS. Results from 'distance' are likely incorrect. Use 'GeoSeries.to_crs()' to re-project geometries to a projected CRS before this operation.\n",
      "\n",
      "  soiling_loss_gdf['distance'] = soiling_loss_NS3031_gdf['geometry'].distance(center)\n"
     ]
    },
    {
     "name": "stdout",
     "output_type": "stream",
     "text": [
      "lake 329 of 730\n"
     ]
    },
    {
     "name": "stderr",
     "output_type": "stream",
     "text": [
      "/home/mette/master/fpv_energy_yield_norway/src/FPVsimulation/pvsystem.py:83: UserWarning: Geometry is in a geographic CRS. Results from 'distance' are likely incorrect. Use 'GeoSeries.to_crs()' to re-project geometries to a projected CRS before this operation.\n",
      "\n",
      "  soiling_loss_gdf['distance'] = soiling_loss_NS3031_gdf['geometry'].distance(center)\n"
     ]
    },
    {
     "name": "stdout",
     "output_type": "stream",
     "text": [
      "lake 330 of 730\n"
     ]
    },
    {
     "name": "stderr",
     "output_type": "stream",
     "text": [
      "/home/mette/master/fpv_energy_yield_norway/src/FPVsimulation/pvsystem.py:83: UserWarning: Geometry is in a geographic CRS. Results from 'distance' are likely incorrect. Use 'GeoSeries.to_crs()' to re-project geometries to a projected CRS before this operation.\n",
      "\n",
      "  soiling_loss_gdf['distance'] = soiling_loss_NS3031_gdf['geometry'].distance(center)\n"
     ]
    },
    {
     "name": "stdout",
     "output_type": "stream",
     "text": [
      "lake 331 of 730\n"
     ]
    },
    {
     "name": "stderr",
     "output_type": "stream",
     "text": [
      "/home/mette/master/fpv_energy_yield_norway/src/FPVsimulation/pvsystem.py:83: UserWarning: Geometry is in a geographic CRS. Results from 'distance' are likely incorrect. Use 'GeoSeries.to_crs()' to re-project geometries to a projected CRS before this operation.\n",
      "\n",
      "  soiling_loss_gdf['distance'] = soiling_loss_NS3031_gdf['geometry'].distance(center)\n"
     ]
    },
    {
     "name": "stdout",
     "output_type": "stream",
     "text": [
      "lake 332 of 730\n"
     ]
    },
    {
     "name": "stderr",
     "output_type": "stream",
     "text": [
      "/home/mette/master/fpv_energy_yield_norway/src/FPVsimulation/pvsystem.py:83: UserWarning: Geometry is in a geographic CRS. Results from 'distance' are likely incorrect. Use 'GeoSeries.to_crs()' to re-project geometries to a projected CRS before this operation.\n",
      "\n",
      "  soiling_loss_gdf['distance'] = soiling_loss_NS3031_gdf['geometry'].distance(center)\n"
     ]
    },
    {
     "name": "stdout",
     "output_type": "stream",
     "text": [
      "lake 333 of 730\n"
     ]
    },
    {
     "name": "stderr",
     "output_type": "stream",
     "text": [
      "/home/mette/master/fpv_energy_yield_norway/src/FPVsimulation/pvsystem.py:83: UserWarning: Geometry is in a geographic CRS. Results from 'distance' are likely incorrect. Use 'GeoSeries.to_crs()' to re-project geometries to a projected CRS before this operation.\n",
      "\n",
      "  soiling_loss_gdf['distance'] = soiling_loss_NS3031_gdf['geometry'].distance(center)\n"
     ]
    },
    {
     "name": "stdout",
     "output_type": "stream",
     "text": [
      "lake 334 of 730\n"
     ]
    },
    {
     "name": "stderr",
     "output_type": "stream",
     "text": [
      "/home/mette/master/fpv_energy_yield_norway/src/FPVsimulation/pvsystem.py:83: UserWarning: Geometry is in a geographic CRS. Results from 'distance' are likely incorrect. Use 'GeoSeries.to_crs()' to re-project geometries to a projected CRS before this operation.\n",
      "\n",
      "  soiling_loss_gdf['distance'] = soiling_loss_NS3031_gdf['geometry'].distance(center)\n"
     ]
    },
    {
     "name": "stdout",
     "output_type": "stream",
     "text": [
      "lake 335 of 730\n"
     ]
    },
    {
     "name": "stderr",
     "output_type": "stream",
     "text": [
      "/home/mette/master/fpv_energy_yield_norway/src/FPVsimulation/pvsystem.py:83: UserWarning: Geometry is in a geographic CRS. Results from 'distance' are likely incorrect. Use 'GeoSeries.to_crs()' to re-project geometries to a projected CRS before this operation.\n",
      "\n",
      "  soiling_loss_gdf['distance'] = soiling_loss_NS3031_gdf['geometry'].distance(center)\n"
     ]
    },
    {
     "name": "stdout",
     "output_type": "stream",
     "text": [
      "lake 336 of 730\n"
     ]
    },
    {
     "name": "stderr",
     "output_type": "stream",
     "text": [
      "/home/mette/master/fpv_energy_yield_norway/src/FPVsimulation/pvsystem.py:83: UserWarning: Geometry is in a geographic CRS. Results from 'distance' are likely incorrect. Use 'GeoSeries.to_crs()' to re-project geometries to a projected CRS before this operation.\n",
      "\n",
      "  soiling_loss_gdf['distance'] = soiling_loss_NS3031_gdf['geometry'].distance(center)\n"
     ]
    },
    {
     "name": "stdout",
     "output_type": "stream",
     "text": [
      "lake 337 of 730\n"
     ]
    },
    {
     "name": "stderr",
     "output_type": "stream",
     "text": [
      "/home/mette/master/fpv_energy_yield_norway/src/FPVsimulation/pvsystem.py:83: UserWarning: Geometry is in a geographic CRS. Results from 'distance' are likely incorrect. Use 'GeoSeries.to_crs()' to re-project geometries to a projected CRS before this operation.\n",
      "\n",
      "  soiling_loss_gdf['distance'] = soiling_loss_NS3031_gdf['geometry'].distance(center)\n"
     ]
    },
    {
     "name": "stdout",
     "output_type": "stream",
     "text": [
      "lake 338 of 730\n"
     ]
    },
    {
     "name": "stderr",
     "output_type": "stream",
     "text": [
      "/home/mette/master/fpv_energy_yield_norway/src/FPVsimulation/pvsystem.py:83: UserWarning: Geometry is in a geographic CRS. Results from 'distance' are likely incorrect. Use 'GeoSeries.to_crs()' to re-project geometries to a projected CRS before this operation.\n",
      "\n",
      "  soiling_loss_gdf['distance'] = soiling_loss_NS3031_gdf['geometry'].distance(center)\n"
     ]
    },
    {
     "name": "stdout",
     "output_type": "stream",
     "text": [
      "lake 339 of 730\n"
     ]
    },
    {
     "name": "stderr",
     "output_type": "stream",
     "text": [
      "/home/mette/master/fpv_energy_yield_norway/src/FPVsimulation/pvsystem.py:83: UserWarning: Geometry is in a geographic CRS. Results from 'distance' are likely incorrect. Use 'GeoSeries.to_crs()' to re-project geometries to a projected CRS before this operation.\n",
      "\n",
      "  soiling_loss_gdf['distance'] = soiling_loss_NS3031_gdf['geometry'].distance(center)\n"
     ]
    },
    {
     "name": "stdout",
     "output_type": "stream",
     "text": [
      "lake 340 of 730\n"
     ]
    },
    {
     "name": "stderr",
     "output_type": "stream",
     "text": [
      "/home/mette/master/fpv_energy_yield_norway/src/FPVsimulation/pvsystem.py:83: UserWarning: Geometry is in a geographic CRS. Results from 'distance' are likely incorrect. Use 'GeoSeries.to_crs()' to re-project geometries to a projected CRS before this operation.\n",
      "\n",
      "  soiling_loss_gdf['distance'] = soiling_loss_NS3031_gdf['geometry'].distance(center)\n"
     ]
    },
    {
     "name": "stdout",
     "output_type": "stream",
     "text": [
      "lake 341 of 730\n"
     ]
    },
    {
     "name": "stderr",
     "output_type": "stream",
     "text": [
      "/home/mette/master/fpv_energy_yield_norway/src/FPVsimulation/pvsystem.py:83: UserWarning: Geometry is in a geographic CRS. Results from 'distance' are likely incorrect. Use 'GeoSeries.to_crs()' to re-project geometries to a projected CRS before this operation.\n",
      "\n",
      "  soiling_loss_gdf['distance'] = soiling_loss_NS3031_gdf['geometry'].distance(center)\n"
     ]
    },
    {
     "name": "stdout",
     "output_type": "stream",
     "text": [
      "lake 342 of 730\n"
     ]
    },
    {
     "name": "stderr",
     "output_type": "stream",
     "text": [
      "/home/mette/master/fpv_energy_yield_norway/src/FPVsimulation/pvsystem.py:83: UserWarning: Geometry is in a geographic CRS. Results from 'distance' are likely incorrect. Use 'GeoSeries.to_crs()' to re-project geometries to a projected CRS before this operation.\n",
      "\n",
      "  soiling_loss_gdf['distance'] = soiling_loss_NS3031_gdf['geometry'].distance(center)\n"
     ]
    },
    {
     "name": "stdout",
     "output_type": "stream",
     "text": [
      "lake 343 of 730\n"
     ]
    },
    {
     "name": "stderr",
     "output_type": "stream",
     "text": [
      "/home/mette/master/fpv_energy_yield_norway/src/FPVsimulation/pvsystem.py:83: UserWarning: Geometry is in a geographic CRS. Results from 'distance' are likely incorrect. Use 'GeoSeries.to_crs()' to re-project geometries to a projected CRS before this operation.\n",
      "\n",
      "  soiling_loss_gdf['distance'] = soiling_loss_NS3031_gdf['geometry'].distance(center)\n"
     ]
    },
    {
     "name": "stdout",
     "output_type": "stream",
     "text": [
      "lake 344 of 730\n"
     ]
    },
    {
     "name": "stderr",
     "output_type": "stream",
     "text": [
      "/home/mette/master/fpv_energy_yield_norway/src/FPVsimulation/pvsystem.py:83: UserWarning: Geometry is in a geographic CRS. Results from 'distance' are likely incorrect. Use 'GeoSeries.to_crs()' to re-project geometries to a projected CRS before this operation.\n",
      "\n",
      "  soiling_loss_gdf['distance'] = soiling_loss_NS3031_gdf['geometry'].distance(center)\n"
     ]
    },
    {
     "name": "stdout",
     "output_type": "stream",
     "text": [
      "lake 345 of 730\n"
     ]
    },
    {
     "name": "stderr",
     "output_type": "stream",
     "text": [
      "/home/mette/master/fpv_energy_yield_norway/src/FPVsimulation/pvsystem.py:83: UserWarning: Geometry is in a geographic CRS. Results from 'distance' are likely incorrect. Use 'GeoSeries.to_crs()' to re-project geometries to a projected CRS before this operation.\n",
      "\n",
      "  soiling_loss_gdf['distance'] = soiling_loss_NS3031_gdf['geometry'].distance(center)\n"
     ]
    },
    {
     "name": "stdout",
     "output_type": "stream",
     "text": [
      "lake 346 of 730\n"
     ]
    },
    {
     "name": "stderr",
     "output_type": "stream",
     "text": [
      "/home/mette/master/fpv_energy_yield_norway/src/FPVsimulation/pvsystem.py:83: UserWarning: Geometry is in a geographic CRS. Results from 'distance' are likely incorrect. Use 'GeoSeries.to_crs()' to re-project geometries to a projected CRS before this operation.\n",
      "\n",
      "  soiling_loss_gdf['distance'] = soiling_loss_NS3031_gdf['geometry'].distance(center)\n"
     ]
    },
    {
     "name": "stdout",
     "output_type": "stream",
     "text": [
      "lake 347 of 730\n"
     ]
    },
    {
     "name": "stderr",
     "output_type": "stream",
     "text": [
      "/home/mette/master/fpv_energy_yield_norway/src/FPVsimulation/pvsystem.py:83: UserWarning: Geometry is in a geographic CRS. Results from 'distance' are likely incorrect. Use 'GeoSeries.to_crs()' to re-project geometries to a projected CRS before this operation.\n",
      "\n",
      "  soiling_loss_gdf['distance'] = soiling_loss_NS3031_gdf['geometry'].distance(center)\n"
     ]
    },
    {
     "name": "stdout",
     "output_type": "stream",
     "text": [
      "lake 348 of 730\n"
     ]
    },
    {
     "name": "stderr",
     "output_type": "stream",
     "text": [
      "/home/mette/master/fpv_energy_yield_norway/src/FPVsimulation/pvsystem.py:83: UserWarning: Geometry is in a geographic CRS. Results from 'distance' are likely incorrect. Use 'GeoSeries.to_crs()' to re-project geometries to a projected CRS before this operation.\n",
      "\n",
      "  soiling_loss_gdf['distance'] = soiling_loss_NS3031_gdf['geometry'].distance(center)\n"
     ]
    },
    {
     "name": "stdout",
     "output_type": "stream",
     "text": [
      "lake 349 of 730\n"
     ]
    },
    {
     "name": "stderr",
     "output_type": "stream",
     "text": [
      "/home/mette/master/fpv_energy_yield_norway/src/FPVsimulation/pvsystem.py:83: UserWarning: Geometry is in a geographic CRS. Results from 'distance' are likely incorrect. Use 'GeoSeries.to_crs()' to re-project geometries to a projected CRS before this operation.\n",
      "\n",
      "  soiling_loss_gdf['distance'] = soiling_loss_NS3031_gdf['geometry'].distance(center)\n"
     ]
    },
    {
     "name": "stdout",
     "output_type": "stream",
     "text": [
      "lake 350 of 730\n"
     ]
    },
    {
     "name": "stderr",
     "output_type": "stream",
     "text": [
      "/home/mette/master/fpv_energy_yield_norway/src/FPVsimulation/pvsystem.py:83: UserWarning: Geometry is in a geographic CRS. Results from 'distance' are likely incorrect. Use 'GeoSeries.to_crs()' to re-project geometries to a projected CRS before this operation.\n",
      "\n",
      "  soiling_loss_gdf['distance'] = soiling_loss_NS3031_gdf['geometry'].distance(center)\n"
     ]
    },
    {
     "name": "stdout",
     "output_type": "stream",
     "text": [
      "lake 351 of 730\n"
     ]
    },
    {
     "name": "stderr",
     "output_type": "stream",
     "text": [
      "/home/mette/master/fpv_energy_yield_norway/src/FPVsimulation/pvsystem.py:83: UserWarning: Geometry is in a geographic CRS. Results from 'distance' are likely incorrect. Use 'GeoSeries.to_crs()' to re-project geometries to a projected CRS before this operation.\n",
      "\n",
      "  soiling_loss_gdf['distance'] = soiling_loss_NS3031_gdf['geometry'].distance(center)\n"
     ]
    },
    {
     "name": "stdout",
     "output_type": "stream",
     "text": [
      "lake 352 of 730\n"
     ]
    },
    {
     "name": "stderr",
     "output_type": "stream",
     "text": [
      "/home/mette/master/fpv_energy_yield_norway/src/FPVsimulation/pvsystem.py:83: UserWarning: Geometry is in a geographic CRS. Results from 'distance' are likely incorrect. Use 'GeoSeries.to_crs()' to re-project geometries to a projected CRS before this operation.\n",
      "\n",
      "  soiling_loss_gdf['distance'] = soiling_loss_NS3031_gdf['geometry'].distance(center)\n"
     ]
    },
    {
     "name": "stdout",
     "output_type": "stream",
     "text": [
      "lake 353 of 730\n"
     ]
    },
    {
     "name": "stderr",
     "output_type": "stream",
     "text": [
      "/home/mette/master/fpv_energy_yield_norway/src/FPVsimulation/pvsystem.py:83: UserWarning: Geometry is in a geographic CRS. Results from 'distance' are likely incorrect. Use 'GeoSeries.to_crs()' to re-project geometries to a projected CRS before this operation.\n",
      "\n",
      "  soiling_loss_gdf['distance'] = soiling_loss_NS3031_gdf['geometry'].distance(center)\n"
     ]
    },
    {
     "name": "stdout",
     "output_type": "stream",
     "text": [
      "lake 354 of 730\n"
     ]
    },
    {
     "name": "stderr",
     "output_type": "stream",
     "text": [
      "/home/mette/master/fpv_energy_yield_norway/src/FPVsimulation/pvsystem.py:83: UserWarning: Geometry is in a geographic CRS. Results from 'distance' are likely incorrect. Use 'GeoSeries.to_crs()' to re-project geometries to a projected CRS before this operation.\n",
      "\n",
      "  soiling_loss_gdf['distance'] = soiling_loss_NS3031_gdf['geometry'].distance(center)\n"
     ]
    },
    {
     "name": "stdout",
     "output_type": "stream",
     "text": [
      "lake 355 of 730\n"
     ]
    },
    {
     "name": "stderr",
     "output_type": "stream",
     "text": [
      "/home/mette/master/fpv_energy_yield_norway/src/FPVsimulation/pvsystem.py:83: UserWarning: Geometry is in a geographic CRS. Results from 'distance' are likely incorrect. Use 'GeoSeries.to_crs()' to re-project geometries to a projected CRS before this operation.\n",
      "\n",
      "  soiling_loss_gdf['distance'] = soiling_loss_NS3031_gdf['geometry'].distance(center)\n"
     ]
    },
    {
     "name": "stdout",
     "output_type": "stream",
     "text": [
      "lake 356 of 730\n"
     ]
    },
    {
     "name": "stderr",
     "output_type": "stream",
     "text": [
      "/home/mette/master/fpv_energy_yield_norway/src/FPVsimulation/pvsystem.py:83: UserWarning: Geometry is in a geographic CRS. Results from 'distance' are likely incorrect. Use 'GeoSeries.to_crs()' to re-project geometries to a projected CRS before this operation.\n",
      "\n",
      "  soiling_loss_gdf['distance'] = soiling_loss_NS3031_gdf['geometry'].distance(center)\n"
     ]
    },
    {
     "name": "stdout",
     "output_type": "stream",
     "text": [
      "lake 357 of 730\n"
     ]
    },
    {
     "name": "stderr",
     "output_type": "stream",
     "text": [
      "/home/mette/master/fpv_energy_yield_norway/src/FPVsimulation/pvsystem.py:83: UserWarning: Geometry is in a geographic CRS. Results from 'distance' are likely incorrect. Use 'GeoSeries.to_crs()' to re-project geometries to a projected CRS before this operation.\n",
      "\n",
      "  soiling_loss_gdf['distance'] = soiling_loss_NS3031_gdf['geometry'].distance(center)\n"
     ]
    },
    {
     "name": "stdout",
     "output_type": "stream",
     "text": [
      "lake 358 of 730\n"
     ]
    },
    {
     "name": "stderr",
     "output_type": "stream",
     "text": [
      "/home/mette/master/fpv_energy_yield_norway/src/FPVsimulation/pvsystem.py:83: UserWarning: Geometry is in a geographic CRS. Results from 'distance' are likely incorrect. Use 'GeoSeries.to_crs()' to re-project geometries to a projected CRS before this operation.\n",
      "\n",
      "  soiling_loss_gdf['distance'] = soiling_loss_NS3031_gdf['geometry'].distance(center)\n"
     ]
    },
    {
     "name": "stdout",
     "output_type": "stream",
     "text": [
      "lake 359 of 730\n"
     ]
    },
    {
     "name": "stderr",
     "output_type": "stream",
     "text": [
      "/home/mette/master/fpv_energy_yield_norway/src/FPVsimulation/pvsystem.py:83: UserWarning: Geometry is in a geographic CRS. Results from 'distance' are likely incorrect. Use 'GeoSeries.to_crs()' to re-project geometries to a projected CRS before this operation.\n",
      "\n",
      "  soiling_loss_gdf['distance'] = soiling_loss_NS3031_gdf['geometry'].distance(center)\n"
     ]
    },
    {
     "name": "stdout",
     "output_type": "stream",
     "text": [
      "lake 360 of 730\n"
     ]
    },
    {
     "name": "stderr",
     "output_type": "stream",
     "text": [
      "/home/mette/master/fpv_energy_yield_norway/src/FPVsimulation/pvsystem.py:83: UserWarning: Geometry is in a geographic CRS. Results from 'distance' are likely incorrect. Use 'GeoSeries.to_crs()' to re-project geometries to a projected CRS before this operation.\n",
      "\n",
      "  soiling_loss_gdf['distance'] = soiling_loss_NS3031_gdf['geometry'].distance(center)\n"
     ]
    },
    {
     "name": "stdout",
     "output_type": "stream",
     "text": [
      "lake 361 of 730\n"
     ]
    },
    {
     "name": "stderr",
     "output_type": "stream",
     "text": [
      "/home/mette/master/fpv_energy_yield_norway/src/FPVsimulation/pvsystem.py:83: UserWarning: Geometry is in a geographic CRS. Results from 'distance' are likely incorrect. Use 'GeoSeries.to_crs()' to re-project geometries to a projected CRS before this operation.\n",
      "\n",
      "  soiling_loss_gdf['distance'] = soiling_loss_NS3031_gdf['geometry'].distance(center)\n"
     ]
    },
    {
     "name": "stdout",
     "output_type": "stream",
     "text": [
      "lake 362 of 730\n"
     ]
    },
    {
     "name": "stderr",
     "output_type": "stream",
     "text": [
      "/home/mette/master/fpv_energy_yield_norway/src/FPVsimulation/pvsystem.py:83: UserWarning: Geometry is in a geographic CRS. Results from 'distance' are likely incorrect. Use 'GeoSeries.to_crs()' to re-project geometries to a projected CRS before this operation.\n",
      "\n",
      "  soiling_loss_gdf['distance'] = soiling_loss_NS3031_gdf['geometry'].distance(center)\n"
     ]
    },
    {
     "name": "stdout",
     "output_type": "stream",
     "text": [
      "lake 363 of 730\n"
     ]
    },
    {
     "name": "stderr",
     "output_type": "stream",
     "text": [
      "/home/mette/master/fpv_energy_yield_norway/src/FPVsimulation/pvsystem.py:83: UserWarning: Geometry is in a geographic CRS. Results from 'distance' are likely incorrect. Use 'GeoSeries.to_crs()' to re-project geometries to a projected CRS before this operation.\n",
      "\n",
      "  soiling_loss_gdf['distance'] = soiling_loss_NS3031_gdf['geometry'].distance(center)\n"
     ]
    },
    {
     "name": "stdout",
     "output_type": "stream",
     "text": [
      "lake 364 of 730\n"
     ]
    },
    {
     "name": "stderr",
     "output_type": "stream",
     "text": [
      "/home/mette/master/fpv_energy_yield_norway/src/FPVsimulation/pvsystem.py:83: UserWarning: Geometry is in a geographic CRS. Results from 'distance' are likely incorrect. Use 'GeoSeries.to_crs()' to re-project geometries to a projected CRS before this operation.\n",
      "\n",
      "  soiling_loss_gdf['distance'] = soiling_loss_NS3031_gdf['geometry'].distance(center)\n"
     ]
    },
    {
     "name": "stdout",
     "output_type": "stream",
     "text": [
      "lake 365 of 730\n"
     ]
    },
    {
     "name": "stderr",
     "output_type": "stream",
     "text": [
      "/home/mette/master/fpv_energy_yield_norway/src/FPVsimulation/pvsystem.py:83: UserWarning: Geometry is in a geographic CRS. Results from 'distance' are likely incorrect. Use 'GeoSeries.to_crs()' to re-project geometries to a projected CRS before this operation.\n",
      "\n",
      "  soiling_loss_gdf['distance'] = soiling_loss_NS3031_gdf['geometry'].distance(center)\n"
     ]
    },
    {
     "name": "stdout",
     "output_type": "stream",
     "text": [
      "lake 366 of 730\n"
     ]
    },
    {
     "name": "stderr",
     "output_type": "stream",
     "text": [
      "/home/mette/master/fpv_energy_yield_norway/src/FPVsimulation/pvsystem.py:83: UserWarning: Geometry is in a geographic CRS. Results from 'distance' are likely incorrect. Use 'GeoSeries.to_crs()' to re-project geometries to a projected CRS before this operation.\n",
      "\n",
      "  soiling_loss_gdf['distance'] = soiling_loss_NS3031_gdf['geometry'].distance(center)\n"
     ]
    },
    {
     "name": "stdout",
     "output_type": "stream",
     "text": [
      "lake 367 of 730\n"
     ]
    },
    {
     "name": "stderr",
     "output_type": "stream",
     "text": [
      "/home/mette/master/fpv_energy_yield_norway/src/FPVsimulation/pvsystem.py:83: UserWarning: Geometry is in a geographic CRS. Results from 'distance' are likely incorrect. Use 'GeoSeries.to_crs()' to re-project geometries to a projected CRS before this operation.\n",
      "\n",
      "  soiling_loss_gdf['distance'] = soiling_loss_NS3031_gdf['geometry'].distance(center)\n"
     ]
    },
    {
     "name": "stdout",
     "output_type": "stream",
     "text": [
      "lake 368 of 730\n"
     ]
    },
    {
     "name": "stderr",
     "output_type": "stream",
     "text": [
      "/home/mette/master/fpv_energy_yield_norway/src/FPVsimulation/pvsystem.py:83: UserWarning: Geometry is in a geographic CRS. Results from 'distance' are likely incorrect. Use 'GeoSeries.to_crs()' to re-project geometries to a projected CRS before this operation.\n",
      "\n",
      "  soiling_loss_gdf['distance'] = soiling_loss_NS3031_gdf['geometry'].distance(center)\n"
     ]
    },
    {
     "name": "stdout",
     "output_type": "stream",
     "text": [
      "lake 369 of 730\n"
     ]
    },
    {
     "name": "stderr",
     "output_type": "stream",
     "text": [
      "/home/mette/master/fpv_energy_yield_norway/src/FPVsimulation/pvsystem.py:83: UserWarning: Geometry is in a geographic CRS. Results from 'distance' are likely incorrect. Use 'GeoSeries.to_crs()' to re-project geometries to a projected CRS before this operation.\n",
      "\n",
      "  soiling_loss_gdf['distance'] = soiling_loss_NS3031_gdf['geometry'].distance(center)\n"
     ]
    },
    {
     "name": "stdout",
     "output_type": "stream",
     "text": [
      "lake 370 of 730\n"
     ]
    },
    {
     "name": "stderr",
     "output_type": "stream",
     "text": [
      "/home/mette/master/fpv_energy_yield_norway/src/FPVsimulation/pvsystem.py:83: UserWarning: Geometry is in a geographic CRS. Results from 'distance' are likely incorrect. Use 'GeoSeries.to_crs()' to re-project geometries to a projected CRS before this operation.\n",
      "\n",
      "  soiling_loss_gdf['distance'] = soiling_loss_NS3031_gdf['geometry'].distance(center)\n"
     ]
    },
    {
     "name": "stdout",
     "output_type": "stream",
     "text": [
      "lake 371 of 730\n"
     ]
    },
    {
     "name": "stderr",
     "output_type": "stream",
     "text": [
      "/home/mette/master/fpv_energy_yield_norway/src/FPVsimulation/pvsystem.py:83: UserWarning: Geometry is in a geographic CRS. Results from 'distance' are likely incorrect. Use 'GeoSeries.to_crs()' to re-project geometries to a projected CRS before this operation.\n",
      "\n",
      "  soiling_loss_gdf['distance'] = soiling_loss_NS3031_gdf['geometry'].distance(center)\n"
     ]
    },
    {
     "name": "stdout",
     "output_type": "stream",
     "text": [
      "lake 372 of 730\n"
     ]
    },
    {
     "name": "stderr",
     "output_type": "stream",
     "text": [
      "/home/mette/master/fpv_energy_yield_norway/src/FPVsimulation/pvsystem.py:83: UserWarning: Geometry is in a geographic CRS. Results from 'distance' are likely incorrect. Use 'GeoSeries.to_crs()' to re-project geometries to a projected CRS before this operation.\n",
      "\n",
      "  soiling_loss_gdf['distance'] = soiling_loss_NS3031_gdf['geometry'].distance(center)\n"
     ]
    },
    {
     "name": "stdout",
     "output_type": "stream",
     "text": [
      "lake 373 of 730\n"
     ]
    },
    {
     "name": "stderr",
     "output_type": "stream",
     "text": [
      "/home/mette/master/fpv_energy_yield_norway/src/FPVsimulation/pvsystem.py:83: UserWarning: Geometry is in a geographic CRS. Results from 'distance' are likely incorrect. Use 'GeoSeries.to_crs()' to re-project geometries to a projected CRS before this operation.\n",
      "\n",
      "  soiling_loss_gdf['distance'] = soiling_loss_NS3031_gdf['geometry'].distance(center)\n"
     ]
    },
    {
     "name": "stdout",
     "output_type": "stream",
     "text": [
      "lake 374 of 730\n"
     ]
    },
    {
     "name": "stderr",
     "output_type": "stream",
     "text": [
      "/home/mette/master/fpv_energy_yield_norway/src/FPVsimulation/pvsystem.py:83: UserWarning: Geometry is in a geographic CRS. Results from 'distance' are likely incorrect. Use 'GeoSeries.to_crs()' to re-project geometries to a projected CRS before this operation.\n",
      "\n",
      "  soiling_loss_gdf['distance'] = soiling_loss_NS3031_gdf['geometry'].distance(center)\n"
     ]
    },
    {
     "name": "stdout",
     "output_type": "stream",
     "text": [
      "lake 375 of 730\n"
     ]
    },
    {
     "name": "stderr",
     "output_type": "stream",
     "text": [
      "/home/mette/master/fpv_energy_yield_norway/src/FPVsimulation/pvsystem.py:83: UserWarning: Geometry is in a geographic CRS. Results from 'distance' are likely incorrect. Use 'GeoSeries.to_crs()' to re-project geometries to a projected CRS before this operation.\n",
      "\n",
      "  soiling_loss_gdf['distance'] = soiling_loss_NS3031_gdf['geometry'].distance(center)\n"
     ]
    },
    {
     "name": "stdout",
     "output_type": "stream",
     "text": [
      "lake 376 of 730\n"
     ]
    },
    {
     "name": "stderr",
     "output_type": "stream",
     "text": [
      "/home/mette/master/fpv_energy_yield_norway/src/FPVsimulation/pvsystem.py:83: UserWarning: Geometry is in a geographic CRS. Results from 'distance' are likely incorrect. Use 'GeoSeries.to_crs()' to re-project geometries to a projected CRS before this operation.\n",
      "\n",
      "  soiling_loss_gdf['distance'] = soiling_loss_NS3031_gdf['geometry'].distance(center)\n"
     ]
    },
    {
     "name": "stdout",
     "output_type": "stream",
     "text": [
      "lake 377 of 730\n"
     ]
    },
    {
     "name": "stderr",
     "output_type": "stream",
     "text": [
      "/home/mette/master/fpv_energy_yield_norway/src/FPVsimulation/pvsystem.py:83: UserWarning: Geometry is in a geographic CRS. Results from 'distance' are likely incorrect. Use 'GeoSeries.to_crs()' to re-project geometries to a projected CRS before this operation.\n",
      "\n",
      "  soiling_loss_gdf['distance'] = soiling_loss_NS3031_gdf['geometry'].distance(center)\n"
     ]
    },
    {
     "name": "stdout",
     "output_type": "stream",
     "text": [
      "lake 378 of 730\n"
     ]
    },
    {
     "name": "stderr",
     "output_type": "stream",
     "text": [
      "/home/mette/master/fpv_energy_yield_norway/src/FPVsimulation/pvsystem.py:83: UserWarning: Geometry is in a geographic CRS. Results from 'distance' are likely incorrect. Use 'GeoSeries.to_crs()' to re-project geometries to a projected CRS before this operation.\n",
      "\n",
      "  soiling_loss_gdf['distance'] = soiling_loss_NS3031_gdf['geometry'].distance(center)\n"
     ]
    },
    {
     "name": "stdout",
     "output_type": "stream",
     "text": [
      "lake 379 of 730\n"
     ]
    },
    {
     "name": "stderr",
     "output_type": "stream",
     "text": [
      "/home/mette/master/fpv_energy_yield_norway/src/FPVsimulation/pvsystem.py:83: UserWarning: Geometry is in a geographic CRS. Results from 'distance' are likely incorrect. Use 'GeoSeries.to_crs()' to re-project geometries to a projected CRS before this operation.\n",
      "\n",
      "  soiling_loss_gdf['distance'] = soiling_loss_NS3031_gdf['geometry'].distance(center)\n"
     ]
    },
    {
     "name": "stdout",
     "output_type": "stream",
     "text": [
      "lake 380 of 730\n"
     ]
    },
    {
     "name": "stderr",
     "output_type": "stream",
     "text": [
      "/home/mette/master/fpv_energy_yield_norway/src/FPVsimulation/pvsystem.py:83: UserWarning: Geometry is in a geographic CRS. Results from 'distance' are likely incorrect. Use 'GeoSeries.to_crs()' to re-project geometries to a projected CRS before this operation.\n",
      "\n",
      "  soiling_loss_gdf['distance'] = soiling_loss_NS3031_gdf['geometry'].distance(center)\n"
     ]
    },
    {
     "name": "stdout",
     "output_type": "stream",
     "text": [
      "lake 381 of 730\n"
     ]
    },
    {
     "name": "stderr",
     "output_type": "stream",
     "text": [
      "/home/mette/master/fpv_energy_yield_norway/src/FPVsimulation/pvsystem.py:83: UserWarning: Geometry is in a geographic CRS. Results from 'distance' are likely incorrect. Use 'GeoSeries.to_crs()' to re-project geometries to a projected CRS before this operation.\n",
      "\n",
      "  soiling_loss_gdf['distance'] = soiling_loss_NS3031_gdf['geometry'].distance(center)\n"
     ]
    },
    {
     "name": "stdout",
     "output_type": "stream",
     "text": [
      "lake 382 of 730\n"
     ]
    },
    {
     "name": "stderr",
     "output_type": "stream",
     "text": [
      "/home/mette/master/fpv_energy_yield_norway/src/FPVsimulation/pvsystem.py:83: UserWarning: Geometry is in a geographic CRS. Results from 'distance' are likely incorrect. Use 'GeoSeries.to_crs()' to re-project geometries to a projected CRS before this operation.\n",
      "\n",
      "  soiling_loss_gdf['distance'] = soiling_loss_NS3031_gdf['geometry'].distance(center)\n"
     ]
    },
    {
     "name": "stdout",
     "output_type": "stream",
     "text": [
      "lake 383 of 730\n"
     ]
    },
    {
     "name": "stderr",
     "output_type": "stream",
     "text": [
      "/home/mette/master/fpv_energy_yield_norway/src/FPVsimulation/pvsystem.py:83: UserWarning: Geometry is in a geographic CRS. Results from 'distance' are likely incorrect. Use 'GeoSeries.to_crs()' to re-project geometries to a projected CRS before this operation.\n",
      "\n",
      "  soiling_loss_gdf['distance'] = soiling_loss_NS3031_gdf['geometry'].distance(center)\n"
     ]
    },
    {
     "name": "stdout",
     "output_type": "stream",
     "text": [
      "lake 384 of 730\n"
     ]
    },
    {
     "name": "stderr",
     "output_type": "stream",
     "text": [
      "/home/mette/master/fpv_energy_yield_norway/src/FPVsimulation/pvsystem.py:83: UserWarning: Geometry is in a geographic CRS. Results from 'distance' are likely incorrect. Use 'GeoSeries.to_crs()' to re-project geometries to a projected CRS before this operation.\n",
      "\n",
      "  soiling_loss_gdf['distance'] = soiling_loss_NS3031_gdf['geometry'].distance(center)\n"
     ]
    },
    {
     "name": "stdout",
     "output_type": "stream",
     "text": [
      "lake 385 of 730\n"
     ]
    },
    {
     "name": "stderr",
     "output_type": "stream",
     "text": [
      "/home/mette/master/fpv_energy_yield_norway/src/FPVsimulation/pvsystem.py:83: UserWarning: Geometry is in a geographic CRS. Results from 'distance' are likely incorrect. Use 'GeoSeries.to_crs()' to re-project geometries to a projected CRS before this operation.\n",
      "\n",
      "  soiling_loss_gdf['distance'] = soiling_loss_NS3031_gdf['geometry'].distance(center)\n"
     ]
    },
    {
     "name": "stdout",
     "output_type": "stream",
     "text": [
      "lake 386 of 730\n"
     ]
    },
    {
     "name": "stderr",
     "output_type": "stream",
     "text": [
      "/home/mette/master/fpv_energy_yield_norway/src/FPVsimulation/pvsystem.py:83: UserWarning: Geometry is in a geographic CRS. Results from 'distance' are likely incorrect. Use 'GeoSeries.to_crs()' to re-project geometries to a projected CRS before this operation.\n",
      "\n",
      "  soiling_loss_gdf['distance'] = soiling_loss_NS3031_gdf['geometry'].distance(center)\n"
     ]
    },
    {
     "name": "stdout",
     "output_type": "stream",
     "text": [
      "lake 387 of 730\n"
     ]
    },
    {
     "name": "stderr",
     "output_type": "stream",
     "text": [
      "/home/mette/master/fpv_energy_yield_norway/src/FPVsimulation/pvsystem.py:83: UserWarning: Geometry is in a geographic CRS. Results from 'distance' are likely incorrect. Use 'GeoSeries.to_crs()' to re-project geometries to a projected CRS before this operation.\n",
      "\n",
      "  soiling_loss_gdf['distance'] = soiling_loss_NS3031_gdf['geometry'].distance(center)\n"
     ]
    },
    {
     "name": "stdout",
     "output_type": "stream",
     "text": [
      "lake 388 of 730\n"
     ]
    },
    {
     "name": "stderr",
     "output_type": "stream",
     "text": [
      "/home/mette/master/fpv_energy_yield_norway/src/FPVsimulation/pvsystem.py:83: UserWarning: Geometry is in a geographic CRS. Results from 'distance' are likely incorrect. Use 'GeoSeries.to_crs()' to re-project geometries to a projected CRS before this operation.\n",
      "\n",
      "  soiling_loss_gdf['distance'] = soiling_loss_NS3031_gdf['geometry'].distance(center)\n"
     ]
    },
    {
     "name": "stdout",
     "output_type": "stream",
     "text": [
      "lake 389 of 730\n"
     ]
    },
    {
     "name": "stderr",
     "output_type": "stream",
     "text": [
      "/home/mette/master/fpv_energy_yield_norway/src/FPVsimulation/pvsystem.py:83: UserWarning: Geometry is in a geographic CRS. Results from 'distance' are likely incorrect. Use 'GeoSeries.to_crs()' to re-project geometries to a projected CRS before this operation.\n",
      "\n",
      "  soiling_loss_gdf['distance'] = soiling_loss_NS3031_gdf['geometry'].distance(center)\n"
     ]
    },
    {
     "name": "stdout",
     "output_type": "stream",
     "text": [
      "lake 390 of 730\n"
     ]
    },
    {
     "name": "stderr",
     "output_type": "stream",
     "text": [
      "/home/mette/master/fpv_energy_yield_norway/src/FPVsimulation/pvsystem.py:83: UserWarning: Geometry is in a geographic CRS. Results from 'distance' are likely incorrect. Use 'GeoSeries.to_crs()' to re-project geometries to a projected CRS before this operation.\n",
      "\n",
      "  soiling_loss_gdf['distance'] = soiling_loss_NS3031_gdf['geometry'].distance(center)\n"
     ]
    },
    {
     "name": "stdout",
     "output_type": "stream",
     "text": [
      "lake 391 of 730\n"
     ]
    },
    {
     "name": "stderr",
     "output_type": "stream",
     "text": [
      "/home/mette/master/fpv_energy_yield_norway/src/FPVsimulation/pvsystem.py:83: UserWarning: Geometry is in a geographic CRS. Results from 'distance' are likely incorrect. Use 'GeoSeries.to_crs()' to re-project geometries to a projected CRS before this operation.\n",
      "\n",
      "  soiling_loss_gdf['distance'] = soiling_loss_NS3031_gdf['geometry'].distance(center)\n"
     ]
    },
    {
     "name": "stdout",
     "output_type": "stream",
     "text": [
      "lake 392 of 730\n"
     ]
    },
    {
     "name": "stderr",
     "output_type": "stream",
     "text": [
      "/home/mette/master/fpv_energy_yield_norway/src/FPVsimulation/pvsystem.py:83: UserWarning: Geometry is in a geographic CRS. Results from 'distance' are likely incorrect. Use 'GeoSeries.to_crs()' to re-project geometries to a projected CRS before this operation.\n",
      "\n",
      "  soiling_loss_gdf['distance'] = soiling_loss_NS3031_gdf['geometry'].distance(center)\n"
     ]
    },
    {
     "name": "stdout",
     "output_type": "stream",
     "text": [
      "lake 393 of 730\n"
     ]
    },
    {
     "name": "stderr",
     "output_type": "stream",
     "text": [
      "/home/mette/master/fpv_energy_yield_norway/src/FPVsimulation/pvsystem.py:83: UserWarning: Geometry is in a geographic CRS. Results from 'distance' are likely incorrect. Use 'GeoSeries.to_crs()' to re-project geometries to a projected CRS before this operation.\n",
      "\n",
      "  soiling_loss_gdf['distance'] = soiling_loss_NS3031_gdf['geometry'].distance(center)\n"
     ]
    },
    {
     "name": "stdout",
     "output_type": "stream",
     "text": [
      "lake 394 of 730\n"
     ]
    },
    {
     "name": "stderr",
     "output_type": "stream",
     "text": [
      "/home/mette/master/fpv_energy_yield_norway/src/FPVsimulation/pvsystem.py:83: UserWarning: Geometry is in a geographic CRS. Results from 'distance' are likely incorrect. Use 'GeoSeries.to_crs()' to re-project geometries to a projected CRS before this operation.\n",
      "\n",
      "  soiling_loss_gdf['distance'] = soiling_loss_NS3031_gdf['geometry'].distance(center)\n"
     ]
    },
    {
     "name": "stdout",
     "output_type": "stream",
     "text": [
      "lake 395 of 730\n"
     ]
    },
    {
     "name": "stderr",
     "output_type": "stream",
     "text": [
      "/home/mette/master/fpv_energy_yield_norway/src/FPVsimulation/pvsystem.py:83: UserWarning: Geometry is in a geographic CRS. Results from 'distance' are likely incorrect. Use 'GeoSeries.to_crs()' to re-project geometries to a projected CRS before this operation.\n",
      "\n",
      "  soiling_loss_gdf['distance'] = soiling_loss_NS3031_gdf['geometry'].distance(center)\n"
     ]
    },
    {
     "name": "stdout",
     "output_type": "stream",
     "text": [
      "lake 396 of 730\n"
     ]
    },
    {
     "name": "stderr",
     "output_type": "stream",
     "text": [
      "/home/mette/master/fpv_energy_yield_norway/src/FPVsimulation/pvsystem.py:83: UserWarning: Geometry is in a geographic CRS. Results from 'distance' are likely incorrect. Use 'GeoSeries.to_crs()' to re-project geometries to a projected CRS before this operation.\n",
      "\n",
      "  soiling_loss_gdf['distance'] = soiling_loss_NS3031_gdf['geometry'].distance(center)\n"
     ]
    },
    {
     "name": "stdout",
     "output_type": "stream",
     "text": [
      "lake 397 of 730\n"
     ]
    },
    {
     "name": "stderr",
     "output_type": "stream",
     "text": [
      "/home/mette/master/fpv_energy_yield_norway/src/FPVsimulation/pvsystem.py:83: UserWarning: Geometry is in a geographic CRS. Results from 'distance' are likely incorrect. Use 'GeoSeries.to_crs()' to re-project geometries to a projected CRS before this operation.\n",
      "\n",
      "  soiling_loss_gdf['distance'] = soiling_loss_NS3031_gdf['geometry'].distance(center)\n"
     ]
    },
    {
     "name": "stdout",
     "output_type": "stream",
     "text": [
      "lake 398 of 730\n"
     ]
    },
    {
     "name": "stderr",
     "output_type": "stream",
     "text": [
      "/home/mette/master/fpv_energy_yield_norway/src/FPVsimulation/pvsystem.py:83: UserWarning: Geometry is in a geographic CRS. Results from 'distance' are likely incorrect. Use 'GeoSeries.to_crs()' to re-project geometries to a projected CRS before this operation.\n",
      "\n",
      "  soiling_loss_gdf['distance'] = soiling_loss_NS3031_gdf['geometry'].distance(center)\n"
     ]
    },
    {
     "name": "stdout",
     "output_type": "stream",
     "text": [
      "lake 399 of 730\n"
     ]
    },
    {
     "name": "stderr",
     "output_type": "stream",
     "text": [
      "/home/mette/master/fpv_energy_yield_norway/src/FPVsimulation/pvsystem.py:83: UserWarning: Geometry is in a geographic CRS. Results from 'distance' are likely incorrect. Use 'GeoSeries.to_crs()' to re-project geometries to a projected CRS before this operation.\n",
      "\n",
      "  soiling_loss_gdf['distance'] = soiling_loss_NS3031_gdf['geometry'].distance(center)\n"
     ]
    },
    {
     "name": "stdout",
     "output_type": "stream",
     "text": [
      "lake 400 of 730\n"
     ]
    },
    {
     "name": "stderr",
     "output_type": "stream",
     "text": [
      "/home/mette/master/fpv_energy_yield_norway/src/FPVsimulation/pvsystem.py:83: UserWarning: Geometry is in a geographic CRS. Results from 'distance' are likely incorrect. Use 'GeoSeries.to_crs()' to re-project geometries to a projected CRS before this operation.\n",
      "\n",
      "  soiling_loss_gdf['distance'] = soiling_loss_NS3031_gdf['geometry'].distance(center)\n"
     ]
    },
    {
     "name": "stdout",
     "output_type": "stream",
     "text": [
      "lake 401 of 730\n"
     ]
    },
    {
     "name": "stderr",
     "output_type": "stream",
     "text": [
      "/home/mette/master/fpv_energy_yield_norway/src/FPVsimulation/pvsystem.py:83: UserWarning: Geometry is in a geographic CRS. Results from 'distance' are likely incorrect. Use 'GeoSeries.to_crs()' to re-project geometries to a projected CRS before this operation.\n",
      "\n",
      "  soiling_loss_gdf['distance'] = soiling_loss_NS3031_gdf['geometry'].distance(center)\n"
     ]
    },
    {
     "name": "stdout",
     "output_type": "stream",
     "text": [
      "lake 402 of 730\n"
     ]
    },
    {
     "name": "stderr",
     "output_type": "stream",
     "text": [
      "/home/mette/master/fpv_energy_yield_norway/src/FPVsimulation/pvsystem.py:83: UserWarning: Geometry is in a geographic CRS. Results from 'distance' are likely incorrect. Use 'GeoSeries.to_crs()' to re-project geometries to a projected CRS before this operation.\n",
      "\n",
      "  soiling_loss_gdf['distance'] = soiling_loss_NS3031_gdf['geometry'].distance(center)\n"
     ]
    },
    {
     "name": "stdout",
     "output_type": "stream",
     "text": [
      "lake 403 of 730\n"
     ]
    },
    {
     "name": "stderr",
     "output_type": "stream",
     "text": [
      "/home/mette/master/fpv_energy_yield_norway/src/FPVsimulation/pvsystem.py:83: UserWarning: Geometry is in a geographic CRS. Results from 'distance' are likely incorrect. Use 'GeoSeries.to_crs()' to re-project geometries to a projected CRS before this operation.\n",
      "\n",
      "  soiling_loss_gdf['distance'] = soiling_loss_NS3031_gdf['geometry'].distance(center)\n"
     ]
    },
    {
     "name": "stdout",
     "output_type": "stream",
     "text": [
      "lake 404 of 730\n"
     ]
    },
    {
     "name": "stderr",
     "output_type": "stream",
     "text": [
      "/home/mette/master/fpv_energy_yield_norway/src/FPVsimulation/pvsystem.py:83: UserWarning: Geometry is in a geographic CRS. Results from 'distance' are likely incorrect. Use 'GeoSeries.to_crs()' to re-project geometries to a projected CRS before this operation.\n",
      "\n",
      "  soiling_loss_gdf['distance'] = soiling_loss_NS3031_gdf['geometry'].distance(center)\n"
     ]
    },
    {
     "name": "stdout",
     "output_type": "stream",
     "text": [
      "lake 405 of 730\n"
     ]
    },
    {
     "name": "stderr",
     "output_type": "stream",
     "text": [
      "/home/mette/master/fpv_energy_yield_norway/src/FPVsimulation/pvsystem.py:83: UserWarning: Geometry is in a geographic CRS. Results from 'distance' are likely incorrect. Use 'GeoSeries.to_crs()' to re-project geometries to a projected CRS before this operation.\n",
      "\n",
      "  soiling_loss_gdf['distance'] = soiling_loss_NS3031_gdf['geometry'].distance(center)\n"
     ]
    },
    {
     "name": "stdout",
     "output_type": "stream",
     "text": [
      "lake 406 of 730\n"
     ]
    },
    {
     "name": "stderr",
     "output_type": "stream",
     "text": [
      "/home/mette/master/fpv_energy_yield_norway/src/FPVsimulation/pvsystem.py:83: UserWarning: Geometry is in a geographic CRS. Results from 'distance' are likely incorrect. Use 'GeoSeries.to_crs()' to re-project geometries to a projected CRS before this operation.\n",
      "\n",
      "  soiling_loss_gdf['distance'] = soiling_loss_NS3031_gdf['geometry'].distance(center)\n"
     ]
    },
    {
     "name": "stdout",
     "output_type": "stream",
     "text": [
      "lake 407 of 730\n"
     ]
    },
    {
     "name": "stderr",
     "output_type": "stream",
     "text": [
      "/home/mette/master/fpv_energy_yield_norway/src/FPVsimulation/pvsystem.py:83: UserWarning: Geometry is in a geographic CRS. Results from 'distance' are likely incorrect. Use 'GeoSeries.to_crs()' to re-project geometries to a projected CRS before this operation.\n",
      "\n",
      "  soiling_loss_gdf['distance'] = soiling_loss_NS3031_gdf['geometry'].distance(center)\n"
     ]
    },
    {
     "name": "stdout",
     "output_type": "stream",
     "text": [
      "lake 408 of 730\n"
     ]
    },
    {
     "name": "stderr",
     "output_type": "stream",
     "text": [
      "/home/mette/master/fpv_energy_yield_norway/src/FPVsimulation/pvsystem.py:83: UserWarning: Geometry is in a geographic CRS. Results from 'distance' are likely incorrect. Use 'GeoSeries.to_crs()' to re-project geometries to a projected CRS before this operation.\n",
      "\n",
      "  soiling_loss_gdf['distance'] = soiling_loss_NS3031_gdf['geometry'].distance(center)\n"
     ]
    },
    {
     "name": "stdout",
     "output_type": "stream",
     "text": [
      "lake 409 of 730\n"
     ]
    },
    {
     "name": "stderr",
     "output_type": "stream",
     "text": [
      "/home/mette/master/fpv_energy_yield_norway/src/FPVsimulation/pvsystem.py:83: UserWarning: Geometry is in a geographic CRS. Results from 'distance' are likely incorrect. Use 'GeoSeries.to_crs()' to re-project geometries to a projected CRS before this operation.\n",
      "\n",
      "  soiling_loss_gdf['distance'] = soiling_loss_NS3031_gdf['geometry'].distance(center)\n"
     ]
    },
    {
     "name": "stdout",
     "output_type": "stream",
     "text": [
      "lake 410 of 730\n"
     ]
    },
    {
     "name": "stderr",
     "output_type": "stream",
     "text": [
      "/home/mette/master/fpv_energy_yield_norway/src/FPVsimulation/pvsystem.py:83: UserWarning: Geometry is in a geographic CRS. Results from 'distance' are likely incorrect. Use 'GeoSeries.to_crs()' to re-project geometries to a projected CRS before this operation.\n",
      "\n",
      "  soiling_loss_gdf['distance'] = soiling_loss_NS3031_gdf['geometry'].distance(center)\n"
     ]
    },
    {
     "name": "stdout",
     "output_type": "stream",
     "text": [
      "lake 411 of 730\n"
     ]
    },
    {
     "name": "stderr",
     "output_type": "stream",
     "text": [
      "/home/mette/master/fpv_energy_yield_norway/src/FPVsimulation/pvsystem.py:83: UserWarning: Geometry is in a geographic CRS. Results from 'distance' are likely incorrect. Use 'GeoSeries.to_crs()' to re-project geometries to a projected CRS before this operation.\n",
      "\n",
      "  soiling_loss_gdf['distance'] = soiling_loss_NS3031_gdf['geometry'].distance(center)\n"
     ]
    },
    {
     "name": "stdout",
     "output_type": "stream",
     "text": [
      "lake 412 of 730\n"
     ]
    },
    {
     "name": "stderr",
     "output_type": "stream",
     "text": [
      "/home/mette/master/fpv_energy_yield_norway/src/FPVsimulation/pvsystem.py:83: UserWarning: Geometry is in a geographic CRS. Results from 'distance' are likely incorrect. Use 'GeoSeries.to_crs()' to re-project geometries to a projected CRS before this operation.\n",
      "\n",
      "  soiling_loss_gdf['distance'] = soiling_loss_NS3031_gdf['geometry'].distance(center)\n"
     ]
    },
    {
     "name": "stdout",
     "output_type": "stream",
     "text": [
      "lake 413 of 730\n"
     ]
    },
    {
     "name": "stderr",
     "output_type": "stream",
     "text": [
      "/home/mette/master/fpv_energy_yield_norway/src/FPVsimulation/pvsystem.py:83: UserWarning: Geometry is in a geographic CRS. Results from 'distance' are likely incorrect. Use 'GeoSeries.to_crs()' to re-project geometries to a projected CRS before this operation.\n",
      "\n",
      "  soiling_loss_gdf['distance'] = soiling_loss_NS3031_gdf['geometry'].distance(center)\n"
     ]
    },
    {
     "name": "stdout",
     "output_type": "stream",
     "text": [
      "lake 414 of 730\n"
     ]
    },
    {
     "name": "stderr",
     "output_type": "stream",
     "text": [
      "/home/mette/master/fpv_energy_yield_norway/src/FPVsimulation/pvsystem.py:83: UserWarning: Geometry is in a geographic CRS. Results from 'distance' are likely incorrect. Use 'GeoSeries.to_crs()' to re-project geometries to a projected CRS before this operation.\n",
      "\n",
      "  soiling_loss_gdf['distance'] = soiling_loss_NS3031_gdf['geometry'].distance(center)\n"
     ]
    },
    {
     "name": "stdout",
     "output_type": "stream",
     "text": [
      "lake 415 of 730\n"
     ]
    },
    {
     "name": "stderr",
     "output_type": "stream",
     "text": [
      "/home/mette/master/fpv_energy_yield_norway/src/FPVsimulation/pvsystem.py:83: UserWarning: Geometry is in a geographic CRS. Results from 'distance' are likely incorrect. Use 'GeoSeries.to_crs()' to re-project geometries to a projected CRS before this operation.\n",
      "\n",
      "  soiling_loss_gdf['distance'] = soiling_loss_NS3031_gdf['geometry'].distance(center)\n"
     ]
    },
    {
     "name": "stdout",
     "output_type": "stream",
     "text": [
      "lake 416 of 730\n"
     ]
    },
    {
     "name": "stderr",
     "output_type": "stream",
     "text": [
      "/home/mette/master/fpv_energy_yield_norway/src/FPVsimulation/pvsystem.py:83: UserWarning: Geometry is in a geographic CRS. Results from 'distance' are likely incorrect. Use 'GeoSeries.to_crs()' to re-project geometries to a projected CRS before this operation.\n",
      "\n",
      "  soiling_loss_gdf['distance'] = soiling_loss_NS3031_gdf['geometry'].distance(center)\n"
     ]
    },
    {
     "name": "stdout",
     "output_type": "stream",
     "text": [
      "lake 417 of 730\n"
     ]
    },
    {
     "name": "stderr",
     "output_type": "stream",
     "text": [
      "/home/mette/master/fpv_energy_yield_norway/src/FPVsimulation/pvsystem.py:83: UserWarning: Geometry is in a geographic CRS. Results from 'distance' are likely incorrect. Use 'GeoSeries.to_crs()' to re-project geometries to a projected CRS before this operation.\n",
      "\n",
      "  soiling_loss_gdf['distance'] = soiling_loss_NS3031_gdf['geometry'].distance(center)\n"
     ]
    },
    {
     "name": "stdout",
     "output_type": "stream",
     "text": [
      "lake 418 of 730\n"
     ]
    },
    {
     "name": "stderr",
     "output_type": "stream",
     "text": [
      "/home/mette/master/fpv_energy_yield_norway/src/FPVsimulation/pvsystem.py:83: UserWarning: Geometry is in a geographic CRS. Results from 'distance' are likely incorrect. Use 'GeoSeries.to_crs()' to re-project geometries to a projected CRS before this operation.\n",
      "\n",
      "  soiling_loss_gdf['distance'] = soiling_loss_NS3031_gdf['geometry'].distance(center)\n"
     ]
    },
    {
     "name": "stdout",
     "output_type": "stream",
     "text": [
      "lake 419 of 730\n"
     ]
    },
    {
     "name": "stderr",
     "output_type": "stream",
     "text": [
      "/home/mette/master/fpv_energy_yield_norway/src/FPVsimulation/pvsystem.py:83: UserWarning: Geometry is in a geographic CRS. Results from 'distance' are likely incorrect. Use 'GeoSeries.to_crs()' to re-project geometries to a projected CRS before this operation.\n",
      "\n",
      "  soiling_loss_gdf['distance'] = soiling_loss_NS3031_gdf['geometry'].distance(center)\n"
     ]
    },
    {
     "name": "stdout",
     "output_type": "stream",
     "text": [
      "lake 420 of 730\n"
     ]
    },
    {
     "name": "stderr",
     "output_type": "stream",
     "text": [
      "/home/mette/master/fpv_energy_yield_norway/src/FPVsimulation/pvsystem.py:83: UserWarning: Geometry is in a geographic CRS. Results from 'distance' are likely incorrect. Use 'GeoSeries.to_crs()' to re-project geometries to a projected CRS before this operation.\n",
      "\n",
      "  soiling_loss_gdf['distance'] = soiling_loss_NS3031_gdf['geometry'].distance(center)\n"
     ]
    },
    {
     "name": "stdout",
     "output_type": "stream",
     "text": [
      "lake 421 of 730\n"
     ]
    },
    {
     "name": "stderr",
     "output_type": "stream",
     "text": [
      "/home/mette/master/fpv_energy_yield_norway/src/FPVsimulation/pvsystem.py:83: UserWarning: Geometry is in a geographic CRS. Results from 'distance' are likely incorrect. Use 'GeoSeries.to_crs()' to re-project geometries to a projected CRS before this operation.\n",
      "\n",
      "  soiling_loss_gdf['distance'] = soiling_loss_NS3031_gdf['geometry'].distance(center)\n"
     ]
    },
    {
     "name": "stdout",
     "output_type": "stream",
     "text": [
      "lake 422 of 730\n"
     ]
    },
    {
     "name": "stderr",
     "output_type": "stream",
     "text": [
      "/home/mette/master/fpv_energy_yield_norway/src/FPVsimulation/pvsystem.py:83: UserWarning: Geometry is in a geographic CRS. Results from 'distance' are likely incorrect. Use 'GeoSeries.to_crs()' to re-project geometries to a projected CRS before this operation.\n",
      "\n",
      "  soiling_loss_gdf['distance'] = soiling_loss_NS3031_gdf['geometry'].distance(center)\n"
     ]
    },
    {
     "name": "stdout",
     "output_type": "stream",
     "text": [
      "lake 423 of 730\n"
     ]
    },
    {
     "name": "stderr",
     "output_type": "stream",
     "text": [
      "/home/mette/master/fpv_energy_yield_norway/src/FPVsimulation/pvsystem.py:83: UserWarning: Geometry is in a geographic CRS. Results from 'distance' are likely incorrect. Use 'GeoSeries.to_crs()' to re-project geometries to a projected CRS before this operation.\n",
      "\n",
      "  soiling_loss_gdf['distance'] = soiling_loss_NS3031_gdf['geometry'].distance(center)\n"
     ]
    },
    {
     "name": "stdout",
     "output_type": "stream",
     "text": [
      "lake 424 of 730\n"
     ]
    },
    {
     "name": "stderr",
     "output_type": "stream",
     "text": [
      "/home/mette/master/fpv_energy_yield_norway/src/FPVsimulation/pvsystem.py:83: UserWarning: Geometry is in a geographic CRS. Results from 'distance' are likely incorrect. Use 'GeoSeries.to_crs()' to re-project geometries to a projected CRS before this operation.\n",
      "\n",
      "  soiling_loss_gdf['distance'] = soiling_loss_NS3031_gdf['geometry'].distance(center)\n"
     ]
    },
    {
     "name": "stdout",
     "output_type": "stream",
     "text": [
      "lake 425 of 730\n"
     ]
    },
    {
     "name": "stderr",
     "output_type": "stream",
     "text": [
      "/home/mette/master/fpv_energy_yield_norway/src/FPVsimulation/pvsystem.py:83: UserWarning: Geometry is in a geographic CRS. Results from 'distance' are likely incorrect. Use 'GeoSeries.to_crs()' to re-project geometries to a projected CRS before this operation.\n",
      "\n",
      "  soiling_loss_gdf['distance'] = soiling_loss_NS3031_gdf['geometry'].distance(center)\n"
     ]
    },
    {
     "name": "stdout",
     "output_type": "stream",
     "text": [
      "lake 426 of 730\n"
     ]
    },
    {
     "name": "stderr",
     "output_type": "stream",
     "text": [
      "/home/mette/master/fpv_energy_yield_norway/src/FPVsimulation/pvsystem.py:83: UserWarning: Geometry is in a geographic CRS. Results from 'distance' are likely incorrect. Use 'GeoSeries.to_crs()' to re-project geometries to a projected CRS before this operation.\n",
      "\n",
      "  soiling_loss_gdf['distance'] = soiling_loss_NS3031_gdf['geometry'].distance(center)\n"
     ]
    },
    {
     "name": "stdout",
     "output_type": "stream",
     "text": [
      "lake 427 of 730\n"
     ]
    },
    {
     "name": "stderr",
     "output_type": "stream",
     "text": [
      "/home/mette/master/fpv_energy_yield_norway/src/FPVsimulation/pvsystem.py:83: UserWarning: Geometry is in a geographic CRS. Results from 'distance' are likely incorrect. Use 'GeoSeries.to_crs()' to re-project geometries to a projected CRS before this operation.\n",
      "\n",
      "  soiling_loss_gdf['distance'] = soiling_loss_NS3031_gdf['geometry'].distance(center)\n"
     ]
    },
    {
     "name": "stdout",
     "output_type": "stream",
     "text": [
      "lake 428 of 730\n"
     ]
    },
    {
     "name": "stderr",
     "output_type": "stream",
     "text": [
      "/home/mette/master/fpv_energy_yield_norway/src/FPVsimulation/pvsystem.py:83: UserWarning: Geometry is in a geographic CRS. Results from 'distance' are likely incorrect. Use 'GeoSeries.to_crs()' to re-project geometries to a projected CRS before this operation.\n",
      "\n",
      "  soiling_loss_gdf['distance'] = soiling_loss_NS3031_gdf['geometry'].distance(center)\n"
     ]
    },
    {
     "name": "stdout",
     "output_type": "stream",
     "text": [
      "lake 429 of 730\n"
     ]
    },
    {
     "name": "stderr",
     "output_type": "stream",
     "text": [
      "/home/mette/master/fpv_energy_yield_norway/src/FPVsimulation/pvsystem.py:83: UserWarning: Geometry is in a geographic CRS. Results from 'distance' are likely incorrect. Use 'GeoSeries.to_crs()' to re-project geometries to a projected CRS before this operation.\n",
      "\n",
      "  soiling_loss_gdf['distance'] = soiling_loss_NS3031_gdf['geometry'].distance(center)\n"
     ]
    },
    {
     "name": "stdout",
     "output_type": "stream",
     "text": [
      "lake 430 of 730\n"
     ]
    },
    {
     "name": "stderr",
     "output_type": "stream",
     "text": [
      "/home/mette/master/fpv_energy_yield_norway/src/FPVsimulation/pvsystem.py:83: UserWarning: Geometry is in a geographic CRS. Results from 'distance' are likely incorrect. Use 'GeoSeries.to_crs()' to re-project geometries to a projected CRS before this operation.\n",
      "\n",
      "  soiling_loss_gdf['distance'] = soiling_loss_NS3031_gdf['geometry'].distance(center)\n"
     ]
    },
    {
     "name": "stdout",
     "output_type": "stream",
     "text": [
      "lake 431 of 730\n"
     ]
    },
    {
     "name": "stderr",
     "output_type": "stream",
     "text": [
      "/home/mette/master/fpv_energy_yield_norway/src/FPVsimulation/pvsystem.py:83: UserWarning: Geometry is in a geographic CRS. Results from 'distance' are likely incorrect. Use 'GeoSeries.to_crs()' to re-project geometries to a projected CRS before this operation.\n",
      "\n",
      "  soiling_loss_gdf['distance'] = soiling_loss_NS3031_gdf['geometry'].distance(center)\n"
     ]
    },
    {
     "name": "stdout",
     "output_type": "stream",
     "text": [
      "lake 432 of 730\n"
     ]
    },
    {
     "name": "stderr",
     "output_type": "stream",
     "text": [
      "/home/mette/master/fpv_energy_yield_norway/src/FPVsimulation/pvsystem.py:83: UserWarning: Geometry is in a geographic CRS. Results from 'distance' are likely incorrect. Use 'GeoSeries.to_crs()' to re-project geometries to a projected CRS before this operation.\n",
      "\n",
      "  soiling_loss_gdf['distance'] = soiling_loss_NS3031_gdf['geometry'].distance(center)\n"
     ]
    },
    {
     "name": "stdout",
     "output_type": "stream",
     "text": [
      "lake 433 of 730\n"
     ]
    },
    {
     "name": "stderr",
     "output_type": "stream",
     "text": [
      "/home/mette/master/fpv_energy_yield_norway/src/FPVsimulation/pvsystem.py:83: UserWarning: Geometry is in a geographic CRS. Results from 'distance' are likely incorrect. Use 'GeoSeries.to_crs()' to re-project geometries to a projected CRS before this operation.\n",
      "\n",
      "  soiling_loss_gdf['distance'] = soiling_loss_NS3031_gdf['geometry'].distance(center)\n"
     ]
    },
    {
     "name": "stdout",
     "output_type": "stream",
     "text": [
      "lake 434 of 730\n"
     ]
    },
    {
     "name": "stderr",
     "output_type": "stream",
     "text": [
      "/home/mette/master/fpv_energy_yield_norway/src/FPVsimulation/pvsystem.py:83: UserWarning: Geometry is in a geographic CRS. Results from 'distance' are likely incorrect. Use 'GeoSeries.to_crs()' to re-project geometries to a projected CRS before this operation.\n",
      "\n",
      "  soiling_loss_gdf['distance'] = soiling_loss_NS3031_gdf['geometry'].distance(center)\n"
     ]
    },
    {
     "name": "stdout",
     "output_type": "stream",
     "text": [
      "lake 435 of 730\n"
     ]
    },
    {
     "name": "stderr",
     "output_type": "stream",
     "text": [
      "/home/mette/master/fpv_energy_yield_norway/src/FPVsimulation/pvsystem.py:83: UserWarning: Geometry is in a geographic CRS. Results from 'distance' are likely incorrect. Use 'GeoSeries.to_crs()' to re-project geometries to a projected CRS before this operation.\n",
      "\n",
      "  soiling_loss_gdf['distance'] = soiling_loss_NS3031_gdf['geometry'].distance(center)\n"
     ]
    },
    {
     "name": "stdout",
     "output_type": "stream",
     "text": [
      "lake 436 of 730\n"
     ]
    },
    {
     "name": "stderr",
     "output_type": "stream",
     "text": [
      "/home/mette/master/fpv_energy_yield_norway/src/FPVsimulation/pvsystem.py:83: UserWarning: Geometry is in a geographic CRS. Results from 'distance' are likely incorrect. Use 'GeoSeries.to_crs()' to re-project geometries to a projected CRS before this operation.\n",
      "\n",
      "  soiling_loss_gdf['distance'] = soiling_loss_NS3031_gdf['geometry'].distance(center)\n"
     ]
    },
    {
     "name": "stdout",
     "output_type": "stream",
     "text": [
      "lake 437 of 730\n"
     ]
    },
    {
     "name": "stderr",
     "output_type": "stream",
     "text": [
      "/home/mette/master/fpv_energy_yield_norway/src/FPVsimulation/pvsystem.py:83: UserWarning: Geometry is in a geographic CRS. Results from 'distance' are likely incorrect. Use 'GeoSeries.to_crs()' to re-project geometries to a projected CRS before this operation.\n",
      "\n",
      "  soiling_loss_gdf['distance'] = soiling_loss_NS3031_gdf['geometry'].distance(center)\n"
     ]
    },
    {
     "name": "stdout",
     "output_type": "stream",
     "text": [
      "lake 438 of 730\n"
     ]
    },
    {
     "name": "stderr",
     "output_type": "stream",
     "text": [
      "/home/mette/master/fpv_energy_yield_norway/src/FPVsimulation/pvsystem.py:83: UserWarning: Geometry is in a geographic CRS. Results from 'distance' are likely incorrect. Use 'GeoSeries.to_crs()' to re-project geometries to a projected CRS before this operation.\n",
      "\n",
      "  soiling_loss_gdf['distance'] = soiling_loss_NS3031_gdf['geometry'].distance(center)\n"
     ]
    },
    {
     "name": "stdout",
     "output_type": "stream",
     "text": [
      "lake 439 of 730\n"
     ]
    },
    {
     "name": "stderr",
     "output_type": "stream",
     "text": [
      "/home/mette/master/fpv_energy_yield_norway/src/FPVsimulation/pvsystem.py:83: UserWarning: Geometry is in a geographic CRS. Results from 'distance' are likely incorrect. Use 'GeoSeries.to_crs()' to re-project geometries to a projected CRS before this operation.\n",
      "\n",
      "  soiling_loss_gdf['distance'] = soiling_loss_NS3031_gdf['geometry'].distance(center)\n"
     ]
    },
    {
     "name": "stdout",
     "output_type": "stream",
     "text": [
      "lake 440 of 730\n"
     ]
    },
    {
     "name": "stderr",
     "output_type": "stream",
     "text": [
      "/home/mette/master/fpv_energy_yield_norway/src/FPVsimulation/pvsystem.py:83: UserWarning: Geometry is in a geographic CRS. Results from 'distance' are likely incorrect. Use 'GeoSeries.to_crs()' to re-project geometries to a projected CRS before this operation.\n",
      "\n",
      "  soiling_loss_gdf['distance'] = soiling_loss_NS3031_gdf['geometry'].distance(center)\n"
     ]
    },
    {
     "name": "stdout",
     "output_type": "stream",
     "text": [
      "lake 441 of 730\n"
     ]
    },
    {
     "name": "stderr",
     "output_type": "stream",
     "text": [
      "/home/mette/master/fpv_energy_yield_norway/src/FPVsimulation/pvsystem.py:83: UserWarning: Geometry is in a geographic CRS. Results from 'distance' are likely incorrect. Use 'GeoSeries.to_crs()' to re-project geometries to a projected CRS before this operation.\n",
      "\n",
      "  soiling_loss_gdf['distance'] = soiling_loss_NS3031_gdf['geometry'].distance(center)\n"
     ]
    },
    {
     "name": "stdout",
     "output_type": "stream",
     "text": [
      "lake 442 of 730\n"
     ]
    },
    {
     "name": "stderr",
     "output_type": "stream",
     "text": [
      "/home/mette/master/fpv_energy_yield_norway/src/FPVsimulation/pvsystem.py:83: UserWarning: Geometry is in a geographic CRS. Results from 'distance' are likely incorrect. Use 'GeoSeries.to_crs()' to re-project geometries to a projected CRS before this operation.\n",
      "\n",
      "  soiling_loss_gdf['distance'] = soiling_loss_NS3031_gdf['geometry'].distance(center)\n"
     ]
    },
    {
     "name": "stdout",
     "output_type": "stream",
     "text": [
      "lake 443 of 730\n"
     ]
    },
    {
     "name": "stderr",
     "output_type": "stream",
     "text": [
      "/home/mette/master/fpv_energy_yield_norway/src/FPVsimulation/pvsystem.py:83: UserWarning: Geometry is in a geographic CRS. Results from 'distance' are likely incorrect. Use 'GeoSeries.to_crs()' to re-project geometries to a projected CRS before this operation.\n",
      "\n",
      "  soiling_loss_gdf['distance'] = soiling_loss_NS3031_gdf['geometry'].distance(center)\n"
     ]
    },
    {
     "name": "stdout",
     "output_type": "stream",
     "text": [
      "lake 444 of 730\n"
     ]
    },
    {
     "name": "stderr",
     "output_type": "stream",
     "text": [
      "/home/mette/master/fpv_energy_yield_norway/src/FPVsimulation/pvsystem.py:83: UserWarning: Geometry is in a geographic CRS. Results from 'distance' are likely incorrect. Use 'GeoSeries.to_crs()' to re-project geometries to a projected CRS before this operation.\n",
      "\n",
      "  soiling_loss_gdf['distance'] = soiling_loss_NS3031_gdf['geometry'].distance(center)\n"
     ]
    },
    {
     "name": "stdout",
     "output_type": "stream",
     "text": [
      "lake 445 of 730\n"
     ]
    },
    {
     "name": "stderr",
     "output_type": "stream",
     "text": [
      "/home/mette/master/fpv_energy_yield_norway/src/FPVsimulation/pvsystem.py:83: UserWarning: Geometry is in a geographic CRS. Results from 'distance' are likely incorrect. Use 'GeoSeries.to_crs()' to re-project geometries to a projected CRS before this operation.\n",
      "\n",
      "  soiling_loss_gdf['distance'] = soiling_loss_NS3031_gdf['geometry'].distance(center)\n"
     ]
    },
    {
     "name": "stdout",
     "output_type": "stream",
     "text": [
      "lake 446 of 730\n"
     ]
    },
    {
     "name": "stderr",
     "output_type": "stream",
     "text": [
      "/home/mette/master/fpv_energy_yield_norway/src/FPVsimulation/pvsystem.py:83: UserWarning: Geometry is in a geographic CRS. Results from 'distance' are likely incorrect. Use 'GeoSeries.to_crs()' to re-project geometries to a projected CRS before this operation.\n",
      "\n",
      "  soiling_loss_gdf['distance'] = soiling_loss_NS3031_gdf['geometry'].distance(center)\n"
     ]
    },
    {
     "name": "stdout",
     "output_type": "stream",
     "text": [
      "lake 447 of 730\n"
     ]
    },
    {
     "name": "stderr",
     "output_type": "stream",
     "text": [
      "/home/mette/master/fpv_energy_yield_norway/src/FPVsimulation/pvsystem.py:83: UserWarning: Geometry is in a geographic CRS. Results from 'distance' are likely incorrect. Use 'GeoSeries.to_crs()' to re-project geometries to a projected CRS before this operation.\n",
      "\n",
      "  soiling_loss_gdf['distance'] = soiling_loss_NS3031_gdf['geometry'].distance(center)\n"
     ]
    },
    {
     "name": "stdout",
     "output_type": "stream",
     "text": [
      "lake 448 of 730\n"
     ]
    },
    {
     "name": "stderr",
     "output_type": "stream",
     "text": [
      "/home/mette/master/fpv_energy_yield_norway/src/FPVsimulation/pvsystem.py:83: UserWarning: Geometry is in a geographic CRS. Results from 'distance' are likely incorrect. Use 'GeoSeries.to_crs()' to re-project geometries to a projected CRS before this operation.\n",
      "\n",
      "  soiling_loss_gdf['distance'] = soiling_loss_NS3031_gdf['geometry'].distance(center)\n"
     ]
    },
    {
     "name": "stdout",
     "output_type": "stream",
     "text": [
      "lake 449 of 730\n"
     ]
    },
    {
     "name": "stderr",
     "output_type": "stream",
     "text": [
      "/home/mette/master/fpv_energy_yield_norway/src/FPVsimulation/pvsystem.py:83: UserWarning: Geometry is in a geographic CRS. Results from 'distance' are likely incorrect. Use 'GeoSeries.to_crs()' to re-project geometries to a projected CRS before this operation.\n",
      "\n",
      "  soiling_loss_gdf['distance'] = soiling_loss_NS3031_gdf['geometry'].distance(center)\n"
     ]
    },
    {
     "name": "stdout",
     "output_type": "stream",
     "text": [
      "lake 450 of 730\n"
     ]
    },
    {
     "name": "stderr",
     "output_type": "stream",
     "text": [
      "/home/mette/master/fpv_energy_yield_norway/src/FPVsimulation/pvsystem.py:83: UserWarning: Geometry is in a geographic CRS. Results from 'distance' are likely incorrect. Use 'GeoSeries.to_crs()' to re-project geometries to a projected CRS before this operation.\n",
      "\n",
      "  soiling_loss_gdf['distance'] = soiling_loss_NS3031_gdf['geometry'].distance(center)\n"
     ]
    },
    {
     "name": "stdout",
     "output_type": "stream",
     "text": [
      "lake 451 of 730\n"
     ]
    },
    {
     "name": "stderr",
     "output_type": "stream",
     "text": [
      "/home/mette/master/fpv_energy_yield_norway/src/FPVsimulation/pvsystem.py:83: UserWarning: Geometry is in a geographic CRS. Results from 'distance' are likely incorrect. Use 'GeoSeries.to_crs()' to re-project geometries to a projected CRS before this operation.\n",
      "\n",
      "  soiling_loss_gdf['distance'] = soiling_loss_NS3031_gdf['geometry'].distance(center)\n"
     ]
    },
    {
     "name": "stdout",
     "output_type": "stream",
     "text": [
      "lake 452 of 730\n"
     ]
    },
    {
     "name": "stderr",
     "output_type": "stream",
     "text": [
      "/home/mette/master/fpv_energy_yield_norway/src/FPVsimulation/pvsystem.py:83: UserWarning: Geometry is in a geographic CRS. Results from 'distance' are likely incorrect. Use 'GeoSeries.to_crs()' to re-project geometries to a projected CRS before this operation.\n",
      "\n",
      "  soiling_loss_gdf['distance'] = soiling_loss_NS3031_gdf['geometry'].distance(center)\n"
     ]
    },
    {
     "name": "stdout",
     "output_type": "stream",
     "text": [
      "lake 453 of 730\n"
     ]
    },
    {
     "name": "stderr",
     "output_type": "stream",
     "text": [
      "/home/mette/master/fpv_energy_yield_norway/src/FPVsimulation/pvsystem.py:83: UserWarning: Geometry is in a geographic CRS. Results from 'distance' are likely incorrect. Use 'GeoSeries.to_crs()' to re-project geometries to a projected CRS before this operation.\n",
      "\n",
      "  soiling_loss_gdf['distance'] = soiling_loss_NS3031_gdf['geometry'].distance(center)\n"
     ]
    },
    {
     "name": "stdout",
     "output_type": "stream",
     "text": [
      "lake 454 of 730\n"
     ]
    },
    {
     "name": "stderr",
     "output_type": "stream",
     "text": [
      "/home/mette/master/fpv_energy_yield_norway/src/FPVsimulation/pvsystem.py:83: UserWarning: Geometry is in a geographic CRS. Results from 'distance' are likely incorrect. Use 'GeoSeries.to_crs()' to re-project geometries to a projected CRS before this operation.\n",
      "\n",
      "  soiling_loss_gdf['distance'] = soiling_loss_NS3031_gdf['geometry'].distance(center)\n"
     ]
    },
    {
     "name": "stdout",
     "output_type": "stream",
     "text": [
      "lake 455 of 730\n"
     ]
    },
    {
     "name": "stderr",
     "output_type": "stream",
     "text": [
      "/home/mette/master/fpv_energy_yield_norway/src/FPVsimulation/pvsystem.py:83: UserWarning: Geometry is in a geographic CRS. Results from 'distance' are likely incorrect. Use 'GeoSeries.to_crs()' to re-project geometries to a projected CRS before this operation.\n",
      "\n",
      "  soiling_loss_gdf['distance'] = soiling_loss_NS3031_gdf['geometry'].distance(center)\n"
     ]
    },
    {
     "name": "stdout",
     "output_type": "stream",
     "text": [
      "lake 456 of 730\n"
     ]
    },
    {
     "name": "stderr",
     "output_type": "stream",
     "text": [
      "/home/mette/master/fpv_energy_yield_norway/src/FPVsimulation/pvsystem.py:83: UserWarning: Geometry is in a geographic CRS. Results from 'distance' are likely incorrect. Use 'GeoSeries.to_crs()' to re-project geometries to a projected CRS before this operation.\n",
      "\n",
      "  soiling_loss_gdf['distance'] = soiling_loss_NS3031_gdf['geometry'].distance(center)\n"
     ]
    },
    {
     "name": "stdout",
     "output_type": "stream",
     "text": [
      "lake 457 of 730\n"
     ]
    },
    {
     "name": "stderr",
     "output_type": "stream",
     "text": [
      "/home/mette/master/fpv_energy_yield_norway/src/FPVsimulation/pvsystem.py:83: UserWarning: Geometry is in a geographic CRS. Results from 'distance' are likely incorrect. Use 'GeoSeries.to_crs()' to re-project geometries to a projected CRS before this operation.\n",
      "\n",
      "  soiling_loss_gdf['distance'] = soiling_loss_NS3031_gdf['geometry'].distance(center)\n"
     ]
    },
    {
     "name": "stdout",
     "output_type": "stream",
     "text": [
      "lake 458 of 730\n"
     ]
    },
    {
     "name": "stderr",
     "output_type": "stream",
     "text": [
      "/home/mette/master/fpv_energy_yield_norway/src/FPVsimulation/pvsystem.py:83: UserWarning: Geometry is in a geographic CRS. Results from 'distance' are likely incorrect. Use 'GeoSeries.to_crs()' to re-project geometries to a projected CRS before this operation.\n",
      "\n",
      "  soiling_loss_gdf['distance'] = soiling_loss_NS3031_gdf['geometry'].distance(center)\n"
     ]
    },
    {
     "name": "stdout",
     "output_type": "stream",
     "text": [
      "lake 459 of 730\n"
     ]
    },
    {
     "name": "stderr",
     "output_type": "stream",
     "text": [
      "/home/mette/master/fpv_energy_yield_norway/src/FPVsimulation/pvsystem.py:83: UserWarning: Geometry is in a geographic CRS. Results from 'distance' are likely incorrect. Use 'GeoSeries.to_crs()' to re-project geometries to a projected CRS before this operation.\n",
      "\n",
      "  soiling_loss_gdf['distance'] = soiling_loss_NS3031_gdf['geometry'].distance(center)\n"
     ]
    },
    {
     "name": "stdout",
     "output_type": "stream",
     "text": [
      "lake 460 of 730\n"
     ]
    },
    {
     "name": "stderr",
     "output_type": "stream",
     "text": [
      "/home/mette/master/fpv_energy_yield_norway/src/FPVsimulation/pvsystem.py:83: UserWarning: Geometry is in a geographic CRS. Results from 'distance' are likely incorrect. Use 'GeoSeries.to_crs()' to re-project geometries to a projected CRS before this operation.\n",
      "\n",
      "  soiling_loss_gdf['distance'] = soiling_loss_NS3031_gdf['geometry'].distance(center)\n"
     ]
    },
    {
     "name": "stdout",
     "output_type": "stream",
     "text": [
      "lake 461 of 730\n"
     ]
    },
    {
     "name": "stderr",
     "output_type": "stream",
     "text": [
      "/home/mette/master/fpv_energy_yield_norway/src/FPVsimulation/pvsystem.py:83: UserWarning: Geometry is in a geographic CRS. Results from 'distance' are likely incorrect. Use 'GeoSeries.to_crs()' to re-project geometries to a projected CRS before this operation.\n",
      "\n",
      "  soiling_loss_gdf['distance'] = soiling_loss_NS3031_gdf['geometry'].distance(center)\n"
     ]
    },
    {
     "name": "stdout",
     "output_type": "stream",
     "text": [
      "lake 462 of 730\n"
     ]
    },
    {
     "name": "stderr",
     "output_type": "stream",
     "text": [
      "/home/mette/master/fpv_energy_yield_norway/src/FPVsimulation/pvsystem.py:83: UserWarning: Geometry is in a geographic CRS. Results from 'distance' are likely incorrect. Use 'GeoSeries.to_crs()' to re-project geometries to a projected CRS before this operation.\n",
      "\n",
      "  soiling_loss_gdf['distance'] = soiling_loss_NS3031_gdf['geometry'].distance(center)\n"
     ]
    },
    {
     "name": "stdout",
     "output_type": "stream",
     "text": [
      "lake 463 of 730\n"
     ]
    },
    {
     "name": "stderr",
     "output_type": "stream",
     "text": [
      "/home/mette/master/fpv_energy_yield_norway/src/FPVsimulation/pvsystem.py:83: UserWarning: Geometry is in a geographic CRS. Results from 'distance' are likely incorrect. Use 'GeoSeries.to_crs()' to re-project geometries to a projected CRS before this operation.\n",
      "\n",
      "  soiling_loss_gdf['distance'] = soiling_loss_NS3031_gdf['geometry'].distance(center)\n"
     ]
    },
    {
     "name": "stdout",
     "output_type": "stream",
     "text": [
      "lake 464 of 730\n"
     ]
    },
    {
     "name": "stderr",
     "output_type": "stream",
     "text": [
      "/home/mette/master/fpv_energy_yield_norway/src/FPVsimulation/pvsystem.py:83: UserWarning: Geometry is in a geographic CRS. Results from 'distance' are likely incorrect. Use 'GeoSeries.to_crs()' to re-project geometries to a projected CRS before this operation.\n",
      "\n",
      "  soiling_loss_gdf['distance'] = soiling_loss_NS3031_gdf['geometry'].distance(center)\n"
     ]
    },
    {
     "name": "stdout",
     "output_type": "stream",
     "text": [
      "lake 465 of 730\n"
     ]
    },
    {
     "name": "stderr",
     "output_type": "stream",
     "text": [
      "/home/mette/master/fpv_energy_yield_norway/src/FPVsimulation/pvsystem.py:83: UserWarning: Geometry is in a geographic CRS. Results from 'distance' are likely incorrect. Use 'GeoSeries.to_crs()' to re-project geometries to a projected CRS before this operation.\n",
      "\n",
      "  soiling_loss_gdf['distance'] = soiling_loss_NS3031_gdf['geometry'].distance(center)\n"
     ]
    },
    {
     "name": "stdout",
     "output_type": "stream",
     "text": [
      "lake 466 of 730\n"
     ]
    },
    {
     "name": "stderr",
     "output_type": "stream",
     "text": [
      "/home/mette/master/fpv_energy_yield_norway/src/FPVsimulation/pvsystem.py:83: UserWarning: Geometry is in a geographic CRS. Results from 'distance' are likely incorrect. Use 'GeoSeries.to_crs()' to re-project geometries to a projected CRS before this operation.\n",
      "\n",
      "  soiling_loss_gdf['distance'] = soiling_loss_NS3031_gdf['geometry'].distance(center)\n"
     ]
    },
    {
     "name": "stdout",
     "output_type": "stream",
     "text": [
      "lake 467 of 730\n"
     ]
    },
    {
     "name": "stderr",
     "output_type": "stream",
     "text": [
      "/home/mette/master/fpv_energy_yield_norway/src/FPVsimulation/pvsystem.py:83: UserWarning: Geometry is in a geographic CRS. Results from 'distance' are likely incorrect. Use 'GeoSeries.to_crs()' to re-project geometries to a projected CRS before this operation.\n",
      "\n",
      "  soiling_loss_gdf['distance'] = soiling_loss_NS3031_gdf['geometry'].distance(center)\n"
     ]
    },
    {
     "name": "stdout",
     "output_type": "stream",
     "text": [
      "lake 468 of 730\n"
     ]
    },
    {
     "name": "stderr",
     "output_type": "stream",
     "text": [
      "/home/mette/master/fpv_energy_yield_norway/src/FPVsimulation/pvsystem.py:83: UserWarning: Geometry is in a geographic CRS. Results from 'distance' are likely incorrect. Use 'GeoSeries.to_crs()' to re-project geometries to a projected CRS before this operation.\n",
      "\n",
      "  soiling_loss_gdf['distance'] = soiling_loss_NS3031_gdf['geometry'].distance(center)\n"
     ]
    },
    {
     "name": "stdout",
     "output_type": "stream",
     "text": [
      "lake 469 of 730\n"
     ]
    },
    {
     "name": "stderr",
     "output_type": "stream",
     "text": [
      "/home/mette/master/fpv_energy_yield_norway/src/FPVsimulation/pvsystem.py:83: UserWarning: Geometry is in a geographic CRS. Results from 'distance' are likely incorrect. Use 'GeoSeries.to_crs()' to re-project geometries to a projected CRS before this operation.\n",
      "\n",
      "  soiling_loss_gdf['distance'] = soiling_loss_NS3031_gdf['geometry'].distance(center)\n"
     ]
    },
    {
     "name": "stdout",
     "output_type": "stream",
     "text": [
      "lake 470 of 730\n"
     ]
    },
    {
     "name": "stderr",
     "output_type": "stream",
     "text": [
      "/home/mette/master/fpv_energy_yield_norway/src/FPVsimulation/pvsystem.py:83: UserWarning: Geometry is in a geographic CRS. Results from 'distance' are likely incorrect. Use 'GeoSeries.to_crs()' to re-project geometries to a projected CRS before this operation.\n",
      "\n",
      "  soiling_loss_gdf['distance'] = soiling_loss_NS3031_gdf['geometry'].distance(center)\n"
     ]
    },
    {
     "name": "stdout",
     "output_type": "stream",
     "text": [
      "lake 471 of 730\n"
     ]
    },
    {
     "name": "stderr",
     "output_type": "stream",
     "text": [
      "/home/mette/master/fpv_energy_yield_norway/src/FPVsimulation/pvsystem.py:83: UserWarning: Geometry is in a geographic CRS. Results from 'distance' are likely incorrect. Use 'GeoSeries.to_crs()' to re-project geometries to a projected CRS before this operation.\n",
      "\n",
      "  soiling_loss_gdf['distance'] = soiling_loss_NS3031_gdf['geometry'].distance(center)\n"
     ]
    },
    {
     "name": "stdout",
     "output_type": "stream",
     "text": [
      "lake 472 of 730\n"
     ]
    },
    {
     "name": "stderr",
     "output_type": "stream",
     "text": [
      "/home/mette/master/fpv_energy_yield_norway/src/FPVsimulation/pvsystem.py:83: UserWarning: Geometry is in a geographic CRS. Results from 'distance' are likely incorrect. Use 'GeoSeries.to_crs()' to re-project geometries to a projected CRS before this operation.\n",
      "\n",
      "  soiling_loss_gdf['distance'] = soiling_loss_NS3031_gdf['geometry'].distance(center)\n"
     ]
    },
    {
     "name": "stdout",
     "output_type": "stream",
     "text": [
      "lake 473 of 730\n"
     ]
    },
    {
     "name": "stderr",
     "output_type": "stream",
     "text": [
      "/home/mette/master/fpv_energy_yield_norway/src/FPVsimulation/pvsystem.py:83: UserWarning: Geometry is in a geographic CRS. Results from 'distance' are likely incorrect. Use 'GeoSeries.to_crs()' to re-project geometries to a projected CRS before this operation.\n",
      "\n",
      "  soiling_loss_gdf['distance'] = soiling_loss_NS3031_gdf['geometry'].distance(center)\n"
     ]
    },
    {
     "name": "stdout",
     "output_type": "stream",
     "text": [
      "lake 474 of 730\n"
     ]
    },
    {
     "name": "stderr",
     "output_type": "stream",
     "text": [
      "/home/mette/master/fpv_energy_yield_norway/src/FPVsimulation/pvsystem.py:83: UserWarning: Geometry is in a geographic CRS. Results from 'distance' are likely incorrect. Use 'GeoSeries.to_crs()' to re-project geometries to a projected CRS before this operation.\n",
      "\n",
      "  soiling_loss_gdf['distance'] = soiling_loss_NS3031_gdf['geometry'].distance(center)\n"
     ]
    },
    {
     "name": "stdout",
     "output_type": "stream",
     "text": [
      "lake 475 of 730\n"
     ]
    },
    {
     "name": "stderr",
     "output_type": "stream",
     "text": [
      "/home/mette/master/fpv_energy_yield_norway/src/FPVsimulation/pvsystem.py:83: UserWarning: Geometry is in a geographic CRS. Results from 'distance' are likely incorrect. Use 'GeoSeries.to_crs()' to re-project geometries to a projected CRS before this operation.\n",
      "\n",
      "  soiling_loss_gdf['distance'] = soiling_loss_NS3031_gdf['geometry'].distance(center)\n"
     ]
    },
    {
     "name": "stdout",
     "output_type": "stream",
     "text": [
      "lake 476 of 730\n"
     ]
    },
    {
     "name": "stderr",
     "output_type": "stream",
     "text": [
      "/home/mette/master/fpv_energy_yield_norway/src/FPVsimulation/pvsystem.py:83: UserWarning: Geometry is in a geographic CRS. Results from 'distance' are likely incorrect. Use 'GeoSeries.to_crs()' to re-project geometries to a projected CRS before this operation.\n",
      "\n",
      "  soiling_loss_gdf['distance'] = soiling_loss_NS3031_gdf['geometry'].distance(center)\n"
     ]
    },
    {
     "name": "stdout",
     "output_type": "stream",
     "text": [
      "lake 477 of 730\n"
     ]
    },
    {
     "name": "stderr",
     "output_type": "stream",
     "text": [
      "/home/mette/master/fpv_energy_yield_norway/src/FPVsimulation/pvsystem.py:83: UserWarning: Geometry is in a geographic CRS. Results from 'distance' are likely incorrect. Use 'GeoSeries.to_crs()' to re-project geometries to a projected CRS before this operation.\n",
      "\n",
      "  soiling_loss_gdf['distance'] = soiling_loss_NS3031_gdf['geometry'].distance(center)\n"
     ]
    },
    {
     "name": "stdout",
     "output_type": "stream",
     "text": [
      "lake 478 of 730\n"
     ]
    },
    {
     "name": "stderr",
     "output_type": "stream",
     "text": [
      "/home/mette/master/fpv_energy_yield_norway/src/FPVsimulation/pvsystem.py:83: UserWarning: Geometry is in a geographic CRS. Results from 'distance' are likely incorrect. Use 'GeoSeries.to_crs()' to re-project geometries to a projected CRS before this operation.\n",
      "\n",
      "  soiling_loss_gdf['distance'] = soiling_loss_NS3031_gdf['geometry'].distance(center)\n"
     ]
    },
    {
     "name": "stdout",
     "output_type": "stream",
     "text": [
      "lake 479 of 730\n"
     ]
    },
    {
     "name": "stderr",
     "output_type": "stream",
     "text": [
      "/home/mette/master/fpv_energy_yield_norway/src/FPVsimulation/pvsystem.py:83: UserWarning: Geometry is in a geographic CRS. Results from 'distance' are likely incorrect. Use 'GeoSeries.to_crs()' to re-project geometries to a projected CRS before this operation.\n",
      "\n",
      "  soiling_loss_gdf['distance'] = soiling_loss_NS3031_gdf['geometry'].distance(center)\n"
     ]
    },
    {
     "name": "stdout",
     "output_type": "stream",
     "text": [
      "lake 480 of 730\n"
     ]
    },
    {
     "name": "stderr",
     "output_type": "stream",
     "text": [
      "/home/mette/master/fpv_energy_yield_norway/src/FPVsimulation/pvsystem.py:83: UserWarning: Geometry is in a geographic CRS. Results from 'distance' are likely incorrect. Use 'GeoSeries.to_crs()' to re-project geometries to a projected CRS before this operation.\n",
      "\n",
      "  soiling_loss_gdf['distance'] = soiling_loss_NS3031_gdf['geometry'].distance(center)\n"
     ]
    },
    {
     "name": "stdout",
     "output_type": "stream",
     "text": [
      "lake 481 of 730\n"
     ]
    },
    {
     "name": "stderr",
     "output_type": "stream",
     "text": [
      "/home/mette/master/fpv_energy_yield_norway/src/FPVsimulation/pvsystem.py:83: UserWarning: Geometry is in a geographic CRS. Results from 'distance' are likely incorrect. Use 'GeoSeries.to_crs()' to re-project geometries to a projected CRS before this operation.\n",
      "\n",
      "  soiling_loss_gdf['distance'] = soiling_loss_NS3031_gdf['geometry'].distance(center)\n"
     ]
    },
    {
     "name": "stdout",
     "output_type": "stream",
     "text": [
      "lake 482 of 730\n"
     ]
    },
    {
     "name": "stderr",
     "output_type": "stream",
     "text": [
      "/home/mette/master/fpv_energy_yield_norway/src/FPVsimulation/pvsystem.py:83: UserWarning: Geometry is in a geographic CRS. Results from 'distance' are likely incorrect. Use 'GeoSeries.to_crs()' to re-project geometries to a projected CRS before this operation.\n",
      "\n",
      "  soiling_loss_gdf['distance'] = soiling_loss_NS3031_gdf['geometry'].distance(center)\n"
     ]
    },
    {
     "name": "stdout",
     "output_type": "stream",
     "text": [
      "lake 483 of 730\n"
     ]
    },
    {
     "name": "stderr",
     "output_type": "stream",
     "text": [
      "/home/mette/master/fpv_energy_yield_norway/src/FPVsimulation/pvsystem.py:83: UserWarning: Geometry is in a geographic CRS. Results from 'distance' are likely incorrect. Use 'GeoSeries.to_crs()' to re-project geometries to a projected CRS before this operation.\n",
      "\n",
      "  soiling_loss_gdf['distance'] = soiling_loss_NS3031_gdf['geometry'].distance(center)\n"
     ]
    },
    {
     "name": "stdout",
     "output_type": "stream",
     "text": [
      "lake 484 of 730\n"
     ]
    },
    {
     "name": "stderr",
     "output_type": "stream",
     "text": [
      "/home/mette/master/fpv_energy_yield_norway/src/FPVsimulation/pvsystem.py:83: UserWarning: Geometry is in a geographic CRS. Results from 'distance' are likely incorrect. Use 'GeoSeries.to_crs()' to re-project geometries to a projected CRS before this operation.\n",
      "\n",
      "  soiling_loss_gdf['distance'] = soiling_loss_NS3031_gdf['geometry'].distance(center)\n"
     ]
    },
    {
     "name": "stdout",
     "output_type": "stream",
     "text": [
      "lake 485 of 730\n"
     ]
    },
    {
     "name": "stderr",
     "output_type": "stream",
     "text": [
      "/home/mette/master/fpv_energy_yield_norway/src/FPVsimulation/pvsystem.py:83: UserWarning: Geometry is in a geographic CRS. Results from 'distance' are likely incorrect. Use 'GeoSeries.to_crs()' to re-project geometries to a projected CRS before this operation.\n",
      "\n",
      "  soiling_loss_gdf['distance'] = soiling_loss_NS3031_gdf['geometry'].distance(center)\n"
     ]
    },
    {
     "name": "stdout",
     "output_type": "stream",
     "text": [
      "lake 486 of 730\n"
     ]
    },
    {
     "name": "stderr",
     "output_type": "stream",
     "text": [
      "/home/mette/master/fpv_energy_yield_norway/src/FPVsimulation/pvsystem.py:83: UserWarning: Geometry is in a geographic CRS. Results from 'distance' are likely incorrect. Use 'GeoSeries.to_crs()' to re-project geometries to a projected CRS before this operation.\n",
      "\n",
      "  soiling_loss_gdf['distance'] = soiling_loss_NS3031_gdf['geometry'].distance(center)\n"
     ]
    },
    {
     "name": "stdout",
     "output_type": "stream",
     "text": [
      "lake 487 of 730\n"
     ]
    },
    {
     "name": "stderr",
     "output_type": "stream",
     "text": [
      "/home/mette/master/fpv_energy_yield_norway/src/FPVsimulation/pvsystem.py:83: UserWarning: Geometry is in a geographic CRS. Results from 'distance' are likely incorrect. Use 'GeoSeries.to_crs()' to re-project geometries to a projected CRS before this operation.\n",
      "\n",
      "  soiling_loss_gdf['distance'] = soiling_loss_NS3031_gdf['geometry'].distance(center)\n"
     ]
    },
    {
     "name": "stdout",
     "output_type": "stream",
     "text": [
      "lake 488 of 730\n"
     ]
    },
    {
     "name": "stderr",
     "output_type": "stream",
     "text": [
      "/home/mette/master/fpv_energy_yield_norway/src/FPVsimulation/pvsystem.py:83: UserWarning: Geometry is in a geographic CRS. Results from 'distance' are likely incorrect. Use 'GeoSeries.to_crs()' to re-project geometries to a projected CRS before this operation.\n",
      "\n",
      "  soiling_loss_gdf['distance'] = soiling_loss_NS3031_gdf['geometry'].distance(center)\n"
     ]
    },
    {
     "name": "stdout",
     "output_type": "stream",
     "text": [
      "lake 489 of 730\n"
     ]
    },
    {
     "name": "stderr",
     "output_type": "stream",
     "text": [
      "/home/mette/master/fpv_energy_yield_norway/src/FPVsimulation/pvsystem.py:83: UserWarning: Geometry is in a geographic CRS. Results from 'distance' are likely incorrect. Use 'GeoSeries.to_crs()' to re-project geometries to a projected CRS before this operation.\n",
      "\n",
      "  soiling_loss_gdf['distance'] = soiling_loss_NS3031_gdf['geometry'].distance(center)\n"
     ]
    },
    {
     "name": "stdout",
     "output_type": "stream",
     "text": [
      "lake 490 of 730\n"
     ]
    },
    {
     "name": "stderr",
     "output_type": "stream",
     "text": [
      "/home/mette/master/fpv_energy_yield_norway/src/FPVsimulation/pvsystem.py:83: UserWarning: Geometry is in a geographic CRS. Results from 'distance' are likely incorrect. Use 'GeoSeries.to_crs()' to re-project geometries to a projected CRS before this operation.\n",
      "\n",
      "  soiling_loss_gdf['distance'] = soiling_loss_NS3031_gdf['geometry'].distance(center)\n"
     ]
    },
    {
     "name": "stdout",
     "output_type": "stream",
     "text": [
      "lake 491 of 730\n"
     ]
    },
    {
     "name": "stderr",
     "output_type": "stream",
     "text": [
      "/home/mette/master/fpv_energy_yield_norway/src/FPVsimulation/pvsystem.py:83: UserWarning: Geometry is in a geographic CRS. Results from 'distance' are likely incorrect. Use 'GeoSeries.to_crs()' to re-project geometries to a projected CRS before this operation.\n",
      "\n",
      "  soiling_loss_gdf['distance'] = soiling_loss_NS3031_gdf['geometry'].distance(center)\n"
     ]
    },
    {
     "name": "stdout",
     "output_type": "stream",
     "text": [
      "lake 492 of 730\n"
     ]
    },
    {
     "name": "stderr",
     "output_type": "stream",
     "text": [
      "/home/mette/master/fpv_energy_yield_norway/src/FPVsimulation/pvsystem.py:83: UserWarning: Geometry is in a geographic CRS. Results from 'distance' are likely incorrect. Use 'GeoSeries.to_crs()' to re-project geometries to a projected CRS before this operation.\n",
      "\n",
      "  soiling_loss_gdf['distance'] = soiling_loss_NS3031_gdf['geometry'].distance(center)\n"
     ]
    },
    {
     "name": "stdout",
     "output_type": "stream",
     "text": [
      "lake 493 of 730\n"
     ]
    },
    {
     "name": "stderr",
     "output_type": "stream",
     "text": [
      "/home/mette/master/fpv_energy_yield_norway/src/FPVsimulation/pvsystem.py:83: UserWarning: Geometry is in a geographic CRS. Results from 'distance' are likely incorrect. Use 'GeoSeries.to_crs()' to re-project geometries to a projected CRS before this operation.\n",
      "\n",
      "  soiling_loss_gdf['distance'] = soiling_loss_NS3031_gdf['geometry'].distance(center)\n"
     ]
    },
    {
     "name": "stdout",
     "output_type": "stream",
     "text": [
      "lake 494 of 730\n"
     ]
    },
    {
     "name": "stderr",
     "output_type": "stream",
     "text": [
      "/home/mette/master/fpv_energy_yield_norway/src/FPVsimulation/pvsystem.py:83: UserWarning: Geometry is in a geographic CRS. Results from 'distance' are likely incorrect. Use 'GeoSeries.to_crs()' to re-project geometries to a projected CRS before this operation.\n",
      "\n",
      "  soiling_loss_gdf['distance'] = soiling_loss_NS3031_gdf['geometry'].distance(center)\n"
     ]
    },
    {
     "name": "stdout",
     "output_type": "stream",
     "text": [
      "lake 495 of 730\n"
     ]
    },
    {
     "name": "stderr",
     "output_type": "stream",
     "text": [
      "/home/mette/master/fpv_energy_yield_norway/src/FPVsimulation/pvsystem.py:83: UserWarning: Geometry is in a geographic CRS. Results from 'distance' are likely incorrect. Use 'GeoSeries.to_crs()' to re-project geometries to a projected CRS before this operation.\n",
      "\n",
      "  soiling_loss_gdf['distance'] = soiling_loss_NS3031_gdf['geometry'].distance(center)\n"
     ]
    },
    {
     "name": "stdout",
     "output_type": "stream",
     "text": [
      "lake 496 of 730\n"
     ]
    },
    {
     "name": "stderr",
     "output_type": "stream",
     "text": [
      "/home/mette/master/fpv_energy_yield_norway/src/FPVsimulation/pvsystem.py:83: UserWarning: Geometry is in a geographic CRS. Results from 'distance' are likely incorrect. Use 'GeoSeries.to_crs()' to re-project geometries to a projected CRS before this operation.\n",
      "\n",
      "  soiling_loss_gdf['distance'] = soiling_loss_NS3031_gdf['geometry'].distance(center)\n"
     ]
    },
    {
     "name": "stdout",
     "output_type": "stream",
     "text": [
      "lake 497 of 730\n"
     ]
    },
    {
     "name": "stderr",
     "output_type": "stream",
     "text": [
      "/home/mette/master/fpv_energy_yield_norway/src/FPVsimulation/pvsystem.py:83: UserWarning: Geometry is in a geographic CRS. Results from 'distance' are likely incorrect. Use 'GeoSeries.to_crs()' to re-project geometries to a projected CRS before this operation.\n",
      "\n",
      "  soiling_loss_gdf['distance'] = soiling_loss_NS3031_gdf['geometry'].distance(center)\n"
     ]
    },
    {
     "name": "stdout",
     "output_type": "stream",
     "text": [
      "lake 498 of 730\n"
     ]
    },
    {
     "name": "stderr",
     "output_type": "stream",
     "text": [
      "/home/mette/master/fpv_energy_yield_norway/src/FPVsimulation/pvsystem.py:83: UserWarning: Geometry is in a geographic CRS. Results from 'distance' are likely incorrect. Use 'GeoSeries.to_crs()' to re-project geometries to a projected CRS before this operation.\n",
      "\n",
      "  soiling_loss_gdf['distance'] = soiling_loss_NS3031_gdf['geometry'].distance(center)\n"
     ]
    },
    {
     "name": "stdout",
     "output_type": "stream",
     "text": [
      "lake 499 of 730\n"
     ]
    },
    {
     "name": "stderr",
     "output_type": "stream",
     "text": [
      "/home/mette/master/fpv_energy_yield_norway/src/FPVsimulation/pvsystem.py:83: UserWarning: Geometry is in a geographic CRS. Results from 'distance' are likely incorrect. Use 'GeoSeries.to_crs()' to re-project geometries to a projected CRS before this operation.\n",
      "\n",
      "  soiling_loss_gdf['distance'] = soiling_loss_NS3031_gdf['geometry'].distance(center)\n"
     ]
    },
    {
     "name": "stdout",
     "output_type": "stream",
     "text": [
      "lake 500 of 730\n"
     ]
    },
    {
     "name": "stderr",
     "output_type": "stream",
     "text": [
      "/home/mette/master/fpv_energy_yield_norway/src/FPVsimulation/pvsystem.py:83: UserWarning: Geometry is in a geographic CRS. Results from 'distance' are likely incorrect. Use 'GeoSeries.to_crs()' to re-project geometries to a projected CRS before this operation.\n",
      "\n",
      "  soiling_loss_gdf['distance'] = soiling_loss_NS3031_gdf['geometry'].distance(center)\n"
     ]
    },
    {
     "name": "stdout",
     "output_type": "stream",
     "text": [
      "lake 501 of 730\n"
     ]
    },
    {
     "name": "stderr",
     "output_type": "stream",
     "text": [
      "/home/mette/master/fpv_energy_yield_norway/src/FPVsimulation/pvsystem.py:83: UserWarning: Geometry is in a geographic CRS. Results from 'distance' are likely incorrect. Use 'GeoSeries.to_crs()' to re-project geometries to a projected CRS before this operation.\n",
      "\n",
      "  soiling_loss_gdf['distance'] = soiling_loss_NS3031_gdf['geometry'].distance(center)\n"
     ]
    },
    {
     "name": "stdout",
     "output_type": "stream",
     "text": [
      "lake 502 of 730\n"
     ]
    },
    {
     "name": "stderr",
     "output_type": "stream",
     "text": [
      "/home/mette/master/fpv_energy_yield_norway/src/FPVsimulation/pvsystem.py:83: UserWarning: Geometry is in a geographic CRS. Results from 'distance' are likely incorrect. Use 'GeoSeries.to_crs()' to re-project geometries to a projected CRS before this operation.\n",
      "\n",
      "  soiling_loss_gdf['distance'] = soiling_loss_NS3031_gdf['geometry'].distance(center)\n"
     ]
    },
    {
     "name": "stdout",
     "output_type": "stream",
     "text": [
      "lake 503 of 730\n"
     ]
    },
    {
     "name": "stderr",
     "output_type": "stream",
     "text": [
      "/home/mette/master/fpv_energy_yield_norway/src/FPVsimulation/pvsystem.py:83: UserWarning: Geometry is in a geographic CRS. Results from 'distance' are likely incorrect. Use 'GeoSeries.to_crs()' to re-project geometries to a projected CRS before this operation.\n",
      "\n",
      "  soiling_loss_gdf['distance'] = soiling_loss_NS3031_gdf['geometry'].distance(center)\n"
     ]
    },
    {
     "name": "stdout",
     "output_type": "stream",
     "text": [
      "lake 504 of 730\n"
     ]
    },
    {
     "name": "stderr",
     "output_type": "stream",
     "text": [
      "/home/mette/master/fpv_energy_yield_norway/src/FPVsimulation/pvsystem.py:83: UserWarning: Geometry is in a geographic CRS. Results from 'distance' are likely incorrect. Use 'GeoSeries.to_crs()' to re-project geometries to a projected CRS before this operation.\n",
      "\n",
      "  soiling_loss_gdf['distance'] = soiling_loss_NS3031_gdf['geometry'].distance(center)\n"
     ]
    },
    {
     "name": "stdout",
     "output_type": "stream",
     "text": [
      "lake 505 of 730\n"
     ]
    },
    {
     "name": "stderr",
     "output_type": "stream",
     "text": [
      "/home/mette/master/fpv_energy_yield_norway/src/FPVsimulation/pvsystem.py:83: UserWarning: Geometry is in a geographic CRS. Results from 'distance' are likely incorrect. Use 'GeoSeries.to_crs()' to re-project geometries to a projected CRS before this operation.\n",
      "\n",
      "  soiling_loss_gdf['distance'] = soiling_loss_NS3031_gdf['geometry'].distance(center)\n"
     ]
    },
    {
     "name": "stdout",
     "output_type": "stream",
     "text": [
      "lake 506 of 730\n"
     ]
    },
    {
     "name": "stderr",
     "output_type": "stream",
     "text": [
      "/home/mette/master/fpv_energy_yield_norway/src/FPVsimulation/pvsystem.py:83: UserWarning: Geometry is in a geographic CRS. Results from 'distance' are likely incorrect. Use 'GeoSeries.to_crs()' to re-project geometries to a projected CRS before this operation.\n",
      "\n",
      "  soiling_loss_gdf['distance'] = soiling_loss_NS3031_gdf['geometry'].distance(center)\n"
     ]
    },
    {
     "name": "stdout",
     "output_type": "stream",
     "text": [
      "lake 507 of 730\n"
     ]
    },
    {
     "name": "stderr",
     "output_type": "stream",
     "text": [
      "/home/mette/master/fpv_energy_yield_norway/src/FPVsimulation/pvsystem.py:83: UserWarning: Geometry is in a geographic CRS. Results from 'distance' are likely incorrect. Use 'GeoSeries.to_crs()' to re-project geometries to a projected CRS before this operation.\n",
      "\n",
      "  soiling_loss_gdf['distance'] = soiling_loss_NS3031_gdf['geometry'].distance(center)\n"
     ]
    },
    {
     "name": "stdout",
     "output_type": "stream",
     "text": [
      "lake 508 of 730\n"
     ]
    },
    {
     "name": "stderr",
     "output_type": "stream",
     "text": [
      "/home/mette/master/fpv_energy_yield_norway/src/FPVsimulation/pvsystem.py:83: UserWarning: Geometry is in a geographic CRS. Results from 'distance' are likely incorrect. Use 'GeoSeries.to_crs()' to re-project geometries to a projected CRS before this operation.\n",
      "\n",
      "  soiling_loss_gdf['distance'] = soiling_loss_NS3031_gdf['geometry'].distance(center)\n"
     ]
    },
    {
     "name": "stdout",
     "output_type": "stream",
     "text": [
      "lake 509 of 730\n"
     ]
    },
    {
     "name": "stderr",
     "output_type": "stream",
     "text": [
      "/home/mette/master/fpv_energy_yield_norway/src/FPVsimulation/pvsystem.py:83: UserWarning: Geometry is in a geographic CRS. Results from 'distance' are likely incorrect. Use 'GeoSeries.to_crs()' to re-project geometries to a projected CRS before this operation.\n",
      "\n",
      "  soiling_loss_gdf['distance'] = soiling_loss_NS3031_gdf['geometry'].distance(center)\n"
     ]
    },
    {
     "name": "stdout",
     "output_type": "stream",
     "text": [
      "lake 510 of 730\n"
     ]
    },
    {
     "name": "stderr",
     "output_type": "stream",
     "text": [
      "/home/mette/master/fpv_energy_yield_norway/src/FPVsimulation/pvsystem.py:83: UserWarning: Geometry is in a geographic CRS. Results from 'distance' are likely incorrect. Use 'GeoSeries.to_crs()' to re-project geometries to a projected CRS before this operation.\n",
      "\n",
      "  soiling_loss_gdf['distance'] = soiling_loss_NS3031_gdf['geometry'].distance(center)\n"
     ]
    },
    {
     "name": "stdout",
     "output_type": "stream",
     "text": [
      "lake 511 of 730\n"
     ]
    },
    {
     "name": "stderr",
     "output_type": "stream",
     "text": [
      "/home/mette/master/fpv_energy_yield_norway/src/FPVsimulation/pvsystem.py:83: UserWarning: Geometry is in a geographic CRS. Results from 'distance' are likely incorrect. Use 'GeoSeries.to_crs()' to re-project geometries to a projected CRS before this operation.\n",
      "\n",
      "  soiling_loss_gdf['distance'] = soiling_loss_NS3031_gdf['geometry'].distance(center)\n"
     ]
    },
    {
     "name": "stdout",
     "output_type": "stream",
     "text": [
      "lake 512 of 730\n"
     ]
    },
    {
     "name": "stderr",
     "output_type": "stream",
     "text": [
      "/home/mette/master/fpv_energy_yield_norway/src/FPVsimulation/pvsystem.py:83: UserWarning: Geometry is in a geographic CRS. Results from 'distance' are likely incorrect. Use 'GeoSeries.to_crs()' to re-project geometries to a projected CRS before this operation.\n",
      "\n",
      "  soiling_loss_gdf['distance'] = soiling_loss_NS3031_gdf['geometry'].distance(center)\n"
     ]
    },
    {
     "name": "stdout",
     "output_type": "stream",
     "text": [
      "lake 513 of 730\n"
     ]
    },
    {
     "name": "stderr",
     "output_type": "stream",
     "text": [
      "/home/mette/master/fpv_energy_yield_norway/src/FPVsimulation/pvsystem.py:83: UserWarning: Geometry is in a geographic CRS. Results from 'distance' are likely incorrect. Use 'GeoSeries.to_crs()' to re-project geometries to a projected CRS before this operation.\n",
      "\n",
      "  soiling_loss_gdf['distance'] = soiling_loss_NS3031_gdf['geometry'].distance(center)\n"
     ]
    },
    {
     "name": "stdout",
     "output_type": "stream",
     "text": [
      "lake 514 of 730\n"
     ]
    },
    {
     "name": "stderr",
     "output_type": "stream",
     "text": [
      "/home/mette/master/fpv_energy_yield_norway/src/FPVsimulation/pvsystem.py:83: UserWarning: Geometry is in a geographic CRS. Results from 'distance' are likely incorrect. Use 'GeoSeries.to_crs()' to re-project geometries to a projected CRS before this operation.\n",
      "\n",
      "  soiling_loss_gdf['distance'] = soiling_loss_NS3031_gdf['geometry'].distance(center)\n"
     ]
    },
    {
     "name": "stdout",
     "output_type": "stream",
     "text": [
      "lake 515 of 730\n"
     ]
    },
    {
     "name": "stderr",
     "output_type": "stream",
     "text": [
      "/home/mette/master/fpv_energy_yield_norway/src/FPVsimulation/pvsystem.py:83: UserWarning: Geometry is in a geographic CRS. Results from 'distance' are likely incorrect. Use 'GeoSeries.to_crs()' to re-project geometries to a projected CRS before this operation.\n",
      "\n",
      "  soiling_loss_gdf['distance'] = soiling_loss_NS3031_gdf['geometry'].distance(center)\n"
     ]
    },
    {
     "name": "stdout",
     "output_type": "stream",
     "text": [
      "lake 516 of 730\n"
     ]
    },
    {
     "name": "stderr",
     "output_type": "stream",
     "text": [
      "/home/mette/master/fpv_energy_yield_norway/src/FPVsimulation/pvsystem.py:83: UserWarning: Geometry is in a geographic CRS. Results from 'distance' are likely incorrect. Use 'GeoSeries.to_crs()' to re-project geometries to a projected CRS before this operation.\n",
      "\n",
      "  soiling_loss_gdf['distance'] = soiling_loss_NS3031_gdf['geometry'].distance(center)\n"
     ]
    },
    {
     "name": "stdout",
     "output_type": "stream",
     "text": [
      "lake 517 of 730\n"
     ]
    },
    {
     "name": "stderr",
     "output_type": "stream",
     "text": [
      "/home/mette/master/fpv_energy_yield_norway/src/FPVsimulation/pvsystem.py:83: UserWarning: Geometry is in a geographic CRS. Results from 'distance' are likely incorrect. Use 'GeoSeries.to_crs()' to re-project geometries to a projected CRS before this operation.\n",
      "\n",
      "  soiling_loss_gdf['distance'] = soiling_loss_NS3031_gdf['geometry'].distance(center)\n"
     ]
    },
    {
     "name": "stdout",
     "output_type": "stream",
     "text": [
      "lake 518 of 730\n"
     ]
    },
    {
     "name": "stderr",
     "output_type": "stream",
     "text": [
      "/home/mette/master/fpv_energy_yield_norway/src/FPVsimulation/pvsystem.py:83: UserWarning: Geometry is in a geographic CRS. Results from 'distance' are likely incorrect. Use 'GeoSeries.to_crs()' to re-project geometries to a projected CRS before this operation.\n",
      "\n",
      "  soiling_loss_gdf['distance'] = soiling_loss_NS3031_gdf['geometry'].distance(center)\n"
     ]
    },
    {
     "name": "stdout",
     "output_type": "stream",
     "text": [
      "lake 519 of 730\n"
     ]
    },
    {
     "name": "stderr",
     "output_type": "stream",
     "text": [
      "/home/mette/master/fpv_energy_yield_norway/src/FPVsimulation/pvsystem.py:83: UserWarning: Geometry is in a geographic CRS. Results from 'distance' are likely incorrect. Use 'GeoSeries.to_crs()' to re-project geometries to a projected CRS before this operation.\n",
      "\n",
      "  soiling_loss_gdf['distance'] = soiling_loss_NS3031_gdf['geometry'].distance(center)\n"
     ]
    },
    {
     "name": "stdout",
     "output_type": "stream",
     "text": [
      "lake 520 of 730\n"
     ]
    },
    {
     "name": "stderr",
     "output_type": "stream",
     "text": [
      "/home/mette/master/fpv_energy_yield_norway/src/FPVsimulation/pvsystem.py:83: UserWarning: Geometry is in a geographic CRS. Results from 'distance' are likely incorrect. Use 'GeoSeries.to_crs()' to re-project geometries to a projected CRS before this operation.\n",
      "\n",
      "  soiling_loss_gdf['distance'] = soiling_loss_NS3031_gdf['geometry'].distance(center)\n"
     ]
    },
    {
     "name": "stdout",
     "output_type": "stream",
     "text": [
      "lake 521 of 730\n"
     ]
    },
    {
     "name": "stderr",
     "output_type": "stream",
     "text": [
      "/home/mette/master/fpv_energy_yield_norway/src/FPVsimulation/pvsystem.py:83: UserWarning: Geometry is in a geographic CRS. Results from 'distance' are likely incorrect. Use 'GeoSeries.to_crs()' to re-project geometries to a projected CRS before this operation.\n",
      "\n",
      "  soiling_loss_gdf['distance'] = soiling_loss_NS3031_gdf['geometry'].distance(center)\n"
     ]
    },
    {
     "name": "stdout",
     "output_type": "stream",
     "text": [
      "lake 522 of 730\n"
     ]
    },
    {
     "name": "stderr",
     "output_type": "stream",
     "text": [
      "/home/mette/master/fpv_energy_yield_norway/src/FPVsimulation/pvsystem.py:83: UserWarning: Geometry is in a geographic CRS. Results from 'distance' are likely incorrect. Use 'GeoSeries.to_crs()' to re-project geometries to a projected CRS before this operation.\n",
      "\n",
      "  soiling_loss_gdf['distance'] = soiling_loss_NS3031_gdf['geometry'].distance(center)\n"
     ]
    },
    {
     "name": "stdout",
     "output_type": "stream",
     "text": [
      "lake 523 of 730\n"
     ]
    },
    {
     "name": "stderr",
     "output_type": "stream",
     "text": [
      "/home/mette/master/fpv_energy_yield_norway/src/FPVsimulation/pvsystem.py:83: UserWarning: Geometry is in a geographic CRS. Results from 'distance' are likely incorrect. Use 'GeoSeries.to_crs()' to re-project geometries to a projected CRS before this operation.\n",
      "\n",
      "  soiling_loss_gdf['distance'] = soiling_loss_NS3031_gdf['geometry'].distance(center)\n"
     ]
    },
    {
     "name": "stdout",
     "output_type": "stream",
     "text": [
      "lake 524 of 730\n"
     ]
    },
    {
     "name": "stderr",
     "output_type": "stream",
     "text": [
      "/home/mette/master/fpv_energy_yield_norway/src/FPVsimulation/pvsystem.py:83: UserWarning: Geometry is in a geographic CRS. Results from 'distance' are likely incorrect. Use 'GeoSeries.to_crs()' to re-project geometries to a projected CRS before this operation.\n",
      "\n",
      "  soiling_loss_gdf['distance'] = soiling_loss_NS3031_gdf['geometry'].distance(center)\n"
     ]
    },
    {
     "name": "stdout",
     "output_type": "stream",
     "text": [
      "lake 525 of 730\n"
     ]
    },
    {
     "name": "stderr",
     "output_type": "stream",
     "text": [
      "/home/mette/master/fpv_energy_yield_norway/src/FPVsimulation/pvsystem.py:83: UserWarning: Geometry is in a geographic CRS. Results from 'distance' are likely incorrect. Use 'GeoSeries.to_crs()' to re-project geometries to a projected CRS before this operation.\n",
      "\n",
      "  soiling_loss_gdf['distance'] = soiling_loss_NS3031_gdf['geometry'].distance(center)\n"
     ]
    },
    {
     "name": "stdout",
     "output_type": "stream",
     "text": [
      "lake 526 of 730\n"
     ]
    },
    {
     "name": "stderr",
     "output_type": "stream",
     "text": [
      "/home/mette/master/fpv_energy_yield_norway/src/FPVsimulation/pvsystem.py:83: UserWarning: Geometry is in a geographic CRS. Results from 'distance' are likely incorrect. Use 'GeoSeries.to_crs()' to re-project geometries to a projected CRS before this operation.\n",
      "\n",
      "  soiling_loss_gdf['distance'] = soiling_loss_NS3031_gdf['geometry'].distance(center)\n"
     ]
    },
    {
     "name": "stdout",
     "output_type": "stream",
     "text": [
      "lake 527 of 730\n"
     ]
    },
    {
     "name": "stderr",
     "output_type": "stream",
     "text": [
      "/home/mette/master/fpv_energy_yield_norway/src/FPVsimulation/pvsystem.py:83: UserWarning: Geometry is in a geographic CRS. Results from 'distance' are likely incorrect. Use 'GeoSeries.to_crs()' to re-project geometries to a projected CRS before this operation.\n",
      "\n",
      "  soiling_loss_gdf['distance'] = soiling_loss_NS3031_gdf['geometry'].distance(center)\n"
     ]
    },
    {
     "name": "stdout",
     "output_type": "stream",
     "text": [
      "lake 528 of 730\n"
     ]
    },
    {
     "name": "stderr",
     "output_type": "stream",
     "text": [
      "/home/mette/master/fpv_energy_yield_norway/src/FPVsimulation/pvsystem.py:83: UserWarning: Geometry is in a geographic CRS. Results from 'distance' are likely incorrect. Use 'GeoSeries.to_crs()' to re-project geometries to a projected CRS before this operation.\n",
      "\n",
      "  soiling_loss_gdf['distance'] = soiling_loss_NS3031_gdf['geometry'].distance(center)\n"
     ]
    },
    {
     "name": "stdout",
     "output_type": "stream",
     "text": [
      "lake 529 of 730\n"
     ]
    },
    {
     "name": "stderr",
     "output_type": "stream",
     "text": [
      "/home/mette/master/fpv_energy_yield_norway/src/FPVsimulation/pvsystem.py:83: UserWarning: Geometry is in a geographic CRS. Results from 'distance' are likely incorrect. Use 'GeoSeries.to_crs()' to re-project geometries to a projected CRS before this operation.\n",
      "\n",
      "  soiling_loss_gdf['distance'] = soiling_loss_NS3031_gdf['geometry'].distance(center)\n"
     ]
    },
    {
     "name": "stdout",
     "output_type": "stream",
     "text": [
      "lake 530 of 730\n"
     ]
    },
    {
     "name": "stderr",
     "output_type": "stream",
     "text": [
      "/home/mette/master/fpv_energy_yield_norway/src/FPVsimulation/pvsystem.py:83: UserWarning: Geometry is in a geographic CRS. Results from 'distance' are likely incorrect. Use 'GeoSeries.to_crs()' to re-project geometries to a projected CRS before this operation.\n",
      "\n",
      "  soiling_loss_gdf['distance'] = soiling_loss_NS3031_gdf['geometry'].distance(center)\n"
     ]
    },
    {
     "name": "stdout",
     "output_type": "stream",
     "text": [
      "lake 531 of 730\n"
     ]
    },
    {
     "name": "stderr",
     "output_type": "stream",
     "text": [
      "/home/mette/master/fpv_energy_yield_norway/src/FPVsimulation/pvsystem.py:83: UserWarning: Geometry is in a geographic CRS. Results from 'distance' are likely incorrect. Use 'GeoSeries.to_crs()' to re-project geometries to a projected CRS before this operation.\n",
      "\n",
      "  soiling_loss_gdf['distance'] = soiling_loss_NS3031_gdf['geometry'].distance(center)\n"
     ]
    },
    {
     "name": "stdout",
     "output_type": "stream",
     "text": [
      "lake 532 of 730\n"
     ]
    },
    {
     "name": "stderr",
     "output_type": "stream",
     "text": [
      "/home/mette/master/fpv_energy_yield_norway/src/FPVsimulation/pvsystem.py:83: UserWarning: Geometry is in a geographic CRS. Results from 'distance' are likely incorrect. Use 'GeoSeries.to_crs()' to re-project geometries to a projected CRS before this operation.\n",
      "\n",
      "  soiling_loss_gdf['distance'] = soiling_loss_NS3031_gdf['geometry'].distance(center)\n"
     ]
    },
    {
     "name": "stdout",
     "output_type": "stream",
     "text": [
      "lake 533 of 730\n"
     ]
    },
    {
     "name": "stderr",
     "output_type": "stream",
     "text": [
      "/home/mette/master/fpv_energy_yield_norway/src/FPVsimulation/pvsystem.py:83: UserWarning: Geometry is in a geographic CRS. Results from 'distance' are likely incorrect. Use 'GeoSeries.to_crs()' to re-project geometries to a projected CRS before this operation.\n",
      "\n",
      "  soiling_loss_gdf['distance'] = soiling_loss_NS3031_gdf['geometry'].distance(center)\n"
     ]
    },
    {
     "name": "stdout",
     "output_type": "stream",
     "text": [
      "lake 534 of 730\n"
     ]
    },
    {
     "name": "stderr",
     "output_type": "stream",
     "text": [
      "/home/mette/master/fpv_energy_yield_norway/src/FPVsimulation/pvsystem.py:83: UserWarning: Geometry is in a geographic CRS. Results from 'distance' are likely incorrect. Use 'GeoSeries.to_crs()' to re-project geometries to a projected CRS before this operation.\n",
      "\n",
      "  soiling_loss_gdf['distance'] = soiling_loss_NS3031_gdf['geometry'].distance(center)\n"
     ]
    },
    {
     "name": "stdout",
     "output_type": "stream",
     "text": [
      "lake 535 of 730\n"
     ]
    },
    {
     "name": "stderr",
     "output_type": "stream",
     "text": [
      "/home/mette/master/fpv_energy_yield_norway/src/FPVsimulation/pvsystem.py:83: UserWarning: Geometry is in a geographic CRS. Results from 'distance' are likely incorrect. Use 'GeoSeries.to_crs()' to re-project geometries to a projected CRS before this operation.\n",
      "\n",
      "  soiling_loss_gdf['distance'] = soiling_loss_NS3031_gdf['geometry'].distance(center)\n"
     ]
    },
    {
     "name": "stdout",
     "output_type": "stream",
     "text": [
      "lake 536 of 730\n"
     ]
    },
    {
     "name": "stderr",
     "output_type": "stream",
     "text": [
      "/home/mette/master/fpv_energy_yield_norway/src/FPVsimulation/pvsystem.py:83: UserWarning: Geometry is in a geographic CRS. Results from 'distance' are likely incorrect. Use 'GeoSeries.to_crs()' to re-project geometries to a projected CRS before this operation.\n",
      "\n",
      "  soiling_loss_gdf['distance'] = soiling_loss_NS3031_gdf['geometry'].distance(center)\n"
     ]
    },
    {
     "name": "stdout",
     "output_type": "stream",
     "text": [
      "lake 537 of 730\n"
     ]
    },
    {
     "name": "stderr",
     "output_type": "stream",
     "text": [
      "/home/mette/master/fpv_energy_yield_norway/src/FPVsimulation/pvsystem.py:83: UserWarning: Geometry is in a geographic CRS. Results from 'distance' are likely incorrect. Use 'GeoSeries.to_crs()' to re-project geometries to a projected CRS before this operation.\n",
      "\n",
      "  soiling_loss_gdf['distance'] = soiling_loss_NS3031_gdf['geometry'].distance(center)\n"
     ]
    },
    {
     "name": "stdout",
     "output_type": "stream",
     "text": [
      "lake 538 of 730\n"
     ]
    },
    {
     "name": "stderr",
     "output_type": "stream",
     "text": [
      "/home/mette/master/fpv_energy_yield_norway/src/FPVsimulation/pvsystem.py:83: UserWarning: Geometry is in a geographic CRS. Results from 'distance' are likely incorrect. Use 'GeoSeries.to_crs()' to re-project geometries to a projected CRS before this operation.\n",
      "\n",
      "  soiling_loss_gdf['distance'] = soiling_loss_NS3031_gdf['geometry'].distance(center)\n"
     ]
    },
    {
     "name": "stdout",
     "output_type": "stream",
     "text": [
      "lake 539 of 730\n"
     ]
    },
    {
     "name": "stderr",
     "output_type": "stream",
     "text": [
      "/home/mette/master/fpv_energy_yield_norway/src/FPVsimulation/pvsystem.py:83: UserWarning: Geometry is in a geographic CRS. Results from 'distance' are likely incorrect. Use 'GeoSeries.to_crs()' to re-project geometries to a projected CRS before this operation.\n",
      "\n",
      "  soiling_loss_gdf['distance'] = soiling_loss_NS3031_gdf['geometry'].distance(center)\n"
     ]
    },
    {
     "name": "stdout",
     "output_type": "stream",
     "text": [
      "lake 540 of 730\n"
     ]
    },
    {
     "name": "stderr",
     "output_type": "stream",
     "text": [
      "/home/mette/master/fpv_energy_yield_norway/src/FPVsimulation/pvsystem.py:83: UserWarning: Geometry is in a geographic CRS. Results from 'distance' are likely incorrect. Use 'GeoSeries.to_crs()' to re-project geometries to a projected CRS before this operation.\n",
      "\n",
      "  soiling_loss_gdf['distance'] = soiling_loss_NS3031_gdf['geometry'].distance(center)\n"
     ]
    },
    {
     "name": "stdout",
     "output_type": "stream",
     "text": [
      "lake 541 of 730\n"
     ]
    },
    {
     "name": "stderr",
     "output_type": "stream",
     "text": [
      "/home/mette/master/fpv_energy_yield_norway/src/FPVsimulation/pvsystem.py:83: UserWarning: Geometry is in a geographic CRS. Results from 'distance' are likely incorrect. Use 'GeoSeries.to_crs()' to re-project geometries to a projected CRS before this operation.\n",
      "\n",
      "  soiling_loss_gdf['distance'] = soiling_loss_NS3031_gdf['geometry'].distance(center)\n"
     ]
    },
    {
     "name": "stdout",
     "output_type": "stream",
     "text": [
      "lake 542 of 730\n"
     ]
    },
    {
     "name": "stderr",
     "output_type": "stream",
     "text": [
      "/home/mette/master/fpv_energy_yield_norway/src/FPVsimulation/pvsystem.py:83: UserWarning: Geometry is in a geographic CRS. Results from 'distance' are likely incorrect. Use 'GeoSeries.to_crs()' to re-project geometries to a projected CRS before this operation.\n",
      "\n",
      "  soiling_loss_gdf['distance'] = soiling_loss_NS3031_gdf['geometry'].distance(center)\n"
     ]
    },
    {
     "name": "stdout",
     "output_type": "stream",
     "text": [
      "lake 543 of 730\n"
     ]
    },
    {
     "name": "stderr",
     "output_type": "stream",
     "text": [
      "/home/mette/master/fpv_energy_yield_norway/src/FPVsimulation/pvsystem.py:83: UserWarning: Geometry is in a geographic CRS. Results from 'distance' are likely incorrect. Use 'GeoSeries.to_crs()' to re-project geometries to a projected CRS before this operation.\n",
      "\n",
      "  soiling_loss_gdf['distance'] = soiling_loss_NS3031_gdf['geometry'].distance(center)\n"
     ]
    },
    {
     "name": "stdout",
     "output_type": "stream",
     "text": [
      "lake 544 of 730\n"
     ]
    },
    {
     "name": "stderr",
     "output_type": "stream",
     "text": [
      "/home/mette/master/fpv_energy_yield_norway/src/FPVsimulation/pvsystem.py:83: UserWarning: Geometry is in a geographic CRS. Results from 'distance' are likely incorrect. Use 'GeoSeries.to_crs()' to re-project geometries to a projected CRS before this operation.\n",
      "\n",
      "  soiling_loss_gdf['distance'] = soiling_loss_NS3031_gdf['geometry'].distance(center)\n"
     ]
    },
    {
     "name": "stdout",
     "output_type": "stream",
     "text": [
      "lake 545 of 730\n"
     ]
    },
    {
     "name": "stderr",
     "output_type": "stream",
     "text": [
      "/home/mette/master/fpv_energy_yield_norway/src/FPVsimulation/pvsystem.py:83: UserWarning: Geometry is in a geographic CRS. Results from 'distance' are likely incorrect. Use 'GeoSeries.to_crs()' to re-project geometries to a projected CRS before this operation.\n",
      "\n",
      "  soiling_loss_gdf['distance'] = soiling_loss_NS3031_gdf['geometry'].distance(center)\n"
     ]
    },
    {
     "name": "stdout",
     "output_type": "stream",
     "text": [
      "lake 546 of 730\n"
     ]
    },
    {
     "name": "stderr",
     "output_type": "stream",
     "text": [
      "/home/mette/master/fpv_energy_yield_norway/src/FPVsimulation/pvsystem.py:83: UserWarning: Geometry is in a geographic CRS. Results from 'distance' are likely incorrect. Use 'GeoSeries.to_crs()' to re-project geometries to a projected CRS before this operation.\n",
      "\n",
      "  soiling_loss_gdf['distance'] = soiling_loss_NS3031_gdf['geometry'].distance(center)\n"
     ]
    },
    {
     "name": "stdout",
     "output_type": "stream",
     "text": [
      "lake 547 of 730\n"
     ]
    },
    {
     "name": "stderr",
     "output_type": "stream",
     "text": [
      "/home/mette/master/fpv_energy_yield_norway/src/FPVsimulation/pvsystem.py:83: UserWarning: Geometry is in a geographic CRS. Results from 'distance' are likely incorrect. Use 'GeoSeries.to_crs()' to re-project geometries to a projected CRS before this operation.\n",
      "\n",
      "  soiling_loss_gdf['distance'] = soiling_loss_NS3031_gdf['geometry'].distance(center)\n"
     ]
    },
    {
     "name": "stdout",
     "output_type": "stream",
     "text": [
      "lake 548 of 730\n"
     ]
    },
    {
     "name": "stderr",
     "output_type": "stream",
     "text": [
      "/home/mette/master/fpv_energy_yield_norway/src/FPVsimulation/pvsystem.py:83: UserWarning: Geometry is in a geographic CRS. Results from 'distance' are likely incorrect. Use 'GeoSeries.to_crs()' to re-project geometries to a projected CRS before this operation.\n",
      "\n",
      "  soiling_loss_gdf['distance'] = soiling_loss_NS3031_gdf['geometry'].distance(center)\n"
     ]
    },
    {
     "name": "stdout",
     "output_type": "stream",
     "text": [
      "lake 549 of 730\n"
     ]
    },
    {
     "name": "stderr",
     "output_type": "stream",
     "text": [
      "/home/mette/master/fpv_energy_yield_norway/src/FPVsimulation/pvsystem.py:83: UserWarning: Geometry is in a geographic CRS. Results from 'distance' are likely incorrect. Use 'GeoSeries.to_crs()' to re-project geometries to a projected CRS before this operation.\n",
      "\n",
      "  soiling_loss_gdf['distance'] = soiling_loss_NS3031_gdf['geometry'].distance(center)\n"
     ]
    },
    {
     "name": "stdout",
     "output_type": "stream",
     "text": [
      "lake 550 of 730\n"
     ]
    },
    {
     "name": "stderr",
     "output_type": "stream",
     "text": [
      "/home/mette/master/fpv_energy_yield_norway/src/FPVsimulation/pvsystem.py:83: UserWarning: Geometry is in a geographic CRS. Results from 'distance' are likely incorrect. Use 'GeoSeries.to_crs()' to re-project geometries to a projected CRS before this operation.\n",
      "\n",
      "  soiling_loss_gdf['distance'] = soiling_loss_NS3031_gdf['geometry'].distance(center)\n"
     ]
    },
    {
     "name": "stdout",
     "output_type": "stream",
     "text": [
      "lake 551 of 730\n"
     ]
    },
    {
     "name": "stderr",
     "output_type": "stream",
     "text": [
      "/home/mette/master/fpv_energy_yield_norway/src/FPVsimulation/pvsystem.py:83: UserWarning: Geometry is in a geographic CRS. Results from 'distance' are likely incorrect. Use 'GeoSeries.to_crs()' to re-project geometries to a projected CRS before this operation.\n",
      "\n",
      "  soiling_loss_gdf['distance'] = soiling_loss_NS3031_gdf['geometry'].distance(center)\n"
     ]
    },
    {
     "name": "stdout",
     "output_type": "stream",
     "text": [
      "lake 552 of 730\n"
     ]
    },
    {
     "name": "stderr",
     "output_type": "stream",
     "text": [
      "/home/mette/master/fpv_energy_yield_norway/src/FPVsimulation/pvsystem.py:83: UserWarning: Geometry is in a geographic CRS. Results from 'distance' are likely incorrect. Use 'GeoSeries.to_crs()' to re-project geometries to a projected CRS before this operation.\n",
      "\n",
      "  soiling_loss_gdf['distance'] = soiling_loss_NS3031_gdf['geometry'].distance(center)\n"
     ]
    },
    {
     "name": "stdout",
     "output_type": "stream",
     "text": [
      "lake 553 of 730\n"
     ]
    },
    {
     "name": "stderr",
     "output_type": "stream",
     "text": [
      "/home/mette/master/fpv_energy_yield_norway/src/FPVsimulation/pvsystem.py:83: UserWarning: Geometry is in a geographic CRS. Results from 'distance' are likely incorrect. Use 'GeoSeries.to_crs()' to re-project geometries to a projected CRS before this operation.\n",
      "\n",
      "  soiling_loss_gdf['distance'] = soiling_loss_NS3031_gdf['geometry'].distance(center)\n"
     ]
    },
    {
     "name": "stdout",
     "output_type": "stream",
     "text": [
      "lake 554 of 730\n"
     ]
    },
    {
     "name": "stderr",
     "output_type": "stream",
     "text": [
      "/home/mette/master/fpv_energy_yield_norway/src/FPVsimulation/pvsystem.py:83: UserWarning: Geometry is in a geographic CRS. Results from 'distance' are likely incorrect. Use 'GeoSeries.to_crs()' to re-project geometries to a projected CRS before this operation.\n",
      "\n",
      "  soiling_loss_gdf['distance'] = soiling_loss_NS3031_gdf['geometry'].distance(center)\n"
     ]
    },
    {
     "name": "stdout",
     "output_type": "stream",
     "text": [
      "lake 555 of 730\n"
     ]
    },
    {
     "name": "stderr",
     "output_type": "stream",
     "text": [
      "/home/mette/master/fpv_energy_yield_norway/src/FPVsimulation/pvsystem.py:83: UserWarning: Geometry is in a geographic CRS. Results from 'distance' are likely incorrect. Use 'GeoSeries.to_crs()' to re-project geometries to a projected CRS before this operation.\n",
      "\n",
      "  soiling_loss_gdf['distance'] = soiling_loss_NS3031_gdf['geometry'].distance(center)\n"
     ]
    },
    {
     "name": "stdout",
     "output_type": "stream",
     "text": [
      "lake 556 of 730\n"
     ]
    },
    {
     "name": "stderr",
     "output_type": "stream",
     "text": [
      "/home/mette/master/fpv_energy_yield_norway/src/FPVsimulation/pvsystem.py:83: UserWarning: Geometry is in a geographic CRS. Results from 'distance' are likely incorrect. Use 'GeoSeries.to_crs()' to re-project geometries to a projected CRS before this operation.\n",
      "\n",
      "  soiling_loss_gdf['distance'] = soiling_loss_NS3031_gdf['geometry'].distance(center)\n"
     ]
    },
    {
     "name": "stdout",
     "output_type": "stream",
     "text": [
      "lake 557 of 730\n"
     ]
    },
    {
     "name": "stderr",
     "output_type": "stream",
     "text": [
      "/home/mette/master/fpv_energy_yield_norway/src/FPVsimulation/pvsystem.py:83: UserWarning: Geometry is in a geographic CRS. Results from 'distance' are likely incorrect. Use 'GeoSeries.to_crs()' to re-project geometries to a projected CRS before this operation.\n",
      "\n",
      "  soiling_loss_gdf['distance'] = soiling_loss_NS3031_gdf['geometry'].distance(center)\n"
     ]
    },
    {
     "name": "stdout",
     "output_type": "stream",
     "text": [
      "lake 558 of 730\n"
     ]
    },
    {
     "name": "stderr",
     "output_type": "stream",
     "text": [
      "/home/mette/master/fpv_energy_yield_norway/src/FPVsimulation/pvsystem.py:83: UserWarning: Geometry is in a geographic CRS. Results from 'distance' are likely incorrect. Use 'GeoSeries.to_crs()' to re-project geometries to a projected CRS before this operation.\n",
      "\n",
      "  soiling_loss_gdf['distance'] = soiling_loss_NS3031_gdf['geometry'].distance(center)\n"
     ]
    },
    {
     "name": "stdout",
     "output_type": "stream",
     "text": [
      "lake 559 of 730\n"
     ]
    },
    {
     "name": "stderr",
     "output_type": "stream",
     "text": [
      "/home/mette/master/fpv_energy_yield_norway/src/FPVsimulation/pvsystem.py:83: UserWarning: Geometry is in a geographic CRS. Results from 'distance' are likely incorrect. Use 'GeoSeries.to_crs()' to re-project geometries to a projected CRS before this operation.\n",
      "\n",
      "  soiling_loss_gdf['distance'] = soiling_loss_NS3031_gdf['geometry'].distance(center)\n"
     ]
    },
    {
     "name": "stdout",
     "output_type": "stream",
     "text": [
      "lake 560 of 730\n"
     ]
    },
    {
     "name": "stderr",
     "output_type": "stream",
     "text": [
      "/home/mette/master/fpv_energy_yield_norway/src/FPVsimulation/pvsystem.py:83: UserWarning: Geometry is in a geographic CRS. Results from 'distance' are likely incorrect. Use 'GeoSeries.to_crs()' to re-project geometries to a projected CRS before this operation.\n",
      "\n",
      "  soiling_loss_gdf['distance'] = soiling_loss_NS3031_gdf['geometry'].distance(center)\n"
     ]
    },
    {
     "name": "stdout",
     "output_type": "stream",
     "text": [
      "lake 561 of 730\n"
     ]
    },
    {
     "name": "stderr",
     "output_type": "stream",
     "text": [
      "/home/mette/master/fpv_energy_yield_norway/src/FPVsimulation/pvsystem.py:83: UserWarning: Geometry is in a geographic CRS. Results from 'distance' are likely incorrect. Use 'GeoSeries.to_crs()' to re-project geometries to a projected CRS before this operation.\n",
      "\n",
      "  soiling_loss_gdf['distance'] = soiling_loss_NS3031_gdf['geometry'].distance(center)\n"
     ]
    },
    {
     "name": "stdout",
     "output_type": "stream",
     "text": [
      "lake 562 of 730\n"
     ]
    },
    {
     "name": "stderr",
     "output_type": "stream",
     "text": [
      "/home/mette/master/fpv_energy_yield_norway/src/FPVsimulation/pvsystem.py:83: UserWarning: Geometry is in a geographic CRS. Results from 'distance' are likely incorrect. Use 'GeoSeries.to_crs()' to re-project geometries to a projected CRS before this operation.\n",
      "\n",
      "  soiling_loss_gdf['distance'] = soiling_loss_NS3031_gdf['geometry'].distance(center)\n"
     ]
    },
    {
     "name": "stdout",
     "output_type": "stream",
     "text": [
      "lake 563 of 730\n"
     ]
    },
    {
     "name": "stderr",
     "output_type": "stream",
     "text": [
      "/home/mette/master/fpv_energy_yield_norway/src/FPVsimulation/pvsystem.py:83: UserWarning: Geometry is in a geographic CRS. Results from 'distance' are likely incorrect. Use 'GeoSeries.to_crs()' to re-project geometries to a projected CRS before this operation.\n",
      "\n",
      "  soiling_loss_gdf['distance'] = soiling_loss_NS3031_gdf['geometry'].distance(center)\n"
     ]
    },
    {
     "name": "stdout",
     "output_type": "stream",
     "text": [
      "lake 564 of 730\n"
     ]
    },
    {
     "name": "stderr",
     "output_type": "stream",
     "text": [
      "/home/mette/master/fpv_energy_yield_norway/src/FPVsimulation/pvsystem.py:83: UserWarning: Geometry is in a geographic CRS. Results from 'distance' are likely incorrect. Use 'GeoSeries.to_crs()' to re-project geometries to a projected CRS before this operation.\n",
      "\n",
      "  soiling_loss_gdf['distance'] = soiling_loss_NS3031_gdf['geometry'].distance(center)\n"
     ]
    },
    {
     "name": "stdout",
     "output_type": "stream",
     "text": [
      "lake 565 of 730\n"
     ]
    },
    {
     "name": "stderr",
     "output_type": "stream",
     "text": [
      "/home/mette/master/fpv_energy_yield_norway/src/FPVsimulation/pvsystem.py:83: UserWarning: Geometry is in a geographic CRS. Results from 'distance' are likely incorrect. Use 'GeoSeries.to_crs()' to re-project geometries to a projected CRS before this operation.\n",
      "\n",
      "  soiling_loss_gdf['distance'] = soiling_loss_NS3031_gdf['geometry'].distance(center)\n"
     ]
    },
    {
     "name": "stdout",
     "output_type": "stream",
     "text": [
      "lake 566 of 730\n"
     ]
    },
    {
     "name": "stderr",
     "output_type": "stream",
     "text": [
      "/home/mette/master/fpv_energy_yield_norway/src/FPVsimulation/pvsystem.py:83: UserWarning: Geometry is in a geographic CRS. Results from 'distance' are likely incorrect. Use 'GeoSeries.to_crs()' to re-project geometries to a projected CRS before this operation.\n",
      "\n",
      "  soiling_loss_gdf['distance'] = soiling_loss_NS3031_gdf['geometry'].distance(center)\n"
     ]
    },
    {
     "name": "stdout",
     "output_type": "stream",
     "text": [
      "lake 567 of 730\n"
     ]
    },
    {
     "name": "stderr",
     "output_type": "stream",
     "text": [
      "/home/mette/master/fpv_energy_yield_norway/src/FPVsimulation/pvsystem.py:83: UserWarning: Geometry is in a geographic CRS. Results from 'distance' are likely incorrect. Use 'GeoSeries.to_crs()' to re-project geometries to a projected CRS before this operation.\n",
      "\n",
      "  soiling_loss_gdf['distance'] = soiling_loss_NS3031_gdf['geometry'].distance(center)\n"
     ]
    },
    {
     "name": "stdout",
     "output_type": "stream",
     "text": [
      "lake 568 of 730\n"
     ]
    },
    {
     "name": "stderr",
     "output_type": "stream",
     "text": [
      "/home/mette/master/fpv_energy_yield_norway/src/FPVsimulation/pvsystem.py:83: UserWarning: Geometry is in a geographic CRS. Results from 'distance' are likely incorrect. Use 'GeoSeries.to_crs()' to re-project geometries to a projected CRS before this operation.\n",
      "\n",
      "  soiling_loss_gdf['distance'] = soiling_loss_NS3031_gdf['geometry'].distance(center)\n"
     ]
    },
    {
     "name": "stdout",
     "output_type": "stream",
     "text": [
      "lake 569 of 730\n"
     ]
    },
    {
     "name": "stderr",
     "output_type": "stream",
     "text": [
      "/home/mette/master/fpv_energy_yield_norway/src/FPVsimulation/pvsystem.py:83: UserWarning: Geometry is in a geographic CRS. Results from 'distance' are likely incorrect. Use 'GeoSeries.to_crs()' to re-project geometries to a projected CRS before this operation.\n",
      "\n",
      "  soiling_loss_gdf['distance'] = soiling_loss_NS3031_gdf['geometry'].distance(center)\n"
     ]
    },
    {
     "name": "stdout",
     "output_type": "stream",
     "text": [
      "lake 570 of 730\n"
     ]
    },
    {
     "name": "stderr",
     "output_type": "stream",
     "text": [
      "/home/mette/master/fpv_energy_yield_norway/src/FPVsimulation/pvsystem.py:83: UserWarning: Geometry is in a geographic CRS. Results from 'distance' are likely incorrect. Use 'GeoSeries.to_crs()' to re-project geometries to a projected CRS before this operation.\n",
      "\n",
      "  soiling_loss_gdf['distance'] = soiling_loss_NS3031_gdf['geometry'].distance(center)\n"
     ]
    },
    {
     "name": "stdout",
     "output_type": "stream",
     "text": [
      "lake 571 of 730\n"
     ]
    },
    {
     "name": "stderr",
     "output_type": "stream",
     "text": [
      "/home/mette/master/fpv_energy_yield_norway/src/FPVsimulation/pvsystem.py:83: UserWarning: Geometry is in a geographic CRS. Results from 'distance' are likely incorrect. Use 'GeoSeries.to_crs()' to re-project geometries to a projected CRS before this operation.\n",
      "\n",
      "  soiling_loss_gdf['distance'] = soiling_loss_NS3031_gdf['geometry'].distance(center)\n"
     ]
    },
    {
     "name": "stdout",
     "output_type": "stream",
     "text": [
      "lake 572 of 730\n"
     ]
    },
    {
     "name": "stderr",
     "output_type": "stream",
     "text": [
      "/home/mette/master/fpv_energy_yield_norway/src/FPVsimulation/pvsystem.py:83: UserWarning: Geometry is in a geographic CRS. Results from 'distance' are likely incorrect. Use 'GeoSeries.to_crs()' to re-project geometries to a projected CRS before this operation.\n",
      "\n",
      "  soiling_loss_gdf['distance'] = soiling_loss_NS3031_gdf['geometry'].distance(center)\n"
     ]
    },
    {
     "name": "stdout",
     "output_type": "stream",
     "text": [
      "lake 573 of 730\n"
     ]
    },
    {
     "name": "stderr",
     "output_type": "stream",
     "text": [
      "/home/mette/master/fpv_energy_yield_norway/src/FPVsimulation/pvsystem.py:83: UserWarning: Geometry is in a geographic CRS. Results from 'distance' are likely incorrect. Use 'GeoSeries.to_crs()' to re-project geometries to a projected CRS before this operation.\n",
      "\n",
      "  soiling_loss_gdf['distance'] = soiling_loss_NS3031_gdf['geometry'].distance(center)\n"
     ]
    },
    {
     "name": "stdout",
     "output_type": "stream",
     "text": [
      "lake 574 of 730\n"
     ]
    },
    {
     "name": "stderr",
     "output_type": "stream",
     "text": [
      "/home/mette/master/fpv_energy_yield_norway/src/FPVsimulation/pvsystem.py:83: UserWarning: Geometry is in a geographic CRS. Results from 'distance' are likely incorrect. Use 'GeoSeries.to_crs()' to re-project geometries to a projected CRS before this operation.\n",
      "\n",
      "  soiling_loss_gdf['distance'] = soiling_loss_NS3031_gdf['geometry'].distance(center)\n"
     ]
    },
    {
     "name": "stdout",
     "output_type": "stream",
     "text": [
      "lake 575 of 730\n"
     ]
    },
    {
     "name": "stderr",
     "output_type": "stream",
     "text": [
      "/home/mette/master/fpv_energy_yield_norway/src/FPVsimulation/pvsystem.py:83: UserWarning: Geometry is in a geographic CRS. Results from 'distance' are likely incorrect. Use 'GeoSeries.to_crs()' to re-project geometries to a projected CRS before this operation.\n",
      "\n",
      "  soiling_loss_gdf['distance'] = soiling_loss_NS3031_gdf['geometry'].distance(center)\n"
     ]
    },
    {
     "name": "stdout",
     "output_type": "stream",
     "text": [
      "lake 576 of 730\n"
     ]
    },
    {
     "name": "stderr",
     "output_type": "stream",
     "text": [
      "/home/mette/master/fpv_energy_yield_norway/src/FPVsimulation/pvsystem.py:83: UserWarning: Geometry is in a geographic CRS. Results from 'distance' are likely incorrect. Use 'GeoSeries.to_crs()' to re-project geometries to a projected CRS before this operation.\n",
      "\n",
      "  soiling_loss_gdf['distance'] = soiling_loss_NS3031_gdf['geometry'].distance(center)\n"
     ]
    },
    {
     "name": "stdout",
     "output_type": "stream",
     "text": [
      "lake 577 of 730\n"
     ]
    },
    {
     "name": "stderr",
     "output_type": "stream",
     "text": [
      "/home/mette/master/fpv_energy_yield_norway/src/FPVsimulation/pvsystem.py:83: UserWarning: Geometry is in a geographic CRS. Results from 'distance' are likely incorrect. Use 'GeoSeries.to_crs()' to re-project geometries to a projected CRS before this operation.\n",
      "\n",
      "  soiling_loss_gdf['distance'] = soiling_loss_NS3031_gdf['geometry'].distance(center)\n"
     ]
    },
    {
     "name": "stdout",
     "output_type": "stream",
     "text": [
      "lake 578 of 730\n"
     ]
    },
    {
     "name": "stderr",
     "output_type": "stream",
     "text": [
      "/home/mette/master/fpv_energy_yield_norway/src/FPVsimulation/pvsystem.py:83: UserWarning: Geometry is in a geographic CRS. Results from 'distance' are likely incorrect. Use 'GeoSeries.to_crs()' to re-project geometries to a projected CRS before this operation.\n",
      "\n",
      "  soiling_loss_gdf['distance'] = soiling_loss_NS3031_gdf['geometry'].distance(center)\n"
     ]
    },
    {
     "name": "stdout",
     "output_type": "stream",
     "text": [
      "lake 579 of 730\n"
     ]
    },
    {
     "name": "stderr",
     "output_type": "stream",
     "text": [
      "/home/mette/master/fpv_energy_yield_norway/src/FPVsimulation/pvsystem.py:83: UserWarning: Geometry is in a geographic CRS. Results from 'distance' are likely incorrect. Use 'GeoSeries.to_crs()' to re-project geometries to a projected CRS before this operation.\n",
      "\n",
      "  soiling_loss_gdf['distance'] = soiling_loss_NS3031_gdf['geometry'].distance(center)\n"
     ]
    },
    {
     "name": "stdout",
     "output_type": "stream",
     "text": [
      "lake 580 of 730\n"
     ]
    },
    {
     "name": "stderr",
     "output_type": "stream",
     "text": [
      "/home/mette/master/fpv_energy_yield_norway/src/FPVsimulation/pvsystem.py:83: UserWarning: Geometry is in a geographic CRS. Results from 'distance' are likely incorrect. Use 'GeoSeries.to_crs()' to re-project geometries to a projected CRS before this operation.\n",
      "\n",
      "  soiling_loss_gdf['distance'] = soiling_loss_NS3031_gdf['geometry'].distance(center)\n"
     ]
    },
    {
     "name": "stdout",
     "output_type": "stream",
     "text": [
      "lake 581 of 730\n"
     ]
    },
    {
     "name": "stderr",
     "output_type": "stream",
     "text": [
      "/home/mette/master/fpv_energy_yield_norway/src/FPVsimulation/pvsystem.py:83: UserWarning: Geometry is in a geographic CRS. Results from 'distance' are likely incorrect. Use 'GeoSeries.to_crs()' to re-project geometries to a projected CRS before this operation.\n",
      "\n",
      "  soiling_loss_gdf['distance'] = soiling_loss_NS3031_gdf['geometry'].distance(center)\n"
     ]
    },
    {
     "name": "stdout",
     "output_type": "stream",
     "text": [
      "lake 582 of 730\n"
     ]
    },
    {
     "name": "stderr",
     "output_type": "stream",
     "text": [
      "/home/mette/master/fpv_energy_yield_norway/src/FPVsimulation/pvsystem.py:83: UserWarning: Geometry is in a geographic CRS. Results from 'distance' are likely incorrect. Use 'GeoSeries.to_crs()' to re-project geometries to a projected CRS before this operation.\n",
      "\n",
      "  soiling_loss_gdf['distance'] = soiling_loss_NS3031_gdf['geometry'].distance(center)\n"
     ]
    },
    {
     "name": "stdout",
     "output_type": "stream",
     "text": [
      "lake 583 of 730\n"
     ]
    },
    {
     "name": "stderr",
     "output_type": "stream",
     "text": [
      "/home/mette/master/fpv_energy_yield_norway/src/FPVsimulation/pvsystem.py:83: UserWarning: Geometry is in a geographic CRS. Results from 'distance' are likely incorrect. Use 'GeoSeries.to_crs()' to re-project geometries to a projected CRS before this operation.\n",
      "\n",
      "  soiling_loss_gdf['distance'] = soiling_loss_NS3031_gdf['geometry'].distance(center)\n"
     ]
    },
    {
     "name": "stdout",
     "output_type": "stream",
     "text": [
      "lake 584 of 730\n"
     ]
    },
    {
     "name": "stderr",
     "output_type": "stream",
     "text": [
      "/home/mette/master/fpv_energy_yield_norway/src/FPVsimulation/pvsystem.py:83: UserWarning: Geometry is in a geographic CRS. Results from 'distance' are likely incorrect. Use 'GeoSeries.to_crs()' to re-project geometries to a projected CRS before this operation.\n",
      "\n",
      "  soiling_loss_gdf['distance'] = soiling_loss_NS3031_gdf['geometry'].distance(center)\n"
     ]
    },
    {
     "name": "stdout",
     "output_type": "stream",
     "text": [
      "lake 585 of 730\n"
     ]
    },
    {
     "name": "stderr",
     "output_type": "stream",
     "text": [
      "/home/mette/master/fpv_energy_yield_norway/src/FPVsimulation/pvsystem.py:83: UserWarning: Geometry is in a geographic CRS. Results from 'distance' are likely incorrect. Use 'GeoSeries.to_crs()' to re-project geometries to a projected CRS before this operation.\n",
      "\n",
      "  soiling_loss_gdf['distance'] = soiling_loss_NS3031_gdf['geometry'].distance(center)\n"
     ]
    },
    {
     "name": "stdout",
     "output_type": "stream",
     "text": [
      "lake 586 of 730\n"
     ]
    },
    {
     "name": "stderr",
     "output_type": "stream",
     "text": [
      "/home/mette/master/fpv_energy_yield_norway/src/FPVsimulation/pvsystem.py:83: UserWarning: Geometry is in a geographic CRS. Results from 'distance' are likely incorrect. Use 'GeoSeries.to_crs()' to re-project geometries to a projected CRS before this operation.\n",
      "\n",
      "  soiling_loss_gdf['distance'] = soiling_loss_NS3031_gdf['geometry'].distance(center)\n"
     ]
    },
    {
     "name": "stdout",
     "output_type": "stream",
     "text": [
      "lake 587 of 730\n"
     ]
    },
    {
     "name": "stderr",
     "output_type": "stream",
     "text": [
      "/home/mette/master/fpv_energy_yield_norway/src/FPVsimulation/pvsystem.py:83: UserWarning: Geometry is in a geographic CRS. Results from 'distance' are likely incorrect. Use 'GeoSeries.to_crs()' to re-project geometries to a projected CRS before this operation.\n",
      "\n",
      "  soiling_loss_gdf['distance'] = soiling_loss_NS3031_gdf['geometry'].distance(center)\n"
     ]
    },
    {
     "name": "stdout",
     "output_type": "stream",
     "text": [
      "lake 588 of 730\n"
     ]
    },
    {
     "name": "stderr",
     "output_type": "stream",
     "text": [
      "/home/mette/master/fpv_energy_yield_norway/src/FPVsimulation/pvsystem.py:83: UserWarning: Geometry is in a geographic CRS. Results from 'distance' are likely incorrect. Use 'GeoSeries.to_crs()' to re-project geometries to a projected CRS before this operation.\n",
      "\n",
      "  soiling_loss_gdf['distance'] = soiling_loss_NS3031_gdf['geometry'].distance(center)\n"
     ]
    },
    {
     "name": "stdout",
     "output_type": "stream",
     "text": [
      "lake 589 of 730\n"
     ]
    },
    {
     "name": "stderr",
     "output_type": "stream",
     "text": [
      "/home/mette/master/fpv_energy_yield_norway/src/FPVsimulation/pvsystem.py:83: UserWarning: Geometry is in a geographic CRS. Results from 'distance' are likely incorrect. Use 'GeoSeries.to_crs()' to re-project geometries to a projected CRS before this operation.\n",
      "\n",
      "  soiling_loss_gdf['distance'] = soiling_loss_NS3031_gdf['geometry'].distance(center)\n"
     ]
    },
    {
     "name": "stdout",
     "output_type": "stream",
     "text": [
      "lake 590 of 730\n"
     ]
    },
    {
     "name": "stderr",
     "output_type": "stream",
     "text": [
      "/home/mette/master/fpv_energy_yield_norway/src/FPVsimulation/pvsystem.py:83: UserWarning: Geometry is in a geographic CRS. Results from 'distance' are likely incorrect. Use 'GeoSeries.to_crs()' to re-project geometries to a projected CRS before this operation.\n",
      "\n",
      "  soiling_loss_gdf['distance'] = soiling_loss_NS3031_gdf['geometry'].distance(center)\n"
     ]
    },
    {
     "name": "stdout",
     "output_type": "stream",
     "text": [
      "lake 591 of 730\n"
     ]
    },
    {
     "name": "stderr",
     "output_type": "stream",
     "text": [
      "/home/mette/master/fpv_energy_yield_norway/src/FPVsimulation/pvsystem.py:83: UserWarning: Geometry is in a geographic CRS. Results from 'distance' are likely incorrect. Use 'GeoSeries.to_crs()' to re-project geometries to a projected CRS before this operation.\n",
      "\n",
      "  soiling_loss_gdf['distance'] = soiling_loss_NS3031_gdf['geometry'].distance(center)\n"
     ]
    },
    {
     "name": "stdout",
     "output_type": "stream",
     "text": [
      "lake 592 of 730\n"
     ]
    },
    {
     "name": "stderr",
     "output_type": "stream",
     "text": [
      "/home/mette/master/fpv_energy_yield_norway/src/FPVsimulation/pvsystem.py:83: UserWarning: Geometry is in a geographic CRS. Results from 'distance' are likely incorrect. Use 'GeoSeries.to_crs()' to re-project geometries to a projected CRS before this operation.\n",
      "\n",
      "  soiling_loss_gdf['distance'] = soiling_loss_NS3031_gdf['geometry'].distance(center)\n"
     ]
    },
    {
     "name": "stdout",
     "output_type": "stream",
     "text": [
      "lake 593 of 730\n"
     ]
    },
    {
     "name": "stderr",
     "output_type": "stream",
     "text": [
      "/home/mette/master/fpv_energy_yield_norway/src/FPVsimulation/pvsystem.py:83: UserWarning: Geometry is in a geographic CRS. Results from 'distance' are likely incorrect. Use 'GeoSeries.to_crs()' to re-project geometries to a projected CRS before this operation.\n",
      "\n",
      "  soiling_loss_gdf['distance'] = soiling_loss_NS3031_gdf['geometry'].distance(center)\n"
     ]
    },
    {
     "name": "stdout",
     "output_type": "stream",
     "text": [
      "lake 594 of 730\n"
     ]
    },
    {
     "name": "stderr",
     "output_type": "stream",
     "text": [
      "/home/mette/master/fpv_energy_yield_norway/src/FPVsimulation/pvsystem.py:83: UserWarning: Geometry is in a geographic CRS. Results from 'distance' are likely incorrect. Use 'GeoSeries.to_crs()' to re-project geometries to a projected CRS before this operation.\n",
      "\n",
      "  soiling_loss_gdf['distance'] = soiling_loss_NS3031_gdf['geometry'].distance(center)\n"
     ]
    },
    {
     "name": "stdout",
     "output_type": "stream",
     "text": [
      "lake 595 of 730\n"
     ]
    },
    {
     "name": "stderr",
     "output_type": "stream",
     "text": [
      "/home/mette/master/fpv_energy_yield_norway/src/FPVsimulation/pvsystem.py:83: UserWarning: Geometry is in a geographic CRS. Results from 'distance' are likely incorrect. Use 'GeoSeries.to_crs()' to re-project geometries to a projected CRS before this operation.\n",
      "\n",
      "  soiling_loss_gdf['distance'] = soiling_loss_NS3031_gdf['geometry'].distance(center)\n"
     ]
    },
    {
     "name": "stdout",
     "output_type": "stream",
     "text": [
      "lake 596 of 730\n"
     ]
    },
    {
     "name": "stderr",
     "output_type": "stream",
     "text": [
      "/home/mette/master/fpv_energy_yield_norway/src/FPVsimulation/pvsystem.py:83: UserWarning: Geometry is in a geographic CRS. Results from 'distance' are likely incorrect. Use 'GeoSeries.to_crs()' to re-project geometries to a projected CRS before this operation.\n",
      "\n",
      "  soiling_loss_gdf['distance'] = soiling_loss_NS3031_gdf['geometry'].distance(center)\n"
     ]
    },
    {
     "name": "stdout",
     "output_type": "stream",
     "text": [
      "lake 597 of 730\n"
     ]
    },
    {
     "name": "stderr",
     "output_type": "stream",
     "text": [
      "/home/mette/master/fpv_energy_yield_norway/src/FPVsimulation/pvsystem.py:83: UserWarning: Geometry is in a geographic CRS. Results from 'distance' are likely incorrect. Use 'GeoSeries.to_crs()' to re-project geometries to a projected CRS before this operation.\n",
      "\n",
      "  soiling_loss_gdf['distance'] = soiling_loss_NS3031_gdf['geometry'].distance(center)\n"
     ]
    },
    {
     "name": "stdout",
     "output_type": "stream",
     "text": [
      "lake 598 of 730\n"
     ]
    },
    {
     "name": "stderr",
     "output_type": "stream",
     "text": [
      "/home/mette/master/fpv_energy_yield_norway/src/FPVsimulation/pvsystem.py:83: UserWarning: Geometry is in a geographic CRS. Results from 'distance' are likely incorrect. Use 'GeoSeries.to_crs()' to re-project geometries to a projected CRS before this operation.\n",
      "\n",
      "  soiling_loss_gdf['distance'] = soiling_loss_NS3031_gdf['geometry'].distance(center)\n"
     ]
    },
    {
     "name": "stdout",
     "output_type": "stream",
     "text": [
      "lake 599 of 730\n"
     ]
    },
    {
     "name": "stderr",
     "output_type": "stream",
     "text": [
      "/home/mette/master/fpv_energy_yield_norway/src/FPVsimulation/pvsystem.py:83: UserWarning: Geometry is in a geographic CRS. Results from 'distance' are likely incorrect. Use 'GeoSeries.to_crs()' to re-project geometries to a projected CRS before this operation.\n",
      "\n",
      "  soiling_loss_gdf['distance'] = soiling_loss_NS3031_gdf['geometry'].distance(center)\n"
     ]
    },
    {
     "name": "stdout",
     "output_type": "stream",
     "text": [
      "lake 600 of 730\n"
     ]
    },
    {
     "name": "stderr",
     "output_type": "stream",
     "text": [
      "/home/mette/master/fpv_energy_yield_norway/src/FPVsimulation/pvsystem.py:83: UserWarning: Geometry is in a geographic CRS. Results from 'distance' are likely incorrect. Use 'GeoSeries.to_crs()' to re-project geometries to a projected CRS before this operation.\n",
      "\n",
      "  soiling_loss_gdf['distance'] = soiling_loss_NS3031_gdf['geometry'].distance(center)\n"
     ]
    },
    {
     "name": "stdout",
     "output_type": "stream",
     "text": [
      "lake 601 of 730\n"
     ]
    },
    {
     "name": "stderr",
     "output_type": "stream",
     "text": [
      "/home/mette/master/fpv_energy_yield_norway/src/FPVsimulation/pvsystem.py:83: UserWarning: Geometry is in a geographic CRS. Results from 'distance' are likely incorrect. Use 'GeoSeries.to_crs()' to re-project geometries to a projected CRS before this operation.\n",
      "\n",
      "  soiling_loss_gdf['distance'] = soiling_loss_NS3031_gdf['geometry'].distance(center)\n"
     ]
    },
    {
     "name": "stdout",
     "output_type": "stream",
     "text": [
      "lake 602 of 730\n"
     ]
    },
    {
     "name": "stderr",
     "output_type": "stream",
     "text": [
      "/home/mette/master/fpv_energy_yield_norway/src/FPVsimulation/pvsystem.py:83: UserWarning: Geometry is in a geographic CRS. Results from 'distance' are likely incorrect. Use 'GeoSeries.to_crs()' to re-project geometries to a projected CRS before this operation.\n",
      "\n",
      "  soiling_loss_gdf['distance'] = soiling_loss_NS3031_gdf['geometry'].distance(center)\n"
     ]
    },
    {
     "name": "stdout",
     "output_type": "stream",
     "text": [
      "lake 603 of 730\n"
     ]
    },
    {
     "name": "stderr",
     "output_type": "stream",
     "text": [
      "/home/mette/master/fpv_energy_yield_norway/src/FPVsimulation/pvsystem.py:83: UserWarning: Geometry is in a geographic CRS. Results from 'distance' are likely incorrect. Use 'GeoSeries.to_crs()' to re-project geometries to a projected CRS before this operation.\n",
      "\n",
      "  soiling_loss_gdf['distance'] = soiling_loss_NS3031_gdf['geometry'].distance(center)\n"
     ]
    },
    {
     "name": "stdout",
     "output_type": "stream",
     "text": [
      "lake 604 of 730\n"
     ]
    },
    {
     "name": "stderr",
     "output_type": "stream",
     "text": [
      "/home/mette/master/fpv_energy_yield_norway/src/FPVsimulation/pvsystem.py:83: UserWarning: Geometry is in a geographic CRS. Results from 'distance' are likely incorrect. Use 'GeoSeries.to_crs()' to re-project geometries to a projected CRS before this operation.\n",
      "\n",
      "  soiling_loss_gdf['distance'] = soiling_loss_NS3031_gdf['geometry'].distance(center)\n"
     ]
    },
    {
     "name": "stdout",
     "output_type": "stream",
     "text": [
      "lake 605 of 730\n"
     ]
    },
    {
     "name": "stderr",
     "output_type": "stream",
     "text": [
      "/home/mette/master/fpv_energy_yield_norway/src/FPVsimulation/pvsystem.py:83: UserWarning: Geometry is in a geographic CRS. Results from 'distance' are likely incorrect. Use 'GeoSeries.to_crs()' to re-project geometries to a projected CRS before this operation.\n",
      "\n",
      "  soiling_loss_gdf['distance'] = soiling_loss_NS3031_gdf['geometry'].distance(center)\n"
     ]
    },
    {
     "name": "stdout",
     "output_type": "stream",
     "text": [
      "lake 606 of 730\n"
     ]
    },
    {
     "name": "stderr",
     "output_type": "stream",
     "text": [
      "/home/mette/master/fpv_energy_yield_norway/src/FPVsimulation/pvsystem.py:83: UserWarning: Geometry is in a geographic CRS. Results from 'distance' are likely incorrect. Use 'GeoSeries.to_crs()' to re-project geometries to a projected CRS before this operation.\n",
      "\n",
      "  soiling_loss_gdf['distance'] = soiling_loss_NS3031_gdf['geometry'].distance(center)\n"
     ]
    },
    {
     "name": "stdout",
     "output_type": "stream",
     "text": [
      "lake 607 of 730\n"
     ]
    },
    {
     "name": "stderr",
     "output_type": "stream",
     "text": [
      "/home/mette/master/fpv_energy_yield_norway/src/FPVsimulation/pvsystem.py:83: UserWarning: Geometry is in a geographic CRS. Results from 'distance' are likely incorrect. Use 'GeoSeries.to_crs()' to re-project geometries to a projected CRS before this operation.\n",
      "\n",
      "  soiling_loss_gdf['distance'] = soiling_loss_NS3031_gdf['geometry'].distance(center)\n"
     ]
    },
    {
     "name": "stdout",
     "output_type": "stream",
     "text": [
      "lake 608 of 730\n"
     ]
    },
    {
     "name": "stderr",
     "output_type": "stream",
     "text": [
      "/home/mette/master/fpv_energy_yield_norway/src/FPVsimulation/pvsystem.py:83: UserWarning: Geometry is in a geographic CRS. Results from 'distance' are likely incorrect. Use 'GeoSeries.to_crs()' to re-project geometries to a projected CRS before this operation.\n",
      "\n",
      "  soiling_loss_gdf['distance'] = soiling_loss_NS3031_gdf['geometry'].distance(center)\n"
     ]
    },
    {
     "name": "stdout",
     "output_type": "stream",
     "text": [
      "lake 609 of 730\n"
     ]
    },
    {
     "name": "stderr",
     "output_type": "stream",
     "text": [
      "/home/mette/master/fpv_energy_yield_norway/src/FPVsimulation/pvsystem.py:83: UserWarning: Geometry is in a geographic CRS. Results from 'distance' are likely incorrect. Use 'GeoSeries.to_crs()' to re-project geometries to a projected CRS before this operation.\n",
      "\n",
      "  soiling_loss_gdf['distance'] = soiling_loss_NS3031_gdf['geometry'].distance(center)\n"
     ]
    },
    {
     "name": "stdout",
     "output_type": "stream",
     "text": [
      "lake 610 of 730\n"
     ]
    },
    {
     "name": "stderr",
     "output_type": "stream",
     "text": [
      "/home/mette/master/fpv_energy_yield_norway/src/FPVsimulation/pvsystem.py:83: UserWarning: Geometry is in a geographic CRS. Results from 'distance' are likely incorrect. Use 'GeoSeries.to_crs()' to re-project geometries to a projected CRS before this operation.\n",
      "\n",
      "  soiling_loss_gdf['distance'] = soiling_loss_NS3031_gdf['geometry'].distance(center)\n"
     ]
    },
    {
     "name": "stdout",
     "output_type": "stream",
     "text": [
      "lake 611 of 730\n"
     ]
    },
    {
     "name": "stderr",
     "output_type": "stream",
     "text": [
      "/home/mette/master/fpv_energy_yield_norway/src/FPVsimulation/pvsystem.py:83: UserWarning: Geometry is in a geographic CRS. Results from 'distance' are likely incorrect. Use 'GeoSeries.to_crs()' to re-project geometries to a projected CRS before this operation.\n",
      "\n",
      "  soiling_loss_gdf['distance'] = soiling_loss_NS3031_gdf['geometry'].distance(center)\n"
     ]
    },
    {
     "name": "stdout",
     "output_type": "stream",
     "text": [
      "lake 612 of 730\n"
     ]
    },
    {
     "name": "stderr",
     "output_type": "stream",
     "text": [
      "/home/mette/master/fpv_energy_yield_norway/src/FPVsimulation/pvsystem.py:83: UserWarning: Geometry is in a geographic CRS. Results from 'distance' are likely incorrect. Use 'GeoSeries.to_crs()' to re-project geometries to a projected CRS before this operation.\n",
      "\n",
      "  soiling_loss_gdf['distance'] = soiling_loss_NS3031_gdf['geometry'].distance(center)\n"
     ]
    },
    {
     "name": "stdout",
     "output_type": "stream",
     "text": [
      "lake 613 of 730\n"
     ]
    },
    {
     "name": "stderr",
     "output_type": "stream",
     "text": [
      "/home/mette/master/fpv_energy_yield_norway/src/FPVsimulation/pvsystem.py:83: UserWarning: Geometry is in a geographic CRS. Results from 'distance' are likely incorrect. Use 'GeoSeries.to_crs()' to re-project geometries to a projected CRS before this operation.\n",
      "\n",
      "  soiling_loss_gdf['distance'] = soiling_loss_NS3031_gdf['geometry'].distance(center)\n"
     ]
    },
    {
     "name": "stdout",
     "output_type": "stream",
     "text": [
      "lake 614 of 730\n"
     ]
    },
    {
     "name": "stderr",
     "output_type": "stream",
     "text": [
      "/home/mette/master/fpv_energy_yield_norway/src/FPVsimulation/pvsystem.py:83: UserWarning: Geometry is in a geographic CRS. Results from 'distance' are likely incorrect. Use 'GeoSeries.to_crs()' to re-project geometries to a projected CRS before this operation.\n",
      "\n",
      "  soiling_loss_gdf['distance'] = soiling_loss_NS3031_gdf['geometry'].distance(center)\n"
     ]
    },
    {
     "name": "stdout",
     "output_type": "stream",
     "text": [
      "lake 615 of 730\n"
     ]
    },
    {
     "name": "stderr",
     "output_type": "stream",
     "text": [
      "/home/mette/master/fpv_energy_yield_norway/src/FPVsimulation/pvsystem.py:83: UserWarning: Geometry is in a geographic CRS. Results from 'distance' are likely incorrect. Use 'GeoSeries.to_crs()' to re-project geometries to a projected CRS before this operation.\n",
      "\n",
      "  soiling_loss_gdf['distance'] = soiling_loss_NS3031_gdf['geometry'].distance(center)\n"
     ]
    },
    {
     "name": "stdout",
     "output_type": "stream",
     "text": [
      "lake 616 of 730\n"
     ]
    },
    {
     "name": "stderr",
     "output_type": "stream",
     "text": [
      "/home/mette/master/fpv_energy_yield_norway/src/FPVsimulation/pvsystem.py:83: UserWarning: Geometry is in a geographic CRS. Results from 'distance' are likely incorrect. Use 'GeoSeries.to_crs()' to re-project geometries to a projected CRS before this operation.\n",
      "\n",
      "  soiling_loss_gdf['distance'] = soiling_loss_NS3031_gdf['geometry'].distance(center)\n"
     ]
    },
    {
     "name": "stdout",
     "output_type": "stream",
     "text": [
      "lake 617 of 730\n"
     ]
    },
    {
     "name": "stderr",
     "output_type": "stream",
     "text": [
      "/home/mette/master/fpv_energy_yield_norway/src/FPVsimulation/pvsystem.py:83: UserWarning: Geometry is in a geographic CRS. Results from 'distance' are likely incorrect. Use 'GeoSeries.to_crs()' to re-project geometries to a projected CRS before this operation.\n",
      "\n",
      "  soiling_loss_gdf['distance'] = soiling_loss_NS3031_gdf['geometry'].distance(center)\n"
     ]
    },
    {
     "name": "stdout",
     "output_type": "stream",
     "text": [
      "lake 618 of 730\n"
     ]
    },
    {
     "name": "stderr",
     "output_type": "stream",
     "text": [
      "/home/mette/master/fpv_energy_yield_norway/src/FPVsimulation/pvsystem.py:83: UserWarning: Geometry is in a geographic CRS. Results from 'distance' are likely incorrect. Use 'GeoSeries.to_crs()' to re-project geometries to a projected CRS before this operation.\n",
      "\n",
      "  soiling_loss_gdf['distance'] = soiling_loss_NS3031_gdf['geometry'].distance(center)\n"
     ]
    },
    {
     "name": "stdout",
     "output_type": "stream",
     "text": [
      "lake 619 of 730\n"
     ]
    },
    {
     "name": "stderr",
     "output_type": "stream",
     "text": [
      "/home/mette/master/fpv_energy_yield_norway/src/FPVsimulation/pvsystem.py:83: UserWarning: Geometry is in a geographic CRS. Results from 'distance' are likely incorrect. Use 'GeoSeries.to_crs()' to re-project geometries to a projected CRS before this operation.\n",
      "\n",
      "  soiling_loss_gdf['distance'] = soiling_loss_NS3031_gdf['geometry'].distance(center)\n"
     ]
    },
    {
     "name": "stdout",
     "output_type": "stream",
     "text": [
      "lake 620 of 730\n"
     ]
    },
    {
     "name": "stderr",
     "output_type": "stream",
     "text": [
      "/home/mette/master/fpv_energy_yield_norway/src/FPVsimulation/pvsystem.py:83: UserWarning: Geometry is in a geographic CRS. Results from 'distance' are likely incorrect. Use 'GeoSeries.to_crs()' to re-project geometries to a projected CRS before this operation.\n",
      "\n",
      "  soiling_loss_gdf['distance'] = soiling_loss_NS3031_gdf['geometry'].distance(center)\n"
     ]
    },
    {
     "name": "stdout",
     "output_type": "stream",
     "text": [
      "lake 621 of 730\n"
     ]
    },
    {
     "name": "stderr",
     "output_type": "stream",
     "text": [
      "/home/mette/master/fpv_energy_yield_norway/src/FPVsimulation/pvsystem.py:83: UserWarning: Geometry is in a geographic CRS. Results from 'distance' are likely incorrect. Use 'GeoSeries.to_crs()' to re-project geometries to a projected CRS before this operation.\n",
      "\n",
      "  soiling_loss_gdf['distance'] = soiling_loss_NS3031_gdf['geometry'].distance(center)\n"
     ]
    },
    {
     "name": "stdout",
     "output_type": "stream",
     "text": [
      "lake 622 of 730\n"
     ]
    },
    {
     "name": "stderr",
     "output_type": "stream",
     "text": [
      "/home/mette/master/fpv_energy_yield_norway/src/FPVsimulation/pvsystem.py:83: UserWarning: Geometry is in a geographic CRS. Results from 'distance' are likely incorrect. Use 'GeoSeries.to_crs()' to re-project geometries to a projected CRS before this operation.\n",
      "\n",
      "  soiling_loss_gdf['distance'] = soiling_loss_NS3031_gdf['geometry'].distance(center)\n"
     ]
    },
    {
     "name": "stdout",
     "output_type": "stream",
     "text": [
      "lake 623 of 730\n"
     ]
    },
    {
     "name": "stderr",
     "output_type": "stream",
     "text": [
      "/home/mette/master/fpv_energy_yield_norway/src/FPVsimulation/pvsystem.py:83: UserWarning: Geometry is in a geographic CRS. Results from 'distance' are likely incorrect. Use 'GeoSeries.to_crs()' to re-project geometries to a projected CRS before this operation.\n",
      "\n",
      "  soiling_loss_gdf['distance'] = soiling_loss_NS3031_gdf['geometry'].distance(center)\n"
     ]
    },
    {
     "name": "stdout",
     "output_type": "stream",
     "text": [
      "lake 624 of 730\n"
     ]
    },
    {
     "name": "stderr",
     "output_type": "stream",
     "text": [
      "/home/mette/master/fpv_energy_yield_norway/src/FPVsimulation/pvsystem.py:83: UserWarning: Geometry is in a geographic CRS. Results from 'distance' are likely incorrect. Use 'GeoSeries.to_crs()' to re-project geometries to a projected CRS before this operation.\n",
      "\n",
      "  soiling_loss_gdf['distance'] = soiling_loss_NS3031_gdf['geometry'].distance(center)\n"
     ]
    },
    {
     "name": "stdout",
     "output_type": "stream",
     "text": [
      "lake 625 of 730\n"
     ]
    },
    {
     "name": "stderr",
     "output_type": "stream",
     "text": [
      "/home/mette/master/fpv_energy_yield_norway/src/FPVsimulation/pvsystem.py:83: UserWarning: Geometry is in a geographic CRS. Results from 'distance' are likely incorrect. Use 'GeoSeries.to_crs()' to re-project geometries to a projected CRS before this operation.\n",
      "\n",
      "  soiling_loss_gdf['distance'] = soiling_loss_NS3031_gdf['geometry'].distance(center)\n"
     ]
    },
    {
     "name": "stdout",
     "output_type": "stream",
     "text": [
      "lake 626 of 730\n"
     ]
    },
    {
     "name": "stderr",
     "output_type": "stream",
     "text": [
      "/home/mette/master/fpv_energy_yield_norway/src/FPVsimulation/pvsystem.py:83: UserWarning: Geometry is in a geographic CRS. Results from 'distance' are likely incorrect. Use 'GeoSeries.to_crs()' to re-project geometries to a projected CRS before this operation.\n",
      "\n",
      "  soiling_loss_gdf['distance'] = soiling_loss_NS3031_gdf['geometry'].distance(center)\n"
     ]
    },
    {
     "name": "stdout",
     "output_type": "stream",
     "text": [
      "lake 627 of 730\n"
     ]
    },
    {
     "name": "stderr",
     "output_type": "stream",
     "text": [
      "/home/mette/master/fpv_energy_yield_norway/src/FPVsimulation/pvsystem.py:83: UserWarning: Geometry is in a geographic CRS. Results from 'distance' are likely incorrect. Use 'GeoSeries.to_crs()' to re-project geometries to a projected CRS before this operation.\n",
      "\n",
      "  soiling_loss_gdf['distance'] = soiling_loss_NS3031_gdf['geometry'].distance(center)\n"
     ]
    },
    {
     "name": "stdout",
     "output_type": "stream",
     "text": [
      "lake 628 of 730\n"
     ]
    },
    {
     "name": "stderr",
     "output_type": "stream",
     "text": [
      "/home/mette/master/fpv_energy_yield_norway/src/FPVsimulation/pvsystem.py:83: UserWarning: Geometry is in a geographic CRS. Results from 'distance' are likely incorrect. Use 'GeoSeries.to_crs()' to re-project geometries to a projected CRS before this operation.\n",
      "\n",
      "  soiling_loss_gdf['distance'] = soiling_loss_NS3031_gdf['geometry'].distance(center)\n"
     ]
    },
    {
     "name": "stdout",
     "output_type": "stream",
     "text": [
      "lake 629 of 730\n"
     ]
    },
    {
     "name": "stderr",
     "output_type": "stream",
     "text": [
      "/home/mette/master/fpv_energy_yield_norway/src/FPVsimulation/pvsystem.py:83: UserWarning: Geometry is in a geographic CRS. Results from 'distance' are likely incorrect. Use 'GeoSeries.to_crs()' to re-project geometries to a projected CRS before this operation.\n",
      "\n",
      "  soiling_loss_gdf['distance'] = soiling_loss_NS3031_gdf['geometry'].distance(center)\n"
     ]
    },
    {
     "name": "stdout",
     "output_type": "stream",
     "text": [
      "lake 630 of 730\n"
     ]
    },
    {
     "name": "stderr",
     "output_type": "stream",
     "text": [
      "/home/mette/master/fpv_energy_yield_norway/src/FPVsimulation/pvsystem.py:83: UserWarning: Geometry is in a geographic CRS. Results from 'distance' are likely incorrect. Use 'GeoSeries.to_crs()' to re-project geometries to a projected CRS before this operation.\n",
      "\n",
      "  soiling_loss_gdf['distance'] = soiling_loss_NS3031_gdf['geometry'].distance(center)\n"
     ]
    },
    {
     "name": "stdout",
     "output_type": "stream",
     "text": [
      "lake 631 of 730\n"
     ]
    },
    {
     "name": "stderr",
     "output_type": "stream",
     "text": [
      "/home/mette/master/fpv_energy_yield_norway/src/FPVsimulation/pvsystem.py:83: UserWarning: Geometry is in a geographic CRS. Results from 'distance' are likely incorrect. Use 'GeoSeries.to_crs()' to re-project geometries to a projected CRS before this operation.\n",
      "\n",
      "  soiling_loss_gdf['distance'] = soiling_loss_NS3031_gdf['geometry'].distance(center)\n"
     ]
    },
    {
     "name": "stdout",
     "output_type": "stream",
     "text": [
      "lake 632 of 730\n"
     ]
    },
    {
     "name": "stderr",
     "output_type": "stream",
     "text": [
      "/home/mette/master/fpv_energy_yield_norway/src/FPVsimulation/pvsystem.py:83: UserWarning: Geometry is in a geographic CRS. Results from 'distance' are likely incorrect. Use 'GeoSeries.to_crs()' to re-project geometries to a projected CRS before this operation.\n",
      "\n",
      "  soiling_loss_gdf['distance'] = soiling_loss_NS3031_gdf['geometry'].distance(center)\n"
     ]
    },
    {
     "name": "stdout",
     "output_type": "stream",
     "text": [
      "lake 633 of 730\n"
     ]
    },
    {
     "name": "stderr",
     "output_type": "stream",
     "text": [
      "/home/mette/master/fpv_energy_yield_norway/src/FPVsimulation/pvsystem.py:83: UserWarning: Geometry is in a geographic CRS. Results from 'distance' are likely incorrect. Use 'GeoSeries.to_crs()' to re-project geometries to a projected CRS before this operation.\n",
      "\n",
      "  soiling_loss_gdf['distance'] = soiling_loss_NS3031_gdf['geometry'].distance(center)\n"
     ]
    },
    {
     "name": "stdout",
     "output_type": "stream",
     "text": [
      "lake 634 of 730\n"
     ]
    },
    {
     "name": "stderr",
     "output_type": "stream",
     "text": [
      "/home/mette/master/fpv_energy_yield_norway/src/FPVsimulation/pvsystem.py:83: UserWarning: Geometry is in a geographic CRS. Results from 'distance' are likely incorrect. Use 'GeoSeries.to_crs()' to re-project geometries to a projected CRS before this operation.\n",
      "\n",
      "  soiling_loss_gdf['distance'] = soiling_loss_NS3031_gdf['geometry'].distance(center)\n"
     ]
    },
    {
     "name": "stdout",
     "output_type": "stream",
     "text": [
      "lake 635 of 730\n"
     ]
    },
    {
     "name": "stderr",
     "output_type": "stream",
     "text": [
      "/home/mette/master/fpv_energy_yield_norway/src/FPVsimulation/pvsystem.py:83: UserWarning: Geometry is in a geographic CRS. Results from 'distance' are likely incorrect. Use 'GeoSeries.to_crs()' to re-project geometries to a projected CRS before this operation.\n",
      "\n",
      "  soiling_loss_gdf['distance'] = soiling_loss_NS3031_gdf['geometry'].distance(center)\n"
     ]
    },
    {
     "name": "stdout",
     "output_type": "stream",
     "text": [
      "lake 636 of 730\n"
     ]
    },
    {
     "name": "stderr",
     "output_type": "stream",
     "text": [
      "/home/mette/master/fpv_energy_yield_norway/src/FPVsimulation/pvsystem.py:83: UserWarning: Geometry is in a geographic CRS. Results from 'distance' are likely incorrect. Use 'GeoSeries.to_crs()' to re-project geometries to a projected CRS before this operation.\n",
      "\n",
      "  soiling_loss_gdf['distance'] = soiling_loss_NS3031_gdf['geometry'].distance(center)\n"
     ]
    },
    {
     "name": "stdout",
     "output_type": "stream",
     "text": [
      "lake 637 of 730\n"
     ]
    },
    {
     "name": "stderr",
     "output_type": "stream",
     "text": [
      "/home/mette/master/fpv_energy_yield_norway/src/FPVsimulation/pvsystem.py:83: UserWarning: Geometry is in a geographic CRS. Results from 'distance' are likely incorrect. Use 'GeoSeries.to_crs()' to re-project geometries to a projected CRS before this operation.\n",
      "\n",
      "  soiling_loss_gdf['distance'] = soiling_loss_NS3031_gdf['geometry'].distance(center)\n"
     ]
    },
    {
     "name": "stdout",
     "output_type": "stream",
     "text": [
      "lake 638 of 730\n"
     ]
    },
    {
     "name": "stderr",
     "output_type": "stream",
     "text": [
      "/home/mette/master/fpv_energy_yield_norway/src/FPVsimulation/pvsystem.py:83: UserWarning: Geometry is in a geographic CRS. Results from 'distance' are likely incorrect. Use 'GeoSeries.to_crs()' to re-project geometries to a projected CRS before this operation.\n",
      "\n",
      "  soiling_loss_gdf['distance'] = soiling_loss_NS3031_gdf['geometry'].distance(center)\n"
     ]
    },
    {
     "name": "stdout",
     "output_type": "stream",
     "text": [
      "lake 639 of 730\n"
     ]
    },
    {
     "name": "stderr",
     "output_type": "stream",
     "text": [
      "/home/mette/master/fpv_energy_yield_norway/src/FPVsimulation/pvsystem.py:83: UserWarning: Geometry is in a geographic CRS. Results from 'distance' are likely incorrect. Use 'GeoSeries.to_crs()' to re-project geometries to a projected CRS before this operation.\n",
      "\n",
      "  soiling_loss_gdf['distance'] = soiling_loss_NS3031_gdf['geometry'].distance(center)\n"
     ]
    },
    {
     "name": "stdout",
     "output_type": "stream",
     "text": [
      "lake 640 of 730\n"
     ]
    },
    {
     "name": "stderr",
     "output_type": "stream",
     "text": [
      "/home/mette/master/fpv_energy_yield_norway/src/FPVsimulation/pvsystem.py:83: UserWarning: Geometry is in a geographic CRS. Results from 'distance' are likely incorrect. Use 'GeoSeries.to_crs()' to re-project geometries to a projected CRS before this operation.\n",
      "\n",
      "  soiling_loss_gdf['distance'] = soiling_loss_NS3031_gdf['geometry'].distance(center)\n"
     ]
    },
    {
     "name": "stdout",
     "output_type": "stream",
     "text": [
      "lake 641 of 730\n"
     ]
    },
    {
     "name": "stderr",
     "output_type": "stream",
     "text": [
      "/home/mette/master/fpv_energy_yield_norway/src/FPVsimulation/pvsystem.py:83: UserWarning: Geometry is in a geographic CRS. Results from 'distance' are likely incorrect. Use 'GeoSeries.to_crs()' to re-project geometries to a projected CRS before this operation.\n",
      "\n",
      "  soiling_loss_gdf['distance'] = soiling_loss_NS3031_gdf['geometry'].distance(center)\n"
     ]
    },
    {
     "name": "stdout",
     "output_type": "stream",
     "text": [
      "lake 642 of 730\n"
     ]
    },
    {
     "name": "stderr",
     "output_type": "stream",
     "text": [
      "/home/mette/master/fpv_energy_yield_norway/src/FPVsimulation/pvsystem.py:83: UserWarning: Geometry is in a geographic CRS. Results from 'distance' are likely incorrect. Use 'GeoSeries.to_crs()' to re-project geometries to a projected CRS before this operation.\n",
      "\n",
      "  soiling_loss_gdf['distance'] = soiling_loss_NS3031_gdf['geometry'].distance(center)\n"
     ]
    },
    {
     "name": "stdout",
     "output_type": "stream",
     "text": [
      "lake 643 of 730\n"
     ]
    },
    {
     "name": "stderr",
     "output_type": "stream",
     "text": [
      "/home/mette/master/fpv_energy_yield_norway/src/FPVsimulation/pvsystem.py:83: UserWarning: Geometry is in a geographic CRS. Results from 'distance' are likely incorrect. Use 'GeoSeries.to_crs()' to re-project geometries to a projected CRS before this operation.\n",
      "\n",
      "  soiling_loss_gdf['distance'] = soiling_loss_NS3031_gdf['geometry'].distance(center)\n"
     ]
    },
    {
     "name": "stdout",
     "output_type": "stream",
     "text": [
      "lake 644 of 730\n"
     ]
    },
    {
     "name": "stderr",
     "output_type": "stream",
     "text": [
      "/home/mette/master/fpv_energy_yield_norway/src/FPVsimulation/pvsystem.py:83: UserWarning: Geometry is in a geographic CRS. Results from 'distance' are likely incorrect. Use 'GeoSeries.to_crs()' to re-project geometries to a projected CRS before this operation.\n",
      "\n",
      "  soiling_loss_gdf['distance'] = soiling_loss_NS3031_gdf['geometry'].distance(center)\n"
     ]
    },
    {
     "name": "stdout",
     "output_type": "stream",
     "text": [
      "lake 645 of 730\n"
     ]
    },
    {
     "name": "stderr",
     "output_type": "stream",
     "text": [
      "/home/mette/master/fpv_energy_yield_norway/src/FPVsimulation/pvsystem.py:83: UserWarning: Geometry is in a geographic CRS. Results from 'distance' are likely incorrect. Use 'GeoSeries.to_crs()' to re-project geometries to a projected CRS before this operation.\n",
      "\n",
      "  soiling_loss_gdf['distance'] = soiling_loss_NS3031_gdf['geometry'].distance(center)\n"
     ]
    },
    {
     "name": "stdout",
     "output_type": "stream",
     "text": [
      "lake 646 of 730\n"
     ]
    },
    {
     "name": "stderr",
     "output_type": "stream",
     "text": [
      "/home/mette/master/fpv_energy_yield_norway/src/FPVsimulation/pvsystem.py:83: UserWarning: Geometry is in a geographic CRS. Results from 'distance' are likely incorrect. Use 'GeoSeries.to_crs()' to re-project geometries to a projected CRS before this operation.\n",
      "\n",
      "  soiling_loss_gdf['distance'] = soiling_loss_NS3031_gdf['geometry'].distance(center)\n"
     ]
    },
    {
     "name": "stdout",
     "output_type": "stream",
     "text": [
      "lake 647 of 730\n"
     ]
    },
    {
     "name": "stderr",
     "output_type": "stream",
     "text": [
      "/home/mette/master/fpv_energy_yield_norway/src/FPVsimulation/pvsystem.py:83: UserWarning: Geometry is in a geographic CRS. Results from 'distance' are likely incorrect. Use 'GeoSeries.to_crs()' to re-project geometries to a projected CRS before this operation.\n",
      "\n",
      "  soiling_loss_gdf['distance'] = soiling_loss_NS3031_gdf['geometry'].distance(center)\n"
     ]
    },
    {
     "name": "stdout",
     "output_type": "stream",
     "text": [
      "lake 648 of 730\n"
     ]
    },
    {
     "name": "stderr",
     "output_type": "stream",
     "text": [
      "/home/mette/master/fpv_energy_yield_norway/src/FPVsimulation/pvsystem.py:83: UserWarning: Geometry is in a geographic CRS. Results from 'distance' are likely incorrect. Use 'GeoSeries.to_crs()' to re-project geometries to a projected CRS before this operation.\n",
      "\n",
      "  soiling_loss_gdf['distance'] = soiling_loss_NS3031_gdf['geometry'].distance(center)\n"
     ]
    },
    {
     "name": "stdout",
     "output_type": "stream",
     "text": [
      "lake 649 of 730\n"
     ]
    },
    {
     "name": "stderr",
     "output_type": "stream",
     "text": [
      "/home/mette/master/fpv_energy_yield_norway/src/FPVsimulation/pvsystem.py:83: UserWarning: Geometry is in a geographic CRS. Results from 'distance' are likely incorrect. Use 'GeoSeries.to_crs()' to re-project geometries to a projected CRS before this operation.\n",
      "\n",
      "  soiling_loss_gdf['distance'] = soiling_loss_NS3031_gdf['geometry'].distance(center)\n"
     ]
    },
    {
     "name": "stdout",
     "output_type": "stream",
     "text": [
      "lake 650 of 730\n"
     ]
    },
    {
     "name": "stderr",
     "output_type": "stream",
     "text": [
      "/home/mette/master/fpv_energy_yield_norway/src/FPVsimulation/pvsystem.py:83: UserWarning: Geometry is in a geographic CRS. Results from 'distance' are likely incorrect. Use 'GeoSeries.to_crs()' to re-project geometries to a projected CRS before this operation.\n",
      "\n",
      "  soiling_loss_gdf['distance'] = soiling_loss_NS3031_gdf['geometry'].distance(center)\n"
     ]
    },
    {
     "name": "stdout",
     "output_type": "stream",
     "text": [
      "lake 651 of 730\n"
     ]
    },
    {
     "name": "stderr",
     "output_type": "stream",
     "text": [
      "/home/mette/master/fpv_energy_yield_norway/src/FPVsimulation/pvsystem.py:83: UserWarning: Geometry is in a geographic CRS. Results from 'distance' are likely incorrect. Use 'GeoSeries.to_crs()' to re-project geometries to a projected CRS before this operation.\n",
      "\n",
      "  soiling_loss_gdf['distance'] = soiling_loss_NS3031_gdf['geometry'].distance(center)\n"
     ]
    },
    {
     "name": "stdout",
     "output_type": "stream",
     "text": [
      "lake 652 of 730\n"
     ]
    },
    {
     "name": "stderr",
     "output_type": "stream",
     "text": [
      "/home/mette/master/fpv_energy_yield_norway/src/FPVsimulation/pvsystem.py:83: UserWarning: Geometry is in a geographic CRS. Results from 'distance' are likely incorrect. Use 'GeoSeries.to_crs()' to re-project geometries to a projected CRS before this operation.\n",
      "\n",
      "  soiling_loss_gdf['distance'] = soiling_loss_NS3031_gdf['geometry'].distance(center)\n"
     ]
    },
    {
     "name": "stdout",
     "output_type": "stream",
     "text": [
      "lake 653 of 730\n"
     ]
    },
    {
     "name": "stderr",
     "output_type": "stream",
     "text": [
      "/home/mette/master/fpv_energy_yield_norway/src/FPVsimulation/pvsystem.py:83: UserWarning: Geometry is in a geographic CRS. Results from 'distance' are likely incorrect. Use 'GeoSeries.to_crs()' to re-project geometries to a projected CRS before this operation.\n",
      "\n",
      "  soiling_loss_gdf['distance'] = soiling_loss_NS3031_gdf['geometry'].distance(center)\n"
     ]
    },
    {
     "name": "stdout",
     "output_type": "stream",
     "text": [
      "lake 654 of 730\n"
     ]
    },
    {
     "name": "stderr",
     "output_type": "stream",
     "text": [
      "/home/mette/master/fpv_energy_yield_norway/src/FPVsimulation/pvsystem.py:83: UserWarning: Geometry is in a geographic CRS. Results from 'distance' are likely incorrect. Use 'GeoSeries.to_crs()' to re-project geometries to a projected CRS before this operation.\n",
      "\n",
      "  soiling_loss_gdf['distance'] = soiling_loss_NS3031_gdf['geometry'].distance(center)\n"
     ]
    },
    {
     "name": "stdout",
     "output_type": "stream",
     "text": [
      "lake 655 of 730\n"
     ]
    },
    {
     "name": "stderr",
     "output_type": "stream",
     "text": [
      "/home/mette/master/fpv_energy_yield_norway/src/FPVsimulation/pvsystem.py:83: UserWarning: Geometry is in a geographic CRS. Results from 'distance' are likely incorrect. Use 'GeoSeries.to_crs()' to re-project geometries to a projected CRS before this operation.\n",
      "\n",
      "  soiling_loss_gdf['distance'] = soiling_loss_NS3031_gdf['geometry'].distance(center)\n"
     ]
    },
    {
     "name": "stdout",
     "output_type": "stream",
     "text": [
      "lake 656 of 730\n"
     ]
    },
    {
     "name": "stderr",
     "output_type": "stream",
     "text": [
      "/home/mette/master/fpv_energy_yield_norway/src/FPVsimulation/pvsystem.py:83: UserWarning: Geometry is in a geographic CRS. Results from 'distance' are likely incorrect. Use 'GeoSeries.to_crs()' to re-project geometries to a projected CRS before this operation.\n",
      "\n",
      "  soiling_loss_gdf['distance'] = soiling_loss_NS3031_gdf['geometry'].distance(center)\n"
     ]
    },
    {
     "name": "stdout",
     "output_type": "stream",
     "text": [
      "lake 657 of 730\n"
     ]
    },
    {
     "name": "stderr",
     "output_type": "stream",
     "text": [
      "/home/mette/master/fpv_energy_yield_norway/src/FPVsimulation/pvsystem.py:83: UserWarning: Geometry is in a geographic CRS. Results from 'distance' are likely incorrect. Use 'GeoSeries.to_crs()' to re-project geometries to a projected CRS before this operation.\n",
      "\n",
      "  soiling_loss_gdf['distance'] = soiling_loss_NS3031_gdf['geometry'].distance(center)\n"
     ]
    },
    {
     "name": "stdout",
     "output_type": "stream",
     "text": [
      "lake 658 of 730\n"
     ]
    },
    {
     "name": "stderr",
     "output_type": "stream",
     "text": [
      "/home/mette/master/fpv_energy_yield_norway/src/FPVsimulation/pvsystem.py:83: UserWarning: Geometry is in a geographic CRS. Results from 'distance' are likely incorrect. Use 'GeoSeries.to_crs()' to re-project geometries to a projected CRS before this operation.\n",
      "\n",
      "  soiling_loss_gdf['distance'] = soiling_loss_NS3031_gdf['geometry'].distance(center)\n"
     ]
    },
    {
     "name": "stdout",
     "output_type": "stream",
     "text": [
      "lake 659 of 730\n"
     ]
    },
    {
     "name": "stderr",
     "output_type": "stream",
     "text": [
      "/home/mette/master/fpv_energy_yield_norway/src/FPVsimulation/pvsystem.py:83: UserWarning: Geometry is in a geographic CRS. Results from 'distance' are likely incorrect. Use 'GeoSeries.to_crs()' to re-project geometries to a projected CRS before this operation.\n",
      "\n",
      "  soiling_loss_gdf['distance'] = soiling_loss_NS3031_gdf['geometry'].distance(center)\n"
     ]
    },
    {
     "name": "stdout",
     "output_type": "stream",
     "text": [
      "lake 660 of 730\n"
     ]
    },
    {
     "name": "stderr",
     "output_type": "stream",
     "text": [
      "/home/mette/master/fpv_energy_yield_norway/src/FPVsimulation/pvsystem.py:83: UserWarning: Geometry is in a geographic CRS. Results from 'distance' are likely incorrect. Use 'GeoSeries.to_crs()' to re-project geometries to a projected CRS before this operation.\n",
      "\n",
      "  soiling_loss_gdf['distance'] = soiling_loss_NS3031_gdf['geometry'].distance(center)\n"
     ]
    },
    {
     "name": "stdout",
     "output_type": "stream",
     "text": [
      "lake 661 of 730\n"
     ]
    },
    {
     "name": "stderr",
     "output_type": "stream",
     "text": [
      "/home/mette/master/fpv_energy_yield_norway/src/FPVsimulation/pvsystem.py:83: UserWarning: Geometry is in a geographic CRS. Results from 'distance' are likely incorrect. Use 'GeoSeries.to_crs()' to re-project geometries to a projected CRS before this operation.\n",
      "\n",
      "  soiling_loss_gdf['distance'] = soiling_loss_NS3031_gdf['geometry'].distance(center)\n"
     ]
    },
    {
     "name": "stdout",
     "output_type": "stream",
     "text": [
      "lake 662 of 730\n"
     ]
    },
    {
     "name": "stderr",
     "output_type": "stream",
     "text": [
      "/home/mette/master/fpv_energy_yield_norway/src/FPVsimulation/pvsystem.py:83: UserWarning: Geometry is in a geographic CRS. Results from 'distance' are likely incorrect. Use 'GeoSeries.to_crs()' to re-project geometries to a projected CRS before this operation.\n",
      "\n",
      "  soiling_loss_gdf['distance'] = soiling_loss_NS3031_gdf['geometry'].distance(center)\n"
     ]
    },
    {
     "name": "stdout",
     "output_type": "stream",
     "text": [
      "lake 663 of 730\n"
     ]
    },
    {
     "name": "stderr",
     "output_type": "stream",
     "text": [
      "/home/mette/master/fpv_energy_yield_norway/src/FPVsimulation/pvsystem.py:83: UserWarning: Geometry is in a geographic CRS. Results from 'distance' are likely incorrect. Use 'GeoSeries.to_crs()' to re-project geometries to a projected CRS before this operation.\n",
      "\n",
      "  soiling_loss_gdf['distance'] = soiling_loss_NS3031_gdf['geometry'].distance(center)\n"
     ]
    },
    {
     "name": "stdout",
     "output_type": "stream",
     "text": [
      "lake 664 of 730\n"
     ]
    },
    {
     "name": "stderr",
     "output_type": "stream",
     "text": [
      "/home/mette/master/fpv_energy_yield_norway/src/FPVsimulation/pvsystem.py:83: UserWarning: Geometry is in a geographic CRS. Results from 'distance' are likely incorrect. Use 'GeoSeries.to_crs()' to re-project geometries to a projected CRS before this operation.\n",
      "\n",
      "  soiling_loss_gdf['distance'] = soiling_loss_NS3031_gdf['geometry'].distance(center)\n"
     ]
    },
    {
     "name": "stdout",
     "output_type": "stream",
     "text": [
      "lake 665 of 730\n"
     ]
    },
    {
     "name": "stderr",
     "output_type": "stream",
     "text": [
      "/home/mette/master/fpv_energy_yield_norway/src/FPVsimulation/pvsystem.py:83: UserWarning: Geometry is in a geographic CRS. Results from 'distance' are likely incorrect. Use 'GeoSeries.to_crs()' to re-project geometries to a projected CRS before this operation.\n",
      "\n",
      "  soiling_loss_gdf['distance'] = soiling_loss_NS3031_gdf['geometry'].distance(center)\n"
     ]
    },
    {
     "name": "stdout",
     "output_type": "stream",
     "text": [
      "lake 666 of 730\n"
     ]
    },
    {
     "name": "stderr",
     "output_type": "stream",
     "text": [
      "/home/mette/master/fpv_energy_yield_norway/src/FPVsimulation/pvsystem.py:83: UserWarning: Geometry is in a geographic CRS. Results from 'distance' are likely incorrect. Use 'GeoSeries.to_crs()' to re-project geometries to a projected CRS before this operation.\n",
      "\n",
      "  soiling_loss_gdf['distance'] = soiling_loss_NS3031_gdf['geometry'].distance(center)\n"
     ]
    },
    {
     "name": "stdout",
     "output_type": "stream",
     "text": [
      "lake 667 of 730\n"
     ]
    },
    {
     "name": "stderr",
     "output_type": "stream",
     "text": [
      "/home/mette/master/fpv_energy_yield_norway/src/FPVsimulation/pvsystem.py:83: UserWarning: Geometry is in a geographic CRS. Results from 'distance' are likely incorrect. Use 'GeoSeries.to_crs()' to re-project geometries to a projected CRS before this operation.\n",
      "\n",
      "  soiling_loss_gdf['distance'] = soiling_loss_NS3031_gdf['geometry'].distance(center)\n"
     ]
    },
    {
     "name": "stdout",
     "output_type": "stream",
     "text": [
      "lake 668 of 730\n"
     ]
    },
    {
     "name": "stderr",
     "output_type": "stream",
     "text": [
      "/home/mette/master/fpv_energy_yield_norway/src/FPVsimulation/pvsystem.py:83: UserWarning: Geometry is in a geographic CRS. Results from 'distance' are likely incorrect. Use 'GeoSeries.to_crs()' to re-project geometries to a projected CRS before this operation.\n",
      "\n",
      "  soiling_loss_gdf['distance'] = soiling_loss_NS3031_gdf['geometry'].distance(center)\n"
     ]
    },
    {
     "name": "stdout",
     "output_type": "stream",
     "text": [
      "lake 669 of 730\n"
     ]
    },
    {
     "name": "stderr",
     "output_type": "stream",
     "text": [
      "/home/mette/master/fpv_energy_yield_norway/src/FPVsimulation/pvsystem.py:83: UserWarning: Geometry is in a geographic CRS. Results from 'distance' are likely incorrect. Use 'GeoSeries.to_crs()' to re-project geometries to a projected CRS before this operation.\n",
      "\n",
      "  soiling_loss_gdf['distance'] = soiling_loss_NS3031_gdf['geometry'].distance(center)\n"
     ]
    },
    {
     "name": "stdout",
     "output_type": "stream",
     "text": [
      "lake 670 of 730\n"
     ]
    },
    {
     "name": "stderr",
     "output_type": "stream",
     "text": [
      "/home/mette/master/fpv_energy_yield_norway/src/FPVsimulation/pvsystem.py:83: UserWarning: Geometry is in a geographic CRS. Results from 'distance' are likely incorrect. Use 'GeoSeries.to_crs()' to re-project geometries to a projected CRS before this operation.\n",
      "\n",
      "  soiling_loss_gdf['distance'] = soiling_loss_NS3031_gdf['geometry'].distance(center)\n"
     ]
    },
    {
     "name": "stdout",
     "output_type": "stream",
     "text": [
      "lake 671 of 730\n"
     ]
    },
    {
     "name": "stderr",
     "output_type": "stream",
     "text": [
      "/home/mette/master/fpv_energy_yield_norway/src/FPVsimulation/pvsystem.py:83: UserWarning: Geometry is in a geographic CRS. Results from 'distance' are likely incorrect. Use 'GeoSeries.to_crs()' to re-project geometries to a projected CRS before this operation.\n",
      "\n",
      "  soiling_loss_gdf['distance'] = soiling_loss_NS3031_gdf['geometry'].distance(center)\n"
     ]
    },
    {
     "name": "stdout",
     "output_type": "stream",
     "text": [
      "lake 672 of 730\n"
     ]
    },
    {
     "name": "stderr",
     "output_type": "stream",
     "text": [
      "/home/mette/master/fpv_energy_yield_norway/src/FPVsimulation/pvsystem.py:83: UserWarning: Geometry is in a geographic CRS. Results from 'distance' are likely incorrect. Use 'GeoSeries.to_crs()' to re-project geometries to a projected CRS before this operation.\n",
      "\n",
      "  soiling_loss_gdf['distance'] = soiling_loss_NS3031_gdf['geometry'].distance(center)\n"
     ]
    },
    {
     "name": "stdout",
     "output_type": "stream",
     "text": [
      "lake 673 of 730\n"
     ]
    },
    {
     "name": "stderr",
     "output_type": "stream",
     "text": [
      "/home/mette/master/fpv_energy_yield_norway/src/FPVsimulation/pvsystem.py:83: UserWarning: Geometry is in a geographic CRS. Results from 'distance' are likely incorrect. Use 'GeoSeries.to_crs()' to re-project geometries to a projected CRS before this operation.\n",
      "\n",
      "  soiling_loss_gdf['distance'] = soiling_loss_NS3031_gdf['geometry'].distance(center)\n"
     ]
    },
    {
     "name": "stdout",
     "output_type": "stream",
     "text": [
      "lake 674 of 730\n"
     ]
    },
    {
     "name": "stderr",
     "output_type": "stream",
     "text": [
      "/home/mette/master/fpv_energy_yield_norway/src/FPVsimulation/pvsystem.py:83: UserWarning: Geometry is in a geographic CRS. Results from 'distance' are likely incorrect. Use 'GeoSeries.to_crs()' to re-project geometries to a projected CRS before this operation.\n",
      "\n",
      "  soiling_loss_gdf['distance'] = soiling_loss_NS3031_gdf['geometry'].distance(center)\n"
     ]
    },
    {
     "name": "stdout",
     "output_type": "stream",
     "text": [
      "lake 675 of 730\n"
     ]
    },
    {
     "name": "stderr",
     "output_type": "stream",
     "text": [
      "/home/mette/master/fpv_energy_yield_norway/src/FPVsimulation/pvsystem.py:83: UserWarning: Geometry is in a geographic CRS. Results from 'distance' are likely incorrect. Use 'GeoSeries.to_crs()' to re-project geometries to a projected CRS before this operation.\n",
      "\n",
      "  soiling_loss_gdf['distance'] = soiling_loss_NS3031_gdf['geometry'].distance(center)\n"
     ]
    },
    {
     "name": "stdout",
     "output_type": "stream",
     "text": [
      "lake 676 of 730\n"
     ]
    },
    {
     "name": "stderr",
     "output_type": "stream",
     "text": [
      "/home/mette/master/fpv_energy_yield_norway/src/FPVsimulation/pvsystem.py:83: UserWarning: Geometry is in a geographic CRS. Results from 'distance' are likely incorrect. Use 'GeoSeries.to_crs()' to re-project geometries to a projected CRS before this operation.\n",
      "\n",
      "  soiling_loss_gdf['distance'] = soiling_loss_NS3031_gdf['geometry'].distance(center)\n"
     ]
    },
    {
     "name": "stdout",
     "output_type": "stream",
     "text": [
      "lake 677 of 730\n"
     ]
    },
    {
     "name": "stderr",
     "output_type": "stream",
     "text": [
      "/home/mette/master/fpv_energy_yield_norway/src/FPVsimulation/pvsystem.py:83: UserWarning: Geometry is in a geographic CRS. Results from 'distance' are likely incorrect. Use 'GeoSeries.to_crs()' to re-project geometries to a projected CRS before this operation.\n",
      "\n",
      "  soiling_loss_gdf['distance'] = soiling_loss_NS3031_gdf['geometry'].distance(center)\n"
     ]
    },
    {
     "name": "stdout",
     "output_type": "stream",
     "text": [
      "lake 678 of 730\n"
     ]
    },
    {
     "name": "stderr",
     "output_type": "stream",
     "text": [
      "/home/mette/master/fpv_energy_yield_norway/src/FPVsimulation/pvsystem.py:83: UserWarning: Geometry is in a geographic CRS. Results from 'distance' are likely incorrect. Use 'GeoSeries.to_crs()' to re-project geometries to a projected CRS before this operation.\n",
      "\n",
      "  soiling_loss_gdf['distance'] = soiling_loss_NS3031_gdf['geometry'].distance(center)\n"
     ]
    },
    {
     "name": "stdout",
     "output_type": "stream",
     "text": [
      "lake 679 of 730\n"
     ]
    },
    {
     "name": "stderr",
     "output_type": "stream",
     "text": [
      "/home/mette/master/fpv_energy_yield_norway/src/FPVsimulation/pvsystem.py:83: UserWarning: Geometry is in a geographic CRS. Results from 'distance' are likely incorrect. Use 'GeoSeries.to_crs()' to re-project geometries to a projected CRS before this operation.\n",
      "\n",
      "  soiling_loss_gdf['distance'] = soiling_loss_NS3031_gdf['geometry'].distance(center)\n"
     ]
    },
    {
     "name": "stdout",
     "output_type": "stream",
     "text": [
      "lake 680 of 730\n"
     ]
    },
    {
     "name": "stderr",
     "output_type": "stream",
     "text": [
      "/home/mette/master/fpv_energy_yield_norway/src/FPVsimulation/pvsystem.py:83: UserWarning: Geometry is in a geographic CRS. Results from 'distance' are likely incorrect. Use 'GeoSeries.to_crs()' to re-project geometries to a projected CRS before this operation.\n",
      "\n",
      "  soiling_loss_gdf['distance'] = soiling_loss_NS3031_gdf['geometry'].distance(center)\n"
     ]
    },
    {
     "name": "stdout",
     "output_type": "stream",
     "text": [
      "lake 681 of 730\n"
     ]
    },
    {
     "name": "stderr",
     "output_type": "stream",
     "text": [
      "/home/mette/master/fpv_energy_yield_norway/src/FPVsimulation/pvsystem.py:83: UserWarning: Geometry is in a geographic CRS. Results from 'distance' are likely incorrect. Use 'GeoSeries.to_crs()' to re-project geometries to a projected CRS before this operation.\n",
      "\n",
      "  soiling_loss_gdf['distance'] = soiling_loss_NS3031_gdf['geometry'].distance(center)\n"
     ]
    },
    {
     "name": "stdout",
     "output_type": "stream",
     "text": [
      "lake 682 of 730\n"
     ]
    },
    {
     "name": "stderr",
     "output_type": "stream",
     "text": [
      "/home/mette/master/fpv_energy_yield_norway/src/FPVsimulation/pvsystem.py:83: UserWarning: Geometry is in a geographic CRS. Results from 'distance' are likely incorrect. Use 'GeoSeries.to_crs()' to re-project geometries to a projected CRS before this operation.\n",
      "\n",
      "  soiling_loss_gdf['distance'] = soiling_loss_NS3031_gdf['geometry'].distance(center)\n"
     ]
    },
    {
     "name": "stdout",
     "output_type": "stream",
     "text": [
      "lake 683 of 730\n"
     ]
    },
    {
     "name": "stderr",
     "output_type": "stream",
     "text": [
      "/home/mette/master/fpv_energy_yield_norway/src/FPVsimulation/pvsystem.py:83: UserWarning: Geometry is in a geographic CRS. Results from 'distance' are likely incorrect. Use 'GeoSeries.to_crs()' to re-project geometries to a projected CRS before this operation.\n",
      "\n",
      "  soiling_loss_gdf['distance'] = soiling_loss_NS3031_gdf['geometry'].distance(center)\n"
     ]
    },
    {
     "name": "stdout",
     "output_type": "stream",
     "text": [
      "lake 684 of 730\n"
     ]
    },
    {
     "name": "stderr",
     "output_type": "stream",
     "text": [
      "/home/mette/master/fpv_energy_yield_norway/src/FPVsimulation/pvsystem.py:83: UserWarning: Geometry is in a geographic CRS. Results from 'distance' are likely incorrect. Use 'GeoSeries.to_crs()' to re-project geometries to a projected CRS before this operation.\n",
      "\n",
      "  soiling_loss_gdf['distance'] = soiling_loss_NS3031_gdf['geometry'].distance(center)\n"
     ]
    },
    {
     "name": "stdout",
     "output_type": "stream",
     "text": [
      "lake 685 of 730\n"
     ]
    },
    {
     "name": "stderr",
     "output_type": "stream",
     "text": [
      "/home/mette/master/fpv_energy_yield_norway/src/FPVsimulation/pvsystem.py:83: UserWarning: Geometry is in a geographic CRS. Results from 'distance' are likely incorrect. Use 'GeoSeries.to_crs()' to re-project geometries to a projected CRS before this operation.\n",
      "\n",
      "  soiling_loss_gdf['distance'] = soiling_loss_NS3031_gdf['geometry'].distance(center)\n"
     ]
    },
    {
     "name": "stdout",
     "output_type": "stream",
     "text": [
      "lake 686 of 730\n"
     ]
    },
    {
     "name": "stderr",
     "output_type": "stream",
     "text": [
      "/home/mette/master/fpv_energy_yield_norway/src/FPVsimulation/pvsystem.py:83: UserWarning: Geometry is in a geographic CRS. Results from 'distance' are likely incorrect. Use 'GeoSeries.to_crs()' to re-project geometries to a projected CRS before this operation.\n",
      "\n",
      "  soiling_loss_gdf['distance'] = soiling_loss_NS3031_gdf['geometry'].distance(center)\n"
     ]
    },
    {
     "name": "stdout",
     "output_type": "stream",
     "text": [
      "lake 687 of 730\n"
     ]
    },
    {
     "name": "stderr",
     "output_type": "stream",
     "text": [
      "/home/mette/master/fpv_energy_yield_norway/src/FPVsimulation/pvsystem.py:83: UserWarning: Geometry is in a geographic CRS. Results from 'distance' are likely incorrect. Use 'GeoSeries.to_crs()' to re-project geometries to a projected CRS before this operation.\n",
      "\n",
      "  soiling_loss_gdf['distance'] = soiling_loss_NS3031_gdf['geometry'].distance(center)\n"
     ]
    },
    {
     "name": "stdout",
     "output_type": "stream",
     "text": [
      "lake 688 of 730\n"
     ]
    },
    {
     "name": "stderr",
     "output_type": "stream",
     "text": [
      "/home/mette/master/fpv_energy_yield_norway/src/FPVsimulation/pvsystem.py:83: UserWarning: Geometry is in a geographic CRS. Results from 'distance' are likely incorrect. Use 'GeoSeries.to_crs()' to re-project geometries to a projected CRS before this operation.\n",
      "\n",
      "  soiling_loss_gdf['distance'] = soiling_loss_NS3031_gdf['geometry'].distance(center)\n"
     ]
    },
    {
     "name": "stdout",
     "output_type": "stream",
     "text": [
      "lake 689 of 730\n"
     ]
    },
    {
     "name": "stderr",
     "output_type": "stream",
     "text": [
      "/home/mette/master/fpv_energy_yield_norway/src/FPVsimulation/pvsystem.py:83: UserWarning: Geometry is in a geographic CRS. Results from 'distance' are likely incorrect. Use 'GeoSeries.to_crs()' to re-project geometries to a projected CRS before this operation.\n",
      "\n",
      "  soiling_loss_gdf['distance'] = soiling_loss_NS3031_gdf['geometry'].distance(center)\n"
     ]
    },
    {
     "name": "stdout",
     "output_type": "stream",
     "text": [
      "lake 690 of 730\n"
     ]
    },
    {
     "name": "stderr",
     "output_type": "stream",
     "text": [
      "/home/mette/master/fpv_energy_yield_norway/src/FPVsimulation/pvsystem.py:83: UserWarning: Geometry is in a geographic CRS. Results from 'distance' are likely incorrect. Use 'GeoSeries.to_crs()' to re-project geometries to a projected CRS before this operation.\n",
      "\n",
      "  soiling_loss_gdf['distance'] = soiling_loss_NS3031_gdf['geometry'].distance(center)\n"
     ]
    },
    {
     "name": "stdout",
     "output_type": "stream",
     "text": [
      "lake 691 of 730\n"
     ]
    },
    {
     "name": "stderr",
     "output_type": "stream",
     "text": [
      "/home/mette/master/fpv_energy_yield_norway/src/FPVsimulation/pvsystem.py:83: UserWarning: Geometry is in a geographic CRS. Results from 'distance' are likely incorrect. Use 'GeoSeries.to_crs()' to re-project geometries to a projected CRS before this operation.\n",
      "\n",
      "  soiling_loss_gdf['distance'] = soiling_loss_NS3031_gdf['geometry'].distance(center)\n"
     ]
    },
    {
     "name": "stdout",
     "output_type": "stream",
     "text": [
      "lake 692 of 730\n"
     ]
    },
    {
     "name": "stderr",
     "output_type": "stream",
     "text": [
      "/home/mette/master/fpv_energy_yield_norway/src/FPVsimulation/pvsystem.py:83: UserWarning: Geometry is in a geographic CRS. Results from 'distance' are likely incorrect. Use 'GeoSeries.to_crs()' to re-project geometries to a projected CRS before this operation.\n",
      "\n",
      "  soiling_loss_gdf['distance'] = soiling_loss_NS3031_gdf['geometry'].distance(center)\n"
     ]
    },
    {
     "name": "stdout",
     "output_type": "stream",
     "text": [
      "lake 693 of 730\n"
     ]
    },
    {
     "name": "stderr",
     "output_type": "stream",
     "text": [
      "/home/mette/master/fpv_energy_yield_norway/src/FPVsimulation/pvsystem.py:83: UserWarning: Geometry is in a geographic CRS. Results from 'distance' are likely incorrect. Use 'GeoSeries.to_crs()' to re-project geometries to a projected CRS before this operation.\n",
      "\n",
      "  soiling_loss_gdf['distance'] = soiling_loss_NS3031_gdf['geometry'].distance(center)\n"
     ]
    },
    {
     "name": "stdout",
     "output_type": "stream",
     "text": [
      "lake 694 of 730\n"
     ]
    },
    {
     "name": "stderr",
     "output_type": "stream",
     "text": [
      "/home/mette/master/fpv_energy_yield_norway/src/FPVsimulation/pvsystem.py:83: UserWarning: Geometry is in a geographic CRS. Results from 'distance' are likely incorrect. Use 'GeoSeries.to_crs()' to re-project geometries to a projected CRS before this operation.\n",
      "\n",
      "  soiling_loss_gdf['distance'] = soiling_loss_NS3031_gdf['geometry'].distance(center)\n"
     ]
    },
    {
     "name": "stdout",
     "output_type": "stream",
     "text": [
      "lake 695 of 730\n"
     ]
    },
    {
     "name": "stderr",
     "output_type": "stream",
     "text": [
      "/home/mette/master/fpv_energy_yield_norway/src/FPVsimulation/pvsystem.py:83: UserWarning: Geometry is in a geographic CRS. Results from 'distance' are likely incorrect. Use 'GeoSeries.to_crs()' to re-project geometries to a projected CRS before this operation.\n",
      "\n",
      "  soiling_loss_gdf['distance'] = soiling_loss_NS3031_gdf['geometry'].distance(center)\n"
     ]
    },
    {
     "name": "stdout",
     "output_type": "stream",
     "text": [
      "lake 696 of 730\n"
     ]
    },
    {
     "name": "stderr",
     "output_type": "stream",
     "text": [
      "/home/mette/master/fpv_energy_yield_norway/src/FPVsimulation/pvsystem.py:83: UserWarning: Geometry is in a geographic CRS. Results from 'distance' are likely incorrect. Use 'GeoSeries.to_crs()' to re-project geometries to a projected CRS before this operation.\n",
      "\n",
      "  soiling_loss_gdf['distance'] = soiling_loss_NS3031_gdf['geometry'].distance(center)\n"
     ]
    },
    {
     "name": "stdout",
     "output_type": "stream",
     "text": [
      "lake 697 of 730\n"
     ]
    },
    {
     "name": "stderr",
     "output_type": "stream",
     "text": [
      "/home/mette/master/fpv_energy_yield_norway/src/FPVsimulation/pvsystem.py:83: UserWarning: Geometry is in a geographic CRS. Results from 'distance' are likely incorrect. Use 'GeoSeries.to_crs()' to re-project geometries to a projected CRS before this operation.\n",
      "\n",
      "  soiling_loss_gdf['distance'] = soiling_loss_NS3031_gdf['geometry'].distance(center)\n"
     ]
    },
    {
     "name": "stdout",
     "output_type": "stream",
     "text": [
      "lake 698 of 730\n"
     ]
    },
    {
     "name": "stderr",
     "output_type": "stream",
     "text": [
      "/home/mette/master/fpv_energy_yield_norway/src/FPVsimulation/pvsystem.py:83: UserWarning: Geometry is in a geographic CRS. Results from 'distance' are likely incorrect. Use 'GeoSeries.to_crs()' to re-project geometries to a projected CRS before this operation.\n",
      "\n",
      "  soiling_loss_gdf['distance'] = soiling_loss_NS3031_gdf['geometry'].distance(center)\n"
     ]
    },
    {
     "name": "stdout",
     "output_type": "stream",
     "text": [
      "lake 699 of 730\n"
     ]
    },
    {
     "name": "stderr",
     "output_type": "stream",
     "text": [
      "/home/mette/master/fpv_energy_yield_norway/src/FPVsimulation/pvsystem.py:83: UserWarning: Geometry is in a geographic CRS. Results from 'distance' are likely incorrect. Use 'GeoSeries.to_crs()' to re-project geometries to a projected CRS before this operation.\n",
      "\n",
      "  soiling_loss_gdf['distance'] = soiling_loss_NS3031_gdf['geometry'].distance(center)\n"
     ]
    },
    {
     "name": "stdout",
     "output_type": "stream",
     "text": [
      "lake 700 of 730\n"
     ]
    },
    {
     "name": "stderr",
     "output_type": "stream",
     "text": [
      "/home/mette/master/fpv_energy_yield_norway/src/FPVsimulation/pvsystem.py:83: UserWarning: Geometry is in a geographic CRS. Results from 'distance' are likely incorrect. Use 'GeoSeries.to_crs()' to re-project geometries to a projected CRS before this operation.\n",
      "\n",
      "  soiling_loss_gdf['distance'] = soiling_loss_NS3031_gdf['geometry'].distance(center)\n"
     ]
    },
    {
     "name": "stdout",
     "output_type": "stream",
     "text": [
      "lake 701 of 730\n"
     ]
    },
    {
     "name": "stderr",
     "output_type": "stream",
     "text": [
      "/home/mette/master/fpv_energy_yield_norway/src/FPVsimulation/pvsystem.py:83: UserWarning: Geometry is in a geographic CRS. Results from 'distance' are likely incorrect. Use 'GeoSeries.to_crs()' to re-project geometries to a projected CRS before this operation.\n",
      "\n",
      "  soiling_loss_gdf['distance'] = soiling_loss_NS3031_gdf['geometry'].distance(center)\n"
     ]
    },
    {
     "name": "stdout",
     "output_type": "stream",
     "text": [
      "lake 702 of 730\n"
     ]
    },
    {
     "name": "stderr",
     "output_type": "stream",
     "text": [
      "/home/mette/master/fpv_energy_yield_norway/src/FPVsimulation/pvsystem.py:83: UserWarning: Geometry is in a geographic CRS. Results from 'distance' are likely incorrect. Use 'GeoSeries.to_crs()' to re-project geometries to a projected CRS before this operation.\n",
      "\n",
      "  soiling_loss_gdf['distance'] = soiling_loss_NS3031_gdf['geometry'].distance(center)\n"
     ]
    },
    {
     "name": "stdout",
     "output_type": "stream",
     "text": [
      "lake 703 of 730\n"
     ]
    },
    {
     "name": "stderr",
     "output_type": "stream",
     "text": [
      "/home/mette/master/fpv_energy_yield_norway/src/FPVsimulation/pvsystem.py:83: UserWarning: Geometry is in a geographic CRS. Results from 'distance' are likely incorrect. Use 'GeoSeries.to_crs()' to re-project geometries to a projected CRS before this operation.\n",
      "\n",
      "  soiling_loss_gdf['distance'] = soiling_loss_NS3031_gdf['geometry'].distance(center)\n"
     ]
    },
    {
     "name": "stdout",
     "output_type": "stream",
     "text": [
      "lake 704 of 730\n"
     ]
    },
    {
     "name": "stderr",
     "output_type": "stream",
     "text": [
      "/home/mette/master/fpv_energy_yield_norway/src/FPVsimulation/pvsystem.py:83: UserWarning: Geometry is in a geographic CRS. Results from 'distance' are likely incorrect. Use 'GeoSeries.to_crs()' to re-project geometries to a projected CRS before this operation.\n",
      "\n",
      "  soiling_loss_gdf['distance'] = soiling_loss_NS3031_gdf['geometry'].distance(center)\n"
     ]
    },
    {
     "name": "stdout",
     "output_type": "stream",
     "text": [
      "lake 705 of 730\n"
     ]
    },
    {
     "name": "stderr",
     "output_type": "stream",
     "text": [
      "/home/mette/master/fpv_energy_yield_norway/src/FPVsimulation/pvsystem.py:83: UserWarning: Geometry is in a geographic CRS. Results from 'distance' are likely incorrect. Use 'GeoSeries.to_crs()' to re-project geometries to a projected CRS before this operation.\n",
      "\n",
      "  soiling_loss_gdf['distance'] = soiling_loss_NS3031_gdf['geometry'].distance(center)\n"
     ]
    },
    {
     "name": "stdout",
     "output_type": "stream",
     "text": [
      "lake 706 of 730\n"
     ]
    },
    {
     "name": "stderr",
     "output_type": "stream",
     "text": [
      "/home/mette/master/fpv_energy_yield_norway/src/FPVsimulation/pvsystem.py:83: UserWarning: Geometry is in a geographic CRS. Results from 'distance' are likely incorrect. Use 'GeoSeries.to_crs()' to re-project geometries to a projected CRS before this operation.\n",
      "\n",
      "  soiling_loss_gdf['distance'] = soiling_loss_NS3031_gdf['geometry'].distance(center)\n"
     ]
    },
    {
     "name": "stdout",
     "output_type": "stream",
     "text": [
      "lake 707 of 730\n"
     ]
    },
    {
     "name": "stderr",
     "output_type": "stream",
     "text": [
      "/home/mette/master/fpv_energy_yield_norway/src/FPVsimulation/pvsystem.py:83: UserWarning: Geometry is in a geographic CRS. Results from 'distance' are likely incorrect. Use 'GeoSeries.to_crs()' to re-project geometries to a projected CRS before this operation.\n",
      "\n",
      "  soiling_loss_gdf['distance'] = soiling_loss_NS3031_gdf['geometry'].distance(center)\n"
     ]
    },
    {
     "name": "stdout",
     "output_type": "stream",
     "text": [
      "lake 708 of 730\n"
     ]
    },
    {
     "name": "stderr",
     "output_type": "stream",
     "text": [
      "/home/mette/master/fpv_energy_yield_norway/src/FPVsimulation/pvsystem.py:83: UserWarning: Geometry is in a geographic CRS. Results from 'distance' are likely incorrect. Use 'GeoSeries.to_crs()' to re-project geometries to a projected CRS before this operation.\n",
      "\n",
      "  soiling_loss_gdf['distance'] = soiling_loss_NS3031_gdf['geometry'].distance(center)\n"
     ]
    },
    {
     "name": "stdout",
     "output_type": "stream",
     "text": [
      "lake 709 of 730\n"
     ]
    },
    {
     "name": "stderr",
     "output_type": "stream",
     "text": [
      "/home/mette/master/fpv_energy_yield_norway/src/FPVsimulation/pvsystem.py:83: UserWarning: Geometry is in a geographic CRS. Results from 'distance' are likely incorrect. Use 'GeoSeries.to_crs()' to re-project geometries to a projected CRS before this operation.\n",
      "\n",
      "  soiling_loss_gdf['distance'] = soiling_loss_NS3031_gdf['geometry'].distance(center)\n"
     ]
    },
    {
     "name": "stdout",
     "output_type": "stream",
     "text": [
      "lake 710 of 730\n"
     ]
    },
    {
     "name": "stderr",
     "output_type": "stream",
     "text": [
      "/home/mette/master/fpv_energy_yield_norway/src/FPVsimulation/pvsystem.py:83: UserWarning: Geometry is in a geographic CRS. Results from 'distance' are likely incorrect. Use 'GeoSeries.to_crs()' to re-project geometries to a projected CRS before this operation.\n",
      "\n",
      "  soiling_loss_gdf['distance'] = soiling_loss_NS3031_gdf['geometry'].distance(center)\n"
     ]
    },
    {
     "name": "stdout",
     "output_type": "stream",
     "text": [
      "lake 711 of 730\n"
     ]
    },
    {
     "name": "stderr",
     "output_type": "stream",
     "text": [
      "/home/mette/master/fpv_energy_yield_norway/src/FPVsimulation/pvsystem.py:83: UserWarning: Geometry is in a geographic CRS. Results from 'distance' are likely incorrect. Use 'GeoSeries.to_crs()' to re-project geometries to a projected CRS before this operation.\n",
      "\n",
      "  soiling_loss_gdf['distance'] = soiling_loss_NS3031_gdf['geometry'].distance(center)\n"
     ]
    },
    {
     "name": "stdout",
     "output_type": "stream",
     "text": [
      "lake 712 of 730\n"
     ]
    },
    {
     "name": "stderr",
     "output_type": "stream",
     "text": [
      "/home/mette/master/fpv_energy_yield_norway/src/FPVsimulation/pvsystem.py:83: UserWarning: Geometry is in a geographic CRS. Results from 'distance' are likely incorrect. Use 'GeoSeries.to_crs()' to re-project geometries to a projected CRS before this operation.\n",
      "\n",
      "  soiling_loss_gdf['distance'] = soiling_loss_NS3031_gdf['geometry'].distance(center)\n"
     ]
    },
    {
     "name": "stdout",
     "output_type": "stream",
     "text": [
      "lake 713 of 730\n"
     ]
    },
    {
     "name": "stderr",
     "output_type": "stream",
     "text": [
      "/home/mette/master/fpv_energy_yield_norway/src/FPVsimulation/pvsystem.py:83: UserWarning: Geometry is in a geographic CRS. Results from 'distance' are likely incorrect. Use 'GeoSeries.to_crs()' to re-project geometries to a projected CRS before this operation.\n",
      "\n",
      "  soiling_loss_gdf['distance'] = soiling_loss_NS3031_gdf['geometry'].distance(center)\n"
     ]
    },
    {
     "name": "stdout",
     "output_type": "stream",
     "text": [
      "lake 714 of 730\n"
     ]
    },
    {
     "name": "stderr",
     "output_type": "stream",
     "text": [
      "/home/mette/master/fpv_energy_yield_norway/src/FPVsimulation/pvsystem.py:83: UserWarning: Geometry is in a geographic CRS. Results from 'distance' are likely incorrect. Use 'GeoSeries.to_crs()' to re-project geometries to a projected CRS before this operation.\n",
      "\n",
      "  soiling_loss_gdf['distance'] = soiling_loss_NS3031_gdf['geometry'].distance(center)\n"
     ]
    },
    {
     "name": "stdout",
     "output_type": "stream",
     "text": [
      "lake 715 of 730\n"
     ]
    },
    {
     "name": "stderr",
     "output_type": "stream",
     "text": [
      "/home/mette/master/fpv_energy_yield_norway/src/FPVsimulation/pvsystem.py:83: UserWarning: Geometry is in a geographic CRS. Results from 'distance' are likely incorrect. Use 'GeoSeries.to_crs()' to re-project geometries to a projected CRS before this operation.\n",
      "\n",
      "  soiling_loss_gdf['distance'] = soiling_loss_NS3031_gdf['geometry'].distance(center)\n"
     ]
    },
    {
     "name": "stdout",
     "output_type": "stream",
     "text": [
      "lake 716 of 730\n"
     ]
    },
    {
     "name": "stderr",
     "output_type": "stream",
     "text": [
      "/home/mette/master/fpv_energy_yield_norway/src/FPVsimulation/pvsystem.py:83: UserWarning: Geometry is in a geographic CRS. Results from 'distance' are likely incorrect. Use 'GeoSeries.to_crs()' to re-project geometries to a projected CRS before this operation.\n",
      "\n",
      "  soiling_loss_gdf['distance'] = soiling_loss_NS3031_gdf['geometry'].distance(center)\n"
     ]
    },
    {
     "name": "stdout",
     "output_type": "stream",
     "text": [
      "lake 717 of 730\n"
     ]
    },
    {
     "name": "stderr",
     "output_type": "stream",
     "text": [
      "/home/mette/master/fpv_energy_yield_norway/src/FPVsimulation/pvsystem.py:83: UserWarning: Geometry is in a geographic CRS. Results from 'distance' are likely incorrect. Use 'GeoSeries.to_crs()' to re-project geometries to a projected CRS before this operation.\n",
      "\n",
      "  soiling_loss_gdf['distance'] = soiling_loss_NS3031_gdf['geometry'].distance(center)\n"
     ]
    },
    {
     "name": "stdout",
     "output_type": "stream",
     "text": [
      "lake 718 of 730\n"
     ]
    },
    {
     "name": "stderr",
     "output_type": "stream",
     "text": [
      "/home/mette/master/fpv_energy_yield_norway/src/FPVsimulation/pvsystem.py:83: UserWarning: Geometry is in a geographic CRS. Results from 'distance' are likely incorrect. Use 'GeoSeries.to_crs()' to re-project geometries to a projected CRS before this operation.\n",
      "\n",
      "  soiling_loss_gdf['distance'] = soiling_loss_NS3031_gdf['geometry'].distance(center)\n"
     ]
    },
    {
     "name": "stdout",
     "output_type": "stream",
     "text": [
      "lake 719 of 730\n"
     ]
    },
    {
     "name": "stderr",
     "output_type": "stream",
     "text": [
      "/home/mette/master/fpv_energy_yield_norway/src/FPVsimulation/pvsystem.py:83: UserWarning: Geometry is in a geographic CRS. Results from 'distance' are likely incorrect. Use 'GeoSeries.to_crs()' to re-project geometries to a projected CRS before this operation.\n",
      "\n",
      "  soiling_loss_gdf['distance'] = soiling_loss_NS3031_gdf['geometry'].distance(center)\n"
     ]
    },
    {
     "name": "stdout",
     "output_type": "stream",
     "text": [
      "lake 720 of 730\n"
     ]
    },
    {
     "name": "stderr",
     "output_type": "stream",
     "text": [
      "/home/mette/master/fpv_energy_yield_norway/src/FPVsimulation/pvsystem.py:83: UserWarning: Geometry is in a geographic CRS. Results from 'distance' are likely incorrect. Use 'GeoSeries.to_crs()' to re-project geometries to a projected CRS before this operation.\n",
      "\n",
      "  soiling_loss_gdf['distance'] = soiling_loss_NS3031_gdf['geometry'].distance(center)\n"
     ]
    },
    {
     "name": "stdout",
     "output_type": "stream",
     "text": [
      "lake 721 of 730\n"
     ]
    },
    {
     "name": "stderr",
     "output_type": "stream",
     "text": [
      "/home/mette/master/fpv_energy_yield_norway/src/FPVsimulation/pvsystem.py:83: UserWarning: Geometry is in a geographic CRS. Results from 'distance' are likely incorrect. Use 'GeoSeries.to_crs()' to re-project geometries to a projected CRS before this operation.\n",
      "\n",
      "  soiling_loss_gdf['distance'] = soiling_loss_NS3031_gdf['geometry'].distance(center)\n"
     ]
    },
    {
     "name": "stdout",
     "output_type": "stream",
     "text": [
      "lake 722 of 730\n"
     ]
    },
    {
     "name": "stderr",
     "output_type": "stream",
     "text": [
      "/home/mette/master/fpv_energy_yield_norway/src/FPVsimulation/pvsystem.py:83: UserWarning: Geometry is in a geographic CRS. Results from 'distance' are likely incorrect. Use 'GeoSeries.to_crs()' to re-project geometries to a projected CRS before this operation.\n",
      "\n",
      "  soiling_loss_gdf['distance'] = soiling_loss_NS3031_gdf['geometry'].distance(center)\n"
     ]
    },
    {
     "name": "stdout",
     "output_type": "stream",
     "text": [
      "lake 723 of 730\n"
     ]
    },
    {
     "name": "stderr",
     "output_type": "stream",
     "text": [
      "/home/mette/master/fpv_energy_yield_norway/src/FPVsimulation/pvsystem.py:83: UserWarning: Geometry is in a geographic CRS. Results from 'distance' are likely incorrect. Use 'GeoSeries.to_crs()' to re-project geometries to a projected CRS before this operation.\n",
      "\n",
      "  soiling_loss_gdf['distance'] = soiling_loss_NS3031_gdf['geometry'].distance(center)\n"
     ]
    },
    {
     "name": "stdout",
     "output_type": "stream",
     "text": [
      "lake 724 of 730\n"
     ]
    },
    {
     "name": "stderr",
     "output_type": "stream",
     "text": [
      "/home/mette/master/fpv_energy_yield_norway/src/FPVsimulation/pvsystem.py:83: UserWarning: Geometry is in a geographic CRS. Results from 'distance' are likely incorrect. Use 'GeoSeries.to_crs()' to re-project geometries to a projected CRS before this operation.\n",
      "\n",
      "  soiling_loss_gdf['distance'] = soiling_loss_NS3031_gdf['geometry'].distance(center)\n"
     ]
    },
    {
     "name": "stdout",
     "output_type": "stream",
     "text": [
      "lake 725 of 730\n"
     ]
    },
    {
     "name": "stderr",
     "output_type": "stream",
     "text": [
      "/home/mette/master/fpv_energy_yield_norway/src/FPVsimulation/pvsystem.py:83: UserWarning: Geometry is in a geographic CRS. Results from 'distance' are likely incorrect. Use 'GeoSeries.to_crs()' to re-project geometries to a projected CRS before this operation.\n",
      "\n",
      "  soiling_loss_gdf['distance'] = soiling_loss_NS3031_gdf['geometry'].distance(center)\n"
     ]
    },
    {
     "name": "stdout",
     "output_type": "stream",
     "text": [
      "lake 726 of 730\n"
     ]
    },
    {
     "name": "stderr",
     "output_type": "stream",
     "text": [
      "/home/mette/master/fpv_energy_yield_norway/src/FPVsimulation/pvsystem.py:83: UserWarning: Geometry is in a geographic CRS. Results from 'distance' are likely incorrect. Use 'GeoSeries.to_crs()' to re-project geometries to a projected CRS before this operation.\n",
      "\n",
      "  soiling_loss_gdf['distance'] = soiling_loss_NS3031_gdf['geometry'].distance(center)\n"
     ]
    },
    {
     "name": "stdout",
     "output_type": "stream",
     "text": [
      "lake 727 of 730\n"
     ]
    },
    {
     "name": "stderr",
     "output_type": "stream",
     "text": [
      "/home/mette/master/fpv_energy_yield_norway/src/FPVsimulation/pvsystem.py:83: UserWarning: Geometry is in a geographic CRS. Results from 'distance' are likely incorrect. Use 'GeoSeries.to_crs()' to re-project geometries to a projected CRS before this operation.\n",
      "\n",
      "  soiling_loss_gdf['distance'] = soiling_loss_NS3031_gdf['geometry'].distance(center)\n"
     ]
    },
    {
     "name": "stdout",
     "output_type": "stream",
     "text": [
      "lake 728 of 730\n"
     ]
    },
    {
     "name": "stderr",
     "output_type": "stream",
     "text": [
      "/home/mette/master/fpv_energy_yield_norway/src/FPVsimulation/pvsystem.py:83: UserWarning: Geometry is in a geographic CRS. Results from 'distance' are likely incorrect. Use 'GeoSeries.to_crs()' to re-project geometries to a projected CRS before this operation.\n",
      "\n",
      "  soiling_loss_gdf['distance'] = soiling_loss_NS3031_gdf['geometry'].distance(center)\n"
     ]
    },
    {
     "name": "stdout",
     "output_type": "stream",
     "text": [
      "lake 729 of 730\n"
     ]
    },
    {
     "name": "stderr",
     "output_type": "stream",
     "text": [
      "/home/mette/master/fpv_energy_yield_norway/src/FPVsimulation/pvsystem.py:83: UserWarning: Geometry is in a geographic CRS. Results from 'distance' are likely incorrect. Use 'GeoSeries.to_crs()' to re-project geometries to a projected CRS before this operation.\n",
      "\n",
      "  soiling_loss_gdf['distance'] = soiling_loss_NS3031_gdf['geometry'].distance(center)\n"
     ]
    }
   ],
   "source": [
    "sim_hydro = FPVsimulation()\n",
    "sim_hydro.register_lakes(hydro_df) \n",
    "\n",
    "result_hydro = sim_hydro.get_annual_energy_yield()\n",
    "result_hydro.to_excel('hydro_result.xlsx')"
   ]
  },
  {
   "cell_type": "code",
   "execution_count": 38,
   "metadata": {},
   "outputs": [
    {
     "name": "stdout",
     "output_type": "stream",
     "text": [
      "Hydro production 2km: 20445527.004653964 MWh\n"
     ]
    }
   ],
   "source": [
    "\n",
    "\n",
    "hydro_annual_kWh = result_hydro['annual_energy_yield_kWh'].sum() \n",
    "print(f'Hydro production 2km: {hydro_annual_kWh/1000} MWh')"
   ]
  },
  {
   "cell_type": "code",
   "execution_count": null,
   "metadata": {},
   "outputs": [],
   "source": [
    "practical_df = pd.read_csv('../data/new_data/systems.csv')\n",
    "practical_df['max_power_MW'] = 5*10**6\n",
    "\n",
    "sim_practical = FPVsimulation()\n",
    "# sim_practical.set_PVmodel_parameters(params={'max_power_out':5*10**6})\n",
    "sim_practical.register_lakes(practical_df)\n",
    "\n",
    "practical_result = sim_practical.get_annual_energy_yield()\n",
    "practical_result.to_excel('practical.xlsx')"
   ]
  },
  {
   "cell_type": "code",
   "execution_count": 42,
   "metadata": {},
   "outputs": [
    {
     "name": "stdout",
     "output_type": "stream",
     "text": [
      "Roof production: 5896992.094272671 MWh\n"
     ]
    }
   ],
   "source": [
    "practical_annual_kWh = practical_result['annual_energy_yield_kWh'].sum()\n",
    "print(f'Roof production: {practical_annual_kWh/1_000} MWh')"
   ]
  },
  {
   "cell_type": "code",
   "execution_count": 72,
   "metadata": {},
   "outputs": [
    {
     "name": "stderr",
     "output_type": "stream",
     "text": [
      "/tmp/ipykernel_588/256682137.py:6: UserWarning: set_ticklabels() should only be used with a fixed number of ticks, i.e. after set_ticks() or using a FixedLocator.\n",
      "  plt.gca().set_yticklabels(['{:,.0f} TWh/year'.format(x/10**9) for x in current_values])\n"
     ]
    },
    {
     "data": {
      "image/png": "[encoded data removed]",
      "text/plain": [
       "<Figure size 640x480 with 1 Axes>"
      ]
     },
     "metadata": {},
     "output_type": "display_data"
    }
   ],
   "source": [
    "import matplotlib.pyplot as plt\n",
    "\n",
    "plt.bar([\"Social scenario within 2km\", \"Practical scenario\", \"Hybrid hydro solar\"], [social_annual_kWh_2km, practical_annual_kWh, hydro_annual_kWh])\n",
    "#plt.yscale(\"log\")\n",
    "current_values = plt.gca().get_yticks()\n",
    "plt.gca().set_yticklabels(['{:,.0f} TWh/year'.format(x/10**9) for x in current_values])\n",
    "plt.xticks(rotation=45, ha='right')\n",
    "\n",
    "plt.savefig(\"result2.eps\", format = 'eps', dpi=300)\n",
    "plt.show()"
   ]
  },
  {
   "cell_type": "code",
   "execution_count": 70,
   "metadata": {},
   "outputs": [
    {
     "name": "stderr",
     "output_type": "stream",
     "text": [
      "/tmp/ipykernel_588/1521114678.py:4: UserWarning: set_ticklabels() should only be used with a fixed number of ticks, i.e. after set_ticks() or using a FixedLocator.\n",
      "  plt.gca().set_yticklabels(['{:,.0f} TWh/year'.format(x/10**9) for x in current_values])\n"
     ]
    },
    {
     "data": {
      "image/png": "[encoded data removed]",
      "text/plain": [
       "<Figure size 640x480 with 1 Axes>"
      ]
     },
     "metadata": {},
     "output_type": "display_data"
    }
   ],
   "source": [
    "plt.bar([\"Roof production\", \"Social scenario\", \"Social scenario within 2km\", \"Practical scenario\", \"Hybrid hydro solar\"], [gross_annual_kWh, social_annual_kWh, social_annual_kWh_2km, practical_annual_kWh, hydro_annual_kWh])\n",
    "# plt.yscale(\"log\")\n",
    "current_values = plt.gca().get_yticks()\n",
    "plt.gca().set_yticklabels(['{:,.0f} TWh/year'.format(x/10**9) for x in current_values])\n",
    "plt.xticks(rotation=45, ha='right')\n",
    "\n",
    "plt.savefig(\"result1.svg\", format = 'svg', dpi=300)\n",
    "plt.show()"
   ]
  },
  {
   "cell_type": "code",
   "execution_count": 4,
   "metadata": {},
   "outputs": [
    {
     "data": {
      "text/html": [
       "<div>\n",
       "<style scoped>\n",
       "    .dataframe tbody tr th:only-of-type {\n",
       "        vertical-align: middle;\n",
       "    }\n",
       "\n",
       "    .dataframe tbody tr th {\n",
       "        vertical-align: top;\n",
       "    }\n",
       "\n",
       "    .dataframe thead th {\n",
       "        text-align: right;\n",
       "    }\n",
       "</style>\n",
       "<table border=\"1\" class=\"dataframe\">\n",
       "  <thead>\n",
       "    <tr style=\"text-align: right;\">\n",
       "      <th></th>\n",
       "      <th>OBJECTID</th>\n",
       "      <th>ElSpotOmr</th>\n",
       "      <th>GlobalID</th>\n",
       "      <th>Shape_Length</th>\n",
       "      <th>Shape_Area</th>\n",
       "      <th>geometry</th>\n",
       "    </tr>\n",
       "  </thead>\n",
       "  <tbody>\n",
       "    <tr>\n",
       "      <th>0</th>\n",
       "      <td>1</td>\n",
       "      <td>NO 1</td>\n",
       "      <td>None</td>\n",
       "      <td>1.657761e+06</td>\n",
       "      <td>6.052902e+10</td>\n",
       "      <td>POLYGON ((11.80905 62.82880, 11.80786 62.82916...</td>\n",
       "    </tr>\n",
       "    <tr>\n",
       "      <th>1</th>\n",
       "      <td>2</td>\n",
       "      <td>NO 2</td>\n",
       "      <td>None</td>\n",
       "      <td>1.256473e+06</td>\n",
       "      <td>6.875969e+10</td>\n",
       "      <td>POLYGON ((5.74061 60.35170, 5.73955 60.35362, ...</td>\n",
       "    </tr>\n",
       "    <tr>\n",
       "      <th>2</th>\n",
       "      <td>3</td>\n",
       "      <td>NO 3</td>\n",
       "      <td>None</td>\n",
       "      <td>1.773323e+06</td>\n",
       "      <td>1.042199e+11</td>\n",
       "      <td>POLYGON ((10.87378 65.41986, 10.57806 65.47018...</td>\n",
       "    </tr>\n",
       "    <tr>\n",
       "      <th>3</th>\n",
       "      <td>4</td>\n",
       "      <td>NO 4</td>\n",
       "      <td>None</td>\n",
       "      <td>3.385499e+06</td>\n",
       "      <td>2.032500e+11</td>\n",
       "      <td>POLYGON ((28.33596 71.29423, 28.31789 71.29557...</td>\n",
       "    </tr>\n",
       "    <tr>\n",
       "      <th>4</th>\n",
       "      <td>5</td>\n",
       "      <td>NO 5</td>\n",
       "      <td>None</td>\n",
       "      <td>1.106762e+06</td>\n",
       "      <td>3.334870e+10</td>\n",
       "      <td>POLYGON ((7.41477 61.85483, 7.41250 61.85751, ...</td>\n",
       "    </tr>\n",
       "  </tbody>\n",
       "</table>\n",
       "</div>"
      ],
      "text/plain": [
       "   OBJECTID ElSpotOmr GlobalID  Shape_Length    Shape_Area  \\\n",
       "0         1      NO 1     None  1.657761e+06  6.052902e+10   \n",
       "1         2      NO 2     None  1.256473e+06  6.875969e+10   \n",
       "2         3      NO 3     None  1.773323e+06  1.042199e+11   \n",
       "3         4      NO 4     None  3.385499e+06  2.032500e+11   \n",
       "4         5      NO 5     None  1.106762e+06  3.334870e+10   \n",
       "\n",
       "                                            geometry  \n",
       "0  POLYGON ((11.80905 62.82880, 11.80786 62.82916...  \n",
       "1  POLYGON ((5.74061 60.35170, 5.73955 60.35362, ...  \n",
       "2  POLYGON ((10.87378 65.41986, 10.57806 65.47018...  \n",
       "3  POLYGON ((28.33596 71.29423, 28.31789 71.29557...  \n",
       "4  POLYGON ((7.41477 61.85483, 7.41250 61.85751, ...  "
      ]
     },
     "execution_count": 4,
     "metadata": {},
     "output_type": "execute_result"
    }
   ],
   "source": [
    "import geopandas as gpd\n",
    "\n",
    "price_zones_gdf = gpd.read_file('../data/raw_data/NVEData/Kraftnett/spot_price_zones.geojson')\n",
    "price_zones_gdf"
   ]
  },
  {
   "cell_type": "code",
   "execution_count": 5,
   "metadata": {},
   "outputs": [],
   "source": [
    "price_zones_result_gdf = price_zones_gdf[['ElSpotOmr', 'geometry']].copy().rename(columns={'ElSpotOmr':'ElSpotArea'})\n"
   ]
  },
  {
   "cell_type": "code",
   "execution_count": 69,
   "metadata": {},
   "outputs": [],
   "source": [
    "practical_result = pd.read_excel('practical.xlsx')\n",
    "\n",
    "practical_result_gdf = gpd.GeoDataFrame(\n",
    "    practical_result, geometry=gpd.points_from_xy(practical_result['longitude'], practical_result['latitude']), crs=\"EPSG:4326\"\n",
    ")\n",
    "\n",
    "price_practical_gdf = practical_result_gdf.sjoin(price_zones_result_gdf[['geometry', 'ElSpotArea']]).drop(columns='index_right')"
   ]
  },
  {
   "cell_type": "code",
   "execution_count": 70,
   "metadata": {},
   "outputs": [],
   "source": [
    "result_hydro_gdf = gpd.GeoDataFrame(\n",
    "    result_hydro, geometry=gpd.points_from_xy(result_hydro['longitude'], result_hydro['latitude']), crs=\"EPSG:4326\"\n",
    ")\n",
    "\n",
    "price_hydro_gdf = result_hydro_gdf.sjoin(price_zones_result_gdf[['geometry', 'ElSpotArea']]).drop(columns='index_right')"
   ]
  },
  {
   "cell_type": "code",
   "execution_count": 71,
   "metadata": {},
   "outputs": [
    {
     "data": {
      "text/html": [
       "<div>\n",
       "<style scoped>\n",
       "    .dataframe tbody tr th:only-of-type {\n",
       "        vertical-align: middle;\n",
       "    }\n",
       "\n",
       "    .dataframe tbody tr th {\n",
       "        vertical-align: top;\n",
       "    }\n",
       "\n",
       "    .dataframe thead th {\n",
       "        text-align: right;\n",
       "    }\n",
       "</style>\n",
       "<table border=\"1\" class=\"dataframe\">\n",
       "  <thead>\n",
       "    <tr style=\"text-align: right;\">\n",
       "      <th></th>\n",
       "      <th>lake_id</th>\n",
       "      <th>lake_area</th>\n",
       "      <th>system_area</th>\n",
       "      <th>latitude</th>\n",
       "      <th>longitude</th>\n",
       "      <th>annual_energy_yield_kWh</th>\n",
       "      <th>raddata</th>\n",
       "      <th>geometry</th>\n",
       "      <th>ElSpotArea</th>\n",
       "    </tr>\n",
       "  </thead>\n",
       "  <tbody>\n",
       "    <tr>\n",
       "      <th>0</th>\n",
       "      <td>Aas</td>\n",
       "      <td>7.360339e+03</td>\n",
       "      <td>1.840085e+03</td>\n",
       "      <td>59.275387</td>\n",
       "      <td>9.559640</td>\n",
       "      <td>2.487622e+05</td>\n",
       "      <td>PVGIS-SARAH2</td>\n",
       "      <td>POINT (9.55964 59.27539)</td>\n",
       "      <td>NO 2</td>\n",
       "    </tr>\n",
       "    <tr>\n",
       "      <th>1</th>\n",
       "      <td>Adamselv</td>\n",
       "      <td>1.471183e+07</td>\n",
       "      <td>3.677959e+06</td>\n",
       "      <td>70.377997</td>\n",
       "      <td>26.865447</td>\n",
       "      <td>4.120584e+07</td>\n",
       "      <td>PVGIS-ERA5</td>\n",
       "      <td>POINT (26.86545 70.37800)</td>\n",
       "      <td>NO 4</td>\n",
       "    </tr>\n",
       "    <tr>\n",
       "      <th>2</th>\n",
       "      <td>Alta</td>\n",
       "      <td>6.749854e+06</td>\n",
       "      <td>1.687464e+06</td>\n",
       "      <td>69.628793</td>\n",
       "      <td>23.780765</td>\n",
       "      <td>1.182657e+08</td>\n",
       "      <td>PVGIS-ERA5</td>\n",
       "      <td>POINT (23.78077 69.62879)</td>\n",
       "      <td>NO 4</td>\n",
       "    </tr>\n",
       "    <tr>\n",
       "      <th>3</th>\n",
       "      <td>Andåsfossen</td>\n",
       "      <td>2.492182e+04</td>\n",
       "      <td>6.230456e+03</td>\n",
       "      <td>65.823287</td>\n",
       "      <td>13.273578</td>\n",
       "      <td>6.638217e+05</td>\n",
       "      <td>PVGIS-ERA5</td>\n",
       "      <td>POINT (13.27358 65.82329)</td>\n",
       "      <td>NO 4</td>\n",
       "    </tr>\n",
       "    <tr>\n",
       "      <th>4</th>\n",
       "      <td>Angvik</td>\n",
       "      <td>3.296929e+03</td>\n",
       "      <td>8.242323e+02</td>\n",
       "      <td>62.891916</td>\n",
       "      <td>8.070013</td>\n",
       "      <td>8.001856e+04</td>\n",
       "      <td>PVGIS-SARAH2</td>\n",
       "      <td>POINT (8.07001 62.89192)</td>\n",
       "      <td>NO 3</td>\n",
       "    </tr>\n",
       "    <tr>\n",
       "      <th>...</th>\n",
       "      <td>...</td>\n",
       "      <td>...</td>\n",
       "      <td>...</td>\n",
       "      <td>...</td>\n",
       "      <td>...</td>\n",
       "      <td>...</td>\n",
       "      <td>...</td>\n",
       "      <td>...</td>\n",
       "      <td>...</td>\n",
       "    </tr>\n",
       "    <tr>\n",
       "      <th>725</th>\n",
       "      <td>Øvre Vinstra</td>\n",
       "      <td>9.830810e+07</td>\n",
       "      <td>2.457703e+07</td>\n",
       "      <td>61.413965</td>\n",
       "      <td>9.242435</td>\n",
       "      <td>1.222826e+08</td>\n",
       "      <td>PVGIS-SARAH2</td>\n",
       "      <td>POINT (9.24244 61.41397)</td>\n",
       "      <td>NO 1</td>\n",
       "    </tr>\n",
       "    <tr>\n",
       "      <th>726</th>\n",
       "      <td>Øvre Åvella</td>\n",
       "      <td>4.254127e+06</td>\n",
       "      <td>1.063532e+06</td>\n",
       "      <td>60.784079</td>\n",
       "      <td>9.927475</td>\n",
       "      <td>3.988010e+05</td>\n",
       "      <td>PVGIS-SARAH2</td>\n",
       "      <td>POINT (9.92748 60.78408)</td>\n",
       "      <td>NO 1</td>\n",
       "    </tr>\n",
       "    <tr>\n",
       "      <th>727</th>\n",
       "      <td>Øvrefoss</td>\n",
       "      <td>6.705350e+06</td>\n",
       "      <td>1.676338e+06</td>\n",
       "      <td>68.638311</td>\n",
       "      <td>16.403549</td>\n",
       "      <td>7.564804e+05</td>\n",
       "      <td>PVGIS-ERA5</td>\n",
       "      <td>POINT (16.40355 68.63831)</td>\n",
       "      <td>NO 4</td>\n",
       "    </tr>\n",
       "    <tr>\n",
       "      <th>728</th>\n",
       "      <td>Øyadalen</td>\n",
       "      <td>1.114429e+05</td>\n",
       "      <td>2.786073e+04</td>\n",
       "      <td>62.215299</td>\n",
       "      <td>6.309238</td>\n",
       "      <td>1.845670e+06</td>\n",
       "      <td>PVGIS-SARAH2</td>\n",
       "      <td>POINT (6.30924 62.21530)</td>\n",
       "      <td>NO 3</td>\n",
       "    </tr>\n",
       "    <tr>\n",
       "      <th>729</th>\n",
       "      <td>Øyberget</td>\n",
       "      <td>5.529571e+05</td>\n",
       "      <td>1.382393e+05</td>\n",
       "      <td>61.939227</td>\n",
       "      <td>8.018610</td>\n",
       "      <td>1.420502e+07</td>\n",
       "      <td>PVGIS-SARAH2</td>\n",
       "      <td>POINT (8.01861 61.93923)</td>\n",
       "      <td>NO 3</td>\n",
       "    </tr>\n",
       "  </tbody>\n",
       "</table>\n",
       "<p>727 rows × 9 columns</p>\n",
       "</div>"
      ],
      "text/plain": [
       "          lake_id     lake_area   system_area   latitude  longitude  \\\n",
       "0             Aas  7.360339e+03  1.840085e+03  59.275387   9.559640   \n",
       "1        Adamselv  1.471183e+07  3.677959e+06  70.377997  26.865447   \n",
       "2            Alta  6.749854e+06  1.687464e+06  69.628793  23.780765   \n",
       "3     Andåsfossen  2.492182e+04  6.230456e+03  65.823287  13.273578   \n",
       "4          Angvik  3.296929e+03  8.242323e+02  62.891916   8.070013   \n",
       "..            ...           ...           ...        ...        ...   \n",
       "725  Øvre Vinstra  9.830810e+07  2.457703e+07  61.413965   9.242435   \n",
       "726   Øvre Åvella  4.254127e+06  1.063532e+06  60.784079   9.927475   \n",
       "727      Øvrefoss  6.705350e+06  1.676338e+06  68.638311  16.403549   \n",
       "728      Øyadalen  1.114429e+05  2.786073e+04  62.215299   6.309238   \n",
       "729      Øyberget  5.529571e+05  1.382393e+05  61.939227   8.018610   \n",
       "\n",
       "     annual_energy_yield_kWh       raddata                   geometry  \\\n",
       "0               2.487622e+05  PVGIS-SARAH2   POINT (9.55964 59.27539)   \n",
       "1               4.120584e+07    PVGIS-ERA5  POINT (26.86545 70.37800)   \n",
       "2               1.182657e+08    PVGIS-ERA5  POINT (23.78077 69.62879)   \n",
       "3               6.638217e+05    PVGIS-ERA5  POINT (13.27358 65.82329)   \n",
       "4               8.001856e+04  PVGIS-SARAH2   POINT (8.07001 62.89192)   \n",
       "..                       ...           ...                        ...   \n",
       "725             1.222826e+08  PVGIS-SARAH2   POINT (9.24244 61.41397)   \n",
       "726             3.988010e+05  PVGIS-SARAH2   POINT (9.92748 60.78408)   \n",
       "727             7.564804e+05    PVGIS-ERA5  POINT (16.40355 68.63831)   \n",
       "728             1.845670e+06  PVGIS-SARAH2   POINT (6.30924 62.21530)   \n",
       "729             1.420502e+07  PVGIS-SARAH2   POINT (8.01861 61.93923)   \n",
       "\n",
       "    ElSpotArea  \n",
       "0         NO 2  \n",
       "1         NO 4  \n",
       "2         NO 4  \n",
       "3         NO 4  \n",
       "4         NO 3  \n",
       "..         ...  \n",
       "725       NO 1  \n",
       "726       NO 1  \n",
       "727       NO 4  \n",
       "728       NO 3  \n",
       "729       NO 3  \n",
       "\n",
       "[727 rows x 9 columns]"
      ]
     },
     "execution_count": 71,
     "metadata": {},
     "output_type": "execute_result"
    }
   ],
   "source": [
    "price_hydro_gdf"
   ]
  },
  {
   "cell_type": "code",
   "execution_count": 72,
   "metadata": {},
   "outputs": [
    {
     "data": {
      "text/html": [
       "<div>\n",
       "<style scoped>\n",
       "    .dataframe tbody tr th:only-of-type {\n",
       "        vertical-align: middle;\n",
       "    }\n",
       "\n",
       "    .dataframe tbody tr th {\n",
       "        vertical-align: top;\n",
       "    }\n",
       "\n",
       "    .dataframe thead th {\n",
       "        text-align: right;\n",
       "    }\n",
       "</style>\n",
       "<table border=\"1\" class=\"dataframe\">\n",
       "  <thead>\n",
       "    <tr style=\"text-align: right;\">\n",
       "      <th></th>\n",
       "      <th>Unnamed: 0</th>\n",
       "      <th>lake_id</th>\n",
       "      <th>lake_area</th>\n",
       "      <th>system_area</th>\n",
       "      <th>latitude</th>\n",
       "      <th>longitude</th>\n",
       "      <th>annual_energy_yield_kWh</th>\n",
       "      <th>raddata</th>\n",
       "      <th>geometry</th>\n",
       "    </tr>\n",
       "  </thead>\n",
       "  <tbody>\n",
       "    <tr>\n",
       "      <th>0</th>\n",
       "      <td>0</td>\n",
       "      <td>1073.0</td>\n",
       "      <td>1.050867e+06</td>\n",
       "      <td>105060</td>\n",
       "      <td>59.571100</td>\n",
       "      <td>7.270522</td>\n",
       "      <td>1.171782e+07</td>\n",
       "      <td>PVGIS-SARAH2</td>\n",
       "      <td>POINT (7.27052 59.57110)</td>\n",
       "    </tr>\n",
       "    <tr>\n",
       "      <th>1</th>\n",
       "      <td>1</td>\n",
       "      <td>139905.0</td>\n",
       "      <td>9.895230e+03</td>\n",
       "      <td>999</td>\n",
       "      <td>62.487944</td>\n",
       "      <td>11.182115</td>\n",
       "      <td>1.086282e+05</td>\n",
       "      <td>PVGIS-SARAH2</td>\n",
       "      <td>POINT (11.18212 62.48794)</td>\n",
       "    </tr>\n",
       "    <tr>\n",
       "      <th>2</th>\n",
       "      <td>2</td>\n",
       "      <td>11363.0</td>\n",
       "      <td>2.128280e+05</td>\n",
       "      <td>2240</td>\n",
       "      <td>58.221232</td>\n",
       "      <td>7.953410</td>\n",
       "      <td>3.326681e+05</td>\n",
       "      <td>PVGIS-SARAH2</td>\n",
       "      <td>POINT (7.95341 58.22123)</td>\n",
       "    </tr>\n",
       "    <tr>\n",
       "      <th>3</th>\n",
       "      <td>3</td>\n",
       "      <td>1491.0</td>\n",
       "      <td>9.495696e+05</td>\n",
       "      <td>94878</td>\n",
       "      <td>59.792666</td>\n",
       "      <td>5.484201</td>\n",
       "      <td>1.139838e+07</td>\n",
       "      <td>PVGIS-SARAH2</td>\n",
       "      <td>POINT (5.48420 59.79267)</td>\n",
       "    </tr>\n",
       "    <tr>\n",
       "      <th>4</th>\n",
       "      <td>4</td>\n",
       "      <td>286343.0</td>\n",
       "      <td>2.916931e+04</td>\n",
       "      <td>540</td>\n",
       "      <td>69.042584</td>\n",
       "      <td>18.587612</td>\n",
       "      <td>4.741324e+04</td>\n",
       "      <td>PVGIS-ERA5</td>\n",
       "      <td>POINT (18.58761 69.04258)</td>\n",
       "    </tr>\n",
       "    <tr>\n",
       "      <th>...</th>\n",
       "      <td>...</td>\n",
       "      <td>...</td>\n",
       "      <td>...</td>\n",
       "      <td>...</td>\n",
       "      <td>...</td>\n",
       "      <td>...</td>\n",
       "      <td>...</td>\n",
       "      <td>...</td>\n",
       "      <td>...</td>\n",
       "    </tr>\n",
       "    <tr>\n",
       "      <th>952</th>\n",
       "      <td>952</td>\n",
       "      <td>28367.0</td>\n",
       "      <td>3.008636e+05</td>\n",
       "      <td>30132</td>\n",
       "      <td>61.453934</td>\n",
       "      <td>5.286499</td>\n",
       "      <td>3.542239e+06</td>\n",
       "      <td>PVGIS-SARAH2</td>\n",
       "      <td>POINT (5.28650 61.45393)</td>\n",
       "    </tr>\n",
       "    <tr>\n",
       "      <th>953</th>\n",
       "      <td>953</td>\n",
       "      <td>51008.0</td>\n",
       "      <td>8.624564e+04</td>\n",
       "      <td>8658</td>\n",
       "      <td>69.101227</td>\n",
       "      <td>17.153102</td>\n",
       "      <td>7.827513e+05</td>\n",
       "      <td>PVGIS-ERA5</td>\n",
       "      <td>POINT (17.15310 69.10123)</td>\n",
       "    </tr>\n",
       "    <tr>\n",
       "      <th>954</th>\n",
       "      <td>954</td>\n",
       "      <td>1603.0</td>\n",
       "      <td>6.535916e+06</td>\n",
       "      <td>30551</td>\n",
       "      <td>61.295470</td>\n",
       "      <td>7.169558</td>\n",
       "      <td>3.331383e+06</td>\n",
       "      <td>PVGIS-SARAH2</td>\n",
       "      <td>POINT (7.16956 61.29547)</td>\n",
       "    </tr>\n",
       "    <tr>\n",
       "      <th>955</th>\n",
       "      <td>955</td>\n",
       "      <td>22224.0</td>\n",
       "      <td>5.729866e+05</td>\n",
       "      <td>57348</td>\n",
       "      <td>59.796611</td>\n",
       "      <td>5.167938</td>\n",
       "      <td>7.684540e+06</td>\n",
       "      <td>PVGIS-SARAH2</td>\n",
       "      <td>POINT (5.16794 59.79661)</td>\n",
       "    </tr>\n",
       "    <tr>\n",
       "      <th>956</th>\n",
       "      <td>956</td>\n",
       "      <td>178118.0</td>\n",
       "      <td>5.123016e+03</td>\n",
       "      <td>133</td>\n",
       "      <td>60.599163</td>\n",
       "      <td>8.422614</td>\n",
       "      <td>1.581018e+04</td>\n",
       "      <td>PVGIS-SARAH2</td>\n",
       "      <td>POINT (8.42261 60.59916)</td>\n",
       "    </tr>\n",
       "  </tbody>\n",
       "</table>\n",
       "<p>957 rows × 9 columns</p>\n",
       "</div>"
      ],
      "text/plain": [
       "     Unnamed: 0   lake_id     lake_area  system_area   latitude  longitude  \\\n",
       "0             0    1073.0  1.050867e+06       105060  59.571100   7.270522   \n",
       "1             1  139905.0  9.895230e+03          999  62.487944  11.182115   \n",
       "2             2   11363.0  2.128280e+05         2240  58.221232   7.953410   \n",
       "3             3    1491.0  9.495696e+05        94878  59.792666   5.484201   \n",
       "4             4  286343.0  2.916931e+04          540  69.042584  18.587612   \n",
       "..          ...       ...           ...          ...        ...        ...   \n",
       "952         952   28367.0  3.008636e+05        30132  61.453934   5.286499   \n",
       "953         953   51008.0  8.624564e+04         8658  69.101227  17.153102   \n",
       "954         954    1603.0  6.535916e+06        30551  61.295470   7.169558   \n",
       "955         955   22224.0  5.729866e+05        57348  59.796611   5.167938   \n",
       "956         956  178118.0  5.123016e+03          133  60.599163   8.422614   \n",
       "\n",
       "     annual_energy_yield_kWh       raddata                   geometry  \n",
       "0               1.171782e+07  PVGIS-SARAH2   POINT (7.27052 59.57110)  \n",
       "1               1.086282e+05  PVGIS-SARAH2  POINT (11.18212 62.48794)  \n",
       "2               3.326681e+05  PVGIS-SARAH2   POINT (7.95341 58.22123)  \n",
       "3               1.139838e+07  PVGIS-SARAH2   POINT (5.48420 59.79267)  \n",
       "4               4.741324e+04    PVGIS-ERA5  POINT (18.58761 69.04258)  \n",
       "..                       ...           ...                        ...  \n",
       "952             3.542239e+06  PVGIS-SARAH2   POINT (5.28650 61.45393)  \n",
       "953             7.827513e+05    PVGIS-ERA5  POINT (17.15310 69.10123)  \n",
       "954             3.331383e+06  PVGIS-SARAH2   POINT (7.16956 61.29547)  \n",
       "955             7.684540e+06  PVGIS-SARAH2   POINT (5.16794 59.79661)  \n",
       "956             1.581018e+04  PVGIS-SARAH2   POINT (8.42261 60.59916)  \n",
       "\n",
       "[957 rows x 9 columns]"
      ]
     },
     "execution_count": 72,
     "metadata": {},
     "output_type": "execute_result"
    }
   ],
   "source": [
    "practical_result_gdf"
   ]
  },
  {
   "cell_type": "code",
   "execution_count": 73,
   "metadata": {},
   "outputs": [],
   "source": [
    "price_zones_result_gdf.set_index('ElSpotArea', inplace=True)\n"
   ]
  },
  {
   "cell_type": "code",
   "execution_count": 74,
   "metadata": {},
   "outputs": [],
   "source": [
    "price_zones_result_gdf['practical_TWh'] = (price_practical_gdf.groupby('ElSpotArea')['annual_energy_yield_kWh'].sum()/10**9).round(2)\n",
    "price_zones_result_gdf['hydro_TWh'] = (price_hydro_gdf.groupby('ElSpotArea')['annual_energy_yield_kWh'].sum()/10**9).round(2)"
   ]
  },
  {
   "cell_type": "code",
   "execution_count": 75,
   "metadata": {},
   "outputs": [],
   "source": [
    "price_zones_result_gdf['practical_TWh_str'] =  price_zones_result_gdf['practical_TWh'].apply(lambda x: str(x) + ' TWh')\n",
    "price_zones_result_gdf['hydro_TWh_str'] = price_zones_result_gdf['hydro_TWh'].apply(lambda x: str(x) + ' TWh')"
   ]
  },
  {
   "cell_type": "code",
   "execution_count": 76,
   "metadata": {},
   "outputs": [
    {
     "data": {
      "text/html": [
       "<div>\n",
       "<style scoped>\n",
       "    .dataframe tbody tr th:only-of-type {\n",
       "        vertical-align: middle;\n",
       "    }\n",
       "\n",
       "    .dataframe tbody tr th {\n",
       "        vertical-align: top;\n",
       "    }\n",
       "\n",
       "    .dataframe thead th {\n",
       "        text-align: right;\n",
       "    }\n",
       "</style>\n",
       "<table border=\"1\" class=\"dataframe\">\n",
       "  <thead>\n",
       "    <tr style=\"text-align: right;\">\n",
       "      <th></th>\n",
       "      <th>geometry</th>\n",
       "      <th>practical_TWh</th>\n",
       "      <th>hydro_TWh</th>\n",
       "      <th>practical_TWh_str</th>\n",
       "      <th>hydro_TWh_str</th>\n",
       "    </tr>\n",
       "    <tr>\n",
       "      <th>ElSpotArea</th>\n",
       "      <th></th>\n",
       "      <th></th>\n",
       "      <th></th>\n",
       "      <th></th>\n",
       "      <th></th>\n",
       "    </tr>\n",
       "  </thead>\n",
       "  <tbody>\n",
       "    <tr>\n",
       "      <th>NO 1</th>\n",
       "      <td>POLYGON ((11.80905 62.82880, 11.80786 62.82916...</td>\n",
       "      <td>1.08</td>\n",
       "      <td>1.80</td>\n",
       "      <td>1.08 TWh</td>\n",
       "      <td>1.8 TWh</td>\n",
       "    </tr>\n",
       "    <tr>\n",
       "      <th>NO 2</th>\n",
       "      <td>POLYGON ((5.74061 60.35170, 5.73955 60.35362, ...</td>\n",
       "      <td>2.20</td>\n",
       "      <td>7.29</td>\n",
       "      <td>2.2 TWh</td>\n",
       "      <td>7.29 TWh</td>\n",
       "    </tr>\n",
       "    <tr>\n",
       "      <th>NO 3</th>\n",
       "      <td>POLYGON ((10.87378 65.41986, 10.57806 65.47018...</td>\n",
       "      <td>0.93</td>\n",
       "      <td>2.53</td>\n",
       "      <td>0.93 TWh</td>\n",
       "      <td>2.53 TWh</td>\n",
       "    </tr>\n",
       "    <tr>\n",
       "      <th>NO 4</th>\n",
       "      <td>POLYGON ((28.33596 71.29423, 28.31789 71.29557...</td>\n",
       "      <td>1.06</td>\n",
       "      <td>4.03</td>\n",
       "      <td>1.06 TWh</td>\n",
       "      <td>4.03 TWh</td>\n",
       "    </tr>\n",
       "    <tr>\n",
       "      <th>NO 5</th>\n",
       "      <td>POLYGON ((7.41477 61.85483, 7.41250 61.85751, ...</td>\n",
       "      <td>0.62</td>\n",
       "      <td>4.83</td>\n",
       "      <td>0.62 TWh</td>\n",
       "      <td>4.83 TWh</td>\n",
       "    </tr>\n",
       "  </tbody>\n",
       "</table>\n",
       "</div>"
      ],
      "text/plain": [
       "                                                     geometry  practical_TWh  \\\n",
       "ElSpotArea                                                                     \n",
       "NO 1        POLYGON ((11.80905 62.82880, 11.80786 62.82916...           1.08   \n",
       "NO 2        POLYGON ((5.74061 60.35170, 5.73955 60.35362, ...           2.20   \n",
       "NO 3        POLYGON ((10.87378 65.41986, 10.57806 65.47018...           0.93   \n",
       "NO 4        POLYGON ((28.33596 71.29423, 28.31789 71.29557...           1.06   \n",
       "NO 5        POLYGON ((7.41477 61.85483, 7.41250 61.85751, ...           0.62   \n",
       "\n",
       "            hydro_TWh practical_TWh_str hydro_TWh_str  \n",
       "ElSpotArea                                             \n",
       "NO 1             1.80          1.08 TWh       1.8 TWh  \n",
       "NO 2             7.29           2.2 TWh      7.29 TWh  \n",
       "NO 3             2.53          0.93 TWh      2.53 TWh  \n",
       "NO 4             4.03          1.06 TWh      4.03 TWh  \n",
       "NO 5             4.83          0.62 TWh      4.83 TWh  "
      ]
     },
     "execution_count": 76,
     "metadata": {},
     "output_type": "execute_result"
    }
   ],
   "source": [
    "price_zones_result_gdf"
   ]
  },
  {
   "cell_type": "code",
   "execution_count": 77,
   "metadata": {},
   "outputs": [],
   "source": [
    "price_zones_result_gdf.to_file('../data/new_data/price_aggregated.geojson')"
   ]
  },
  {
   "cell_type": "code",
   "execution_count": 78,
   "metadata": {},
   "outputs": [],
   "source": [
    "municipality_gdf = gpd.read_file('../data/raw_data/Basisdata_0000_Norge_25833_Kommuner_GeoJSON.geojson', layer='Kommune')[['kommunenavn', 'kommunenummer', 'geometry']].to_crs('4326')"
   ]
  },
  {
   "cell_type": "code",
   "execution_count": 79,
   "metadata": {},
   "outputs": [
    {
     "data": {
      "text/html": [
       "<div>\n",
       "<style scoped>\n",
       "    .dataframe tbody tr th:only-of-type {\n",
       "        vertical-align: middle;\n",
       "    }\n",
       "\n",
       "    .dataframe tbody tr th {\n",
       "        vertical-align: top;\n",
       "    }\n",
       "\n",
       "    .dataframe thead th {\n",
       "        text-align: right;\n",
       "    }\n",
       "</style>\n",
       "<table border=\"1\" class=\"dataframe\">\n",
       "  <thead>\n",
       "    <tr style=\"text-align: right;\">\n",
       "      <th></th>\n",
       "      <th>kommunenavn</th>\n",
       "      <th>kommunenummer</th>\n",
       "      <th>geometry</th>\n",
       "    </tr>\n",
       "  </thead>\n",
       "  <tbody>\n",
       "    <tr>\n",
       "      <th>0</th>\n",
       "      <td>Ibestad</td>\n",
       "      <td>5514</td>\n",
       "      <td>MULTIPOLYGON (((17.21928 68.76980, 17.21928 68...</td>\n",
       "    </tr>\n",
       "    <tr>\n",
       "      <th>1</th>\n",
       "      <td>Rendalen</td>\n",
       "      <td>3424</td>\n",
       "      <td>MULTIPOLYGON (((11.71235 61.91803, 11.71168 61...</td>\n",
       "    </tr>\n",
       "    <tr>\n",
       "      <th>2</th>\n",
       "      <td>Rakkestad</td>\n",
       "      <td>3120</td>\n",
       "      <td>MULTIPOLYGON (((11.20433 59.40319, 11.20460 59...</td>\n",
       "    </tr>\n",
       "    <tr>\n",
       "      <th>3</th>\n",
       "      <td>Nordre Follo</td>\n",
       "      <td>3207</td>\n",
       "      <td>MULTIPOLYGON (((10.89041 59.81779, 10.89042 59...</td>\n",
       "    </tr>\n",
       "    <tr>\n",
       "      <th>4</th>\n",
       "      <td>Overhalla</td>\n",
       "      <td>5047</td>\n",
       "      <td>MULTIPOLYGON (((12.07582 64.46951, 12.07576 64...</td>\n",
       "    </tr>\n",
       "    <tr>\n",
       "      <th>...</th>\n",
       "      <td>...</td>\n",
       "      <td>...</td>\n",
       "      <td>...</td>\n",
       "    </tr>\n",
       "    <tr>\n",
       "      <th>352</th>\n",
       "      <td>Aarborte - Hattfjelldal</td>\n",
       "      <td>1826</td>\n",
       "      <td>MULTIPOLYGON (((14.52141 65.61296, 14.52159 65...</td>\n",
       "    </tr>\n",
       "    <tr>\n",
       "      <th>353</th>\n",
       "      <td>Hammerfest - Hámmerfeasta</td>\n",
       "      <td>5603</td>\n",
       "      <td>MULTIPOLYGON (((23.87676 70.85445, 23.81777 70...</td>\n",
       "    </tr>\n",
       "    <tr>\n",
       "      <th>354</th>\n",
       "      <td>Dielddanuorri - Tjeldsund</td>\n",
       "      <td>5512</td>\n",
       "      <td>MULTIPOLYGON (((16.57753 68.50230, 16.57779 68...</td>\n",
       "    </tr>\n",
       "    <tr>\n",
       "      <th>355</th>\n",
       "      <td>Porsanger - Porsáŋgu - Porsanki</td>\n",
       "      <td>5622</td>\n",
       "      <td>MULTIPOLYGON (((26.03309 70.40938, 26.07381 70...</td>\n",
       "    </tr>\n",
       "    <tr>\n",
       "      <th>356</th>\n",
       "      <td>Unjárga - Nesseby</td>\n",
       "      <td>5636</td>\n",
       "      <td>MULTIPOLYGON (((28.32668 70.18581, 28.32610 70...</td>\n",
       "    </tr>\n",
       "  </tbody>\n",
       "</table>\n",
       "<p>357 rows × 3 columns</p>\n",
       "</div>"
      ],
      "text/plain": [
       "                         kommunenavn kommunenummer  \\\n",
       "0                            Ibestad          5514   \n",
       "1                           Rendalen          3424   \n",
       "2                          Rakkestad          3120   \n",
       "3                       Nordre Follo          3207   \n",
       "4                          Overhalla          5047   \n",
       "..                               ...           ...   \n",
       "352          Aarborte - Hattfjelldal          1826   \n",
       "353        Hammerfest - Hámmerfeasta          5603   \n",
       "354        Dielddanuorri - Tjeldsund          5512   \n",
       "355  Porsanger - Porsáŋgu - Porsanki          5622   \n",
       "356                Unjárga - Nesseby          5636   \n",
       "\n",
       "                                              geometry  \n",
       "0    MULTIPOLYGON (((17.21928 68.76980, 17.21928 68...  \n",
       "1    MULTIPOLYGON (((11.71235 61.91803, 11.71168 61...  \n",
       "2    MULTIPOLYGON (((11.20433 59.40319, 11.20460 59...  \n",
       "3    MULTIPOLYGON (((10.89041 59.81779, 10.89042 59...  \n",
       "4    MULTIPOLYGON (((12.07582 64.46951, 12.07576 64...  \n",
       "..                                                 ...  \n",
       "352  MULTIPOLYGON (((14.52141 65.61296, 14.52159 65...  \n",
       "353  MULTIPOLYGON (((23.87676 70.85445, 23.81777 70...  \n",
       "354  MULTIPOLYGON (((16.57753 68.50230, 16.57779 68...  \n",
       "355  MULTIPOLYGON (((26.03309 70.40938, 26.07381 70...  \n",
       "356  MULTIPOLYGON (((28.32668 70.18581, 28.32610 70...  \n",
       "\n",
       "[357 rows x 3 columns]"
      ]
     },
     "execution_count": 79,
     "metadata": {},
     "output_type": "execute_result"
    }
   ],
   "source": [
    "municipality_gdf"
   ]
  },
  {
   "cell_type": "code",
   "execution_count": 80,
   "metadata": {},
   "outputs": [],
   "source": [
    "price_practical_gdf = practical_result_gdf.sjoin(municipality_gdf).drop(columns='index_right')\n",
    "price_hydro_gdf = result_hydro_gdf.sjoin(municipality_gdf).drop(columns='index_right')\n",
    "\n",
    "municipality_gdf.set_index('kommunenummer', inplace=True)\n",
    "\n",
    "municipality_gdf['practical_GWh'] = (price_practical_gdf.groupby('kommunenummer')['annual_energy_yield_kWh'].sum()/10**6).round(2)\n",
    "municipality_gdf['hydro_GWh'] = (price_hydro_gdf.groupby('kommunenummer')['annual_energy_yield_kWh'].sum()/10**6).round(2)"
   ]
  },
  {
   "cell_type": "code",
   "execution_count": 81,
   "metadata": {},
   "outputs": [
    {
     "data": {
      "text/html": [
       "<div>\n",
       "<style scoped>\n",
       "    .dataframe tbody tr th:only-of-type {\n",
       "        vertical-align: middle;\n",
       "    }\n",
       "\n",
       "    .dataframe tbody tr th {\n",
       "        vertical-align: top;\n",
       "    }\n",
       "\n",
       "    .dataframe thead th {\n",
       "        text-align: right;\n",
       "    }\n",
       "</style>\n",
       "<table border=\"1\" class=\"dataframe\">\n",
       "  <thead>\n",
       "    <tr style=\"text-align: right;\">\n",
       "      <th></th>\n",
       "      <th>kommunenavn</th>\n",
       "      <th>geometry</th>\n",
       "      <th>practical_GWh</th>\n",
       "      <th>hydro_GWh</th>\n",
       "    </tr>\n",
       "    <tr>\n",
       "      <th>kommunenummer</th>\n",
       "      <th></th>\n",
       "      <th></th>\n",
       "      <th></th>\n",
       "      <th></th>\n",
       "    </tr>\n",
       "  </thead>\n",
       "  <tbody>\n",
       "    <tr>\n",
       "      <th>5514</th>\n",
       "      <td>Ibestad</td>\n",
       "      <td>MULTIPOLYGON (((17.21928 68.76980, 17.21928 68...</td>\n",
       "      <td>0.07</td>\n",
       "      <td>9.15</td>\n",
       "    </tr>\n",
       "    <tr>\n",
       "      <th>3424</th>\n",
       "      <td>Rendalen</td>\n",
       "      <td>MULTIPOLYGON (((11.71235 61.91803, 11.71168 61...</td>\n",
       "      <td>NaN</td>\n",
       "      <td>NaN</td>\n",
       "    </tr>\n",
       "    <tr>\n",
       "      <th>3120</th>\n",
       "      <td>Rakkestad</td>\n",
       "      <td>MULTIPOLYGON (((11.20433 59.40319, 11.20460 59...</td>\n",
       "      <td>1.26</td>\n",
       "      <td>NaN</td>\n",
       "    </tr>\n",
       "    <tr>\n",
       "      <th>3207</th>\n",
       "      <td>Nordre Follo</td>\n",
       "      <td>MULTIPOLYGON (((10.89041 59.81779, 10.89042 59...</td>\n",
       "      <td>94.43</td>\n",
       "      <td>NaN</td>\n",
       "    </tr>\n",
       "    <tr>\n",
       "      <th>5047</th>\n",
       "      <td>Overhalla</td>\n",
       "      <td>MULTIPOLYGON (((12.07582 64.46951, 12.07576 64...</td>\n",
       "      <td>NaN</td>\n",
       "      <td>0.69</td>\n",
       "    </tr>\n",
       "    <tr>\n",
       "      <th>...</th>\n",
       "      <td>...</td>\n",
       "      <td>...</td>\n",
       "      <td>...</td>\n",
       "      <td>...</td>\n",
       "    </tr>\n",
       "    <tr>\n",
       "      <th>1826</th>\n",
       "      <td>Aarborte - Hattfjelldal</td>\n",
       "      <td>MULTIPOLYGON (((14.52141 65.61296, 14.52159 65...</td>\n",
       "      <td>NaN</td>\n",
       "      <td>0.20</td>\n",
       "    </tr>\n",
       "    <tr>\n",
       "      <th>5603</th>\n",
       "      <td>Hammerfest - Hámmerfeasta</td>\n",
       "      <td>MULTIPOLYGON (((23.87676 70.85445, 23.81777 70...</td>\n",
       "      <td>16.18</td>\n",
       "      <td>12.83</td>\n",
       "    </tr>\n",
       "    <tr>\n",
       "      <th>5512</th>\n",
       "      <td>Dielddanuorri - Tjeldsund</td>\n",
       "      <td>MULTIPOLYGON (((16.57753 68.50230, 16.57779 68...</td>\n",
       "      <td>13.85</td>\n",
       "      <td>21.17</td>\n",
       "    </tr>\n",
       "    <tr>\n",
       "      <th>5622</th>\n",
       "      <td>Porsanger - Porsáŋgu - Porsanki</td>\n",
       "      <td>MULTIPOLYGON (((26.03309 70.40938, 26.07381 70...</td>\n",
       "      <td>54.08</td>\n",
       "      <td>5.35</td>\n",
       "    </tr>\n",
       "    <tr>\n",
       "      <th>5636</th>\n",
       "      <td>Unjárga - Nesseby</td>\n",
       "      <td>MULTIPOLYGON (((28.32668 70.18581, 28.32610 70...</td>\n",
       "      <td>11.89</td>\n",
       "      <td>NaN</td>\n",
       "    </tr>\n",
       "  </tbody>\n",
       "</table>\n",
       "<p>357 rows × 4 columns</p>\n",
       "</div>"
      ],
      "text/plain": [
       "                                   kommunenavn  \\\n",
       "kommunenummer                                    \n",
       "5514                                   Ibestad   \n",
       "3424                                  Rendalen   \n",
       "3120                                 Rakkestad   \n",
       "3207                              Nordre Follo   \n",
       "5047                                 Overhalla   \n",
       "...                                        ...   \n",
       "1826                   Aarborte - Hattfjelldal   \n",
       "5603                 Hammerfest - Hámmerfeasta   \n",
       "5512                 Dielddanuorri - Tjeldsund   \n",
       "5622           Porsanger - Porsáŋgu - Porsanki   \n",
       "5636                         Unjárga - Nesseby   \n",
       "\n",
       "                                                        geometry  \\\n",
       "kommunenummer                                                      \n",
       "5514           MULTIPOLYGON (((17.21928 68.76980, 17.21928 68...   \n",
       "3424           MULTIPOLYGON (((11.71235 61.91803, 11.71168 61...   \n",
       "3120           MULTIPOLYGON (((11.20433 59.40319, 11.20460 59...   \n",
       "3207           MULTIPOLYGON (((10.89041 59.81779, 10.89042 59...   \n",
       "5047           MULTIPOLYGON (((12.07582 64.46951, 12.07576 64...   \n",
       "...                                                          ...   \n",
       "1826           MULTIPOLYGON (((14.52141 65.61296, 14.52159 65...   \n",
       "5603           MULTIPOLYGON (((23.87676 70.85445, 23.81777 70...   \n",
       "5512           MULTIPOLYGON (((16.57753 68.50230, 16.57779 68...   \n",
       "5622           MULTIPOLYGON (((26.03309 70.40938, 26.07381 70...   \n",
       "5636           MULTIPOLYGON (((28.32668 70.18581, 28.32610 70...   \n",
       "\n",
       "               practical_GWh  hydro_GWh  \n",
       "kommunenummer                            \n",
       "5514                    0.07       9.15  \n",
       "3424                     NaN        NaN  \n",
       "3120                    1.26        NaN  \n",
       "3207                   94.43        NaN  \n",
       "5047                     NaN       0.69  \n",
       "...                      ...        ...  \n",
       "1826                     NaN       0.20  \n",
       "5603                   16.18      12.83  \n",
       "5512                   13.85      21.17  \n",
       "5622                   54.08       5.35  \n",
       "5636                   11.89        NaN  \n",
       "\n",
       "[357 rows x 4 columns]"
      ]
     },
     "execution_count": 81,
     "metadata": {},
     "output_type": "execute_result"
    }
   ],
   "source": [
    "municipality_gdf"
   ]
  },
  {
   "cell_type": "code",
   "execution_count": 82,
   "metadata": {},
   "outputs": [
    {
     "data": {
      "text/html": [
       "<div>\n",
       "<style scoped>\n",
       "    .dataframe tbody tr th:only-of-type {\n",
       "        vertical-align: middle;\n",
       "    }\n",
       "\n",
       "    .dataframe tbody tr th {\n",
       "        vertical-align: top;\n",
       "    }\n",
       "\n",
       "    .dataframe thead th {\n",
       "        text-align: right;\n",
       "    }\n",
       "</style>\n",
       "<table border=\"1\" class=\"dataframe\">\n",
       "  <thead>\n",
       "    <tr style=\"text-align: right;\">\n",
       "      <th></th>\n",
       "      <th>kommunenavn</th>\n",
       "      <th>geometry</th>\n",
       "      <th>practical_GWh</th>\n",
       "      <th>hydro_GWh</th>\n",
       "    </tr>\n",
       "    <tr>\n",
       "      <th>kommunenummer</th>\n",
       "      <th></th>\n",
       "      <th></th>\n",
       "      <th></th>\n",
       "      <th></th>\n",
       "    </tr>\n",
       "  </thead>\n",
       "  <tbody>\n",
       "    <tr>\n",
       "      <th>5514</th>\n",
       "      <td>Ibestad</td>\n",
       "      <td>MULTIPOLYGON (((17.21928 68.76980, 17.21928 68...</td>\n",
       "      <td>0.07</td>\n",
       "      <td>9.15</td>\n",
       "    </tr>\n",
       "    <tr>\n",
       "      <th>3424</th>\n",
       "      <td>Rendalen</td>\n",
       "      <td>MULTIPOLYGON (((11.71235 61.91803, 11.71168 61...</td>\n",
       "      <td>NaN</td>\n",
       "      <td>NaN</td>\n",
       "    </tr>\n",
       "    <tr>\n",
       "      <th>3120</th>\n",
       "      <td>Rakkestad</td>\n",
       "      <td>MULTIPOLYGON (((11.20433 59.40319, 11.20460 59...</td>\n",
       "      <td>1.26</td>\n",
       "      <td>NaN</td>\n",
       "    </tr>\n",
       "    <tr>\n",
       "      <th>3207</th>\n",
       "      <td>Nordre Follo</td>\n",
       "      <td>MULTIPOLYGON (((10.89041 59.81779, 10.89042 59...</td>\n",
       "      <td>94.43</td>\n",
       "      <td>NaN</td>\n",
       "    </tr>\n",
       "    <tr>\n",
       "      <th>5047</th>\n",
       "      <td>Overhalla</td>\n",
       "      <td>MULTIPOLYGON (((12.07582 64.46951, 12.07576 64...</td>\n",
       "      <td>NaN</td>\n",
       "      <td>0.69</td>\n",
       "    </tr>\n",
       "    <tr>\n",
       "      <th>...</th>\n",
       "      <td>...</td>\n",
       "      <td>...</td>\n",
       "      <td>...</td>\n",
       "      <td>...</td>\n",
       "    </tr>\n",
       "    <tr>\n",
       "      <th>1826</th>\n",
       "      <td>Aarborte - Hattfjelldal</td>\n",
       "      <td>MULTIPOLYGON (((14.52141 65.61296, 14.52159 65...</td>\n",
       "      <td>NaN</td>\n",
       "      <td>0.20</td>\n",
       "    </tr>\n",
       "    <tr>\n",
       "      <th>5603</th>\n",
       "      <td>Hammerfest - Hámmerfeasta</td>\n",
       "      <td>MULTIPOLYGON (((23.87676 70.85445, 23.81777 70...</td>\n",
       "      <td>16.18</td>\n",
       "      <td>12.83</td>\n",
       "    </tr>\n",
       "    <tr>\n",
       "      <th>5512</th>\n",
       "      <td>Dielddanuorri - Tjeldsund</td>\n",
       "      <td>MULTIPOLYGON (((16.57753 68.50230, 16.57779 68...</td>\n",
       "      <td>13.85</td>\n",
       "      <td>21.17</td>\n",
       "    </tr>\n",
       "    <tr>\n",
       "      <th>5622</th>\n",
       "      <td>Porsanger - Porsáŋgu - Porsanki</td>\n",
       "      <td>MULTIPOLYGON (((26.03309 70.40938, 26.07381 70...</td>\n",
       "      <td>54.08</td>\n",
       "      <td>5.35</td>\n",
       "    </tr>\n",
       "    <tr>\n",
       "      <th>5636</th>\n",
       "      <td>Unjárga - Nesseby</td>\n",
       "      <td>MULTIPOLYGON (((28.32668 70.18581, 28.32610 70...</td>\n",
       "      <td>11.89</td>\n",
       "      <td>NaN</td>\n",
       "    </tr>\n",
       "  </tbody>\n",
       "</table>\n",
       "<p>357 rows × 4 columns</p>\n",
       "</div>"
      ],
      "text/plain": [
       "                                   kommunenavn  \\\n",
       "kommunenummer                                    \n",
       "5514                                   Ibestad   \n",
       "3424                                  Rendalen   \n",
       "3120                                 Rakkestad   \n",
       "3207                              Nordre Follo   \n",
       "5047                                 Overhalla   \n",
       "...                                        ...   \n",
       "1826                   Aarborte - Hattfjelldal   \n",
       "5603                 Hammerfest - Hámmerfeasta   \n",
       "5512                 Dielddanuorri - Tjeldsund   \n",
       "5622           Porsanger - Porsáŋgu - Porsanki   \n",
       "5636                         Unjárga - Nesseby   \n",
       "\n",
       "                                                        geometry  \\\n",
       "kommunenummer                                                      \n",
       "5514           MULTIPOLYGON (((17.21928 68.76980, 17.21928 68...   \n",
       "3424           MULTIPOLYGON (((11.71235 61.91803, 11.71168 61...   \n",
       "3120           MULTIPOLYGON (((11.20433 59.40319, 11.20460 59...   \n",
       "3207           MULTIPOLYGON (((10.89041 59.81779, 10.89042 59...   \n",
       "5047           MULTIPOLYGON (((12.07582 64.46951, 12.07576 64...   \n",
       "...                                                          ...   \n",
       "1826           MULTIPOLYGON (((14.52141 65.61296, 14.52159 65...   \n",
       "5603           MULTIPOLYGON (((23.87676 70.85445, 23.81777 70...   \n",
       "5512           MULTIPOLYGON (((16.57753 68.50230, 16.57779 68...   \n",
       "5622           MULTIPOLYGON (((26.03309 70.40938, 26.07381 70...   \n",
       "5636           MULTIPOLYGON (((28.32668 70.18581, 28.32610 70...   \n",
       "\n",
       "               practical_GWh  hydro_GWh  \n",
       "kommunenummer                            \n",
       "5514                    0.07       9.15  \n",
       "3424                     NaN        NaN  \n",
       "3120                    1.26        NaN  \n",
       "3207                   94.43        NaN  \n",
       "5047                     NaN       0.69  \n",
       "...                      ...        ...  \n",
       "1826                     NaN       0.20  \n",
       "5603                   16.18      12.83  \n",
       "5512                   13.85      21.17  \n",
       "5622                   54.08       5.35  \n",
       "5636                   11.89        NaN  \n",
       "\n",
       "[357 rows x 4 columns]"
      ]
     },
     "execution_count": 82,
     "metadata": {},
     "output_type": "execute_result"
    }
   ],
   "source": [
    "municipality_gdf"
   ]
  },
  {
   "cell_type": "code",
   "execution_count": 83,
   "metadata": {},
   "outputs": [],
   "source": [
    "municipality_gdf.to_excel('../data/new_data/municipality_aggregated.xlsx')"
   ]
  },
  {
   "cell_type": "code",
   "execution_count": 84,
   "metadata": {},
   "outputs": [
    {
     "name": "stderr",
     "output_type": "stream",
     "text": [
      "/tmp/ipykernel_21018/3601457935.py:1: UserWarning: Column names longer than 10 characters will be truncated when saved to ESRI Shapefile.\n",
      "  municipality_gdf.to_file('../data/new_data/municipality_aggregated.kml')\n"
     ]
    }
   ],
   "source": [
    "municipality_gdf.to_file('../data/new_data/municipality_aggregated.kml')"
   ]
  },
  {
   "cell_type": "code",
   "execution_count": 85,
   "metadata": {},
   "outputs": [
    {
     "name": "stderr",
     "output_type": "stream",
     "text": [
      "/tmp/ipykernel_21018/1246994237.py:1: UserWarning: Column names longer than 10 characters will be truncated when saved to ESRI Shapefile.\n",
      "  municipality_gdf[['geometry']].to_file('../data/new_data/municipality_map.kml')\n"
     ]
    }
   ],
   "source": [
    "municipality_gdf[['geometry']].to_file('../data/new_data/municipality_map.kml')"
   ]
  },
  {
   "cell_type": "code",
   "execution_count": 86,
   "metadata": {},
   "outputs": [],
   "source": [
    "border_gdf = gpd.read_file('../data/raw_data/Basisdata_0000_Norge_25833_NorgesMaritimeGrenser_GML.gml', layer='landareal')"
   ]
  },
  {
   "cell_type": "code",
   "execution_count": 87,
   "metadata": {},
   "outputs": [
    {
     "name": "stderr",
     "output_type": "stream",
     "text": [
      "/tmp/ipykernel_21018/3535952597.py:1: UserWarning: Column names longer than 10 characters will be truncated when saved to ESRI Shapefile.\n",
      "  border_gdf.to_crs('4326').to_file('../data/new_data/land_map.kml')\n"
     ]
    }
   ],
   "source": [
    "border_gdf.to_crs('4326').to_file('../data/new_data/land_map.kml')\n",
    "border_gdf.to_crs('4326').to_excel('../data/new_data/land_map.xlsx')"
   ]
  },
  {
   "cell_type": "code",
   "execution_count": 89,
   "metadata": {},
   "outputs": [
    {
     "data": {
      "text/html": [
       "<div>\n",
       "<style scoped>\n",
       "    .dataframe tbody tr th:only-of-type {\n",
       "        vertical-align: middle;\n",
       "    }\n",
       "\n",
       "    .dataframe tbody tr th {\n",
       "        vertical-align: top;\n",
       "    }\n",
       "\n",
       "    .dataframe thead th {\n",
       "        text-align: right;\n",
       "    }\n",
       "</style>\n",
       "<table border=\"1\" class=\"dataframe\">\n",
       "  <thead>\n",
       "    <tr style=\"text-align: right;\">\n",
       "      <th></th>\n",
       "      <th>kommunenavn</th>\n",
       "      <th>geometry</th>\n",
       "      <th>practical_GWh</th>\n",
       "      <th>hydro_GWh</th>\n",
       "    </tr>\n",
       "    <tr>\n",
       "      <th>kommunenummer</th>\n",
       "      <th></th>\n",
       "      <th></th>\n",
       "      <th></th>\n",
       "      <th></th>\n",
       "    </tr>\n",
       "  </thead>\n",
       "  <tbody>\n",
       "    <tr>\n",
       "      <th>4207</th>\n",
       "      <td>Flekkefjord</td>\n",
       "      <td>MULTIPOLYGON (((6.15256 58.02650, 6.15730 58.0...</td>\n",
       "      <td>199.34</td>\n",
       "      <td>1.61</td>\n",
       "    </tr>\n",
       "    <tr>\n",
       "      <th>1875</th>\n",
       "      <td>Hábmer - Hamarøy</td>\n",
       "      <td>MULTIPOLYGON (((15.24576 68.05440, 15.28741 68...</td>\n",
       "      <td>183.00</td>\n",
       "      <td>350.53</td>\n",
       "    </tr>\n",
       "    <tr>\n",
       "      <th>4617</th>\n",
       "      <td>Kvinnherad</td>\n",
       "      <td>MULTIPOLYGON (((5.86009 60.08981, 5.86006 60.0...</td>\n",
       "      <td>151.16</td>\n",
       "      <td>217.98</td>\n",
       "    </tr>\n",
       "    <tr>\n",
       "      <th>3909</th>\n",
       "      <td>Larvik</td>\n",
       "      <td>MULTIPOLYGON (((9.76942 59.37563, 9.76942 59.3...</td>\n",
       "      <td>132.51</td>\n",
       "      <td>7.20</td>\n",
       "    </tr>\n",
       "    <tr>\n",
       "      <th>3105</th>\n",
       "      <td>Sarpsborg</td>\n",
       "      <td>MULTIPOLYGON (((11.26361 59.34966, 11.26356 59...</td>\n",
       "      <td>121.38</td>\n",
       "      <td>NaN</td>\n",
       "    </tr>\n",
       "    <tr>\n",
       "      <th>...</th>\n",
       "      <td>...</td>\n",
       "      <td>...</td>\n",
       "      <td>...</td>\n",
       "      <td>...</td>\n",
       "    </tr>\n",
       "    <tr>\n",
       "      <th>1557</th>\n",
       "      <td>Gjemnes</td>\n",
       "      <td>MULTIPOLYGON (((7.75582 62.87101, 7.76021 62.8...</td>\n",
       "      <td>NaN</td>\n",
       "      <td>0.50</td>\n",
       "    </tr>\n",
       "    <tr>\n",
       "      <th>3442</th>\n",
       "      <td>Østre Toten</td>\n",
       "      <td>MULTIPOLYGON (((10.72958 60.73486, 10.73046 60...</td>\n",
       "      <td>NaN</td>\n",
       "      <td>0.02</td>\n",
       "    </tr>\n",
       "    <tr>\n",
       "      <th>5540</th>\n",
       "      <td>Gáivuotna - Kåfjord - Kaivuono</td>\n",
       "      <td>MULTIPOLYGON (((20.96192 69.50479, 20.94889 69...</td>\n",
       "      <td>NaN</td>\n",
       "      <td>71.29</td>\n",
       "    </tr>\n",
       "    <tr>\n",
       "      <th>4620</th>\n",
       "      <td>Ulvik</td>\n",
       "      <td>MULTIPOLYGON (((7.13121 60.69272, 7.12897 60.6...</td>\n",
       "      <td>NaN</td>\n",
       "      <td>313.45</td>\n",
       "    </tr>\n",
       "    <tr>\n",
       "      <th>1826</th>\n",
       "      <td>Aarborte - Hattfjelldal</td>\n",
       "      <td>MULTIPOLYGON (((14.52141 65.61296, 14.52159 65...</td>\n",
       "      <td>NaN</td>\n",
       "      <td>0.20</td>\n",
       "    </tr>\n",
       "  </tbody>\n",
       "</table>\n",
       "<p>357 rows × 4 columns</p>\n",
       "</div>"
      ],
      "text/plain": [
       "                                  kommunenavn  \\\n",
       "kommunenummer                                   \n",
       "4207                              Flekkefjord   \n",
       "1875                         Hábmer - Hamarøy   \n",
       "4617                               Kvinnherad   \n",
       "3909                                   Larvik   \n",
       "3105                                Sarpsborg   \n",
       "...                                       ...   \n",
       "1557                                  Gjemnes   \n",
       "3442                              Østre Toten   \n",
       "5540           Gáivuotna - Kåfjord - Kaivuono   \n",
       "4620                                    Ulvik   \n",
       "1826                  Aarborte - Hattfjelldal   \n",
       "\n",
       "                                                        geometry  \\\n",
       "kommunenummer                                                      \n",
       "4207           MULTIPOLYGON (((6.15256 58.02650, 6.15730 58.0...   \n",
       "1875           MULTIPOLYGON (((15.24576 68.05440, 15.28741 68...   \n",
       "4617           MULTIPOLYGON (((5.86009 60.08981, 5.86006 60.0...   \n",
       "3909           MULTIPOLYGON (((9.76942 59.37563, 9.76942 59.3...   \n",
       "3105           MULTIPOLYGON (((11.26361 59.34966, 11.26356 59...   \n",
       "...                                                          ...   \n",
       "1557           MULTIPOLYGON (((7.75582 62.87101, 7.76021 62.8...   \n",
       "3442           MULTIPOLYGON (((10.72958 60.73486, 10.73046 60...   \n",
       "5540           MULTIPOLYGON (((20.96192 69.50479, 20.94889 69...   \n",
       "4620           MULTIPOLYGON (((7.13121 60.69272, 7.12897 60.6...   \n",
       "1826           MULTIPOLYGON (((14.52141 65.61296, 14.52159 65...   \n",
       "\n",
       "               practical_GWh  hydro_GWh  \n",
       "kommunenummer                            \n",
       "4207                  199.34       1.61  \n",
       "1875                  183.00     350.53  \n",
       "4617                  151.16     217.98  \n",
       "3909                  132.51       7.20  \n",
       "3105                  121.38        NaN  \n",
       "...                      ...        ...  \n",
       "1557                     NaN       0.50  \n",
       "3442                     NaN       0.02  \n",
       "5540                     NaN      71.29  \n",
       "4620                     NaN     313.45  \n",
       "1826                     NaN       0.20  \n",
       "\n",
       "[357 rows x 4 columns]"
      ]
     },
     "execution_count": 89,
     "metadata": {},
     "output_type": "execute_result"
    }
   ],
   "source": [
    "municipality_gdf.sort_values(by='practical_GWh', ascending=False)"
   ]
  },
  {
   "cell_type": "code",
   "execution_count": 90,
   "metadata": {},
   "outputs": [
    {
     "data": {
      "text/html": [
       "<div>\n",
       "<style scoped>\n",
       "    .dataframe tbody tr th:only-of-type {\n",
       "        vertical-align: middle;\n",
       "    }\n",
       "\n",
       "    .dataframe tbody tr th {\n",
       "        vertical-align: top;\n",
       "    }\n",
       "\n",
       "    .dataframe thead th {\n",
       "        text-align: right;\n",
       "    }\n",
       "</style>\n",
       "<table border=\"1\" class=\"dataframe\">\n",
       "  <thead>\n",
       "    <tr style=\"text-align: right;\">\n",
       "      <th></th>\n",
       "      <th>kommunenavn</th>\n",
       "      <th>geometry</th>\n",
       "      <th>practical_GWh</th>\n",
       "      <th>hydro_GWh</th>\n",
       "    </tr>\n",
       "    <tr>\n",
       "      <th>kommunenummer</th>\n",
       "      <th></th>\n",
       "      <th></th>\n",
       "      <th></th>\n",
       "      <th></th>\n",
       "    </tr>\n",
       "  </thead>\n",
       "  <tbody>\n",
       "    <tr>\n",
       "      <th>1134</th>\n",
       "      <td>Suldal</td>\n",
       "      <td>MULTIPOLYGON (((6.16558 59.58547, 6.16512 59.5...</td>\n",
       "      <td>111.51</td>\n",
       "      <td>1336.67</td>\n",
       "    </tr>\n",
       "    <tr>\n",
       "      <th>4222</th>\n",
       "      <td>Bykle</td>\n",
       "      <td>MULTIPOLYGON (((6.97856 59.54163, 6.97846 59.5...</td>\n",
       "      <td>77.28</td>\n",
       "      <td>841.99</td>\n",
       "    </tr>\n",
       "    <tr>\n",
       "      <th>4036</th>\n",
       "      <td>Vinje</td>\n",
       "      <td>MULTIPOLYGON (((7.85336 60.11565, 7.85243 60.1...</td>\n",
       "      <td>82.66</td>\n",
       "      <td>675.97</td>\n",
       "    </tr>\n",
       "    <tr>\n",
       "      <th>4618</th>\n",
       "      <td>Ullensvang</td>\n",
       "      <td>MULTIPOLYGON (((6.05338 60.17693, 6.07595 60.1...</td>\n",
       "      <td>66.10</td>\n",
       "      <td>637.08</td>\n",
       "    </tr>\n",
       "    <tr>\n",
       "      <th>1837</th>\n",
       "      <td>Meløy</td>\n",
       "      <td>MULTIPOLYGON (((13.23939 66.77732, 13.21274 66...</td>\n",
       "      <td>13.78</td>\n",
       "      <td>625.65</td>\n",
       "    </tr>\n",
       "    <tr>\n",
       "      <th>...</th>\n",
       "      <td>...</td>\n",
       "      <td>...</td>\n",
       "      <td>...</td>\n",
       "      <td>...</td>\n",
       "    </tr>\n",
       "    <tr>\n",
       "      <th>5542</th>\n",
       "      <td>Skjervøy</td>\n",
       "      <td>MULTIPOLYGON (((20.78975 69.90999, 20.94698 69...</td>\n",
       "      <td>NaN</td>\n",
       "      <td>NaN</td>\n",
       "    </tr>\n",
       "    <tr>\n",
       "      <th>3209</th>\n",
       "      <td>Ullensaker</td>\n",
       "      <td>MULTIPOLYGON (((11.09152 60.21504, 11.09148 60...</td>\n",
       "      <td>1.47</td>\n",
       "      <td>NaN</td>\n",
       "    </tr>\n",
       "    <tr>\n",
       "      <th>3107</th>\n",
       "      <td>Fredrikstad</td>\n",
       "      <td>MULTIPOLYGON (((10.68014 59.27517, 10.66495 59...</td>\n",
       "      <td>2.47</td>\n",
       "      <td>NaN</td>\n",
       "    </tr>\n",
       "    <tr>\n",
       "      <th>4204</th>\n",
       "      <td>Kristiansand</td>\n",
       "      <td>MULTIPOLYGON (((7.58573 58.25393, 7.58704 58.2...</td>\n",
       "      <td>75.23</td>\n",
       "      <td>NaN</td>\n",
       "    </tr>\n",
       "    <tr>\n",
       "      <th>5636</th>\n",
       "      <td>Unjárga - Nesseby</td>\n",
       "      <td>MULTIPOLYGON (((28.32668 70.18581, 28.32610 70...</td>\n",
       "      <td>11.89</td>\n",
       "      <td>NaN</td>\n",
       "    </tr>\n",
       "  </tbody>\n",
       "</table>\n",
       "<p>357 rows × 4 columns</p>\n",
       "</div>"
      ],
      "text/plain": [
       "                     kommunenavn  \\\n",
       "kommunenummer                      \n",
       "1134                      Suldal   \n",
       "4222                       Bykle   \n",
       "4036                       Vinje   \n",
       "4618                  Ullensvang   \n",
       "1837                       Meløy   \n",
       "...                          ...   \n",
       "5542                    Skjervøy   \n",
       "3209                  Ullensaker   \n",
       "3107                 Fredrikstad   \n",
       "4204                Kristiansand   \n",
       "5636           Unjárga - Nesseby   \n",
       "\n",
       "                                                        geometry  \\\n",
       "kommunenummer                                                      \n",
       "1134           MULTIPOLYGON (((6.16558 59.58547, 6.16512 59.5...   \n",
       "4222           MULTIPOLYGON (((6.97856 59.54163, 6.97846 59.5...   \n",
       "4036           MULTIPOLYGON (((7.85336 60.11565, 7.85243 60.1...   \n",
       "4618           MULTIPOLYGON (((6.05338 60.17693, 6.07595 60.1...   \n",
       "1837           MULTIPOLYGON (((13.23939 66.77732, 13.21274 66...   \n",
       "...                                                          ...   \n",
       "5542           MULTIPOLYGON (((20.78975 69.90999, 20.94698 69...   \n",
       "3209           MULTIPOLYGON (((11.09152 60.21504, 11.09148 60...   \n",
       "3107           MULTIPOLYGON (((10.68014 59.27517, 10.66495 59...   \n",
       "4204           MULTIPOLYGON (((7.58573 58.25393, 7.58704 58.2...   \n",
       "5636           MULTIPOLYGON (((28.32668 70.18581, 28.32610 70...   \n",
       "\n",
       "               practical_GWh  hydro_GWh  \n",
       "kommunenummer                            \n",
       "1134                  111.51    1336.67  \n",
       "4222                   77.28     841.99  \n",
       "4036                   82.66     675.97  \n",
       "4618                   66.10     637.08  \n",
       "1837                   13.78     625.65  \n",
       "...                      ...        ...  \n",
       "5542                     NaN        NaN  \n",
       "3209                    1.47        NaN  \n",
       "3107                    2.47        NaN  \n",
       "4204                   75.23        NaN  \n",
       "5636                   11.89        NaN  \n",
       "\n",
       "[357 rows x 4 columns]"
      ]
     },
     "execution_count": 90,
     "metadata": {},
     "output_type": "execute_result"
    }
   ],
   "source": [
    "municipality_gdf.sort_values(by='hydro_GWh', ascending=False)"
   ]
  }
 ],
 "metadata": {
  "kernelspec": {
   "display_name": ".venv",
   "language": "python",
   "name": "python3"
  },
  "language_info": {
   "codemirror_mode": {
    "name": "ipython",
    "version": 3
   },
   "file_extension": ".py",
   "mimetype": "text/x-python",
   "name": "python",
   "nbconvert_exporter": "python",
   "pygments_lexer": "ipython3",
   "version": "3.10.2"
  }
 },
 "nbformat": 4,
 "nbformat_minor": 2
}
